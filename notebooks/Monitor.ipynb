{
 "cells": [
  {
   "cell_type": "code",
   "execution_count": 30,
   "metadata": {
    "collapsed": true
   },
   "outputs": [],
   "source": [
    "from neuralnilm.monitor.monitor import Monitor\n",
    "\n",
    "mon = Monitor(\"3\")"
   ]
  },
  {
   "cell_type": "code",
   "execution_count": 22,
   "metadata": {
    "collapsed": true
   },
   "outputs": [],
   "source": [
    "mon._plot_train_scores()"
   ]
  },
  {
   "cell_type": "code",
   "execution_count": null,
   "metadata": {
    "collapsed": false
   },
   "outputs": [],
   "source": [
    "mon._plot_validation_scores()"
   ]
  },
  {
   "cell_type": "code",
   "execution_count": 32,
   "metadata": {
    "collapsed": true
   },
   "outputs": [],
   "source": [
    "metadata = mon.db.trained_nets.find_one({'_id': mon.experiment_id})"
   ]
  },
  {
   "cell_type": "code",
   "execution_count": 33,
   "metadata": {
    "collapsed": false
   },
   "outputs": [
    {
     "data": {
      "text/plain": [
       "{u'_id': u'3',\n",
       " u'data': {u'pipeline': {u'input_processing': [{u'divisor': 630.8582153320312,\n",
       "     u'name': u'DivideBy'},\n",
       "    {u'name': u'IndependentlyCenter'}],\n",
       "   u'num_seq_per_batch': 64,\n",
       "   u'rng_seed': None,\n",
       "   u'source_probabilities': [0.3333333333333333,\n",
       "    0.3333333333333333,\n",
       "    0.3333333333333333],\n",
       "   u'sources': {u'0': {u'allow_incomplete_distractors': True,\n",
       "     u'allow_incomplete_target': False,\n",
       "     u'distractor_inclusion_prob': 0.25,\n",
       "     u'include_incomplete_target_in_output': True,\n",
       "     u'name': u'SyntheticAggregateSource',\n",
       "     u'num_batches_for_validation': 16,\n",
       "     u'rng_seed': None,\n",
       "     u'sample_period': 6,\n",
       "     u'seq_length': 256,\n",
       "     u'target_appliance': u'kettle',\n",
       "     u'target_inclusion_prob': 0.5,\n",
       "     u'uniform_prob_of_selecting_each_building': True},\n",
       "    u'1': {u'allow_incomplete_target': True,\n",
       "     u'allow_multiple_target_activations_in_aggregate': False,\n",
       "     u'filename': u'/data/mine/vadeec/merged/ukdale.h5',\n",
       "     u'include_incomplete_target_in_output': True,\n",
       "     u'include_multiple_targets_in_output': False,\n",
       "     u'name': u'RealAggregateSource',\n",
       "     u'num_batches_for_validation': 16,\n",
       "     u'rng_seed': None,\n",
       "     u'sample_period': 6,\n",
       "     u'seq_length': 256,\n",
       "     u'target_appliance': u'kettle',\n",
       "     u'target_inclusion_prob': 0.5,\n",
       "     u'uniform_prob_of_selecting_each_building': True,\n",
       "     u'windows': {u'train': {u'1': [u'2014-01-01', u'2014-02-01']},\n",
       "      u'unseen_activations_of_seen_appliances': {u'1': [u'2014-02-02',\n",
       "        u'2014-02-08']},\n",
       "      u'unseen_appliances': {u'2': [u'2013-06-01', u'2013-06-07']}}},\n",
       "    u'2': {u'filename': u'/data/mine/vadeec/merged/ukdale.h5',\n",
       "     u'name': u'StrideSource',\n",
       "     u'num_batches_for_validation': None,\n",
       "     u'rng_seed': None,\n",
       "     u'sample_period': 6,\n",
       "     u'seq_length': 256,\n",
       "     u'stride': 256,\n",
       "     u'target_appliance': u'kettle',\n",
       "     u'windows': {u'train': {u'1': [u'2014-01-01', u'2014-02-01']},\n",
       "      u'unseen_activations_of_seen_appliances': {u'1': [u'2014-02-02',\n",
       "        u'2014-02-08']},\n",
       "      u'unseen_appliances': {u'2': [u'2013-06-01', u'2013-06-07']}}}},\n",
       "   u'target_processing': [{u'divisor': 442.0741271972656,\n",
       "     u'name': u'DivideBy'}]}},\n",
       " u'trainer': {u'actual_learning_rates': {u'0': 0.01},\n",
       "  u'loss_aggregation_mode': u'mean',\n",
       "  u'loss_func_name': u'squared_error',\n",
       "  u'metrics': {u'clip_to_zero': False,\n",
       "   u'name': u'Metrics',\n",
       "   u'state_boundaries': [4]},\n",
       "  u'min_train_cost': inf,\n",
       "  u'output_path': u'/home/dk3810/temp/neural_nilm/output/3',\n",
       "  u'requested_learning_rates': {u'0': 0.01},\n",
       "  u'requested_train_iterations': 50000,\n",
       "  u'updates_func_kwards': {},\n",
       "  u'updates_func_name': u'nesterov_momentum'}}"
      ]
     },
     "execution_count": 33,
     "metadata": {},
     "output_type": "execute_result"
    }
   ],
   "source": [
    "metadata"
   ]
  },
  {
   "cell_type": "code",
   "execution_count": 34,
   "metadata": {
    "collapsed": false
   },
   "outputs": [
    {
     "data": {
      "text/plain": [
       "{u'0': {u'allow_incomplete_distractors': True,\n",
       "  u'allow_incomplete_target': False,\n",
       "  u'distractor_inclusion_prob': 0.25,\n",
       "  u'include_incomplete_target_in_output': True,\n",
       "  u'name': u'SyntheticAggregateSource',\n",
       "  u'num_batches_for_validation': 16,\n",
       "  u'rng_seed': None,\n",
       "  u'sample_period': 6,\n",
       "  u'seq_length': 256,\n",
       "  u'target_appliance': u'kettle',\n",
       "  u'target_inclusion_prob': 0.5,\n",
       "  u'uniform_prob_of_selecting_each_building': True},\n",
       " u'1': {u'allow_incomplete_target': True,\n",
       "  u'allow_multiple_target_activations_in_aggregate': False,\n",
       "  u'filename': u'/data/mine/vadeec/merged/ukdale.h5',\n",
       "  u'include_incomplete_target_in_output': True,\n",
       "  u'include_multiple_targets_in_output': False,\n",
       "  u'name': u'RealAggregateSource',\n",
       "  u'num_batches_for_validation': 16,\n",
       "  u'rng_seed': None,\n",
       "  u'sample_period': 6,\n",
       "  u'seq_length': 256,\n",
       "  u'target_appliance': u'kettle',\n",
       "  u'target_inclusion_prob': 0.5,\n",
       "  u'uniform_prob_of_selecting_each_building': True,\n",
       "  u'windows': {u'train': {u'1': [u'2014-01-01', u'2014-02-01']},\n",
       "   u'unseen_activations_of_seen_appliances': {u'1': [u'2014-02-02',\n",
       "     u'2014-02-08']},\n",
       "   u'unseen_appliances': {u'2': [u'2013-06-01', u'2013-06-07']}}},\n",
       " u'2': {u'filename': u'/data/mine/vadeec/merged/ukdale.h5',\n",
       "  u'name': u'StrideSource',\n",
       "  u'num_batches_for_validation': None,\n",
       "  u'rng_seed': None,\n",
       "  u'sample_period': 6,\n",
       "  u'seq_length': 256,\n",
       "  u'stride': 256,\n",
       "  u'target_appliance': u'kettle',\n",
       "  u'windows': {u'train': {u'1': [u'2014-01-01', u'2014-02-01']},\n",
       "   u'unseen_activations_of_seen_appliances': {u'1': [u'2014-02-02',\n",
       "     u'2014-02-08']},\n",
       "   u'unseen_appliances': {u'2': [u'2013-06-01', u'2013-06-07']}}}}"
      ]
     },
     "execution_count": 34,
     "metadata": {},
     "output_type": "execute_result"
    }
   ],
   "source": [
    "sources = metadata['data']['pipeline']['sources']\n",
    "sources"
   ]
  },
  {
   "cell_type": "code",
   "execution_count": null,
   "metadata": {
    "collapsed": true
   },
   "outputs": [],
   "source": []
  }
 ],
 "metadata": {
  "kernelspec": {
   "display_name": "Python 2",
   "language": "python",
   "name": "python2"
  },
  "language_info": {
   "codemirror_mode": {
    "name": "ipython",
    "version": 2
   },
   "file_extension": ".py",
   "mimetype": "text/x-python",
   "name": "python",
   "nbconvert_exporter": "python",
   "pygments_lexer": "ipython2",
   "version": "2.7.9"
  }
 },
 "nbformat": 4,
 "nbformat_minor": 0
}
