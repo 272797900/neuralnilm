{
 "cells": [
  {
   "cell_type": "code",
   "execution_count": 2,
   "metadata": {
    "collapsed": false
   },
   "outputs": [
    {
     "name": "stdout",
     "output_type": "stream",
     "text": [
      "Couldn't import dot_parser, loading of dot files will not be possible.\n"
     ]
    }
   ],
   "source": [
    "from __future__ import print_function, division\n",
    "\n",
    "from lasagne.layers import InputLayer, RecurrentLayer, DenseLayer, ReshapeLayer\n",
    "from lasagne.layers.helper import get_all_layers"
   ]
  },
  {
   "cell_type": "code",
   "execution_count": 5,
   "metadata": {
    "collapsed": false
   },
   "outputs": [],
   "source": [
    "class Net(object):\n",
    "    def __init__(self, output_layer):\n",
    "        self.layers = get_all_layers(output_layer)\n",
    "        self._net_output = None\n",
    "        \n",
    "    def get_output(self, net_input):\n",
    "        if self._net_output is None:\n",
    "            self._net_output = self._compile_net_output()\n",
    "        return self._net_output(net_input)\n",
    "\n",
    "    def _compile_net_output(self):\n",
    "        network_input = self.layers[0].input_var\n",
    "        deterministic_output = lasagne.layers.get_output(\n",
    "            self.layers[-1], network_input, deterministic=True)\n",
    "        net_output = theano.function(\n",
    "            inputs=[network_input],\n",
    "            outputs=deterministic_output,\n",
    "            on_unused_input='warn',\n",
    "            allow_input_downcast=True\n",
    "        )\n",
    "        return net_output"
   ]
  },
  {
   "cell_type": "code",
   "execution_count": null,
   "metadata": {
    "collapsed": true
   },
   "outputs": [],
   "source": [
    "def get_net_0(input_shape, output_shape=None):\n",
    "    RNN_LAYER_0_NUM_UNITS = 10\n",
    "    num_seq_per_batch, seq_length, num_input_features = input_shape\n",
    "    if output_shape is None:\n",
    "        output_shape = input_shape\n",
    "    num_output_features = output_shape[2]\n",
    "    \n",
    "    # Define layers\n",
    "    input_layer = InputLayer(\n",
    "        shape=input_shape\n",
    "    )\n",
    "    rnn_layer_0 = RecurrentLayer(\n",
    "        input_layer, \n",
    "        num_units=RNN_LAYER_0_NUM_UNITS\n",
    "    )\n",
    "    reshape_layer_0 = ReshapeLayer(\n",
    "        rnn_layer_0, \n",
    "        shape=(num_seq_per_batch * seq_length, RNN_LAYER_0_NUM_UNITS)\n",
    "    )\n",
    "    dense_layer_0 = DenseLayer(\n",
    "        reshape_layer_0,\n",
    "        num_units=num_output_features\n",
    "    )\n",
    "    output_layer = ReshapeLayer(\n",
    "        dense_layer_0,\n",
    "        shape=output_shape\n",
    "    )\n",
    "    return output_layer\n",
    "\n",
    "\n",
    "def get_dataset_0():\n",
    "    APPLIANCES = ['fridge', 'kettle', 'toaster']\n",
    "    # These are classes so they can remember the configuration parameters\n",
    "    # to report to the Mongo DB\n",
    "    nilmtk_activations = NILMTKActivations(\n",
    "        appliances=APPLIANCES,\n",
    "        filename='/data/mine/vadeec/merged/ukdale.h5',\n",
    "        training_window=(),\n",
    "        validation_window=(),\n",
    "        training_houses=[1, 2, 3],\n",
    "        validation_houses=[]\n",
    "    )\n",
    "    tracebase_activations = TraceBaseActivations(\n",
    "        appliances=APPLIANCES,\n",
    "        path='/data/tracebase'\n",
    "    )\n",
    "    activations = merge_activations(nilmtk_activations, tracebase_activations)\n",
    "    \n",
    "    source = SyntheticAggregate(activations, target_appliance='kettle')\n",
    "    \n",
    "    pipeline = Pipeline(\n",
    "        source, \n",
    "        input_processing=[DivideByStd(), IndepdendentlyCentre()],\n",
    "        target_processing=[DivideByStd()]\n",
    "    )\n",
    "\n",
    "    return pipeline\n",
    "\n",
    "\n",
    "experiments = [\n",
    "        {\n",
    "            dataset = get_dataset_0,\n",
    "            net = get_net_0\n",
    "        }\n",
    "    ]\n",
    "\n",
    "def run_experiments():\n",
    "    for experiment in experiments:\n",
    "        pipeline = experiment['dataset']()\n",
    "        validation_data = pipeline.get_data(validation=True)\n",
    "        input_shape = validation_data.shape\n",
    "        \n",
    "        output_layer = experiment['net'](input_shape)\n",
    "        net = Net(output_layer)\n",
    "        \n",
    "        trainer = Trainer(\n",
    "            net=net,\n",
    "            loss_function=squared_error,\n",
    "            repeat_callbacks={100: [plot_estimates, save_parameters]}\n",
    "        )"
   ]
  },
  {
   "cell_type": "code",
   "execution_count": null,
   "metadata": {
    "collapsed": true
   },
   "outputs": [],
   "source": [
    "        "
   ]
  }
 ],
 "metadata": {
  "kernelspec": {
   "display_name": "Python 2",
   "language": "python",
   "name": "python2"
  },
  "language_info": {
   "codemirror_mode": {
    "name": "ipython",
    "version": 2
   },
   "file_extension": ".py",
   "mimetype": "text/x-python",
   "name": "python",
   "nbconvert_exporter": "python",
   "pygments_lexer": "ipython2",
   "version": "2.7.9"
  }
 },
 "nbformat": 4,
 "nbformat_minor": 0
}
