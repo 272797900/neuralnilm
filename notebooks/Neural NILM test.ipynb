{
 "cells": [
  {
   "cell_type": "code",
   "execution_count": 25,
   "metadata": {
    "collapsed": false
   },
   "outputs": [],
   "source": [
    "from __future__ import print_function, division\n",
    "import matplotlib.pyplot as plt\n",
    "import pandas as pd\n",
    "\n",
    "from neuralnilm.data.loadactivations import load_nilmtk_activations\n",
    "from neuralnilm.data.syntheticaggregatesource import SyntheticAggregateSource\n",
    "from neuralnilm.data.datapipeline import DataPipeline\n",
    "from neuralnilm.data.processing import DivideBy\n",
    "from neuralnilm.data.datathread import DataThread"
   ]
  },
  {
   "cell_type": "code",
   "execution_count": 26,
   "metadata": {
    "collapsed": false
   },
   "outputs": [
    {
     "name": "stderr",
     "output_type": "stream",
     "text": [
      "INFO:neuralnilm.data.loadactivations:Loading NILMTK activations...\n",
      "INFO:neuralnilm.data.loadactivations:Loading kettle for UK-DALE_building_1...\n",
      "INFO:neuralnilm.data.loadactivations:Loaded 112 kettle activations from UK-DALE_building_1.\n",
      "INFO:neuralnilm.data.loadactivations:Loading microwave for UK-DALE_building_1...\n",
      "INFO:neuralnilm.data.loadactivations:Loaded 119 microwave activations from UK-DALE_building_1.\n",
      "INFO:neuralnilm.data.loadactivations:Loading washing machine for UK-DALE_building_1...\n",
      "INFO:neuralnilm.data.loadactivations:Loaded 23 washing machine activations from UK-DALE_building_1.\n",
      "INFO:neuralnilm.data.loadactivations:Loading kettle for UK-DALE_building_2...\n",
      "INFO:neuralnilm.data.loadactivations:Loaded 31 kettle activations from UK-DALE_building_2.\n",
      "INFO:neuralnilm.data.loadactivations:Loading microwave for UK-DALE_building_2...\n",
      "INFO:neuralnilm.data.loadactivations:Loaded 30 microwave activations from UK-DALE_building_2.\n",
      "INFO:neuralnilm.data.loadactivations:Loading washing machine for UK-DALE_building_2...\n",
      "INFO:neuralnilm.data.loadactivations:Loaded 2 washing machine activations from UK-DALE_building_2.\n",
      "INFO:neuralnilm.data.loadactivations:Loading kettle for UK-DALE_building_1...\n",
      "INFO:neuralnilm.data.loadactivations:Loaded 28 kettle activations from UK-DALE_building_1.\n",
      "INFO:neuralnilm.data.loadactivations:Loading microwave for UK-DALE_building_1...\n",
      "INFO:neuralnilm.data.loadactivations:Loaded 28 microwave activations from UK-DALE_building_1.\n",
      "INFO:neuralnilm.data.loadactivations:Loading washing machine for UK-DALE_building_1...\n",
      "INFO:neuralnilm.data.loadactivations:Loaded 5 washing machine activations from UK-DALE_building_1.\n",
      "INFO:neuralnilm.data.loadactivations:Done loading NILMTK activations.\n"
     ]
    }
   ],
   "source": [
    "NILMTK_FILENAME = '/data/mine/vadeec/merged/ukdale.h5'\n",
    "TARGET_APPLIANCE = 'kettle'\n",
    "SEQ_LENGTH = 256\n",
    "SAMPLE_PERIOD = 6\n",
    "STRIDE = 4\n",
    "\n",
    "LOADER_CONFIG = {\n",
    "    'nilmtk_activations': dict(\n",
    "        appliances=['kettle', 'microwave', 'washing machine'],\n",
    "        filename=NILMTK_FILENAME,\n",
    "        sample_period=SAMPLE_PERIOD,\n",
    "        windows={\n",
    "            'train': {\n",
    "                1: (\"2014-01-01\", \"2014-02-01\")\n",
    "            },\n",
    "            'unseen_activations_of_seen_appliances': {\n",
    "                1: (\"2014-02-02\", \"2014-02-08\")                \n",
    "            },\n",
    "            'unseen_appliances': {\n",
    "                2: (\"2013-06-01\", \"2013-06-07\")\n",
    "            }\n",
    "        }\n",
    "    )\n",
    "}\n",
    "\n",
    "nilmtk_activations = load_nilmtk_activations(**LOADER_CONFIG['nilmtk_activations'])"
   ]
  },
  {
   "cell_type": "code",
   "execution_count": 27,
   "metadata": {
    "collapsed": false
   },
   "outputs": [
    {
     "data": {
      "text/plain": [
       "['train', 'unseen_activations_of_seen_appliances', 'unseen_appliances']"
      ]
     },
     "execution_count": 27,
     "metadata": {},
     "output_type": "execute_result"
    }
   ],
   "source": [
    "nilmtk_activations.keys()"
   ]
  },
  {
   "cell_type": "code",
   "execution_count": 28,
   "metadata": {
    "collapsed": false
   },
   "outputs": [],
   "source": [
    "source = SyntheticAggregateSource(\n",
    "    activations=nilmtk_activations,\n",
    "    target_appliance=TARGET_APPLIANCE,\n",
    "    seq_length=SEQ_LENGTH,\n",
    "    allow_incomplete_target=False\n",
    ")"
   ]
  },
  {
   "cell_type": "code",
   "execution_count": 29,
   "metadata": {
    "collapsed": false
   },
   "outputs": [],
   "source": [
    "FOLD = 'train'\n",
    "#FOLD = 'unseen_activations_of_seen_appliances'\n",
    "#FOLD = 'unseen_appliances'\n",
    "seq = source.get_sequence(enable_all_appliances=True)"
   ]
  },
  {
   "cell_type": "code",
   "execution_count": 30,
   "metadata": {
    "collapsed": false
   },
   "outputs": [],
   "source": [
    "#all(seq.all_appliances.sum(axis=1) == seq.input[:, 0])"
   ]
  },
  {
   "cell_type": "code",
   "execution_count": 31,
   "metadata": {
    "collapsed": false
   },
   "outputs": [],
   "source": [
    "#fig, axes = plt.subplots(2, sharex=True)\n",
    "#seq.all_appliances.plot(ax=axes[0])\n",
    "#axes[1].plot(seq.input)\n",
    "#fig.suptitle(FOLD)\n",
    "#plt.show()"
   ]
  },
  {
   "cell_type": "code",
   "execution_count": 32,
   "metadata": {
    "collapsed": false
   },
   "outputs": [],
   "source": [
    "sample = source.get_batch(num_seq_per_batch=1024)"
   ]
  },
  {
   "cell_type": "code",
   "execution_count": 33,
   "metadata": {
    "collapsed": false
   },
   "outputs": [],
   "source": [
    "pipeline = DataPipeline(\n",
    "    [source],\n",
    "    num_seq_per_batch=64,\n",
    "    input_processing=[DivideBy(sample.before_processing.input.flatten().std())],\n",
    "    target_processing=[DivideBy(sample.before_processing.target.flatten().std())]\n",
    ")"
   ]
  },
  {
   "cell_type": "markdown",
   "metadata": {},
   "source": [
    "# Disaggregation"
   ]
  },
  {
   "cell_type": "markdown",
   "metadata": {
    "collapsed": true
   },
   "source": [
    "nilmtk_disag_source = NILMTKDisagSource(\n",
    "    filename=NILMTK_FILENAME,\n",
    "    target_appliance=TARGET_APPLIANCE,\n",
    "    seq_length=SEQ_LENGTH,\n",
    "    buildings=[5],\n",
    "    window_per_building={},\n",
    "    stride=STRIDE,\n",
    "    sample_period=SAMPLE_PERIOD\n",
    ")"
   ]
  },
  {
   "cell_type": "markdown",
   "metadata": {
    "collapsed": true
   },
   "source": [
    "disag_pipeline = deepcopy(pipeline)\n",
    "disag_pipeline.source = nilmtk_disag_source"
   ]
  },
  {
   "cell_type": "markdown",
   "metadata": {
    "collapsed": true
   },
   "source": [
    "disaggregator = Disaggregator(\n",
    "    pipeline=disag_pipeline,\n",
    "    output_path=PATH  # \n",
    ")"
   ]
  },
  {
   "cell_type": "markdown",
   "metadata": {},
   "source": [
    "Disagregator ideas:\n",
    "\n",
    "* make a copy of pipeline but swap source for a NILMTKDisagSource\n",
    "* NILMTKDisagSource loads all data into memory (?) and iterates over chunks of it (get seq_length from pipeline.source.seq_length)\n",
    "* "
   ]
  },
  {
   "cell_type": "code",
   "execution_count": 34,
   "metadata": {
    "collapsed": false
   },
   "outputs": [
    {
     "data": {
      "text/plain": [
       "{'DataPipeline': {'SyntheticAggregateSource': {'allow_incomplete_distractors': True,\n",
       "   'allow_incomplete_target': False,\n",
       "   'distractor_inclusion_prob': 1.0,\n",
       "   'include_incomplete_target_in_output': True,\n",
       "   'rng_seed': None,\n",
       "   'seq_length': 256,\n",
       "   'target_appliance': 'kettle',\n",
       "   'target_inclusion_prob': 1.0,\n",
       "   'uniform_prob_of_selecting_each_model': True},\n",
       "  'input_processing': [{'DivideBy': {'divisor': 978.54016}}],\n",
       "  'num_seq_per_batch': 64,\n",
       "  'target_processing': [{'DivideBy': {'divisor': 593.93707}}]},\n",
       " 'activations': {'nilmtk_activations': {'appliances': ['kettle',\n",
       "    'microwave',\n",
       "    'washing machine'],\n",
       "   'filename': '/data/mine/vadeec/merged/ukdale.h5',\n",
       "   'sample_period': 6,\n",
       "   'windows': {'train': {1: ('2014-01-01', '2014-02-01')},\n",
       "    'unseen_activations_of_seen_appliances': {1: ('2014-02-02', '2014-02-08')},\n",
       "    'unseen_appliances': {2: ('2013-06-01', '2013-06-07')}}}}}"
      ]
     },
     "execution_count": 34,
     "metadata": {},
     "output_type": "execute_result"
    }
   ],
   "source": [
    "report = pipeline.report()\n",
    "report['activations'] = LOADER_CONFIG\n",
    "report"
   ]
  },
  {
   "cell_type": "code",
   "execution_count": 35,
   "metadata": {
    "collapsed": true
   },
   "outputs": [],
   "source": [
    "from lasagne.layers import InputLayer, RecurrentLayer, DenseLayer, ReshapeLayer\n",
    "\n",
    "def get_net_0(input_shape, target_shape=None):\n",
    "    NUM_UNITS = {\n",
    "        'dense_layer_0': 100,\n",
    "        'dense_layer_1':  50,\n",
    "        'dense_layer_2': 100\n",
    "    }\n",
    "\n",
    "    if target_shape is None:\n",
    "        target_shape = input_shape\n",
    "    \n",
    "    # Define layers\n",
    "    input_layer = InputLayer(\n",
    "        shape=input_shape\n",
    "    )\n",
    "    \n",
    "    # Dense layers\n",
    "    dense_layer_0 = DenseLayer(\n",
    "        input_layer, \n",
    "        num_units=NUM_UNITS['dense_layer_0']\n",
    "    )\n",
    "    dense_layer_1 = DenseLayer(\n",
    "        dense_layer_0, \n",
    "        num_units=NUM_UNITS['dense_layer_1']\n",
    "    )\n",
    "    dense_layer_2 = DenseLayer(\n",
    "        dense_layer_1, \n",
    "        num_units=NUM_UNITS['dense_layer_2']\n",
    "    )\n",
    "    \n",
    "    # Output\n",
    "    final_dense_layer = DenseLayer(\n",
    "        dense_layer_0,\n",
    "        num_units=target_shape[1] * target_shape[2],\n",
    "        nonlinearity=None\n",
    "    )\n",
    "    output_layer = ReshapeLayer(\n",
    "        final_dense_layer,\n",
    "        shape=target_shape\n",
    "    )\n",
    "    return output_layer"
   ]
  },
  {
   "cell_type": "code",
   "execution_count": 36,
   "metadata": {
    "collapsed": true
   },
   "outputs": [],
   "source": [
    "from neuralnilm.net import Net\n",
    "\n",
    "batch = pipeline.get_batch()\n",
    "output_layer = get_net_0(\n",
    "    batch.after_processing.input.shape, \n",
    "    batch.after_processing.target.shape\n",
    ")\n",
    "net = Net(output_layer)"
   ]
  },
  {
   "cell_type": "code",
   "execution_count": 37,
   "metadata": {
    "collapsed": false
   },
   "outputs": [],
   "source": [
    "from pymongo import MongoClient\n",
    "client = MongoClient()\n",
    "client.drop_database('neuralnilm_experiments')\n",
    "db = client.neuralnilm_experiments"
   ]
  },
  {
   "cell_type": "code",
   "execution_count": 38,
   "metadata": {
    "collapsed": false
   },
   "outputs": [
    {
     "name": "stderr",
     "output_type": "stream",
     "text": [
      "INFO:neuralnilm.trainer:Iteration 0: Change learning rate to 1.0E-02\n"
     ]
    }
   ],
   "source": [
    "from neuralnilm.trainer import Trainer\n",
    "from neuralnilm.metrics import Metrics\n",
    "\n",
    "trainer = Trainer(\n",
    "    net=net,\n",
    "    data_pipeline=pipeline,\n",
    "    db=db,\n",
    "    experiment_id=0,\n",
    "    metrics=Metrics([4]),\n",
    "    learning_rate=1E-2,\n",
    "    repeat_callbacks=[\n",
    "        ( 100, Trainer.validate)\n",
    "    ]\n",
    ")"
   ]
  },
  {
   "cell_type": "code",
   "execution_count": 39,
   "metadata": {
    "collapsed": false
   },
   "outputs": [
    {
     "name": "stderr",
     "output_type": "stream",
     "text": [
      "INFO:neuralnilm.trainer:Starting training for 400 iterations.\n",
      "INFO:neuralnilm.trainer:Compiling train cost function...\n",
      "INFO:neuralnilm.trainer:Done compiling cost function.\n",
      "INFO:neuralnilm.net:Compiling deterministic output function...\n",
      "INFO:neuralnilm.net:Done compiling deterministic output function.\n",
      "/usr/local/lib/python2.7/dist-packages/sklearn/metrics/classification.py:958: UndefinedMetricWarning: F-score is ill-defined and being set to 0.0 due to no predicted samples.\n",
      "  'precision', 'predicted', average, warn_for)\n",
      "/usr/local/lib/python2.7/dist-packages/sklearn/metrics/classification.py:958: UndefinedMetricWarning: Precision is ill-defined and being set to 0.0 due to no predicted samples.\n",
      "  'precision', 'predicted', average, warn_for)\n",
      "INFO:neuralnilm.trainer:Stopped training. Completed 400 iterations.\n"
     ]
    }
   ],
   "source": [
    "trainer.fit(400)"
   ]
  },
  {
   "cell_type": "code",
   "execution_count": 40,
   "metadata": {
    "collapsed": false
   },
   "outputs": [
    {
     "data": {
      "text/plain": [
       "400"
      ]
     },
     "execution_count": 40,
     "metadata": {},
     "output_type": "execute_result"
    }
   ],
   "source": [
    "net.train_iterations"
   ]
  },
  {
   "cell_type": "code",
   "execution_count": 41,
   "metadata": {
    "collapsed": false
   },
   "outputs": [
    {
     "data": {
      "text/plain": [
       "[{u'_id': ObjectId('55db6750a0777c0aa6d655f1'),\n",
       "  u'iteration': 0,\n",
       "  u'loss': 1.953479528427124},\n",
       " {u'_id': ObjectId('55db6750a0777c0aa6d655f8'),\n",
       "  u'iteration': 1,\n",
       "  u'loss': 1.753095269203186},\n",
       " {u'_id': ObjectId('55db6750a0777c0aa6d655f9'),\n",
       "  u'iteration': 2,\n",
       "  u'loss': 1.7143964767456055},\n",
       " {u'_id': ObjectId('55db6750a0777c0aa6d655fa'),\n",
       "  u'iteration': 3,\n",
       "  u'loss': 1.601704716682434},\n",
       " {u'_id': ObjectId('55db6750a0777c0aa6d655fb'),\n",
       "  u'iteration': 4,\n",
       "  u'loss': 1.5702732801437378},\n",
       " {u'_id': ObjectId('55db6750a0777c0aa6d655fc'),\n",
       "  u'iteration': 5,\n",
       "  u'loss': 1.341712474822998},\n",
       " {u'_id': ObjectId('55db6750a0777c0aa6d655fd'),\n",
       "  u'iteration': 6,\n",
       "  u'loss': 1.3802531957626343},\n",
       " {u'_id': ObjectId('55db6750a0777c0aa6d655fe'),\n",
       "  u'iteration': 7,\n",
       "  u'loss': 1.1945514678955078},\n",
       " {u'_id': ObjectId('55db6750a0777c0aa6d655ff'),\n",
       "  u'iteration': 8,\n",
       "  u'loss': 1.3421692848205566},\n",
       " {u'_id': ObjectId('55db6750a0777c0aa6d65600'),\n",
       "  u'iteration': 9,\n",
       "  u'loss': 1.2556569576263428},\n",
       " {u'_id': ObjectId('55db6750a0777c0aa6d65601'),\n",
       "  u'iteration': 10,\n",
       "  u'loss': 1.2260552644729614},\n",
       " {u'_id': ObjectId('55db6751a0777c0aa6d65602'),\n",
       "  u'iteration': 11,\n",
       "  u'loss': 1.237428069114685},\n",
       " {u'_id': ObjectId('55db6751a0777c0aa6d65603'),\n",
       "  u'iteration': 12,\n",
       "  u'loss': 1.2055327892303467},\n",
       " {u'_id': ObjectId('55db6751a0777c0aa6d65604'),\n",
       "  u'iteration': 13,\n",
       "  u'loss': 1.205802083015442},\n",
       " {u'_id': ObjectId('55db6751a0777c0aa6d65605'),\n",
       "  u'iteration': 14,\n",
       "  u'loss': 1.2046940326690674},\n",
       " {u'_id': ObjectId('55db6751a0777c0aa6d65606'),\n",
       "  u'iteration': 15,\n",
       "  u'loss': 1.0752084255218506},\n",
       " {u'_id': ObjectId('55db6751a0777c0aa6d65607'),\n",
       "  u'iteration': 16,\n",
       "  u'loss': 1.2001240253448486},\n",
       " {u'_id': ObjectId('55db6751a0777c0aa6d65608'),\n",
       "  u'iteration': 17,\n",
       "  u'loss': 1.1895321607589722},\n",
       " {u'_id': ObjectId('55db6751a0777c0aa6d65609'),\n",
       "  u'iteration': 18,\n",
       "  u'loss': 1.1849764585494995},\n",
       " {u'_id': ObjectId('55db6751a0777c0aa6d6560a'),\n",
       "  u'iteration': 19,\n",
       "  u'loss': 1.1686073541641235},\n",
       " {u'_id': ObjectId('55db6751a0777c0aa6d6560b'),\n",
       "  u'iteration': 20,\n",
       "  u'loss': 1.168173909187317},\n",
       " {u'_id': ObjectId('55db6751a0777c0aa6d6560c'),\n",
       "  u'iteration': 21,\n",
       "  u'loss': 1.1860581636428833},\n",
       " {u'_id': ObjectId('55db6751a0777c0aa6d6560d'),\n",
       "  u'iteration': 22,\n",
       "  u'loss': 1.1561967134475708},\n",
       " {u'_id': ObjectId('55db6751a0777c0aa6d6560e'),\n",
       "  u'iteration': 23,\n",
       "  u'loss': 1.1346490383148193},\n",
       " {u'_id': ObjectId('55db6751a0777c0aa6d6560f'),\n",
       "  u'iteration': 24,\n",
       "  u'loss': 1.074701189994812},\n",
       " {u'_id': ObjectId('55db6751a0777c0aa6d65610'),\n",
       "  u'iteration': 25,\n",
       "  u'loss': 1.0691533088684082},\n",
       " {u'_id': ObjectId('55db6751a0777c0aa6d65611'),\n",
       "  u'iteration': 26,\n",
       "  u'loss': 1.249650478363037},\n",
       " {u'_id': ObjectId('55db6751a0777c0aa6d65612'),\n",
       "  u'iteration': 27,\n",
       "  u'loss': 1.104126214981079},\n",
       " {u'_id': ObjectId('55db6751a0777c0aa6d65613'),\n",
       "  u'iteration': 28,\n",
       "  u'loss': 1.1252772808074951},\n",
       " {u'_id': ObjectId('55db6751a0777c0aa6d65614'),\n",
       "  u'iteration': 29,\n",
       "  u'loss': 1.215245246887207},\n",
       " {u'_id': ObjectId('55db6751a0777c0aa6d65615'),\n",
       "  u'iteration': 30,\n",
       "  u'loss': 1.2126816511154175},\n",
       " {u'_id': ObjectId('55db6751a0777c0aa6d65616'),\n",
       "  u'iteration': 31,\n",
       "  u'loss': 1.0523642301559448},\n",
       " {u'_id': ObjectId('55db6752a0777c0aa6d65617'),\n",
       "  u'iteration': 32,\n",
       "  u'loss': 1.0793492794036865},\n",
       " {u'_id': ObjectId('55db6752a0777c0aa6d65618'),\n",
       "  u'iteration': 33,\n",
       "  u'loss': 1.0999287366867065},\n",
       " {u'_id': ObjectId('55db6752a0777c0aa6d65619'),\n",
       "  u'iteration': 34,\n",
       "  u'loss': 1.245036244392395},\n",
       " {u'_id': ObjectId('55db6752a0777c0aa6d6561a'),\n",
       "  u'iteration': 35,\n",
       "  u'loss': 1.1578145027160645},\n",
       " {u'_id': ObjectId('55db6752a0777c0aa6d6561b'),\n",
       "  u'iteration': 36,\n",
       "  u'loss': 1.1114752292633057},\n",
       " {u'_id': ObjectId('55db6752a0777c0aa6d6561c'),\n",
       "  u'iteration': 37,\n",
       "  u'loss': 1.1013480424880981},\n",
       " {u'_id': ObjectId('55db6752a0777c0aa6d6561d'),\n",
       "  u'iteration': 38,\n",
       "  u'loss': 1.1907424926757812},\n",
       " {u'_id': ObjectId('55db6752a0777c0aa6d6561e'),\n",
       "  u'iteration': 39,\n",
       "  u'loss': 1.0826529264450073},\n",
       " {u'_id': ObjectId('55db6752a0777c0aa6d6561f'),\n",
       "  u'iteration': 40,\n",
       "  u'loss': 1.0502766370773315},\n",
       " {u'_id': ObjectId('55db6752a0777c0aa6d65620'),\n",
       "  u'iteration': 41,\n",
       "  u'loss': 1.0865148305892944},\n",
       " {u'_id': ObjectId('55db6752a0777c0aa6d65621'),\n",
       "  u'iteration': 42,\n",
       "  u'loss': 1.0740842819213867},\n",
       " {u'_id': ObjectId('55db6752a0777c0aa6d65622'),\n",
       "  u'iteration': 43,\n",
       "  u'loss': 1.091253399848938},\n",
       " {u'_id': ObjectId('55db6752a0777c0aa6d65623'),\n",
       "  u'iteration': 44,\n",
       "  u'loss': 1.0958576202392578},\n",
       " {u'_id': ObjectId('55db6752a0777c0aa6d65624'),\n",
       "  u'iteration': 45,\n",
       "  u'loss': 1.0567373037338257},\n",
       " {u'_id': ObjectId('55db6752a0777c0aa6d65625'),\n",
       "  u'iteration': 46,\n",
       "  u'loss': 1.0212616920471191},\n",
       " {u'_id': ObjectId('55db6752a0777c0aa6d65626'),\n",
       "  u'iteration': 47,\n",
       "  u'loss': 1.1428934335708618},\n",
       " {u'_id': ObjectId('55db6752a0777c0aa6d65627'),\n",
       "  u'iteration': 48,\n",
       "  u'loss': 1.0676783323287964},\n",
       " {u'_id': ObjectId('55db6752a0777c0aa6d65628'),\n",
       "  u'iteration': 49,\n",
       "  u'loss': 1.0422478914260864}]"
      ]
     },
     "execution_count": 41,
     "metadata": {},
     "output_type": "execute_result"
    }
   ],
   "source": [
    "import pymongo\n",
    "list(db.train_scores.find(\n",
    "        filter={'experiment_id': 0},\n",
    "        sort=[('iteration', pymongo.ASCENDING)],\n",
    "        projection=['iteration', 'loss']\n",
    "    ).limit(50))"
   ]
  },
  {
   "cell_type": "code",
   "execution_count": 42,
   "metadata": {
    "collapsed": false
   },
   "outputs": [
    {
     "data": {
      "text/plain": [
       "[{u'_id': ObjectId('55db6750a0777c0aa6d655f2'),\n",
       "  u'experiment_id': 0,\n",
       "  u'fold': u'train',\n",
       "  u'iteration': 0,\n",
       "  u'metric_type': u'classification',\n",
       "  u'num_states': 2,\n",
       "  u'scores': {u'accuracy_score': 0.97998046875,\n",
       "   u'f1_score': 0.0,\n",
       "   u'precision_score': 0.0,\n",
       "   u'recall_score': 0.0},\n",
       "  u'source_name': u'SyntheticAggregateSource'},\n",
       " {u'_id': ObjectId('55db6754a0777c0aa6d6565c'),\n",
       "  u'experiment_id': 0,\n",
       "  u'fold': u'train',\n",
       "  u'iteration': 100,\n",
       "  u'metric_type': u'classification',\n",
       "  u'num_states': 2,\n",
       "  u'scores': {u'accuracy_score': 0.9886474609375,\n",
       "   u'f1_score': 0.0,\n",
       "   u'precision_score': 0.0,\n",
       "   u'recall_score': 0.0},\n",
       "  u'source_name': u'SyntheticAggregateSource'},\n",
       " {u'_id': ObjectId('55db6759a0777c0aa6d656c6'),\n",
       "  u'experiment_id': 0,\n",
       "  u'fold': u'train',\n",
       "  u'iteration': 200,\n",
       "  u'metric_type': u'classification',\n",
       "  u'num_states': 2,\n",
       "  u'scores': {u'accuracy_score': 0.98699951171875,\n",
       "   u'f1_score': 0.0,\n",
       "   u'precision_score': 0.0,\n",
       "   u'recall_score': 0.0},\n",
       "  u'source_name': u'SyntheticAggregateSource'},\n",
       " {u'_id': ObjectId('55db675da0777c0aa6d65730'),\n",
       "  u'experiment_id': 0,\n",
       "  u'fold': u'train',\n",
       "  u'iteration': 300,\n",
       "  u'metric_type': u'classification',\n",
       "  u'num_states': 2,\n",
       "  u'scores': {u'accuracy_score': 0.9844970703125,\n",
       "   u'f1_score': 0.0,\n",
       "   u'precision_score': 0.0,\n",
       "   u'recall_score': 0.0},\n",
       "  u'source_name': u'SyntheticAggregateSource'},\n",
       " {u'_id': ObjectId('55db6761a0777c0aa6d6579a'),\n",
       "  u'experiment_id': 0,\n",
       "  u'fold': u'train',\n",
       "  u'iteration': 400,\n",
       "  u'metric_type': u'classification',\n",
       "  u'num_states': 2,\n",
       "  u'scores': {u'accuracy_score': 0.9881591796875,\n",
       "   u'f1_score': 0.0,\n",
       "   u'precision_score': 0.0,\n",
       "   u'recall_score': 0.0},\n",
       "  u'source_name': u'SyntheticAggregateSource'}]"
      ]
     },
     "execution_count": 42,
     "metadata": {},
     "output_type": "execute_result"
    }
   ],
   "source": [
    "list(db.validation_scores.find({'fold': 'train', 'metric_type': 'classification'}).sort('iteration', pymongo.ASCENDING).limit(50))"
   ]
  },
  {
   "cell_type": "code",
   "execution_count": 43,
   "metadata": {
    "collapsed": false
   },
   "outputs": [
    {
     "data": {
      "text/plain": [
       "[{u'_id': 0, u'max_acc': None, u'max_iteration': 400}]"
      ]
     },
     "execution_count": 43,
     "metadata": {},
     "output_type": "execute_result"
    }
   ],
   "source": [
    "agg_pipeline = [\n",
    "    {\"$group\": {\n",
    "            \"_id\": \"$experiment_id\",\n",
    "            \"max_acc\": {\"$max\": \"$SyntheticAggregateSource.unseen_appliances.2_state_classification.accuracy_score\"},\n",
    "            \"max_iteration\": {\"$max\": \"$iteration\"}\n",
    "        }}\n",
    "]\n",
    "list(db.validation_scores.aggregate(agg_pipeline))"
   ]
  },
  {
   "cell_type": "code",
   "execution_count": 44,
   "metadata": {
    "collapsed": false
   },
   "outputs": [],
   "source": [
    "from monary import Monary"
   ]
  },
  {
   "cell_type": "code",
   "execution_count": 45,
   "metadata": {
    "collapsed": true
   },
   "outputs": [],
   "source": [
    "monary = Monary()"
   ]
  },
  {
   "cell_type": "code",
   "execution_count": 46,
   "metadata": {
    "collapsed": true
   },
   "outputs": [],
   "source": [
    "iterations, loss = monary.query(\n",
    "    db='neuralnilm_experiments',\n",
    "    coll='train_scores',\n",
    "    query={'experiment_id': 0},\n",
    "    fields=['iteration', 'loss'],\n",
    "    types=['int32', 'float32']\n",
    ")"
   ]
  },
  {
   "cell_type": "code",
   "execution_count": 47,
   "metadata": {
    "collapsed": false
   },
   "outputs": [],
   "source": [
    "import matplotlib.pyplot as plt\n",
    "plt.plot(iterations, loss)\n",
    "plt.show()"
   ]
  },
  {
   "cell_type": "code",
   "execution_count": 48,
   "metadata": {
    "collapsed": false
   },
   "outputs": [],
   "source": [
    "iterations, f1_score = monary.query(\n",
    "    db='neuralnilm_experiments',\n",
    "    coll='validation_scores',\n",
    "    query={\n",
    "        'experiment_id': 0, \n",
    "        'source_name': 'SyntheticAggregateSource',\n",
    "        'fold': 'train',\n",
    "        'metric_type': 'classification'\n",
    "    },\n",
    "    fields=['iteration', 'scores.f1_score'],\n",
    "    types=['int64', 'float32']\n",
    ")"
   ]
  },
  {
   "cell_type": "code",
   "execution_count": 49,
   "metadata": {
    "collapsed": false
   },
   "outputs": [
    {
     "data": {
      "text/plain": [
       "masked_array(data = [0.0 0.0 0.0 0.0 0.0],\n",
       "             mask = [False False False False False],\n",
       "       fill_value = 1e+20)"
      ]
     },
     "execution_count": 49,
     "metadata": {},
     "output_type": "execute_result"
    }
   ],
   "source": [
    "f1_score"
   ]
  },
  {
   "cell_type": "code",
   "execution_count": 60,
   "metadata": {
    "collapsed": false
   },
   "outputs": [
    {
     "data": {
      "text/plain": [
       "[u'f1_score', u'recall_score', u'accuracy_score', u'precision_score']"
      ]
     },
     "execution_count": 60,
     "metadata": {},
     "output_type": "execute_result"
    }
   ],
   "source": [
    "db.validation_scores.find_one(\n",
    "    filter={\n",
    "        'experiment_id': 0,\n",
    "        'metric_type': 'classification'\n",
    "    }\n",
    ")['scores'].keys()"
   ]
  },
  {
   "cell_type": "code",
   "execution_count": 61,
   "metadata": {
    "collapsed": true
   },
   "outputs": [],
   "source": [
    "db.validation_scores.find_one(\n",
    "    filter={\n",
    "        'experiment_id': 1,\n",
    "        'metric_type': 'classification'\n",
    "    }\n",
    ")"
   ]
  },
  {
   "cell_type": "code",
   "execution_count": null,
   "metadata": {
    "collapsed": true
   },
   "outputs": [],
   "source": []
  }
 ],
 "metadata": {
  "kernelspec": {
   "display_name": "Python 2",
   "language": "python",
   "name": "python2"
  },
  "language_info": {
   "codemirror_mode": {
    "name": "ipython",
    "version": 2
   },
   "file_extension": ".py",
   "mimetype": "text/x-python",
   "name": "python",
   "nbconvert_exporter": "python",
   "pygments_lexer": "ipython2",
   "version": "2.7.9"
  }
 },
 "nbformat": 4,
 "nbformat_minor": 0
}
