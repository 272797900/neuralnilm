{
 "cells": [
  {
   "cell_type": "code",
   "execution_count": 1,
   "metadata": {
    "collapsed": false
   },
   "outputs": [],
   "source": [
    "from __future__ import print_function, division\n",
    "import matplotlib.pyplot as plt\n",
    "import pandas as pd\n",
    "\n",
    "from neuralnilm.data.loadactivations import load_nilmtk_activations\n",
    "from neuralnilm.data.syntheticaggregatesource import SyntheticAggregateSource\n",
    "from neuralnilm.data.datapipeline import DataPipeline\n",
    "from neuralnilm.data.processing import DivideBy\n",
    "from neuralnilm.data.datathread import DataThread"
   ]
  },
  {
   "cell_type": "code",
   "execution_count": 2,
   "metadata": {
    "collapsed": false
   },
   "outputs": [
    {
     "name": "stderr",
     "output_type": "stream",
     "text": [
      "INFO:neuralnilm.data.loadactivations:Loading NILMTK activations...\n",
      "INFO:neuralnilm.data.loadactivations:Loading kettle for UK-DALE_building_1...\n",
      "INFO:neuralnilm.data.loadactivations:Loaded 112 kettle activations from UK-DALE_building_1.\n",
      "INFO:neuralnilm.data.loadactivations:Loading microwave for UK-DALE_building_1...\n",
      "INFO:neuralnilm.data.loadactivations:Loaded 119 microwave activations from UK-DALE_building_1.\n",
      "INFO:neuralnilm.data.loadactivations:Loading washing machine for UK-DALE_building_1...\n",
      "INFO:neuralnilm.data.loadactivations:Loaded 23 washing machine activations from UK-DALE_building_1.\n",
      "INFO:neuralnilm.data.loadactivations:Loading kettle for UK-DALE_building_2...\n",
      "INFO:neuralnilm.data.loadactivations:Loaded 31 kettle activations from UK-DALE_building_2.\n",
      "INFO:neuralnilm.data.loadactivations:Loading microwave for UK-DALE_building_2...\n",
      "INFO:neuralnilm.data.loadactivations:Loaded 30 microwave activations from UK-DALE_building_2.\n",
      "INFO:neuralnilm.data.loadactivations:Loading washing machine for UK-DALE_building_2...\n",
      "INFO:neuralnilm.data.loadactivations:Loaded 2 washing machine activations from UK-DALE_building_2.\n",
      "INFO:neuralnilm.data.loadactivations:Loading kettle for UK-DALE_building_1...\n",
      "INFO:neuralnilm.data.loadactivations:Loaded 28 kettle activations from UK-DALE_building_1.\n",
      "INFO:neuralnilm.data.loadactivations:Loading microwave for UK-DALE_building_1...\n",
      "INFO:neuralnilm.data.loadactivations:Loaded 28 microwave activations from UK-DALE_building_1.\n",
      "INFO:neuralnilm.data.loadactivations:Loading washing machine for UK-DALE_building_1...\n",
      "INFO:neuralnilm.data.loadactivations:Loaded 5 washing machine activations from UK-DALE_building_1.\n",
      "INFO:neuralnilm.data.loadactivations:Done loading NILMTK activations.\n"
     ]
    }
   ],
   "source": [
    "NILMTK_FILENAME = '/data/mine/vadeec/merged/ukdale.h5'\n",
    "TARGET_APPLIANCE = 'kettle'\n",
    "SEQ_LENGTH = 256\n",
    "SAMPLE_PERIOD = 6\n",
    "STRIDE = 4\n",
    "\n",
    "LOADER_CONFIG = {\n",
    "    'nilmtk_activations': dict(\n",
    "        appliances=['kettle', 'microwave', 'washing machine'],\n",
    "        filename=NILMTK_FILENAME,\n",
    "        sample_period=SAMPLE_PERIOD,\n",
    "        windows={\n",
    "            'train': {\n",
    "                1: (\"2014-01-01\", \"2014-02-01\")\n",
    "            },\n",
    "            'unseen_activations_of_seen_appliances': {\n",
    "                1: (\"2014-02-02\", \"2014-02-08\")                \n",
    "            },\n",
    "            'unseen_appliances': {\n",
    "                2: (\"2013-06-01\", \"2013-06-07\")\n",
    "            }\n",
    "        }\n",
    "    )\n",
    "}\n",
    "\n",
    "nilmtk_activations = load_nilmtk_activations(**LOADER_CONFIG['nilmtk_activations'])"
   ]
  },
  {
   "cell_type": "code",
   "execution_count": 3,
   "metadata": {
    "collapsed": false
   },
   "outputs": [
    {
     "data": {
      "text/plain": [
       "['train', 'unseen_activations_of_seen_appliances', 'unseen_appliances']"
      ]
     },
     "execution_count": 3,
     "metadata": {},
     "output_type": "execute_result"
    }
   ],
   "source": [
    "nilmtk_activations.keys()"
   ]
  },
  {
   "cell_type": "code",
   "execution_count": 4,
   "metadata": {
    "collapsed": false
   },
   "outputs": [],
   "source": [
    "source = SyntheticAggregateSource(\n",
    "    activations=nilmtk_activations,\n",
    "    target_appliance=TARGET_APPLIANCE,\n",
    "    seq_length=SEQ_LENGTH,\n",
    "    allow_incomplete_target=False\n",
    ")"
   ]
  },
  {
   "cell_type": "code",
   "execution_count": null,
   "metadata": {
    "collapsed": false
   },
   "outputs": [],
   "source": [
    "FOLD = 'train'\n",
    "#FOLD = 'unseen_activations_of_seen_appliances'\n",
    "#FOLD = 'unseen_appliances'\n",
    "seq = source.get_sequence(enable_all_appliances=True)"
   ]
  },
  {
   "cell_type": "code",
   "execution_count": null,
   "metadata": {
    "collapsed": false
   },
   "outputs": [],
   "source": [
    "all(seq.all_appliances.sum(axis=1) == seq.input[:, 0])"
   ]
  },
  {
   "cell_type": "code",
   "execution_count": null,
   "metadata": {
    "collapsed": false
   },
   "outputs": [],
   "source": [
    "fig, axes = plt.subplots(2, sharex=True)\n",
    "seq.all_appliances.plot(ax=axes[0])\n",
    "axes[1].plot(seq.input)\n",
    "fig.suptitle(FOLD)\n",
    "plt.show()"
   ]
  },
  {
   "cell_type": "code",
   "execution_count": 5,
   "metadata": {
    "collapsed": false
   },
   "outputs": [],
   "source": [
    "sample = source.get_batch(num_seq_per_batch=1024)"
   ]
  },
  {
   "cell_type": "code",
   "execution_count": 6,
   "metadata": {
    "collapsed": false
   },
   "outputs": [],
   "source": [
    "pipeline = DataPipeline(\n",
    "    [source],\n",
    "    num_seq_per_batch=64,\n",
    "    input_processing=[DivideBy(sample.before_processing.input.flatten().std())],\n",
    "    target_processing=[DivideBy(sample.before_processing.target.flatten().std())]\n",
    ")"
   ]
  },
  {
   "cell_type": "markdown",
   "metadata": {},
   "source": [
    "# Disaggregation"
   ]
  },
  {
   "cell_type": "code",
   "execution_count": null,
   "metadata": {
    "collapsed": true
   },
   "outputs": [],
   "source": [
    "nilmtk_disag_source = NILMTKDisagSource(\n",
    "    filename=NILMTK_FILENAME,\n",
    "    target_appliance=TARGET_APPLIANCE,\n",
    "    seq_length=SEQ_LENGTH,\n",
    "    buildings=[5],\n",
    "    window_per_building={},\n",
    "    stride=STRIDE,\n",
    "    sample_period=SAMPLE_PERIOD\n",
    ")"
   ]
  },
  {
   "cell_type": "code",
   "execution_count": null,
   "metadata": {
    "collapsed": true
   },
   "outputs": [],
   "source": [
    "disag_pipeline = deepcopy(pipeline)\n",
    "disag_pipeline.source = nilmtk_disag_source"
   ]
  },
  {
   "cell_type": "code",
   "execution_count": null,
   "metadata": {
    "collapsed": true
   },
   "outputs": [],
   "source": [
    "disaggregator = Disaggregator(\n",
    "    pipeline=disag_pipeline,\n",
    "    output_path=PATH  # \n",
    ")"
   ]
  },
  {
   "cell_type": "markdown",
   "metadata": {},
   "source": [
    "Disagregator ideas:\n",
    "\n",
    "* make a copy of pipeline but swap source for a NILMTKDisagSource\n",
    "* NILMTKDisagSource loads all data into memory (?) and iterates over chunks of it (get seq_length from pipeline.source.seq_length)\n",
    "* "
   ]
  },
  {
   "cell_type": "code",
   "execution_count": 7,
   "metadata": {
    "collapsed": false
   },
   "outputs": [
    {
     "data": {
      "text/plain": [
       "{'DataPipeline': {'SyntheticAggregateSource': {'allow_incomplete_distractors': True,\n",
       "   'allow_incomplete_target': False,\n",
       "   'distractor_inclusion_prob': 1.0,\n",
       "   'include_incomplete_target_in_output': True,\n",
       "   'rng_seed': None,\n",
       "   'seq_length': 256,\n",
       "   'target_appliance': 'kettle',\n",
       "   'target_inclusion_prob': 1.0,\n",
       "   'uniform_prob_of_selecting_each_model': True},\n",
       "  'input_processing': [{'DivideBy': {'divisor': 981.0473}}],\n",
       "  'num_seq_per_batch': 64,\n",
       "  'target_processing': [{'DivideBy': {'divisor': 604.02991}}]},\n",
       " 'activations': {'nilmtk_activations': {'appliances': ['kettle',\n",
       "    'microwave',\n",
       "    'washing machine'],\n",
       "   'filename': '/data/mine/vadeec/merged/ukdale.h5',\n",
       "   'sample_period': 6,\n",
       "   'windows': {'train': {1: ('2014-01-01', '2014-02-01')},\n",
       "    'unseen_activations_of_seen_appliances': {1: ('2014-02-02', '2014-02-08')},\n",
       "    'unseen_appliances': {2: ('2013-06-01', '2013-06-07')}}}}}"
      ]
     },
     "execution_count": 7,
     "metadata": {},
     "output_type": "execute_result"
    }
   ],
   "source": [
    "report = pipeline.report()\n",
    "report['activations'] = LOADER_CONFIG\n",
    "report"
   ]
  },
  {
   "cell_type": "code",
   "execution_count": 8,
   "metadata": {
    "collapsed": true
   },
   "outputs": [],
   "source": [
    "from lasagne.layers import InputLayer, RecurrentLayer, DenseLayer, ReshapeLayer\n",
    "\n",
    "def get_net_0(input_shape, target_shape=None):\n",
    "    NUM_UNITS = {\n",
    "        'dense_layer_0': 100,\n",
    "        'dense_layer_1':  50,\n",
    "        'dense_layer_2': 100\n",
    "    }\n",
    "\n",
    "    if target_shape is None:\n",
    "        target_shape = input_shape\n",
    "    \n",
    "    # Define layers\n",
    "    input_layer = InputLayer(\n",
    "        shape=input_shape\n",
    "    )\n",
    "    \n",
    "    # Dense layers\n",
    "    dense_layer_0 = DenseLayer(\n",
    "        input_layer, \n",
    "        num_units=NUM_UNITS['dense_layer_0']\n",
    "    )\n",
    "    dense_layer_1 = DenseLayer(\n",
    "        dense_layer_0, \n",
    "        num_units=NUM_UNITS['dense_layer_1']\n",
    "    )\n",
    "    dense_layer_2 = DenseLayer(\n",
    "        dense_layer_1, \n",
    "        num_units=NUM_UNITS['dense_layer_2']\n",
    "    )\n",
    "    \n",
    "    # Output\n",
    "    final_dense_layer = DenseLayer(\n",
    "        dense_layer_0,\n",
    "        num_units=target_shape[1] * target_shape[2],\n",
    "        nonlinearity=None\n",
    "    )\n",
    "    output_layer = ReshapeLayer(\n",
    "        final_dense_layer,\n",
    "        shape=target_shape\n",
    "    )\n",
    "    return output_layer"
   ]
  },
  {
   "cell_type": "code",
   "execution_count": 9,
   "metadata": {
    "collapsed": true
   },
   "outputs": [],
   "source": [
    "from neuralnilm.net import Net\n",
    "\n",
    "batch = pipeline.get_batch()\n",
    "output_layer = get_net_0(\n",
    "    batch.after_processing.input.shape, \n",
    "    batch.after_processing.target.shape\n",
    ")\n",
    "net = Net(output_layer)"
   ]
  },
  {
   "cell_type": "code",
   "execution_count": 10,
   "metadata": {
    "collapsed": false
   },
   "outputs": [],
   "source": [
    "from pymongo import MongoClient\n",
    "client = MongoClient()\n",
    "client.drop_database('neuralnilm_experiments')\n",
    "db = client.neuralnilm_experiments"
   ]
  },
  {
   "cell_type": "code",
   "execution_count": 12,
   "metadata": {
    "collapsed": false
   },
   "outputs": [
    {
     "name": "stderr",
     "output_type": "stream",
     "text": [
      "INFO:neuralnilm.trainer:Iteration 0: Change learning rate to 1.0E-02\n"
     ]
    }
   ],
   "source": [
    "from neuralnilm.trainer import Trainer\n",
    "from neuralnilm.metrics import Metrics\n",
    "\n",
    "trainer = Trainer(\n",
    "    net=net,\n",
    "    data_pipeline=pipeline,\n",
    "    db=db,\n",
    "    experiment_id=0,\n",
    "    metrics=Metrics([4]),\n",
    "    learning_rate=1E-2,\n",
    "    repeat_callbacks=[\n",
    "        ( 100, Trainer.validate)\n",
    "    ]\n",
    ")"
   ]
  },
  {
   "cell_type": "code",
   "execution_count": 13,
   "metadata": {
    "collapsed": false
   },
   "outputs": [
    {
     "name": "stderr",
     "output_type": "stream",
     "text": [
      "INFO:neuralnilm.trainer:Starting training for 101 iterations.\n",
      "INFO:neuralnilm.trainer:Compiling train cost function...\n",
      "INFO:neuralnilm.trainer:Done compiling cost function.\n",
      "INFO:neuralnilm.net:Compiling deterministic output function...\n",
      "INFO:neuralnilm.net:Done compiling deterministic output function.\n",
      "/usr/local/lib/python2.7/dist-packages/sklearn/metrics/classification.py:958: UndefinedMetricWarning: F-score is ill-defined and being set to 0.0 due to no predicted samples.\n",
      "  'precision', 'predicted', average, warn_for)\n",
      "/usr/local/lib/python2.7/dist-packages/sklearn/metrics/classification.py:958: UndefinedMetricWarning: Precision is ill-defined and being set to 0.0 due to no predicted samples.\n",
      "  'precision', 'predicted', average, warn_for)\n",
      "INFO:neuralnilm.trainer:Stopped training. Completed 101 iterations.\n"
     ]
    }
   ],
   "source": [
    "trainer.fit(101)"
   ]
  },
  {
   "cell_type": "code",
   "execution_count": 14,
   "metadata": {
    "collapsed": false
   },
   "outputs": [
    {
     "data": {
      "text/plain": [
       "101"
      ]
     },
     "execution_count": 14,
     "metadata": {},
     "output_type": "execute_result"
    }
   ],
   "source": [
    "trainer.iteration"
   ]
  },
  {
   "cell_type": "code",
   "execution_count": 17,
   "metadata": {
    "collapsed": false
   },
   "outputs": [
    {
     "data": {
      "text/plain": [
       "[{u'_id': ObjectId('55db1d35a0777c27beb8853a'),\n",
       "  u'experiment_id': 0,\n",
       "  u'iteration': 100,\n",
       "  u'loss': 0.9001259207725525,\n",
       "  u'source_id': 0},\n",
       " {u'_id': ObjectId('55db1d35a0777c27beb88539'),\n",
       "  u'experiment_id': 0,\n",
       "  u'iteration': 99,\n",
       "  u'loss': 0.9855844378471375,\n",
       "  u'source_id': 0},\n",
       " {u'_id': ObjectId('55db1d35a0777c27beb88538'),\n",
       "  u'experiment_id': 0,\n",
       "  u'iteration': 98,\n",
       "  u'loss': 0.8240548968315125,\n",
       "  u'source_id': 0},\n",
       " {u'_id': ObjectId('55db1d35a0777c27beb88537'),\n",
       "  u'experiment_id': 0,\n",
       "  u'iteration': 97,\n",
       "  u'loss': 0.956082820892334,\n",
       "  u'source_id': 0},\n",
       " {u'_id': ObjectId('55db1d35a0777c27beb88536'),\n",
       "  u'experiment_id': 0,\n",
       "  u'iteration': 96,\n",
       "  u'loss': 0.996891975402832,\n",
       "  u'source_id': 0},\n",
       " {u'_id': ObjectId('55db1d35a0777c27beb88535'),\n",
       "  u'experiment_id': 0,\n",
       "  u'iteration': 95,\n",
       "  u'loss': 1.0046125650405884,\n",
       "  u'source_id': 0},\n",
       " {u'_id': ObjectId('55db1d35a0777c27beb88534'),\n",
       "  u'experiment_id': 0,\n",
       "  u'iteration': 94,\n",
       "  u'loss': 1.0917679071426392,\n",
       "  u'source_id': 0},\n",
       " {u'_id': ObjectId('55db1d35a0777c27beb88533'),\n",
       "  u'experiment_id': 0,\n",
       "  u'iteration': 93,\n",
       "  u'loss': 0.9967694282531738,\n",
       "  u'source_id': 0},\n",
       " {u'_id': ObjectId('55db1d35a0777c27beb88532'),\n",
       "  u'experiment_id': 0,\n",
       "  u'iteration': 92,\n",
       "  u'loss': 1.03853440284729,\n",
       "  u'source_id': 0},\n",
       " {u'_id': ObjectId('55db1d35a0777c27beb88531'),\n",
       "  u'experiment_id': 0,\n",
       "  u'iteration': 91,\n",
       "  u'loss': 1.04848051071167,\n",
       "  u'source_id': 0},\n",
       " {u'_id': ObjectId('55db1d35a0777c27beb88530'),\n",
       "  u'experiment_id': 0,\n",
       "  u'iteration': 90,\n",
       "  u'loss': 0.9565669894218445,\n",
       "  u'source_id': 0},\n",
       " {u'_id': ObjectId('55db1d35a0777c27beb8852f'),\n",
       "  u'experiment_id': 0,\n",
       "  u'iteration': 89,\n",
       "  u'loss': 1.0372430086135864,\n",
       "  u'source_id': 0},\n",
       " {u'_id': ObjectId('55db1d35a0777c27beb8852e'),\n",
       "  u'experiment_id': 0,\n",
       "  u'iteration': 88,\n",
       "  u'loss': 1.0005648136138916,\n",
       "  u'source_id': 0},\n",
       " {u'_id': ObjectId('55db1d35a0777c27beb8852d'),\n",
       "  u'experiment_id': 0,\n",
       "  u'iteration': 87,\n",
       "  u'loss': 0.9305253028869629,\n",
       "  u'source_id': 0},\n",
       " {u'_id': ObjectId('55db1d35a0777c27beb8852c'),\n",
       "  u'experiment_id': 0,\n",
       "  u'iteration': 86,\n",
       "  u'loss': 0.9720069766044617,\n",
       "  u'source_id': 0},\n",
       " {u'_id': ObjectId('55db1d35a0777c27beb8852b'),\n",
       "  u'experiment_id': 0,\n",
       "  u'iteration': 85,\n",
       "  u'loss': 0.9798997640609741,\n",
       "  u'source_id': 0},\n",
       " {u'_id': ObjectId('55db1d35a0777c27beb8852a'),\n",
       "  u'experiment_id': 0,\n",
       "  u'iteration': 84,\n",
       "  u'loss': 1.0001814365386963,\n",
       "  u'source_id': 0},\n",
       " {u'_id': ObjectId('55db1d35a0777c27beb88529'),\n",
       "  u'experiment_id': 0,\n",
       "  u'iteration': 83,\n",
       "  u'loss': 0.9957995414733887,\n",
       "  u'source_id': 0},\n",
       " {u'_id': ObjectId('55db1d35a0777c27beb88528'),\n",
       "  u'experiment_id': 0,\n",
       "  u'iteration': 82,\n",
       "  u'loss': 1.0376482009887695,\n",
       "  u'source_id': 0},\n",
       " {u'_id': ObjectId('55db1d35a0777c27beb88527'),\n",
       "  u'experiment_id': 0,\n",
       "  u'iteration': 81,\n",
       "  u'loss': 1.0503108501434326,\n",
       "  u'source_id': 0},\n",
       " {u'_id': ObjectId('55db1d35a0777c27beb88526'),\n",
       "  u'experiment_id': 0,\n",
       "  u'iteration': 80,\n",
       "  u'loss': 1.0524386167526245,\n",
       "  u'source_id': 0},\n",
       " {u'_id': ObjectId('55db1d35a0777c27beb88525'),\n",
       "  u'experiment_id': 0,\n",
       "  u'iteration': 79,\n",
       "  u'loss': 1.0619786977767944,\n",
       "  u'source_id': 0},\n",
       " {u'_id': ObjectId('55db1d35a0777c27beb88524'),\n",
       "  u'experiment_id': 0,\n",
       "  u'iteration': 78,\n",
       "  u'loss': 0.9763286113739014,\n",
       "  u'source_id': 0},\n",
       " {u'_id': ObjectId('55db1d35a0777c27beb88523'),\n",
       "  u'experiment_id': 0,\n",
       "  u'iteration': 77,\n",
       "  u'loss': 0.9956068396568298,\n",
       "  u'source_id': 0},\n",
       " {u'_id': ObjectId('55db1d34a0777c27beb88522'),\n",
       "  u'experiment_id': 0,\n",
       "  u'iteration': 76,\n",
       "  u'loss': 1.0411717891693115,\n",
       "  u'source_id': 0},\n",
       " {u'_id': ObjectId('55db1d34a0777c27beb88521'),\n",
       "  u'experiment_id': 0,\n",
       "  u'iteration': 75,\n",
       "  u'loss': 1.009977102279663,\n",
       "  u'source_id': 0},\n",
       " {u'_id': ObjectId('55db1d34a0777c27beb88520'),\n",
       "  u'experiment_id': 0,\n",
       "  u'iteration': 74,\n",
       "  u'loss': 0.9745956063270569,\n",
       "  u'source_id': 0},\n",
       " {u'_id': ObjectId('55db1d34a0777c27beb8851f'),\n",
       "  u'experiment_id': 0,\n",
       "  u'iteration': 73,\n",
       "  u'loss': 1.0157721042633057,\n",
       "  u'source_id': 0},\n",
       " {u'_id': ObjectId('55db1d34a0777c27beb8851e'),\n",
       "  u'experiment_id': 0,\n",
       "  u'iteration': 72,\n",
       "  u'loss': 0.9972121119499207,\n",
       "  u'source_id': 0},\n",
       " {u'_id': ObjectId('55db1d34a0777c27beb8851d'),\n",
       "  u'experiment_id': 0,\n",
       "  u'iteration': 71,\n",
       "  u'loss': 0.9423933029174805,\n",
       "  u'source_id': 0},\n",
       " {u'_id': ObjectId('55db1d34a0777c27beb8851c'),\n",
       "  u'experiment_id': 0,\n",
       "  u'iteration': 70,\n",
       "  u'loss': 1.0458709001541138,\n",
       "  u'source_id': 0},\n",
       " {u'_id': ObjectId('55db1d34a0777c27beb8851b'),\n",
       "  u'experiment_id': 0,\n",
       "  u'iteration': 69,\n",
       "  u'loss': 1.0176140069961548,\n",
       "  u'source_id': 0},\n",
       " {u'_id': ObjectId('55db1d34a0777c27beb8851a'),\n",
       "  u'experiment_id': 0,\n",
       "  u'iteration': 68,\n",
       "  u'loss': 0.9431045055389404,\n",
       "  u'source_id': 0},\n",
       " {u'_id': ObjectId('55db1d34a0777c27beb88519'),\n",
       "  u'experiment_id': 0,\n",
       "  u'iteration': 67,\n",
       "  u'loss': 1.0618590116500854,\n",
       "  u'source_id': 0},\n",
       " {u'_id': ObjectId('55db1d34a0777c27beb88518'),\n",
       "  u'experiment_id': 0,\n",
       "  u'iteration': 66,\n",
       "  u'loss': 1.0773279666900635,\n",
       "  u'source_id': 0},\n",
       " {u'_id': ObjectId('55db1d34a0777c27beb88517'),\n",
       "  u'experiment_id': 0,\n",
       "  u'iteration': 65,\n",
       "  u'loss': 0.9637832045555115,\n",
       "  u'source_id': 0},\n",
       " {u'_id': ObjectId('55db1d34a0777c27beb88516'),\n",
       "  u'experiment_id': 0,\n",
       "  u'iteration': 64,\n",
       "  u'loss': 1.0362292528152466,\n",
       "  u'source_id': 0},\n",
       " {u'_id': ObjectId('55db1d34a0777c27beb88515'),\n",
       "  u'experiment_id': 0,\n",
       "  u'iteration': 63,\n",
       "  u'loss': 0.9875964522361755,\n",
       "  u'source_id': 0},\n",
       " {u'_id': ObjectId('55db1d34a0777c27beb88514'),\n",
       "  u'experiment_id': 0,\n",
       "  u'iteration': 62,\n",
       "  u'loss': 1.0630507469177246,\n",
       "  u'source_id': 0},\n",
       " {u'_id': ObjectId('55db1d34a0777c27beb88513'),\n",
       "  u'experiment_id': 0,\n",
       "  u'iteration': 61,\n",
       "  u'loss': 1.0465631484985352,\n",
       "  u'source_id': 0},\n",
       " {u'_id': ObjectId('55db1d34a0777c27beb88512'),\n",
       "  u'experiment_id': 0,\n",
       "  u'iteration': 60,\n",
       "  u'loss': 0.9335941076278687,\n",
       "  u'source_id': 0},\n",
       " {u'_id': ObjectId('55db1d34a0777c27beb88511'),\n",
       "  u'experiment_id': 0,\n",
       "  u'iteration': 59,\n",
       "  u'loss': 1.0226486921310425,\n",
       "  u'source_id': 0},\n",
       " {u'_id': ObjectId('55db1d34a0777c27beb88510'),\n",
       "  u'experiment_id': 0,\n",
       "  u'iteration': 58,\n",
       "  u'loss': 1.1005151271820068,\n",
       "  u'source_id': 0},\n",
       " {u'_id': ObjectId('55db1d34a0777c27beb8850f'),\n",
       "  u'experiment_id': 0,\n",
       "  u'iteration': 57,\n",
       "  u'loss': 1.0629549026489258,\n",
       "  u'source_id': 0},\n",
       " {u'_id': ObjectId('55db1d34a0777c27beb8850e'),\n",
       "  u'experiment_id': 0,\n",
       "  u'iteration': 56,\n",
       "  u'loss': 1.017500877380371,\n",
       "  u'source_id': 0},\n",
       " {u'_id': ObjectId('55db1d34a0777c27beb8850d'),\n",
       "  u'experiment_id': 0,\n",
       "  u'iteration': 55,\n",
       "  u'loss': 1.066304087638855,\n",
       "  u'source_id': 0},\n",
       " {u'_id': ObjectId('55db1d34a0777c27beb8850c'),\n",
       "  u'experiment_id': 0,\n",
       "  u'iteration': 54,\n",
       "  u'loss': 1.0785785913467407,\n",
       "  u'source_id': 0},\n",
       " {u'_id': ObjectId('55db1d34a0777c27beb8850b'),\n",
       "  u'experiment_id': 0,\n",
       "  u'iteration': 53,\n",
       "  u'loss': 1.102504849433899,\n",
       "  u'source_id': 0},\n",
       " {u'_id': ObjectId('55db1d34a0777c27beb8850a'),\n",
       "  u'experiment_id': 0,\n",
       "  u'iteration': 52,\n",
       "  u'loss': 1.0991357564926147,\n",
       "  u'source_id': 0},\n",
       " {u'_id': ObjectId('55db1d34a0777c27beb88509'),\n",
       "  u'experiment_id': 0,\n",
       "  u'iteration': 51,\n",
       "  u'loss': 1.0607348680496216,\n",
       "  u'source_id': 0}]"
      ]
     },
     "execution_count": 17,
     "metadata": {},
     "output_type": "execute_result"
    }
   ],
   "source": [
    "import pymongo\n",
    "list(db.train_scores.find().sort('iteration', pymongo.DESCENDING).limit(50))"
   ]
  },
  {
   "cell_type": "code",
   "execution_count": 18,
   "metadata": {
    "collapsed": false
   },
   "outputs": [
    {
     "data": {
      "text/plain": [
       "[{u'SyntheticAggregateSource': {u'train': {u'2_state_classification': {u'accuracy_score': 0.9979248046875,\n",
       "     u'f1_score': 0.0,\n",
       "     u'precision_score': 0.0,\n",
       "     u'recall_score': 0.0},\n",
       "    u'regression': {u'mean_absolute_error': 0.008479020558297634,\n",
       "     u'relative_error_in_total_energy': -1.0}},\n",
       "   u'unseen_activations_of_seen_appliances': {u'2_state_classification': {u'accuracy_score': 0.99859619140625,\n",
       "     u'f1_score': 0.0,\n",
       "     u'precision_score': 0.0,\n",
       "     u'recall_score': 0.0},\n",
       "    u'regression': {u'mean_absolute_error': 0.00579441525042057,\n",
       "     u'relative_error_in_total_energy': -1.0}},\n",
       "   u'unseen_appliances': {u'2_state_classification': {u'accuracy_score': 0.88494873046875,\n",
       "     u'f1_score': 0.0,\n",
       "     u'precision_score': 0.0,\n",
       "     u'recall_score': 0.0},\n",
       "    u'regression': {u'mean_absolute_error': 0.5612585544586182,\n",
       "     u'relative_error_in_total_energy': -1.0}}},\n",
       "  u'_id': ObjectId('55db1d36a0777c27beb8853b'),\n",
       "  u'experiment_id': 0,\n",
       "  u'iteration': 100},\n",
       " {u'SyntheticAggregateSource': {u'train': {u'2_state_classification': {u'accuracy_score': 0.997802734375,\n",
       "     u'f1_score': 0.0,\n",
       "     u'precision_score': 0.0,\n",
       "     u'recall_score': 0.0},\n",
       "    u'regression': {u'mean_absolute_error': 0.009030946530401707,\n",
       "     u'relative_error_in_total_energy': -0.9037485718727112}},\n",
       "   u'unseen_activations_of_seen_appliances': {u'2_state_classification': {u'accuracy_score': 0.99847412109375,\n",
       "     u'f1_score': 0.0,\n",
       "     u'precision_score': 0.0,\n",
       "     u'recall_score': 0.0},\n",
       "    u'regression': {u'mean_absolute_error': 0.006128900684416294,\n",
       "     u'relative_error_in_total_energy': -0.9124807119369507}},\n",
       "   u'unseen_appliances': {u'2_state_classification': {u'accuracy_score': 0.87762451171875,\n",
       "     u'f1_score': 0.0,\n",
       "     u'precision_score': 0.0,\n",
       "     u'recall_score': 0.0},\n",
       "    u'regression': {u'mean_absolute_error': 0.59620201587677,\n",
       "     u'relative_error_in_total_energy': -0.9965277910232544}}},\n",
       "  u'_id': ObjectId('55db1d32a0777c27beb884d6'),\n",
       "  u'experiment_id': 0,\n",
       "  u'iteration': 0}]"
      ]
     },
     "execution_count": 18,
     "metadata": {},
     "output_type": "execute_result"
    }
   ],
   "source": [
    "list(db.validation_scores.find().sort('iteration', pymongo.DESCENDING).limit(50))"
   ]
  },
  {
   "cell_type": "code",
   "execution_count": null,
   "metadata": {
    "collapsed": true
   },
   "outputs": [],
   "source": []
  }
 ],
 "metadata": {
  "kernelspec": {
   "display_name": "Python 2",
   "language": "python",
   "name": "python2"
  },
  "language_info": {
   "codemirror_mode": {
    "name": "ipython",
    "version": 2
   },
   "file_extension": ".py",
   "mimetype": "text/x-python",
   "name": "python",
   "nbconvert_exporter": "python",
   "pygments_lexer": "ipython2",
   "version": "2.7.9"
  }
 },
 "nbformat": 4,
 "nbformat_minor": 0
}
