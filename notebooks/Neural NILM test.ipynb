{
 "cells": [
  {
   "cell_type": "code",
   "execution_count": 1,
   "metadata": {
    "collapsed": false
   },
   "outputs": [],
   "source": [
    "from __future__ import print_function, division\n",
    "import matplotlib.pyplot as plt\n",
    "import pandas as pd\n",
    "\n",
    "from neuralnilm.data.loadactivations import load_nilmtk_activations\n",
    "from neuralnilm.data.syntheticaggregatesource import SyntheticAggregateSource\n",
    "from neuralnilm.data.datapipeline import DataPipeline\n",
    "from neuralnilm.data.processing import DivideBy\n",
    "from neuralnilm.data.datathread import DataThread"
   ]
  },
  {
   "cell_type": "code",
   "execution_count": 2,
   "metadata": {
    "collapsed": false
   },
   "outputs": [
    {
     "name": "stderr",
     "output_type": "stream",
     "text": [
      "INFO:neuralnilm.data.loadactivations:Loading NILMTK activations...\n",
      "INFO:neuralnilm.data.loadactivations:Loading kettle for UK-DALE_building_1...\n",
      "INFO:neuralnilm.data.loadactivations:Loaded 112 kettle activations from UK-DALE_building_1.\n",
      "INFO:neuralnilm.data.loadactivations:Loading microwave for UK-DALE_building_1...\n",
      "INFO:neuralnilm.data.loadactivations:Loaded 119 microwave activations from UK-DALE_building_1.\n",
      "INFO:neuralnilm.data.loadactivations:Loading washing machine for UK-DALE_building_1...\n",
      "INFO:neuralnilm.data.loadactivations:Loaded 23 washing machine activations from UK-DALE_building_1.\n",
      "INFO:neuralnilm.data.loadactivations:Loading kettle for UK-DALE_building_2...\n",
      "INFO:neuralnilm.data.loadactivations:Loaded 31 kettle activations from UK-DALE_building_2.\n",
      "INFO:neuralnilm.data.loadactivations:Loading microwave for UK-DALE_building_2...\n",
      "INFO:neuralnilm.data.loadactivations:Loaded 30 microwave activations from UK-DALE_building_2.\n",
      "INFO:neuralnilm.data.loadactivations:Loading washing machine for UK-DALE_building_2...\n",
      "INFO:neuralnilm.data.loadactivations:Loaded 2 washing machine activations from UK-DALE_building_2.\n",
      "INFO:neuralnilm.data.loadactivations:Loading kettle for UK-DALE_building_1...\n",
      "INFO:neuralnilm.data.loadactivations:Loaded 28 kettle activations from UK-DALE_building_1.\n",
      "INFO:neuralnilm.data.loadactivations:Loading microwave for UK-DALE_building_1...\n",
      "INFO:neuralnilm.data.loadactivations:Loaded 28 microwave activations from UK-DALE_building_1.\n",
      "INFO:neuralnilm.data.loadactivations:Loading washing machine for UK-DALE_building_1...\n",
      "INFO:neuralnilm.data.loadactivations:Loaded 5 washing machine activations from UK-DALE_building_1.\n",
      "INFO:neuralnilm.data.loadactivations:Done loading NILMTK activations.\n"
     ]
    }
   ],
   "source": [
    "NILMTK_FILENAME = '/data/mine/vadeec/merged/ukdale.h5'\n",
    "TARGET_APPLIANCE = 'kettle'\n",
    "SEQ_LENGTH = 256\n",
    "SAMPLE_PERIOD = 6\n",
    "STRIDE = 4\n",
    "\n",
    "LOADER_CONFIG = {\n",
    "    'nilmtk_activations': dict(\n",
    "        appliances=['kettle', 'microwave', 'washing machine'],\n",
    "        filename=NILMTK_FILENAME,\n",
    "        sample_period=SAMPLE_PERIOD,\n",
    "        windows={\n",
    "            'train': {\n",
    "                1: (\"2014-01-01\", \"2014-02-01\")\n",
    "            },\n",
    "            'unseen_activations_of_seen_appliances': {\n",
    "                1: (\"2014-02-02\", \"2014-02-08\")                \n",
    "            },\n",
    "            'unseen_appliances': {\n",
    "                2: (\"2013-06-01\", \"2013-06-07\")\n",
    "            }\n",
    "        }\n",
    "    )\n",
    "}\n",
    "\n",
    "nilmtk_activations = load_nilmtk_activations(**LOADER_CONFIG['nilmtk_activations'])"
   ]
  },
  {
   "cell_type": "code",
   "execution_count": 3,
   "metadata": {
    "collapsed": false
   },
   "outputs": [
    {
     "data": {
      "text/plain": [
       "['train', 'unseen_activations_of_seen_appliances', 'unseen_appliances']"
      ]
     },
     "execution_count": 3,
     "metadata": {},
     "output_type": "execute_result"
    }
   ],
   "source": [
    "nilmtk_activations.keys()"
   ]
  },
  {
   "cell_type": "code",
   "execution_count": 4,
   "metadata": {
    "collapsed": false
   },
   "outputs": [],
   "source": [
    "source = SyntheticAggregateSource(\n",
    "    activations=nilmtk_activations,\n",
    "    target_appliance=TARGET_APPLIANCE,\n",
    "    seq_length=SEQ_LENGTH,\n",
    "    allow_incomplete_target=False\n",
    ")"
   ]
  },
  {
   "cell_type": "code",
   "execution_count": 5,
   "metadata": {
    "collapsed": false
   },
   "outputs": [],
   "source": [
    "FOLD = 'train'\n",
    "#FOLD = 'unseen_activations_of_seen_appliances'\n",
    "#FOLD = 'unseen_appliances'\n",
    "seq = source.get_sequence(enable_all_appliances=True)"
   ]
  },
  {
   "cell_type": "code",
   "execution_count": 6,
   "metadata": {
    "collapsed": false
   },
   "outputs": [],
   "source": [
    "#all(seq.all_appliances.sum(axis=1) == seq.input[:, 0])"
   ]
  },
  {
   "cell_type": "code",
   "execution_count": 7,
   "metadata": {
    "collapsed": false
   },
   "outputs": [],
   "source": [
    "#fig, axes = plt.subplots(2, sharex=True)\n",
    "#seq.all_appliances.plot(ax=axes[0])\n",
    "#axes[1].plot(seq.input)\n",
    "#fig.suptitle(FOLD)\n",
    "#plt.show()"
   ]
  },
  {
   "cell_type": "code",
   "execution_count": 8,
   "metadata": {
    "collapsed": false
   },
   "outputs": [],
   "source": [
    "sample = source.get_batch(num_seq_per_batch=1024)"
   ]
  },
  {
   "cell_type": "code",
   "execution_count": 9,
   "metadata": {
    "collapsed": false
   },
   "outputs": [],
   "source": [
    "pipeline = DataPipeline(\n",
    "    [source],\n",
    "    num_seq_per_batch=64,\n",
    "    input_processing=[DivideBy(sample.before_processing.input.flatten().std())],\n",
    "    target_processing=[DivideBy(sample.before_processing.target.flatten().std())]\n",
    ")"
   ]
  },
  {
   "cell_type": "markdown",
   "metadata": {},
   "source": [
    "# Disaggregation"
   ]
  },
  {
   "cell_type": "markdown",
   "metadata": {
    "collapsed": true
   },
   "source": [
    "nilmtk_disag_source = NILMTKDisagSource(\n",
    "    filename=NILMTK_FILENAME,\n",
    "    target_appliance=TARGET_APPLIANCE,\n",
    "    seq_length=SEQ_LENGTH,\n",
    "    buildings=[5],\n",
    "    window_per_building={},\n",
    "    stride=STRIDE,\n",
    "    sample_period=SAMPLE_PERIOD\n",
    ")"
   ]
  },
  {
   "cell_type": "markdown",
   "metadata": {
    "collapsed": true
   },
   "source": [
    "disag_pipeline = deepcopy(pipeline)\n",
    "disag_pipeline.source = nilmtk_disag_source"
   ]
  },
  {
   "cell_type": "markdown",
   "metadata": {
    "collapsed": true
   },
   "source": [
    "disaggregator = Disaggregator(\n",
    "    pipeline=disag_pipeline,\n",
    "    output_path=PATH  # \n",
    ")"
   ]
  },
  {
   "cell_type": "markdown",
   "metadata": {},
   "source": [
    "Disagregator ideas:\n",
    "\n",
    "* make a copy of pipeline but swap source for a NILMTKDisagSource\n",
    "* NILMTKDisagSource loads all data into memory (?) and iterates over chunks of it (get seq_length from pipeline.source.seq_length)\n",
    "* "
   ]
  },
  {
   "cell_type": "code",
   "execution_count": 10,
   "metadata": {
    "collapsed": false
   },
   "outputs": [
    {
     "data": {
      "text/plain": [
       "{'DataPipeline': {'SyntheticAggregateSource': {'allow_incomplete_distractors': True,\n",
       "   'allow_incomplete_target': False,\n",
       "   'distractor_inclusion_prob': 1.0,\n",
       "   'include_incomplete_target_in_output': True,\n",
       "   'rng_seed': None,\n",
       "   'seq_length': 256,\n",
       "   'target_appliance': 'kettle',\n",
       "   'target_inclusion_prob': 1.0,\n",
       "   'uniform_prob_of_selecting_each_model': True},\n",
       "  'input_processing': [{'DivideBy': {'divisor': 978.40424}}],\n",
       "  'num_seq_per_batch': 64,\n",
       "  'target_processing': [{'DivideBy': {'divisor': 600.37372}}]},\n",
       " 'activations': {'nilmtk_activations': {'appliances': ['kettle',\n",
       "    'microwave',\n",
       "    'washing machine'],\n",
       "   'filename': '/data/mine/vadeec/merged/ukdale.h5',\n",
       "   'sample_period': 6,\n",
       "   'windows': {'train': {1: ('2014-01-01', '2014-02-01')},\n",
       "    'unseen_activations_of_seen_appliances': {1: ('2014-02-02', '2014-02-08')},\n",
       "    'unseen_appliances': {2: ('2013-06-01', '2013-06-07')}}}}}"
      ]
     },
     "execution_count": 10,
     "metadata": {},
     "output_type": "execute_result"
    }
   ],
   "source": [
    "report = pipeline.report()\n",
    "report['activations'] = LOADER_CONFIG\n",
    "report"
   ]
  },
  {
   "cell_type": "code",
   "execution_count": 11,
   "metadata": {
    "collapsed": true
   },
   "outputs": [],
   "source": [
    "from lasagne.layers import InputLayer, RecurrentLayer, DenseLayer, ReshapeLayer\n",
    "\n",
    "def get_net_0(input_shape, target_shape=None):\n",
    "    NUM_UNITS = {\n",
    "        'dense_layer_0': 100,\n",
    "        'dense_layer_1':  50,\n",
    "        'dense_layer_2': 100\n",
    "    }\n",
    "\n",
    "    if target_shape is None:\n",
    "        target_shape = input_shape\n",
    "    \n",
    "    # Define layers\n",
    "    input_layer = InputLayer(\n",
    "        shape=input_shape\n",
    "    )\n",
    "    \n",
    "    # Dense layers\n",
    "    dense_layer_0 = DenseLayer(\n",
    "        input_layer, \n",
    "        num_units=NUM_UNITS['dense_layer_0']\n",
    "    )\n",
    "    dense_layer_1 = DenseLayer(\n",
    "        dense_layer_0, \n",
    "        num_units=NUM_UNITS['dense_layer_1']\n",
    "    )\n",
    "    dense_layer_2 = DenseLayer(\n",
    "        dense_layer_1, \n",
    "        num_units=NUM_UNITS['dense_layer_2']\n",
    "    )\n",
    "    \n",
    "    # Output\n",
    "    final_dense_layer = DenseLayer(\n",
    "        dense_layer_0,\n",
    "        num_units=target_shape[1] * target_shape[2],\n",
    "        nonlinearity=None\n",
    "    )\n",
    "    output_layer = ReshapeLayer(\n",
    "        final_dense_layer,\n",
    "        shape=target_shape\n",
    "    )\n",
    "    return output_layer"
   ]
  },
  {
   "cell_type": "code",
   "execution_count": 12,
   "metadata": {
    "collapsed": true
   },
   "outputs": [],
   "source": [
    "from neuralnilm.net import Net\n",
    "\n",
    "batch = pipeline.get_batch()\n",
    "output_layer = get_net_0(\n",
    "    batch.after_processing.input.shape, \n",
    "    batch.after_processing.target.shape\n",
    ")\n",
    "net = Net(output_layer)"
   ]
  },
  {
   "cell_type": "code",
   "execution_count": 13,
   "metadata": {
    "collapsed": false
   },
   "outputs": [],
   "source": [
    "from pymongo import MongoClient\n",
    "client = MongoClient()\n",
    "client.drop_database('neuralnilm_experiments')\n",
    "db = client.neuralnilm_experiments"
   ]
  },
  {
   "cell_type": "code",
   "execution_count": 14,
   "metadata": {
    "collapsed": false
   },
   "outputs": [
    {
     "name": "stderr",
     "output_type": "stream",
     "text": [
      "INFO:neuralnilm.trainer:Iteration 0: Change learning rate to 1.0E-02\n"
     ]
    }
   ],
   "source": [
    "from neuralnilm.trainer import Trainer\n",
    "from neuralnilm.metrics import Metrics\n",
    "\n",
    "trainer = Trainer(\n",
    "    net=net,\n",
    "    data_pipeline=pipeline,\n",
    "    db=db,\n",
    "    experiment_id=0,\n",
    "    metrics=Metrics([4]),\n",
    "    learning_rate=1E-2,\n",
    "    repeat_callbacks=[\n",
    "        ( 100, Trainer.validate)\n",
    "    ]\n",
    ")"
   ]
  },
  {
   "cell_type": "code",
   "execution_count": 15,
   "metadata": {
    "collapsed": false
   },
   "outputs": [
    {
     "name": "stderr",
     "output_type": "stream",
     "text": [
      "INFO:neuralnilm.trainer:Starting training for 100 iterations.\n",
      "INFO:neuralnilm.trainer:Compiling train cost function...\n",
      "INFO:neuralnilm.trainer:Done compiling cost function.\n",
      "INFO:neuralnilm.net:Compiling deterministic output function...\n",
      "INFO:neuralnilm.net:Done compiling deterministic output function.\n",
      "/usr/local/lib/python2.7/dist-packages/sklearn/metrics/classification.py:958: UndefinedMetricWarning: F-score is ill-defined and being set to 0.0 due to no predicted samples.\n",
      "  'precision', 'predicted', average, warn_for)\n",
      "/usr/local/lib/python2.7/dist-packages/sklearn/metrics/classification.py:958: UndefinedMetricWarning: Precision is ill-defined and being set to 0.0 due to no predicted samples.\n",
      "  'precision', 'predicted', average, warn_for)\n",
      "INFO:neuralnilm.trainer:Stopped training. Completed 100 iterations.\n"
     ]
    }
   ],
   "source": [
    "trainer.fit(100)"
   ]
  },
  {
   "cell_type": "code",
   "execution_count": 17,
   "metadata": {
    "collapsed": false
   },
   "outputs": [
    {
     "data": {
      "text/plain": [
       "100"
      ]
     },
     "execution_count": 17,
     "metadata": {},
     "output_type": "execute_result"
    }
   ],
   "source": [
    "net.train_iterations"
   ]
  },
  {
   "cell_type": "code",
   "execution_count": 18,
   "metadata": {
    "collapsed": false
   },
   "outputs": [
    {
     "data": {
      "text/plain": [
       "[{u'_id': ObjectId('55db218ca0777c2c39249e28'),\n",
       "  u'experiment_id': 0,\n",
       "  u'iteration': 100,\n",
       "  u'loss': 0.9532398581504822,\n",
       "  u'source_id': 0},\n",
       " {u'_id': ObjectId('55db218ca0777c2c39249e27'),\n",
       "  u'experiment_id': 0,\n",
       "  u'iteration': 99,\n",
       "  u'loss': 1.064550757408142,\n",
       "  u'source_id': 0},\n",
       " {u'_id': ObjectId('55db218ca0777c2c39249e26'),\n",
       "  u'experiment_id': 0,\n",
       "  u'iteration': 98,\n",
       "  u'loss': 1.0139832496643066,\n",
       "  u'source_id': 0},\n",
       " {u'_id': ObjectId('55db218ca0777c2c39249e25'),\n",
       "  u'experiment_id': 0,\n",
       "  u'iteration': 97,\n",
       "  u'loss': 1.040452480316162,\n",
       "  u'source_id': 0},\n",
       " {u'_id': ObjectId('55db218ca0777c2c39249e24'),\n",
       "  u'experiment_id': 0,\n",
       "  u'iteration': 96,\n",
       "  u'loss': 0.9780511260032654,\n",
       "  u'source_id': 0},\n",
       " {u'_id': ObjectId('55db218ca0777c2c39249e23'),\n",
       "  u'experiment_id': 0,\n",
       "  u'iteration': 95,\n",
       "  u'loss': 0.9318425059318542,\n",
       "  u'source_id': 0},\n",
       " {u'_id': ObjectId('55db218ca0777c2c39249e22'),\n",
       "  u'experiment_id': 0,\n",
       "  u'iteration': 94,\n",
       "  u'loss': 0.9534579515457153,\n",
       "  u'source_id': 0},\n",
       " {u'_id': ObjectId('55db218ca0777c2c39249e21'),\n",
       "  u'experiment_id': 0,\n",
       "  u'iteration': 93,\n",
       "  u'loss': 0.9988776445388794,\n",
       "  u'source_id': 0},\n",
       " {u'_id': ObjectId('55db218ca0777c2c39249e20'),\n",
       "  u'experiment_id': 0,\n",
       "  u'iteration': 92,\n",
       "  u'loss': 1.0316866636276245,\n",
       "  u'source_id': 0},\n",
       " {u'_id': ObjectId('55db218ca0777c2c39249e1f'),\n",
       "  u'experiment_id': 0,\n",
       "  u'iteration': 91,\n",
       "  u'loss': 1.007187008857727,\n",
       "  u'source_id': 0},\n",
       " {u'_id': ObjectId('55db218ca0777c2c39249e1e'),\n",
       "  u'experiment_id': 0,\n",
       "  u'iteration': 90,\n",
       "  u'loss': 0.9346696138381958,\n",
       "  u'source_id': 0},\n",
       " {u'_id': ObjectId('55db218ca0777c2c39249e1d'),\n",
       "  u'experiment_id': 0,\n",
       "  u'iteration': 89,\n",
       "  u'loss': 1.0431002378463745,\n",
       "  u'source_id': 0},\n",
       " {u'_id': ObjectId('55db218ca0777c2c39249e1c'),\n",
       "  u'experiment_id': 0,\n",
       "  u'iteration': 88,\n",
       "  u'loss': 0.93813556432724,\n",
       "  u'source_id': 0},\n",
       " {u'_id': ObjectId('55db218ba0777c2c39249e1b'),\n",
       "  u'experiment_id': 0,\n",
       "  u'iteration': 87,\n",
       "  u'loss': 1.029789686203003,\n",
       "  u'source_id': 0},\n",
       " {u'_id': ObjectId('55db218ba0777c2c39249e1a'),\n",
       "  u'experiment_id': 0,\n",
       "  u'iteration': 86,\n",
       "  u'loss': 1.003368854522705,\n",
       "  u'source_id': 0},\n",
       " {u'_id': ObjectId('55db218ba0777c2c39249e19'),\n",
       "  u'experiment_id': 0,\n",
       "  u'iteration': 85,\n",
       "  u'loss': 1.1085503101348877,\n",
       "  u'source_id': 0},\n",
       " {u'_id': ObjectId('55db218ba0777c2c39249e18'),\n",
       "  u'experiment_id': 0,\n",
       "  u'iteration': 84,\n",
       "  u'loss': 1.0054144859313965,\n",
       "  u'source_id': 0},\n",
       " {u'_id': ObjectId('55db218ba0777c2c39249e17'),\n",
       "  u'experiment_id': 0,\n",
       "  u'iteration': 83,\n",
       "  u'loss': 1.0889930725097656,\n",
       "  u'source_id': 0},\n",
       " {u'_id': ObjectId('55db218ba0777c2c39249e16'),\n",
       "  u'experiment_id': 0,\n",
       "  u'iteration': 82,\n",
       "  u'loss': 0.968014121055603,\n",
       "  u'source_id': 0},\n",
       " {u'_id': ObjectId('55db218ba0777c2c39249e15'),\n",
       "  u'experiment_id': 0,\n",
       "  u'iteration': 81,\n",
       "  u'loss': 1.0393116474151611,\n",
       "  u'source_id': 0},\n",
       " {u'_id': ObjectId('55db218ba0777c2c39249e14'),\n",
       "  u'experiment_id': 0,\n",
       "  u'iteration': 80,\n",
       "  u'loss': 0.953508198261261,\n",
       "  u'source_id': 0},\n",
       " {u'_id': ObjectId('55db218ba0777c2c39249e13'),\n",
       "  u'experiment_id': 0,\n",
       "  u'iteration': 79,\n",
       "  u'loss': 0.9855674505233765,\n",
       "  u'source_id': 0},\n",
       " {u'_id': ObjectId('55db218ba0777c2c39249e12'),\n",
       "  u'experiment_id': 0,\n",
       "  u'iteration': 78,\n",
       "  u'loss': 1.008516550064087,\n",
       "  u'source_id': 0},\n",
       " {u'_id': ObjectId('55db218ba0777c2c39249e11'),\n",
       "  u'experiment_id': 0,\n",
       "  u'iteration': 77,\n",
       "  u'loss': 1.0596551895141602,\n",
       "  u'source_id': 0},\n",
       " {u'_id': ObjectId('55db218ba0777c2c39249e10'),\n",
       "  u'experiment_id': 0,\n",
       "  u'iteration': 76,\n",
       "  u'loss': 1.0122103691101074,\n",
       "  u'source_id': 0},\n",
       " {u'_id': ObjectId('55db218ba0777c2c39249e0f'),\n",
       "  u'experiment_id': 0,\n",
       "  u'iteration': 75,\n",
       "  u'loss': 1.0451068878173828,\n",
       "  u'source_id': 0},\n",
       " {u'_id': ObjectId('55db218ba0777c2c39249e0e'),\n",
       "  u'experiment_id': 0,\n",
       "  u'iteration': 74,\n",
       "  u'loss': 1.0667686462402344,\n",
       "  u'source_id': 0},\n",
       " {u'_id': ObjectId('55db218ba0777c2c39249e0d'),\n",
       "  u'experiment_id': 0,\n",
       "  u'iteration': 73,\n",
       "  u'loss': 1.0703315734863281,\n",
       "  u'source_id': 0},\n",
       " {u'_id': ObjectId('55db218ba0777c2c39249e0c'),\n",
       "  u'experiment_id': 0,\n",
       "  u'iteration': 72,\n",
       "  u'loss': 0.9741960167884827,\n",
       "  u'source_id': 0},\n",
       " {u'_id': ObjectId('55db218ba0777c2c39249e0b'),\n",
       "  u'experiment_id': 0,\n",
       "  u'iteration': 71,\n",
       "  u'loss': 0.9532783031463623,\n",
       "  u'source_id': 0},\n",
       " {u'_id': ObjectId('55db218ba0777c2c39249e0a'),\n",
       "  u'experiment_id': 0,\n",
       "  u'iteration': 70,\n",
       "  u'loss': 1.0641433000564575,\n",
       "  u'source_id': 0},\n",
       " {u'_id': ObjectId('55db218ba0777c2c39249e09'),\n",
       "  u'experiment_id': 0,\n",
       "  u'iteration': 69,\n",
       "  u'loss': 1.009645700454712,\n",
       "  u'source_id': 0},\n",
       " {u'_id': ObjectId('55db218ba0777c2c39249e08'),\n",
       "  u'experiment_id': 0,\n",
       "  u'iteration': 68,\n",
       "  u'loss': 1.0144720077514648,\n",
       "  u'source_id': 0},\n",
       " {u'_id': ObjectId('55db218ba0777c2c39249e07'),\n",
       "  u'experiment_id': 0,\n",
       "  u'iteration': 67,\n",
       "  u'loss': 1.0887470245361328,\n",
       "  u'source_id': 0},\n",
       " {u'_id': ObjectId('55db218ba0777c2c39249e06'),\n",
       "  u'experiment_id': 0,\n",
       "  u'iteration': 66,\n",
       "  u'loss': 0.9926891922950745,\n",
       "  u'source_id': 0},\n",
       " {u'_id': ObjectId('55db218ba0777c2c39249e05'),\n",
       "  u'experiment_id': 0,\n",
       "  u'iteration': 65,\n",
       "  u'loss': 1.0509295463562012,\n",
       "  u'source_id': 0},\n",
       " {u'_id': ObjectId('55db218ba0777c2c39249e04'),\n",
       "  u'experiment_id': 0,\n",
       "  u'iteration': 64,\n",
       "  u'loss': 1.0720864534378052,\n",
       "  u'source_id': 0},\n",
       " {u'_id': ObjectId('55db218ba0777c2c39249e03'),\n",
       "  u'experiment_id': 0,\n",
       "  u'iteration': 63,\n",
       "  u'loss': 1.082451581954956,\n",
       "  u'source_id': 0},\n",
       " {u'_id': ObjectId('55db218ba0777c2c39249e02'),\n",
       "  u'experiment_id': 0,\n",
       "  u'iteration': 62,\n",
       "  u'loss': 1.1362905502319336,\n",
       "  u'source_id': 0},\n",
       " {u'_id': ObjectId('55db218aa0777c2c39249e01'),\n",
       "  u'experiment_id': 0,\n",
       "  u'iteration': 61,\n",
       "  u'loss': 1.030970573425293,\n",
       "  u'source_id': 0},\n",
       " {u'_id': ObjectId('55db218aa0777c2c39249e00'),\n",
       "  u'experiment_id': 0,\n",
       "  u'iteration': 60,\n",
       "  u'loss': 1.0453391075134277,\n",
       "  u'source_id': 0},\n",
       " {u'_id': ObjectId('55db218aa0777c2c39249dff'),\n",
       "  u'experiment_id': 0,\n",
       "  u'iteration': 59,\n",
       "  u'loss': 1.1021016836166382,\n",
       "  u'source_id': 0},\n",
       " {u'_id': ObjectId('55db218aa0777c2c39249dfe'),\n",
       "  u'experiment_id': 0,\n",
       "  u'iteration': 58,\n",
       "  u'loss': 0.9834116697311401,\n",
       "  u'source_id': 0},\n",
       " {u'_id': ObjectId('55db218aa0777c2c39249dfd'),\n",
       "  u'experiment_id': 0,\n",
       "  u'iteration': 57,\n",
       "  u'loss': 1.0042390823364258,\n",
       "  u'source_id': 0},\n",
       " {u'_id': ObjectId('55db218aa0777c2c39249dfc'),\n",
       "  u'experiment_id': 0,\n",
       "  u'iteration': 56,\n",
       "  u'loss': 1.0663683414459229,\n",
       "  u'source_id': 0},\n",
       " {u'_id': ObjectId('55db218aa0777c2c39249dfb'),\n",
       "  u'experiment_id': 0,\n",
       "  u'iteration': 55,\n",
       "  u'loss': 1.0255458354949951,\n",
       "  u'source_id': 0},\n",
       " {u'_id': ObjectId('55db218aa0777c2c39249dfa'),\n",
       "  u'experiment_id': 0,\n",
       "  u'iteration': 54,\n",
       "  u'loss': 1.0933146476745605,\n",
       "  u'source_id': 0},\n",
       " {u'_id': ObjectId('55db218aa0777c2c39249df9'),\n",
       "  u'experiment_id': 0,\n",
       "  u'iteration': 53,\n",
       "  u'loss': 1.038417935371399,\n",
       "  u'source_id': 0},\n",
       " {u'_id': ObjectId('55db218aa0777c2c39249df8'),\n",
       "  u'experiment_id': 0,\n",
       "  u'iteration': 52,\n",
       "  u'loss': 1.081466794013977,\n",
       "  u'source_id': 0},\n",
       " {u'_id': ObjectId('55db218aa0777c2c39249df7'),\n",
       "  u'experiment_id': 0,\n",
       "  u'iteration': 51,\n",
       "  u'loss': 1.0105922222137451,\n",
       "  u'source_id': 0}]"
      ]
     },
     "execution_count": 18,
     "metadata": {},
     "output_type": "execute_result"
    }
   ],
   "source": [
    "import pymongo\n",
    "list(db.train_scores.find().sort('iteration', pymongo.DESCENDING).limit(50))"
   ]
  },
  {
   "cell_type": "code",
   "execution_count": 19,
   "metadata": {
    "collapsed": false
   },
   "outputs": [
    {
     "data": {
      "text/plain": [
       "[{u'SyntheticAggregateSource': {u'train': {u'2_state_classification': {u'accuracy_score': 0.99822998046875,\n",
       "     u'f1_score': 0.0,\n",
       "     u'precision_score': 0.0,\n",
       "     u'recall_score': 0.0},\n",
       "    u'regression': {u'mean_absolute_error': 0.0072698453441262245,\n",
       "     u'relative_error_in_total_energy': -1.0}},\n",
       "   u'unseen_activations_of_seen_appliances': {u'2_state_classification': {u'accuracy_score': 0.9967041015625,\n",
       "     u'f1_score': 0.0,\n",
       "     u'precision_score': 0.0,\n",
       "     u'recall_score': 0.0},\n",
       "    u'regression': {u'mean_absolute_error': 0.013276033103466034,\n",
       "     u'relative_error_in_total_energy': -1.0}},\n",
       "   u'unseen_appliances': {u'2_state_classification': {u'accuracy_score': 0.8778076171875,\n",
       "     u'f1_score': 0.0,\n",
       "     u'precision_score': 0.0,\n",
       "     u'recall_score': 0.0},\n",
       "    u'regression': {u'mean_absolute_error': 0.6029148101806641,\n",
       "     u'relative_error_in_total_energy': -1.0}}},\n",
       "  u'_id': ObjectId('55db218ca0777c2c39249e29'),\n",
       "  u'experiment_id': 0,\n",
       "  u'iteration': 100},\n",
       " {u'SyntheticAggregateSource': {u'train': {u'2_state_classification': {u'accuracy_score': 0.99560546875,\n",
       "     u'f1_score': 0.0,\n",
       "     u'precision_score': 0.0,\n",
       "     u'recall_score': 0.0},\n",
       "    u'regression': {u'mean_absolute_error': 0.017952073365449905,\n",
       "     u'relative_error_in_total_energy': -1.0}},\n",
       "   u'unseen_activations_of_seen_appliances': {u'2_state_classification': {u'accuracy_score': 0.99774169921875,\n",
       "     u'f1_score': 0.0,\n",
       "     u'precision_score': 0.0,\n",
       "     u'recall_score': 0.0},\n",
       "    u'regression': {u'mean_absolute_error': 0.009144085459411144,\n",
       "     u'relative_error_in_total_energy': -1.0}},\n",
       "   u'unseen_appliances': {u'2_state_classification': {u'accuracy_score': 0.88421630859375,\n",
       "     u'f1_score': 0.0,\n",
       "     u'precision_score': 0.0,\n",
       "     u'recall_score': 0.0},\n",
       "    u'regression': {u'mean_absolute_error': 0.5691097974777222,\n",
       "     u'relative_error_in_total_energy': -0.9995368719100952}}},\n",
       "  u'_id': ObjectId('55db2188a0777c2c39249dc4'),\n",
       "  u'experiment_id': 0,\n",
       "  u'iteration': 0}]"
      ]
     },
     "execution_count": 19,
     "metadata": {},
     "output_type": "execute_result"
    }
   ],
   "source": [
    "list(db.validation_scores.find().sort('iteration', pymongo.DESCENDING).limit(50))"
   ]
  },
  {
   "cell_type": "code",
   "execution_count": null,
   "metadata": {
    "collapsed": true
   },
   "outputs": [],
   "source": []
  }
 ],
 "metadata": {
  "kernelspec": {
   "display_name": "Python 2",
   "language": "python",
   "name": "python2"
  },
  "language_info": {
   "codemirror_mode": {
    "name": "ipython",
    "version": 2
   },
   "file_extension": ".py",
   "mimetype": "text/x-python",
   "name": "python",
   "nbconvert_exporter": "python",
   "pygments_lexer": "ipython2",
   "version": "2.7.9"
  }
 },
 "nbformat": 4,
 "nbformat_minor": 0
}
