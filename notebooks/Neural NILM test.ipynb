{
 "cells": [
  {
   "cell_type": "code",
   "execution_count": 2,
   "metadata": {
    "collapsed": false
   },
   "outputs": [],
   "source": [
    "from __future__ import print_function, division\n",
    "import matplotlib.pyplot as plt\n",
    "import pandas as pd\n",
    "\n",
    "from neuralnilm.data.loadactivations import load_nilmtk_activations\n",
    "from neuralnilm.data.syntheticaggregatesource import SyntheticAggregateSource\n",
    "from neuralnilm.data.datapipeline import DataPipeline\n",
    "from neuralnilm.data.processing import DivideBy, IndependentlyCenter\n",
    "from neuralnilm.data.datathread import DataThread"
   ]
  },
  {
   "cell_type": "code",
   "execution_count": 34,
   "metadata": {
    "collapsed": false
   },
   "outputs": [],
   "source": [
    "NILMTK_FILENAME = '/data/mine/vadeec/merged/ukdale.h5'\n",
    "TARGET_APPLIANCE = 'kettle'\n",
    "SEQ_LENGTH = 256\n",
    "SAMPLE_PERIOD = 6\n",
    "STRIDE = SEQ_LENGTH\n",
    "WINDOWS = {\n",
    "    'train': {\n",
    "        1: (\"2014-01-01\", \"2014-02-01\")\n",
    "    },\n",
    "    'unseen_activations_of_seen_appliances': {\n",
    "        1: (\"2014-02-02\", \"2014-02-08\")                \n",
    "    },\n",
    "    'unseen_appliances': {\n",
    "        2: (\"2013-06-01\", \"2013-06-07\")\n",
    "    }\n",
    "}\n",
    "\n",
    "LOADER_CONFIG = {\n",
    "    'nilmtk_activations': dict(\n",
    "        appliances=['kettle', 'microwave', 'washing machine'],\n",
    "        filename=NILMTK_FILENAME,\n",
    "        sample_period=SAMPLE_PERIOD,\n",
    "        windows=WINDOWS\n",
    "    )\n",
    "}\n",
    "\n"
   ]
  },
  {
   "cell_type": "code",
   "execution_count": 35,
   "metadata": {
    "collapsed": true
   },
   "outputs": [],
   "source": [
    "from neuralnilm.data.stridesource import StrideSource"
   ]
  },
  {
   "cell_type": "code",
   "execution_count": 36,
   "metadata": {
    "collapsed": false
   },
   "outputs": [
    {
     "name": "stderr",
     "output_type": "stream",
     "text": [
      "INFO:neuralnilm.data.stridesource:Loading NILMTK data...\n",
      "INFO:neuralnilm.data.stridesource:Loading data for UK-DALE_building_1...\n",
      "INFO:neuralnilm.data.stridesource:Loaded data from building UK-DALE_building_1 for fold train from 2014-01-01 00:00:06+00:00 to 2014-01-31 23:59:54+00:00.\n",
      "INFO:neuralnilm.data.stridesource:Loading data for UK-DALE_building_2...\n",
      "INFO:neuralnilm.data.stridesource:Loaded data from building UK-DALE_building_2 for fold unseen_appliances from 2013-06-01 00:00:00+01:00 to 2013-06-06 23:59:54+01:00.\n",
      "INFO:neuralnilm.data.stridesource:Loading data for UK-DALE_building_1...\n",
      "INFO:neuralnilm.data.stridesource:Loaded data from building UK-DALE_building_1 for fold unseen_activations_of_seen_appliances from 2014-02-02 00:00:00+00:00 to 2014-02-07 23:59:54+00:00.\n",
      "INFO:neuralnilm.data.stridesource:Done loading NILMTK mains data.\n"
     ]
    }
   ],
   "source": [
    "stride_source = StrideSource(\n",
    "    target_appliance=TARGET_APPLIANCE,\n",
    "    seq_length=SEQ_LENGTH,\n",
    "    filename=NILMTK_FILENAME,\n",
    "    windows=WINDOWS,\n",
    "    sample_period=SAMPLE_PERIOD,\n",
    "    stride=STRIDE\n",
    ")"
   ]
  },
  {
   "cell_type": "code",
   "execution_count": 37,
   "metadata": {
    "collapsed": false
   },
   "outputs": [],
   "source": [
    "series = stride_source._num_seqs['train'].cumsum()"
   ]
  },
  {
   "cell_type": "code",
   "execution_count": 38,
   "metadata": {
    "collapsed": false
   },
   "outputs": [
    {
     "name": "stdout",
     "output_type": "stream",
     "text": [
      "UK-DALE_building_1 1725\n"
     ]
    }
   ],
   "source": [
    "for building_name, num_seq in series.iteritems():\n",
    "    print(building_name, num_seq)"
   ]
  },
  {
   "cell_type": "code",
   "execution_count": 51,
   "metadata": {
    "collapsed": false
   },
   "outputs": [
    {
     "data": {
      "text/plain": [
       "{'building_name': 'UK-DALE_building_1',\n",
       " 'end_date': Timestamp('2014-01-01 18:46:24+0000', tz='Europe/London'),\n",
       " 'seq_i': 43,\n",
       " 'start_date': Timestamp('2014-01-01 18:20:54+0000', tz='Europe/London'),\n",
       " 'total_num_sequences': 1725}"
      ]
     },
     "execution_count": 51,
     "metadata": {},
     "output_type": "execute_result"
    }
   ],
   "source": [
    "#stride_source._seq_i['train'] = 40\n",
    "seq = stride_source.get_sequence()\n",
    "seq.metadata"
   ]
  },
  {
   "cell_type": "code",
   "execution_count": 52,
   "metadata": {
    "collapsed": false
   },
   "outputs": [],
   "source": [
    "fig, axes = plt.subplots(2, sharex=True)\n",
    "axes[0].plot(seq.target)\n",
    "axes[1].plot(seq.input)\n",
    "plt.show()"
   ]
  },
  {
   "cell_type": "code",
   "execution_count": 3,
   "metadata": {
    "collapsed": false
   },
   "outputs": [
    {
     "name": "stderr",
     "output_type": "stream",
     "text": [
      "INFO:neuralnilm.data.loadactivations:Loading NILMTK activations...\n",
      "INFO:neuralnilm.data.loadactivations:Loading kettle for UK-DALE_building_1...\n",
      "INFO:neuralnilm.data.loadactivations:Loaded 111 kettle activations from UK-DALE_building_1.\n",
      "INFO:neuralnilm.data.loadactivations:Loading microwave for UK-DALE_building_1...\n",
      "INFO:neuralnilm.data.loadactivations:Loaded 119 microwave activations from UK-DALE_building_1.\n",
      "INFO:neuralnilm.data.loadactivations:Loading washing machine for UK-DALE_building_1...\n",
      "INFO:neuralnilm.data.loadactivations:Loaded 23 washing machine activations from UK-DALE_building_1.\n",
      "INFO:neuralnilm.data.loadactivations:Loading kettle for UK-DALE_building_2...\n",
      "INFO:neuralnilm.data.loadactivations:Loaded 31 kettle activations from UK-DALE_building_2.\n",
      "INFO:neuralnilm.data.loadactivations:Loading microwave for UK-DALE_building_2...\n",
      "INFO:neuralnilm.data.loadactivations:Loaded 30 microwave activations from UK-DALE_building_2.\n",
      "INFO:neuralnilm.data.loadactivations:Loading washing machine for UK-DALE_building_2...\n",
      "INFO:neuralnilm.data.loadactivations:Loaded 2 washing machine activations from UK-DALE_building_2.\n",
      "INFO:neuralnilm.data.loadactivations:Loading kettle for UK-DALE_building_1...\n",
      "INFO:neuralnilm.data.loadactivations:Loaded 28 kettle activations from UK-DALE_building_1.\n",
      "INFO:neuralnilm.data.loadactivations:Loading microwave for UK-DALE_building_1...\n",
      "INFO:neuralnilm.data.loadactivations:Loaded 28 microwave activations from UK-DALE_building_1.\n",
      "INFO:neuralnilm.data.loadactivations:Loading washing machine for UK-DALE_building_1...\n",
      "INFO:neuralnilm.data.loadactivations:Loaded 5 washing machine activations from UK-DALE_building_1.\n",
      "INFO:neuralnilm.data.loadactivations:Done loading NILMTK activations.\n"
     ]
    }
   ],
   "source": [
    "nilmtk_activations = load_nilmtk_activations(**LOADER_CONFIG['nilmtk_activations'])"
   ]
  },
  {
   "cell_type": "code",
   "execution_count": null,
   "metadata": {
    "collapsed": true
   },
   "outputs": [],
   "source": []
  },
  {
   "cell_type": "code",
   "execution_count": 4,
   "metadata": {
    "collapsed": false
   },
   "outputs": [
    {
     "data": {
      "text/plain": [
       "['train', 'unseen_activations_of_seen_appliances', 'unseen_appliances']"
      ]
     },
     "execution_count": 4,
     "metadata": {},
     "output_type": "execute_result"
    }
   ],
   "source": [
    "nilmtk_activations.keys()"
   ]
  },
  {
   "cell_type": "code",
   "execution_count": 5,
   "metadata": {
    "collapsed": true
   },
   "outputs": [],
   "source": [
    "from neuralnilm.data.realaggregatesource import RealAggregateSource"
   ]
  },
  {
   "cell_type": "code",
   "execution_count": 6,
   "metadata": {
    "collapsed": false
   },
   "outputs": [
    {
     "name": "stderr",
     "output_type": "stream",
     "text": [
      "INFO:neuralnilm.data.realaggregatesource:Loading NILMTK mains...\n",
      "INFO:neuralnilm.data.realaggregatesource:Loading mains for UK-DALE_building_1...\n",
      "INFO:neuralnilm.data.realaggregatesource:Loaded mains data from building UK-DALE_building_1 for fold train from 2014-01-01 00:00:00+00:00 to 2014-01-31 23:59:54+00:00.\n",
      "INFO:neuralnilm.data.realaggregatesource:Loading mains for UK-DALE_building_2...\n",
      "INFO:neuralnilm.data.realaggregatesource:Loaded mains data from building UK-DALE_building_2 for fold unseen_appliances from 2013-06-01 00:00:00+01:00 to 2013-06-06 23:59:54+01:00.\n",
      "INFO:neuralnilm.data.realaggregatesource:Loading mains for UK-DALE_building_1...\n",
      "INFO:neuralnilm.data.realaggregatesource:Loaded mains data from building UK-DALE_building_1 for fold unseen_activations_of_seen_appliances from 2014-02-02 00:00:00+00:00 to 2014-02-07 23:59:54+00:00.\n",
      "INFO:neuralnilm.data.realaggregatesource:Done loading NILMTK mains data.\n",
      "INFO:neuralnilm.data.realaggregatesource:Found 89 sections without target for train UK-DALE_building_1.\n",
      "INFO:neuralnilm.data.realaggregatesource:Found 20 sections without target for unseen_activations_of_seen_appliances UK-DALE_building_1.\n",
      "INFO:neuralnilm.data.realaggregatesource:Found 24 sections without target for unseen_appliances UK-DALE_building_2.\n"
     ]
    }
   ],
   "source": [
    "ras = RealAggregateSource(\n",
    "    activations=nilmtk_activations,\n",
    "    target_appliance=TARGET_APPLIANCE,\n",
    "    seq_length=SEQ_LENGTH,\n",
    "    filename=NILMTK_FILENAME,\n",
    "    windows=WINDOWS,\n",
    "    sample_period=SAMPLE_PERIOD\n",
    ")"
   ]
  },
  {
   "cell_type": "code",
   "execution_count": 7,
   "metadata": {
    "collapsed": false
   },
   "outputs": [],
   "source": [
    "ras.target_inclusion_prob = 0.5\n",
    "for i in range(50):\n",
    "    seq = ras.get_sequence()"
   ]
  },
  {
   "cell_type": "code",
   "execution_count": 8,
   "metadata": {
    "collapsed": false
   },
   "outputs": [],
   "source": [
    "fig, axes = plt.subplots(2)\n",
    "axes[0].plot(seq.input)\n",
    "axes[1].plot(seq.target)\n",
    "plt.show()"
   ]
  },
  {
   "cell_type": "code",
   "execution_count": 9,
   "metadata": {
    "collapsed": false
   },
   "outputs": [
    {
     "data": {
      "text/plain": [
       "['name', 'building', 'appliance', 'fold']"
      ]
     },
     "execution_count": 9,
     "metadata": {},
     "output_type": "execute_result"
    }
   ],
   "source": [
    "nilmtk_activations['train']['kettle']['UK-DALE_building_1'][0]._metadata"
   ]
  },
  {
   "cell_type": "code",
   "execution_count": 10,
   "metadata": {
    "collapsed": false
   },
   "outputs": [],
   "source": [
    "source = SyntheticAggregateSource(\n",
    "    activations=nilmtk_activations,\n",
    "    target_appliance=TARGET_APPLIANCE,\n",
    "    seq_length=SEQ_LENGTH,\n",
    "    allow_incomplete_target=False,\n",
    "    sample_period=SAMPLE_PERIOD\n",
    ")"
   ]
  },
  {
   "cell_type": "code",
   "execution_count": 11,
   "metadata": {
    "collapsed": false
   },
   "outputs": [],
   "source": [
    "FOLD = 'train'\n",
    "#FOLD = 'unseen_activations_of_seen_appliances'\n",
    "#FOLD = 'unseen_appliances'\n",
    "seq = source.get_sequence(enable_all_appliances=True)"
   ]
  },
  {
   "cell_type": "code",
   "execution_count": 12,
   "metadata": {
    "collapsed": false
   },
   "outputs": [],
   "source": [
    "#all(seq.all_appliances.sum(axis=1) == seq.input[:, 0])"
   ]
  },
  {
   "cell_type": "code",
   "execution_count": 13,
   "metadata": {
    "collapsed": false
   },
   "outputs": [],
   "source": [
    "#fig, axes = plt.subplots(2, sharex=True)\n",
    "#seq.all_appliances.plot(ax=axes[0])\n",
    "#axes[1].plot(seq.input)\n",
    "#fig.suptitle(FOLD)\n",
    "#plt.show()"
   ]
  },
  {
   "cell_type": "code",
   "execution_count": 14,
   "metadata": {
    "collapsed": false
   },
   "outputs": [],
   "source": [
    "sample = source.get_batch(num_seq_per_batch=1024)"
   ]
  },
  {
   "cell_type": "code",
   "execution_count": 15,
   "metadata": {
    "collapsed": false
   },
   "outputs": [],
   "source": [
    "pipeline = DataPipeline(\n",
    "    sources=[source, ras],\n",
    "    num_seq_per_batch=64,\n",
    "    input_processing=[DivideBy(sample.before_processing.input.flatten().std()), IndependentlyCenter()],\n",
    "    target_processing=[DivideBy(sample.before_processing.target.flatten().std())]\n",
    ")"
   ]
  },
  {
   "cell_type": "markdown",
   "metadata": {},
   "source": [
    "# Disaggregation"
   ]
  },
  {
   "cell_type": "markdown",
   "metadata": {
    "collapsed": true
   },
   "source": [
    "nilmtk_disag_source = NILMTKDisagSource(\n",
    "    filename=NILMTK_FILENAME,\n",
    "    target_appliance=TARGET_APPLIANCE,\n",
    "    seq_length=SEQ_LENGTH,\n",
    "    buildings=[5],\n",
    "    window_per_building={},\n",
    "    stride=STRIDE,\n",
    "    sample_period=SAMPLE_PERIOD\n",
    ")"
   ]
  },
  {
   "cell_type": "markdown",
   "metadata": {
    "collapsed": true
   },
   "source": [
    "disag_pipeline = deepcopy(pipeline)\n",
    "disag_pipeline.source = nilmtk_disag_source"
   ]
  },
  {
   "cell_type": "markdown",
   "metadata": {
    "collapsed": true
   },
   "source": [
    "disaggregator = Disaggregator(\n",
    "    pipeline=disag_pipeline,\n",
    "    output_path=PATH  # \n",
    ")"
   ]
  },
  {
   "cell_type": "markdown",
   "metadata": {},
   "source": [
    "Disagregator ideas:\n",
    "\n",
    "* make a copy of pipeline but swap source for a NILMTKDisagSource\n",
    "* NILMTKDisagSource loads all data into memory (?) and iterates over chunks of it (get seq_length from pipeline.source.seq_length)\n",
    "* "
   ]
  },
  {
   "cell_type": "code",
   "execution_count": 16,
   "metadata": {
    "collapsed": false
   },
   "outputs": [
    {
     "data": {
      "text/plain": [
       "{'pipeline': {'input_processing': [{'divisor': 605.65094, 'name': 'DivideBy'},\n",
       "   {'name': 'IndependentlyCenter'}],\n",
       "  'num_seq_per_batch': 64,\n",
       "  'rng_seed': None,\n",
       "  'source_probabilities': [0.5, 0.5],\n",
       "  'sources': {0: {'allow_incomplete_distractors': True,\n",
       "    'allow_incomplete_target': False,\n",
       "    'distractor_inclusion_prob': 0.25,\n",
       "    'include_incomplete_target_in_output': True,\n",
       "    'name': 'SyntheticAggregateSource',\n",
       "    'rng_seed': None,\n",
       "    'sample_period': 6,\n",
       "    'seq_length': 256,\n",
       "    'target_appliance': 'kettle',\n",
       "    'target_inclusion_prob': 0.5,\n",
       "    'uniform_prob_of_selecting_each_building': True},\n",
       "   1: {'allow_incomplete_target': True,\n",
       "    'allow_multiple_target_activations_in_aggregate': False,\n",
       "    'filename': '/data/mine/vadeec/merged/ukdale.h5',\n",
       "    'include_incomplete_target_in_output': True,\n",
       "    'include_multiple_targets_in_output': False,\n",
       "    'name': 'RealAggregateSource',\n",
       "    'rng_seed': None,\n",
       "    'sample_period': 6,\n",
       "    'seq_length': 256,\n",
       "    'target_appliance': 'kettle',\n",
       "    'target_inclusion_prob': 0.5,\n",
       "    'uniform_prob_of_selecting_each_building': True,\n",
       "    'windows': {'train': {1: ('2014-01-01', '2014-02-01')},\n",
       "     'unseen_activations_of_seen_appliances': {1: ('2014-02-02',\n",
       "       '2014-02-08')},\n",
       "     'unseen_appliances': {2: ('2013-06-01', '2013-06-07')}}}},\n",
       "  'target_processing': [{'divisor': 426.60757, 'name': 'DivideBy'}]}}"
      ]
     },
     "execution_count": 16,
     "metadata": {},
     "output_type": "execute_result"
    }
   ],
   "source": [
    "report = pipeline.report()\n",
    "report"
   ]
  },
  {
   "cell_type": "code",
   "execution_count": 17,
   "metadata": {
    "collapsed": true
   },
   "outputs": [],
   "source": [
    "from lasagne.layers import InputLayer, RecurrentLayer, DenseLayer, ReshapeLayer\n",
    "\n",
    "def get_net_0(input_shape, target_shape=None):\n",
    "    NUM_UNITS = {\n",
    "        'dense_layer_0': 100,\n",
    "        'dense_layer_1':  50,\n",
    "        'dense_layer_2': 100\n",
    "    }\n",
    "\n",
    "    if target_shape is None:\n",
    "        target_shape = input_shape\n",
    "    \n",
    "    # Define layers\n",
    "    input_layer = InputLayer(\n",
    "        shape=input_shape\n",
    "    )\n",
    "    \n",
    "    # Dense layers\n",
    "    dense_layer_0 = DenseLayer(\n",
    "        input_layer, \n",
    "        num_units=NUM_UNITS['dense_layer_0']\n",
    "    )\n",
    "    dense_layer_1 = DenseLayer(\n",
    "        dense_layer_0, \n",
    "        num_units=NUM_UNITS['dense_layer_1']\n",
    "    )\n",
    "    dense_layer_2 = DenseLayer(\n",
    "        dense_layer_1, \n",
    "        num_units=NUM_UNITS['dense_layer_2']\n",
    "    )\n",
    "    \n",
    "    # Output\n",
    "    final_dense_layer = DenseLayer(\n",
    "        dense_layer_2,\n",
    "        num_units=target_shape[1] * target_shape[2],\n",
    "        nonlinearity=None\n",
    "    )\n",
    "    output_layer = ReshapeLayer(\n",
    "        final_dense_layer,\n",
    "        shape=target_shape\n",
    "    )\n",
    "    return output_layer"
   ]
  },
  {
   "cell_type": "code",
   "execution_count": 18,
   "metadata": {
    "collapsed": true
   },
   "outputs": [],
   "source": [
    "from neuralnilm.net import Net\n",
    "\n",
    "batch = pipeline.get_batch()\n",
    "output_layer = get_net_0(\n",
    "    batch.after_processing.input.shape, \n",
    "    batch.after_processing.target.shape\n",
    ")\n",
    "net = Net(output_layer)"
   ]
  },
  {
   "cell_type": "code",
   "execution_count": 19,
   "metadata": {
    "collapsed": false
   },
   "outputs": [],
   "source": [
    "from pymongo import MongoClient\n",
    "client = MongoClient()\n",
    "db = client.neuralnilm"
   ]
  },
  {
   "cell_type": "code",
   "execution_count": 20,
   "metadata": {
    "collapsed": false
   },
   "outputs": [
    {
     "name": "stdout",
     "output_type": "stream",
     "text": [
      "Database already has an experiment with _id == 0. Should the old experiment be deleted (both from the database and from disk)? Or quit? [Q/d] d\n"
     ]
    },
    {
     "name": "stderr",
     "output_type": "stream",
     "text": [
      "INFO:neuralnilm.trainer:Deleting documents for old experiment.\n",
      "INFO:neuralnilm.trainer:Directory exists = '~/temp/neural_nilm/output/0'\n",
      "INFO:neuralnilm.trainer:  Deleting directory.\n"
     ]
    }
   ],
   "source": [
    "from neuralnilm.trainer import Trainer\n",
    "from neuralnilm.metrics import Metrics\n",
    "\n",
    "trainer = Trainer(\n",
    "    net=net,\n",
    "    data_pipeline=pipeline,\n",
    "    experiment_id=[\"1\"],\n",
    "    metrics=Metrics(state_boundaries=[4]),\n",
    "    learning_rates={0: 1E-2},\n",
    "    repeat_callbacks=[\n",
    "        (1000, Trainer.validate)\n",
    "    ]\n",
    ")"
   ]
  },
  {
   "cell_type": "code",
   "execution_count": 21,
   "metadata": {
    "collapsed": false
   },
   "outputs": [],
   "source": [
    "report = trainer.report()\n",
    "report['data']['activations'] = LOADER_CONFIG\n",
    "from neuralnilm.utils import sanitise_dict_for_mongo\n"
   ]
  },
  {
   "cell_type": "code",
   "execution_count": 22,
   "metadata": {
    "collapsed": false
   },
   "outputs": [
    {
     "data": {
      "text/plain": [
       "{'_id': '0',\n",
       " 'data': {'activations': {'nilmtk_activations': {'appliances': ['kettle',\n",
       "     'microwave',\n",
       "     'washing machine'],\n",
       "    'filename': '/data/mine/vadeec/merged/ukdale.h5',\n",
       "    'sample_period': 6,\n",
       "    'windows': {'train': {'1': ('2014-01-01', '2014-02-01')},\n",
       "     'unseen_activations_of_seen_appliances': {'1': ('2014-02-02',\n",
       "       '2014-02-08')},\n",
       "     'unseen_appliances': {'2': ('2013-06-01', '2013-06-07')}}}},\n",
       "  'pipeline': {'input_processing': [{'divisor': 605.6509399414062,\n",
       "     'name': 'DivideBy'},\n",
       "    {'name': 'IndependentlyCenter'}],\n",
       "   'num_seq_per_batch': 64,\n",
       "   'rng_seed': None,\n",
       "   'source_probabilities': [0.5, 0.5],\n",
       "   'sources': {'0': {'allow_incomplete_distractors': True,\n",
       "     'allow_incomplete_target': False,\n",
       "     'distractor_inclusion_prob': 0.25,\n",
       "     'include_incomplete_target_in_output': True,\n",
       "     'name': 'SyntheticAggregateSource',\n",
       "     'rng_seed': None,\n",
       "     'sample_period': 6,\n",
       "     'seq_length': 256,\n",
       "     'target_appliance': 'kettle',\n",
       "     'target_inclusion_prob': 0.5,\n",
       "     'uniform_prob_of_selecting_each_building': True},\n",
       "    '1': {'allow_incomplete_target': True,\n",
       "     'allow_multiple_target_activations_in_aggregate': False,\n",
       "     'filename': '/data/mine/vadeec/merged/ukdale.h5',\n",
       "     'include_incomplete_target_in_output': True,\n",
       "     'include_multiple_targets_in_output': False,\n",
       "     'name': 'RealAggregateSource',\n",
       "     'rng_seed': None,\n",
       "     'sample_period': 6,\n",
       "     'seq_length': 256,\n",
       "     'target_appliance': 'kettle',\n",
       "     'target_inclusion_prob': 0.5,\n",
       "     'uniform_prob_of_selecting_each_building': True,\n",
       "     'windows': {'train': {'1': ('2014-01-01', '2014-02-01')},\n",
       "      'unseen_activations_of_seen_appliances': {'1': ('2014-02-02',\n",
       "        '2014-02-08')},\n",
       "      'unseen_appliances': {'2': ('2013-06-01', '2013-06-07')}}}},\n",
       "   'target_processing': [{'divisor': 426.6075744628906, 'name': 'DivideBy'}]}},\n",
       " 'trainer': {'learning_rates': {'0': 0.01},\n",
       "  'loss_aggregation_mode': 'mean',\n",
       "  'loss_func_name': 'squared_error',\n",
       "  'metrics': {'clip_to_zero': False,\n",
       "   'name': 'Metrics',\n",
       "   'state_boundaries': [4]},\n",
       "  'min_train_cost': inf,\n",
       "  'output_path': '~/temp/neural_nilm/output/0',\n",
       "  'updates_func_kwards': {},\n",
       "  'updates_func_name': 'nesterov_momentum'}}"
      ]
     },
     "execution_count": 22,
     "metadata": {},
     "output_type": "execute_result"
    }
   ],
   "source": [
    "sanitise_dict_for_mongo(report)"
   ]
  },
  {
   "cell_type": "code",
   "execution_count": 23,
   "metadata": {
    "collapsed": false
   },
   "outputs": [
    {
     "name": "stderr",
     "output_type": "stream",
     "text": [
      "INFO:neuralnilm.trainer:Starting training for 100000 iterations.\n",
      "INFO:neuralnilm.trainer:Iteration 0: Change learning rate to 1.0E-02\n",
      "INFO:neuralnilm.trainer:Compiling train cost function...\n",
      "INFO:neuralnilm.trainer:Done compiling cost function.\n"
     ]
    },
    {
     "name": "stdout",
     "output_type": "stream",
     "text": [
      "   Update # |  Train cost  | Secs per update | Source ID\n",
      "------------|--------------|-----------------|-----------\n",
      "          0 | \u001b[94m  1.151491\u001b[0m  |    1.957127     |   0"
     ]
    },
    {
     "name": "stderr",
     "output_type": "stream",
     "text": [
      "INFO:neuralnilm.net:Compiling deterministic output function...\n",
      "INFO:neuralnilm.net:Done compiling deterministic output function.\n"
     ]
    },
    {
     "name": "stdout",
     "output_type": "stream",
     "text": [
      "\n",
      "          1 |   1.324135  |    0.056861     |   0\n",
      "          2 | \u001b[94m  1.045965\u001b[0m  |    0.123030     |   1\n",
      "          3 |   1.068326  |    0.069135     |   0\n",
      "          4 |   1.130651  |    0.064761     |   0\n",
      "          5 | \u001b[94m  0.911296\u001b[0m  |    0.280271     |   1\n",
      "          6 |   1.023096  |    0.257015     |   1\n",
      "          7 |   0.985004  |    0.224272     |   1\n",
      "          8 |   1.179428  |    0.078045     |   0\n",
      "          9 |   1.116361  |    0.239936     |   1\n",
      "         10 |   1.178637  |    0.201006     |   1\n",
      "         11 |   1.207232  |    0.093344     |   0\n",
      "         12 |   1.024660  |    0.224247     |   1\n",
      "         13 |   1.401876  |    0.127714     |   0\n",
      "         14 |   1.110623  |    0.087405     |   0\n",
      "         15 |   1.029661  |    0.131245     |   0\n",
      "         16 |   1.061193  |    0.084805     |   0\n",
      "         17 |   1.161034  |    0.186160     |   1\n",
      "         18 |   1.069116  |    0.129243     |   0\n",
      "         19 |   1.155509  |    0.237673     |   1\n",
      "         20 |   1.144250  |    0.234837     |   1\n",
      "         21 | \u001b[94m  0.838749\u001b[0m  |    0.224288     |   1\n",
      "         22 |   0.949146  |    0.206843     |   1\n",
      "         23 |   1.087544  |    0.202005     |   1\n",
      "         24 |   1.097532  |    0.255225     |   1\n",
      "         25 |   1.118652  |    0.056898     |   0\n",
      "         26 |   1.125191  |    0.213962     |   1\n",
      "         27 |   0.889581  |    0.244130     |   1\n",
      "         28 | \u001b[94m  0.714415\u001b[0m  |    0.066780     |   0\n",
      "         29 |   1.007485  |    0.128718     |   0\n",
      "         30 |   1.013091  |    0.215127     |   1\n",
      "         31 |   0.968795  |    0.300126     |   1\n",
      "         32 |   1.143896  |    0.087090     |   0\n",
      "         33 |   1.093472  |    0.119194     |   0\n",
      "         34 |   1.107770  |    0.129641     |   0\n",
      "         35 |   0.966335  |    0.230916     |   1\n",
      "         36 |   0.953850  |    0.064143     |   0\n",
      "         37 |   0.859200  |    0.122077     |   0\n",
      "         38 |   1.018806  |    0.131896     |   0\n",
      "         39 |   0.980226  |    0.233253     |   1\n",
      "         40 |   1.081648  |    0.066046     |   0\n",
      "         41 |   1.257217  |    0.119821     |   0\n",
      "         42 |   0.858246  |    0.091519     |   0\n",
      "         43 |   1.117736  |    0.131389     |   0\n",
      "         44 |   1.150636  |    0.189033     |   1\n",
      "         45 |   1.094742  |    0.129817     |   0\n",
      "         46 |   0.908488  |    0.187168     |   1\n",
      "         47 |   0.870450  |    0.121786     |   0\n",
      "         48 |   0.946299  |    0.109275     |   0\n",
      "         49 |   1.204518  |    0.102627     |   0\n",
      "         50 |   0.977828  |    0.232199     |   1\n",
      "         51 |   1.189033  |    0.104720     |   0\n",
      "         52 |   1.034720  |    0.246822     |   1\n",
      "         53 | \u001b[94m  0.614236\u001b[0m  |    0.095177     |   0\n",
      "         54 |   1.091207  |    0.144944     |   0\n",
      "         55 |   1.106007  |    0.104787     |   0\n",
      "         56 |   0.919973  |    0.199767     |   1\n",
      "         57 |   1.382406  |    0.123577     |   0\n",
      "         58 |   1.030548  |    0.246353     |   1\n",
      "         59 |   0.882315  |    0.261410     |   1\n",
      "         60 |   0.905738  |    0.216496     |   1\n",
      "         61 |   0.751967  |    0.065490     |   0\n",
      "         62 |   0.738831  |    0.260045     |   1\n",
      "         63 |   1.037511  |    0.210965     |   1\n",
      "         64 |   1.021683  |    0.130837     |   0\n",
      "         65 |   0.996231  |    0.262280     |   1\n",
      "         66 |   0.830567  |    0.198037     |   1\n",
      "         67 |   1.064469  |    0.088972     |   0\n",
      "         68 |   0.892348  |    0.204108     |   1\n",
      "         69 |   0.886522  |    0.242055     |   1\n",
      "         70 |   1.047169  |    0.122399     |   0\n",
      "         71 |   1.101056  |    0.198119     |   1\n",
      "         72 |   0.880593  |    0.186361     |   1\n",
      "         73 |   0.959401  |    0.241280     |   1\n",
      "         74 |   0.831456  |    0.059218     |   0\n",
      "         75 |   1.034547  |    0.104417     |   0\n",
      "         76 |   0.913500  |    0.200183     |   1\n",
      "         77 |   0.813808  |    0.191560     |   1\n",
      "         78 |   0.829611  |    0.268386     |   1\n",
      "         79 |   0.852303  |    0.184835     |   1\n",
      "         80 |   0.948091  |    0.126051     |   0\n",
      "         81 |   0.894557  |    0.121695     |   0\n",
      "         82 |   0.876468  |    0.243044     |   1\n",
      "         83 |   0.860173  |    0.194109     |   1\n",
      "         84 |   0.857742  |    0.095217     |   0\n",
      "         85 |   0.668438  |    0.094049     |   0\n",
      "         86 |   0.931702  |    0.124151     |   0\n",
      "         87 |   1.249614  |    0.207769     |   1\n",
      "         88 |   1.143989  |    0.125267     |   0\n",
      "         89 |   0.819679  |    0.247934     |   1\n",
      "         90 |   0.841996  |    0.270035     |   1\n",
      "         91 |   0.944211  |    0.051588     |   0\n",
      "         92 |   0.798253  |    0.122377     |   0\n",
      "         93 |   0.971945  |    0.231006     |   1\n",
      "         94 |   0.783379  |    0.215490     |   1\n",
      "         95 |   0.850161  |    0.146392     |   0\n",
      "         96 |   0.758107  |    0.101239     |   0\n",
      "         97 |   0.895672  |    0.094810     |   0\n",
      "         98 |   0.956288  |    0.378514     |   1\n",
      "         99 |   0.662057  |    0.199023     |   1\n",
      "        100 |   1.008042  |    0.126077     |   0\n",
      "        101 |   0.893486  |    0.075402     |   0\n",
      "        102 |   0.761679  |    0.272491     |   1\n",
      "        103 |   0.917739  |    0.272037     |   1\n",
      "        104 |   0.631143  |    0.300296     |   1\n",
      "        105 |   1.098263  |    0.050696     |   0\n",
      "        106 |   1.011501  |    0.134676     |   0\n",
      "        107 |   0.782238  |    0.230612     |   1\n",
      "        108 |   0.924746  |    0.086535     |   0\n",
      "        109 |   0.803177  |    0.121722     |   0\n",
      "        110 |   0.907598  |    0.062906     |   0\n",
      "        111 |   1.089559  |    0.122477     |   0\n",
      "        112 |   1.015136  |    0.115836     |   0\n",
      "        113 |   1.017863  |    0.087634     |   0\n",
      "        114 |   0.647364  |    0.270108     |   1\n",
      "        115 |   0.818599  |    0.195541     |   1\n",
      "        116 |   0.950114  |    0.234440     |   1\n",
      "        117 |   0.859429  |    0.185506     |   1\n",
      "        118 |   1.007151  |    0.244148     |   1\n",
      "        119 |   0.617120  |    0.184442     |   1\n",
      "        120 |   0.913413  |    0.079501     |   0\n",
      "        121 |   0.988169  |    0.087174     |   0\n",
      "        122 |   0.993172  |    0.119047     |   0\n",
      "        123 |   0.998066  |    0.191803     |   1\n",
      "        124 |   0.909192  |    0.096097     |   0\n",
      "        125 |   0.893729  |    0.124577     |   0\n",
      "        126 |   1.037538  |    0.127485     |   0\n",
      "        127 |   0.764419  |    0.336172     |   1\n",
      "        128 |   0.954572  |    0.118571     |   0\n",
      "        129 |   0.614332  |    0.306653     |   1\n",
      "        130 |   1.095968  |    0.155490     |   0\n",
      "        131 |   0.928272  |    0.165134     |   0\n",
      "        132 |   0.899934  |    0.225655     |   1\n",
      "        133 |   0.723538  |    0.123594     |   0\n",
      "        134 |   0.731329  |    0.243852     |   1\n",
      "        135 |   1.003390  |    0.094105     |   0\n",
      "        136 |   0.832062  |    0.090891     |   0\n",
      "        137 |   1.020391  |    0.187568     |   1\n",
      "        138 |   1.026091  |    0.098135     |   0\n",
      "        139 |   1.002719  |    0.209632     |   1\n",
      "        140 |   0.885452  |    0.074712     |   0\n",
      "        141 |   0.830288  |    0.244984     |   1\n",
      "        142 |   0.893744  |    0.069488     |   0\n",
      "        143 |   0.637049  |    0.106162     |   0\n",
      "        144 |   0.874572  |    0.199721     |   1\n",
      "        145 |   0.648591  |    0.247411     |   1\n",
      "        146 |   0.898674  |    0.067390     |   0\n",
      "        147 |   0.690144  |    0.259795     |   1\n",
      "        148 |   0.852938  |    0.186069     |   1\n",
      "        149 |   0.869820  |    0.062231     |   0\n",
      "        150 |   0.903118  |    0.129013     |   0\n",
      "        151 |   0.803219  |    0.183553     |   1\n",
      "        152 |   0.936272  |    0.087703     |   0\n",
      "        153 |   0.748855  |    0.086159     |   0\n",
      "        154 |   0.789307  |    0.260191     |   1\n",
      "        155 |   0.615756  |    0.189661     |   1\n",
      "        156 |   0.735078  |    0.060884     |   0\n",
      "        157 |   0.983765  |    0.131538     |   0\n",
      "        158 |   0.829945  |    0.215060     |   1\n",
      "        159 |   0.793392  |    0.250690     |   1\n",
      "        160 |   0.632644  |    0.049134     |   0\n",
      "        161 |   0.647921  |    0.239958     |   1\n",
      "        162 |   0.982421  |    0.086614     |   0\n",
      "        163 |   0.797141  |    0.237356     |   1\n",
      "        164 |   0.770498  |    0.090742     |   0\n",
      "        165 |   0.887699  |    0.125096     |   0\n",
      "        166 |   0.847803  |    0.085829     |   0\n",
      "        167 |   0.900096  |    0.118913     |   0\n",
      "        168 | \u001b[94m  0.601431\u001b[0m  |    0.206189     |   1\n",
      "        169 |   0.675062  |    0.244853     |   1\n",
      "        170 |   0.723741  |    0.045472     |   0\n",
      "        171 |   0.618341  |    0.124927     |   0\n",
      "        172 |   0.719916  |    0.232857     |   1\n",
      "        173 |   0.822711  |    0.187802     |   1\n",
      "        174 |   0.745880  |    0.073661     |   0\n",
      "        175 |   0.846250  |    0.128886     |   0\n",
      "        176 |   0.771408  |    0.096358     |   0\n",
      "        177 |   0.747728  |    0.222853     |   1\n",
      "        178 |   0.732720  |    0.087635     |   0\n",
      "        179 |   0.852007  |    0.088893     |   0\n",
      "        180 | \u001b[94m  0.557284\u001b[0m  |    0.091076     |   0\n",
      "        181 |   0.730805  |    0.129972     |   0\n",
      "        182 |   0.713142  |    0.219810     |   1\n",
      "        183 |   0.751636  |    0.090900     |   0\n",
      "        184 |   0.701227  |    0.132275     |   0\n",
      "        185 |   0.649020  |    0.093431     |   0\n",
      "        186 |   0.654815  |    0.248009     |   1\n",
      "        187 |   0.791213  |    0.060954     |   0\n",
      "        188 |   0.710555  |    0.223843     |   1\n",
      "        189 |   0.741659  |    0.210496     |   1\n",
      "        190 |   0.761126  |    0.200644     |   1\n",
      "        191 |   0.612352  |    0.124554     |   0\n",
      "        192 |   0.748107  |    0.196141     |   1\n",
      "        193 |   0.773874  |    0.101507     |   0\n",
      "        194 |   0.848414  |    0.196443     |   1\n",
      "        195 |   0.835886  |    0.243146     |   1\n",
      "        196 |   0.694884  |    0.076396     |   0\n",
      "        197 |   0.830119  |    0.224622     |   1\n",
      "        198 |   0.720484  |    0.236732     |   1\n",
      "        199 | \u001b[94m  0.462826\u001b[0m  |    0.052691     |   0\n",
      "        200 |   0.789461  |    0.239225     |   1\n",
      "        201 |   0.572964  |    0.069444     |   0\n",
      "        202 |   0.704821  |    0.258121     |   1\n",
      "        203 |   0.721560  |    0.177884     |   1\n",
      "        204 |   0.646415  |    0.127612     |   0\n",
      "        205 |   0.758433  |    0.176301     |   1\n",
      "        206 |   0.690427  |    0.119855     |   0\n",
      "        207 |   0.720295  |    0.073062     |   0\n",
      "        208 |   0.818410  |    0.077729     |   0\n",
      "        209 |   0.902249  |    0.193526     |   1\n",
      "        210 |   0.639334  |    0.092847     |   0\n",
      "        211 |   0.722266  |    0.241235     |   1\n",
      "        212 |   0.527332  |    0.062358     |   0\n",
      "        213 |   0.883917  |    0.118646     |   0\n",
      "        214 |   0.668934  |    0.088632     |   0\n",
      "        215 |   0.612106  |    0.126221     |   0\n",
      "        216 |   0.786875  |    0.098763     |   0\n",
      "        217 |   0.510339  |    0.250839     |   1\n",
      "        218 |   0.630262  |    0.227693     |   1\n",
      "        219 |   0.609278  |    0.194986     |   1\n",
      "        220 |   0.673933  |    0.051872     |   0\n",
      "        221 |   0.670111  |    0.090280     |   0\n",
      "        222 |   0.685829  |    0.115942     |   0\n",
      "        223 |   0.674552  |    0.093335     |   0\n",
      "        224 |   0.639306  |    0.228970     |   1\n",
      "        225 |   0.586279  |    0.093296     |   0\n",
      "        226 |   0.664529  |    0.241205     |   1\n",
      "        227 |   0.694199  |    0.232357     |   1\n",
      "        228 |   0.674967  |    0.101651     |   0\n",
      "        229 |   0.667013  |    0.249313     |   1\n",
      "        230 |   0.739561  |    0.237288     |   1\n",
      "        231 |   0.601781  |    0.114104     |   0\n",
      "        232 |   0.612605  |    0.236165     |   1\n",
      "        233 |   0.541143  |    0.059594     |   0\n",
      "        234 |   0.547652  |    0.123634     |   0\n",
      "        235 |   0.613053  |    0.084562     |   0\n",
      "        236 |   0.681149  |    0.192402     |   1\n",
      "        237 |   0.531741  |    0.241126     |   1\n",
      "        238 | \u001b[94m  0.448185\u001b[0m  |    0.084168     |   0\n",
      "        239 |   0.778070  |    0.365081     |   1\n",
      "        240 |   0.552577  |    0.183496     |   1\n",
      "        241 |   0.637061  |    0.088851     |   0\n",
      "        242 |   0.916129  |    0.247119     |   1\n",
      "        243 |   0.674995  |    0.063899     |   0\n",
      "        244 |   0.573346  |    0.249440     |   1\n",
      "        245 |   0.673228  |    0.092513     |   0\n",
      "        246 |   0.738215  |    0.238685     |   1\n",
      "        247 |   0.663234  |    0.074522     |   0\n",
      "        248 |   0.783183  |    0.116663     |   0\n",
      "        249 |   0.496809  |    0.242747     |   1\n",
      "        250 |   0.654971  |    0.194516     |   1\n",
      "        251 |   0.563400  |    0.257700     |   1\n",
      "        252 |   0.791795  |    0.196520     |   1\n",
      "        253 |   0.709237  |    0.242243     |   1\n",
      "        254 |   0.769846  |    0.195997     |   1\n",
      "        255 |   0.477195  |    0.236885     |   1\n",
      "        256 |   0.612306  |    0.194404     |   1\n",
      "        257 |   0.642922  |    0.185067     |   1\n",
      "        258 |   0.550310  |    0.258042     |   1\n",
      "        259 |   0.544274  |    0.058968     |   0\n",
      "        260 |   0.620759  |    0.231683     |   1\n",
      "        261 |   0.670349  |    0.072055     |   0\n",
      "        262 |   0.758213  |    0.242683     |   1\n",
      "        263 |   0.645900  |    0.191789     |   1\n",
      "        264 |   0.578718  |    0.259087     |   1\n",
      "        265 |   0.670627  |    0.150989     |   1\n",
      "        266 |   0.590044  |    0.240749     |   1\n",
      "        267 |   0.502428  |    0.068967     |   0\n",
      "        268 |   0.551210  |    0.252351     |   1\n",
      "        269 |   0.636331  |    0.088117     |   0\n",
      "        270 |   0.735817  |    0.123659     |   0\n",
      "        271 |   0.757880  |    0.263352     |   1\n",
      "        272 |   0.509353  |    0.299382     |   1\n",
      "        273 |   0.585864  |    0.077300     |   0\n",
      "        274 |   0.502659  |    0.236174     |   1\n",
      "        275 |   0.544025  |    0.090476     |   0\n",
      "        276 |   0.753421  |    0.236849     |   1\n",
      "        277 |   0.469380  |    0.112494     |   0\n",
      "        278 |   0.571455  |    0.248912     |   1\n",
      "        279 |   0.736594  |    0.196007     |   1\n",
      "        280 |   0.475543  |    0.114484     |   0\n",
      "        281 |   0.527910  |    0.068253     |   0\n",
      "        282 |   0.554320  |    0.125443     |   0\n",
      "        283 |   0.653647  |    0.230913     |   1\n",
      "        284 |   0.645073  |    0.051099     |   0\n",
      "        285 |   0.644972  |    0.264434     |   1\n",
      "        286 |   0.521212  |    0.277112     |   1\n",
      "        287 |   0.594784  |    0.184495     |   1\n",
      "        288 |   0.588221  |    0.251285     |   1\n",
      "        289 |   0.638869  |    0.187174     |   1\n",
      "        290 |   0.453969  |    0.087870     |   0\n",
      "        291 |   0.554351  |    0.133672     |   0\n",
      "        292 |   0.664573  |    0.258563     |   1\n",
      "        293 |   0.545584  |    0.210209     |   1\n",
      "        294 |   0.510303  |    0.067323     |   0\n",
      "        295 |   0.479714  |    0.128956     |   0\n",
      "        296 |   0.616743  |    0.204073     |   1\n",
      "        297 |   0.538941  |    0.125957     |   0\n",
      "        298 |   0.503347  |    0.297234     |   1\n",
      "        299 |   0.686611  |    0.187847     |   1\n",
      "        300 |   0.491579  |    0.099861     |   0\n",
      "        301 |   0.560685  |    0.342499     |   1\n",
      "        302 |   0.616436  |    0.204052     |   1\n",
      "        303 |   0.590755  |    0.267052     |   1\n",
      "        304 |   0.477526  |    0.273630     |   1\n",
      "        305 |   0.496376  |    0.215045     |   1\n",
      "        306 |   0.616213  |    0.211054     |   1\n",
      "        307 |   0.546005  |    0.106649     |   0\n",
      "        308 |   0.673254  |    0.259477     |   1\n",
      "        309 |   0.488090  |    0.090904     |   0\n",
      "        310 |   0.637655  |    0.118462     |   0\n",
      "        311 |   0.584484  |    0.126912     |   0\n",
      "        312 |   0.707373  |    0.199464     |   1\n",
      "        313 |   0.488807  |    0.126422     |   0"
     ]
    },
    {
     "name": "stderr",
     "output_type": "stream",
     "text": [
      "/usr/local/lib/python2.7/dist-packages/sklearn/metrics/classification.py:958: UndefinedMetricWarning: F-score is ill-defined and being set to 0.0 due to no predicted samples.\n",
      "  'precision', 'predicted', average, warn_for)\n",
      "/usr/local/lib/python2.7/dist-packages/sklearn/metrics/classification.py:958: UndefinedMetricWarning: Precision is ill-defined and being set to 0.0 due to no predicted samples.\n",
      "  'precision', 'predicted', average, warn_for)\n",
      "INFO:neuralnilm.trainer:Keyboard interrupt at iteration 314.\n"
     ]
    },
    {
     "name": "stdout",
     "output_type": "stream",
     "text": [
      "\n",
      "\n",
      "------------------ OPTIONS ------------------\n",
      "d: Enter debugger.\n",
      "s: Save plots and params.\n",
      "q: Quit all experiments.\n",
      "e: Change number of epochs to train this net (currently 100000).\n",
      "c: Continue training.\n",
      "\n",
      "Please enter one or more letters: d\n",
      "ipdb> self.learning_rate\n",
      "ipdb> self.learning_rate = 1E-3\n"
     ]
    },
    {
     "name": "stderr",
     "output_type": "stream",
     "text": [
      "INFO:neuralnilm.trainer:Iteration 314: Change learning rate to 1.0E-03\n"
     ]
    },
    {
     "name": "stdout",
     "output_type": "stream",
     "text": [
      "ipdb> c\n"
     ]
    },
    {
     "name": "stderr",
     "output_type": "stream",
     "text": [
      "INFO:neuralnilm.trainer:Starting training for 100000 iterations.\n",
      "INFO:neuralnilm.trainer:Keyboard interrupt at iteration 641.\n"
     ]
    },
    {
     "name": "stdout",
     "output_type": "stream",
     "text": [
      "Please enter one or more letters: d\n",
      "ipdb> self.learning_rate = 1E-4\n"
     ]
    },
    {
     "name": "stderr",
     "output_type": "stream",
     "text": [
      "INFO:neuralnilm.trainer:Iteration 641: Change learning rate to 1.0E-04\n"
     ]
    },
    {
     "name": "stdout",
     "output_type": "stream",
     "text": [
      "ipdb> c\n"
     ]
    },
    {
     "name": "stderr",
     "output_type": "stream",
     "text": [
      "INFO:neuralnilm.trainer:Starting training for 100000 iterations.\n",
      "INFO:neuralnilm.trainer:Stopped training. Completed 100000 iterations.\n"
     ]
    }
   ],
   "source": [
    "trainer.fit(100000)"
   ]
  },
  {
   "cell_type": "code",
   "execution_count": 24,
   "metadata": {
    "collapsed": false
   },
   "outputs": [
    {
     "data": {
      "text/plain": [
       "100000"
      ]
     },
     "execution_count": 24,
     "metadata": {},
     "output_type": "execute_result"
    }
   ],
   "source": [
    "net.train_iterations"
   ]
  },
  {
   "cell_type": "code",
   "execution_count": null,
   "metadata": {
    "collapsed": true
   },
   "outputs": [],
   "source": [
    "from neuralnilm.monitor.monitor import Monitor\n",
    "\n",
    "mon = Monitor(\"0\")"
   ]
  },
  {
   "cell_type": "code",
   "execution_count": null,
   "metadata": {
    "collapsed": false
   },
   "outputs": [],
   "source": [
    "mon._plot_train_scores()"
   ]
  },
  {
   "cell_type": "code",
   "execution_count": null,
   "metadata": {
    "collapsed": false
   },
   "outputs": [],
   "source": [
    "mon._plot_validation_scores()"
   ]
  },
  {
   "cell_type": "code",
   "execution_count": null,
   "metadata": {
    "collapsed": false
   },
   "outputs": [],
   "source": [
    "mon.validation_metric_names"
   ]
  },
  {
   "cell_type": "code",
   "execution_count": null,
   "metadata": {
    "collapsed": false
   },
   "outputs": [],
   "source": [
    "mon.db.validation_scores.distinct(key='source_id')"
   ]
  },
  {
   "cell_type": "code",
   "execution_count": null,
   "metadata": {
    "collapsed": false
   },
   "outputs": [],
   "source": [
    "bool(trainer.db.train_scores.find_one({'experiment_id': trainer.experiment_id}))"
   ]
  },
  {
   "cell_type": "code",
   "execution_count": null,
   "metadata": {
    "collapsed": false
   },
   "outputs": [],
   "source": [
    "trainer.db.train_scores.delete_many?"
   ]
  },
  {
   "cell_type": "code",
   "execution_count": null,
   "metadata": {
    "collapsed": true
   },
   "outputs": [],
   "source": []
  }
 ],
 "metadata": {
  "kernelspec": {
   "display_name": "Python 2",
   "language": "python",
   "name": "python2"
  },
  "language_info": {
   "codemirror_mode": {
    "name": "ipython",
    "version": 2
   },
   "file_extension": ".py",
   "mimetype": "text/x-python",
   "name": "python",
   "nbconvert_exporter": "python",
   "pygments_lexer": "ipython2",
   "version": "2.7.9"
  }
 },
 "nbformat": 4,
 "nbformat_minor": 0
}
