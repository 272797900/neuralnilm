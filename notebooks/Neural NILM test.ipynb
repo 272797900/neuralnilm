{
 "cells": [
  {
   "cell_type": "code",
   "execution_count": 1,
   "metadata": {
    "collapsed": false
   },
   "outputs": [],
   "source": [
    "from __future__ import print_function, division\n",
    "import matplotlib.pyplot as plt\n",
    "import pandas as pd\n",
    "\n",
    "from neuralnilm.data.loadactivations import load_nilmtk_activations\n",
    "from neuralnilm.data.syntheticaggregatesource import SyntheticAggregateSource\n",
    "from neuralnilm.data.datapipeline import DataPipeline\n",
    "from neuralnilm.data.processing import DivideBy\n",
    "from neuralnilm.data.datathread import DataThread"
   ]
  },
  {
   "cell_type": "code",
   "execution_count": 2,
   "metadata": {
    "collapsed": false
   },
   "outputs": [
    {
     "name": "stderr",
     "output_type": "stream",
     "text": [
      "INFO:neuralnilm.data.loadactivations:Loading NILMTK activations...\n",
      "INFO:neuralnilm.data.loadactivations:Loading kettle for UK-DALE_building_1...\n",
      "INFO:neuralnilm.data.loadactivations:Loaded 112 kettle activations from UK-DALE_building_1.\n",
      "INFO:neuralnilm.data.loadactivations:Loading microwave for UK-DALE_building_1...\n",
      "INFO:neuralnilm.data.loadactivations:Loaded 114 microwave activations from UK-DALE_building_1.\n",
      "INFO:neuralnilm.data.loadactivations:Loading washing machine for UK-DALE_building_1...\n",
      "INFO:neuralnilm.data.loadactivations:Loaded 23 washing machine activations from UK-DALE_building_1.\n",
      "INFO:neuralnilm.data.loadactivations:Loading kettle for UK-DALE_building_2...\n",
      "INFO:neuralnilm.data.loadactivations:Loaded 31 kettle activations from UK-DALE_building_2.\n",
      "INFO:neuralnilm.data.loadactivations:Loading microwave for UK-DALE_building_2...\n",
      "INFO:neuralnilm.data.loadactivations:Loaded 31 microwave activations from UK-DALE_building_2.\n",
      "INFO:neuralnilm.data.loadactivations:Loading washing machine for UK-DALE_building_2...\n",
      "INFO:neuralnilm.data.loadactivations:Loaded 2 washing machine activations from UK-DALE_building_2.\n",
      "INFO:neuralnilm.data.loadactivations:Loading kettle for UK-DALE_building_1...\n",
      "INFO:neuralnilm.data.loadactivations:Loaded 28 kettle activations from UK-DALE_building_1.\n",
      "INFO:neuralnilm.data.loadactivations:Loading microwave for UK-DALE_building_1...\n",
      "INFO:neuralnilm.data.loadactivations:Loaded 30 microwave activations from UK-DALE_building_1.\n",
      "INFO:neuralnilm.data.loadactivations:Loading washing machine for UK-DALE_building_1...\n",
      "INFO:neuralnilm.data.loadactivations:Loaded 5 washing machine activations from UK-DALE_building_1.\n",
      "INFO:neuralnilm.data.loadactivations:Done loading NILMTK activations.\n"
     ]
    }
   ],
   "source": [
    "NILMTK_FILENAME = '/data/mine/vadeec/merged/ukdale.h5'\n",
    "TARGET_APPLIANCE = 'kettle'\n",
    "SEQ_LENGTH = 256\n",
    "SAMPLE_PERIOD = 6\n",
    "STRIDE = 4\n",
    "\n",
    "LOADER_CONFIG = {\n",
    "    'nilmtk_activations': dict(\n",
    "        appliances=['kettle', 'microwave', 'washing machine'],\n",
    "        filename=NILMTK_FILENAME,\n",
    "        sample_period=SAMPLE_PERIOD,\n",
    "        windows={\n",
    "            'train': {\n",
    "                1: (\"2014-01-01\", \"2014-02-01\")\n",
    "            },\n",
    "            'unseen_activations_of_seen_appliances': {\n",
    "                1: (\"2014-02-02\", \"2014-02-08\")                \n",
    "            },\n",
    "            'unseen_appliances': {\n",
    "                2: (\"2013-06-01\", \"2013-06-07\")\n",
    "            }\n",
    "        }\n",
    "    )\n",
    "}\n",
    "\n",
    "nilmtk_activations = load_nilmtk_activations(**LOADER_CONFIG['nilmtk_activations'])"
   ]
  },
  {
   "cell_type": "code",
   "execution_count": 3,
   "metadata": {
    "collapsed": false
   },
   "outputs": [
    {
     "data": {
      "text/plain": [
       "['train', 'unseen_activations_of_seen_appliances', 'unseen_appliances']"
      ]
     },
     "execution_count": 3,
     "metadata": {},
     "output_type": "execute_result"
    }
   ],
   "source": [
    "nilmtk_activations.keys()"
   ]
  },
  {
   "cell_type": "code",
   "execution_count": 4,
   "metadata": {
    "collapsed": false
   },
   "outputs": [],
   "source": [
    "source = SyntheticAggregateSource(\n",
    "    activations=nilmtk_activations,\n",
    "    target_appliance=TARGET_APPLIANCE,\n",
    "    seq_length=SEQ_LENGTH,\n",
    "    allow_incomplete_target=False\n",
    ")"
   ]
  },
  {
   "cell_type": "code",
   "execution_count": 5,
   "metadata": {
    "collapsed": false
   },
   "outputs": [],
   "source": [
    "FOLD = 'train'\n",
    "#FOLD = 'unseen_activations_of_seen_appliances'\n",
    "#FOLD = 'unseen_appliances'\n",
    "seq = source.get_sequence(enable_all_appliances=True)"
   ]
  },
  {
   "cell_type": "code",
   "execution_count": 6,
   "metadata": {
    "collapsed": false
   },
   "outputs": [],
   "source": [
    "#all(seq.all_appliances.sum(axis=1) == seq.input[:, 0])"
   ]
  },
  {
   "cell_type": "code",
   "execution_count": 7,
   "metadata": {
    "collapsed": false
   },
   "outputs": [],
   "source": [
    "#fig, axes = plt.subplots(2, sharex=True)\n",
    "#seq.all_appliances.plot(ax=axes[0])\n",
    "#axes[1].plot(seq.input)\n",
    "#fig.suptitle(FOLD)\n",
    "#plt.show()"
   ]
  },
  {
   "cell_type": "code",
   "execution_count": 8,
   "metadata": {
    "collapsed": false
   },
   "outputs": [],
   "source": [
    "sample = source.get_batch(num_seq_per_batch=1024)"
   ]
  },
  {
   "cell_type": "code",
   "execution_count": 9,
   "metadata": {
    "collapsed": false
   },
   "outputs": [],
   "source": [
    "pipeline = DataPipeline(\n",
    "    [source],\n",
    "    num_seq_per_batch=64,\n",
    "    input_processing=[DivideBy(sample.before_processing.input.flatten().std())],\n",
    "    target_processing=[DivideBy(sample.before_processing.target.flatten().std())]\n",
    ")"
   ]
  },
  {
   "cell_type": "markdown",
   "metadata": {},
   "source": [
    "# Disaggregation"
   ]
  },
  {
   "cell_type": "markdown",
   "metadata": {
    "collapsed": true
   },
   "source": [
    "nilmtk_disag_source = NILMTKDisagSource(\n",
    "    filename=NILMTK_FILENAME,\n",
    "    target_appliance=TARGET_APPLIANCE,\n",
    "    seq_length=SEQ_LENGTH,\n",
    "    buildings=[5],\n",
    "    window_per_building={},\n",
    "    stride=STRIDE,\n",
    "    sample_period=SAMPLE_PERIOD\n",
    ")"
   ]
  },
  {
   "cell_type": "markdown",
   "metadata": {
    "collapsed": true
   },
   "source": [
    "disag_pipeline = deepcopy(pipeline)\n",
    "disag_pipeline.source = nilmtk_disag_source"
   ]
  },
  {
   "cell_type": "markdown",
   "metadata": {
    "collapsed": true
   },
   "source": [
    "disaggregator = Disaggregator(\n",
    "    pipeline=disag_pipeline,\n",
    "    output_path=PATH  # \n",
    ")"
   ]
  },
  {
   "cell_type": "markdown",
   "metadata": {},
   "source": [
    "Disagregator ideas:\n",
    "\n",
    "* make a copy of pipeline but swap source for a NILMTKDisagSource\n",
    "* NILMTKDisagSource loads all data into memory (?) and iterates over chunks of it (get seq_length from pipeline.source.seq_length)\n",
    "* "
   ]
  },
  {
   "cell_type": "code",
   "execution_count": 10,
   "metadata": {
    "collapsed": false
   },
   "outputs": [
    {
     "data": {
      "text/plain": [
       "{'DataPipeline': {'SyntheticAggregateSource': {'allow_incomplete_distractors': True,\n",
       "   'allow_incomplete_target': False,\n",
       "   'distractor_inclusion_prob': 1.0,\n",
       "   'include_incomplete_target_in_output': True,\n",
       "   'rng_seed': None,\n",
       "   'seq_length': 256,\n",
       "   'target_appliance': 'kettle',\n",
       "   'target_inclusion_prob': 1.0,\n",
       "   'uniform_prob_of_selecting_each_model': True},\n",
       "  'input_processing': [{'DivideBy': {'divisor': 986.98462}}],\n",
       "  'num_seq_per_batch': 64,\n",
       "  'target_processing': [{'DivideBy': {'divisor': 607.1142}}]},\n",
       " 'activations': {'nilmtk_activations': {'appliances': ['kettle',\n",
       "    'microwave',\n",
       "    'washing machine'],\n",
       "   'filename': '/data/mine/vadeec/merged/ukdale.h5',\n",
       "   'sample_period': 6,\n",
       "   'windows': {'train': {1: ('2014-01-01', '2014-02-01')},\n",
       "    'unseen_activations_of_seen_appliances': {1: ('2014-02-02', '2014-02-08')},\n",
       "    'unseen_appliances': {2: ('2013-06-01', '2013-06-07')}}}}}"
      ]
     },
     "execution_count": 10,
     "metadata": {},
     "output_type": "execute_result"
    }
   ],
   "source": [
    "report = pipeline.report()\n",
    "report['activations'] = LOADER_CONFIG\n",
    "report"
   ]
  },
  {
   "cell_type": "code",
   "execution_count": 11,
   "metadata": {
    "collapsed": true
   },
   "outputs": [],
   "source": [
    "from lasagne.layers import InputLayer, RecurrentLayer, DenseLayer, ReshapeLayer\n",
    "\n",
    "def get_net_0(input_shape, target_shape=None):\n",
    "    NUM_UNITS = {\n",
    "        'dense_layer_0': 100,\n",
    "        'dense_layer_1':  50,\n",
    "        'dense_layer_2': 100\n",
    "    }\n",
    "\n",
    "    if target_shape is None:\n",
    "        target_shape = input_shape\n",
    "    \n",
    "    # Define layers\n",
    "    input_layer = InputLayer(\n",
    "        shape=input_shape\n",
    "    )\n",
    "    \n",
    "    # Dense layers\n",
    "    dense_layer_0 = DenseLayer(\n",
    "        input_layer, \n",
    "        num_units=NUM_UNITS['dense_layer_0']\n",
    "    )\n",
    "    dense_layer_1 = DenseLayer(\n",
    "        dense_layer_0, \n",
    "        num_units=NUM_UNITS['dense_layer_1']\n",
    "    )\n",
    "    dense_layer_2 = DenseLayer(\n",
    "        dense_layer_1, \n",
    "        num_units=NUM_UNITS['dense_layer_2']\n",
    "    )\n",
    "    \n",
    "    # Output\n",
    "    final_dense_layer = DenseLayer(\n",
    "        dense_layer_0,\n",
    "        num_units=target_shape[1] * target_shape[2],\n",
    "        nonlinearity=None\n",
    "    )\n",
    "    output_layer = ReshapeLayer(\n",
    "        final_dense_layer,\n",
    "        shape=target_shape\n",
    "    )\n",
    "    return output_layer"
   ]
  },
  {
   "cell_type": "code",
   "execution_count": 12,
   "metadata": {
    "collapsed": true
   },
   "outputs": [],
   "source": [
    "from neuralnilm.net import Net\n",
    "\n",
    "batch = pipeline.get_batch()\n",
    "output_layer = get_net_0(\n",
    "    batch.after_processing.input.shape, \n",
    "    batch.after_processing.target.shape\n",
    ")\n",
    "net = Net(output_layer)"
   ]
  },
  {
   "cell_type": "code",
   "execution_count": 13,
   "metadata": {
    "collapsed": false
   },
   "outputs": [],
   "source": [
    "from pymongo import MongoClient\n",
    "client = MongoClient()\n",
    "client.drop_database('neuralnilm_experiments')\n",
    "db = client.neuralnilm_experiments"
   ]
  },
  {
   "cell_type": "code",
   "execution_count": 14,
   "metadata": {
    "collapsed": false
   },
   "outputs": [
    {
     "name": "stderr",
     "output_type": "stream",
     "text": [
      "INFO:neuralnilm.trainer:Iteration 0: Change learning rate to 1.0E-02\n"
     ]
    }
   ],
   "source": [
    "from neuralnilm.trainer import Trainer\n",
    "from neuralnilm.metrics import Metrics\n",
    "\n",
    "trainer = Trainer(\n",
    "    net=net,\n",
    "    data_pipeline=pipeline,\n",
    "    db=db,\n",
    "    experiment_id=0,\n",
    "    metrics=Metrics([4]),\n",
    "    learning_rate=1E-2,\n",
    "    repeat_callbacks=[\n",
    "        ( 100, Trainer.validate)\n",
    "    ]\n",
    ")"
   ]
  },
  {
   "cell_type": "code",
   "execution_count": 15,
   "metadata": {
    "collapsed": false
   },
   "outputs": [
    {
     "name": "stderr",
     "output_type": "stream",
     "text": [
      "INFO:neuralnilm.trainer:Starting training for 400 iterations.\n",
      "INFO:neuralnilm.trainer:Compiling train cost function...\n",
      "INFO:neuralnilm.trainer:Done compiling cost function.\n",
      "INFO:neuralnilm.net:Compiling deterministic output function...\n",
      "INFO:neuralnilm.net:Done compiling deterministic output function.\n",
      "/usr/local/lib/python2.7/dist-packages/sklearn/metrics/classification.py:958: UndefinedMetricWarning: F-score is ill-defined and being set to 0.0 due to no predicted samples.\n",
      "  'precision', 'predicted', average, warn_for)\n",
      "/usr/local/lib/python2.7/dist-packages/sklearn/metrics/classification.py:958: UndefinedMetricWarning: Precision is ill-defined and being set to 0.0 due to no predicted samples.\n",
      "  'precision', 'predicted', average, warn_for)\n",
      "INFO:neuralnilm.trainer:Stopped training. Completed 400 iterations.\n"
     ]
    }
   ],
   "source": [
    "trainer.fit(400)"
   ]
  },
  {
   "cell_type": "code",
   "execution_count": 16,
   "metadata": {
    "collapsed": false
   },
   "outputs": [
    {
     "data": {
      "text/plain": [
       "400"
      ]
     },
     "execution_count": 16,
     "metadata": {},
     "output_type": "execute_result"
    }
   ],
   "source": [
    "net.train_iterations"
   ]
  },
  {
   "cell_type": "code",
   "execution_count": 17,
   "metadata": {
    "collapsed": false
   },
   "outputs": [
    {
     "data": {
      "text/plain": [
       "[{u'_id': ObjectId('55dc7f9c42c364177d7dca43'),\n",
       "  u'iteration': 0,\n",
       "  u'loss': 1.6276246617549675},\n",
       " {u'_id': ObjectId('55dc7f9c42c364177d7dca47'),\n",
       "  u'iteration': 1,\n",
       "  u'loss': 1.5228960085254801},\n",
       " {u'_id': ObjectId('55dc7f9c42c364177d7dca48'),\n",
       "  u'iteration': 2,\n",
       "  u'loss': 1.5860146993464577},\n",
       " {u'_id': ObjectId('55dc7f9c42c364177d7dca49'),\n",
       "  u'iteration': 3,\n",
       "  u'loss': 1.4338984674466222},\n",
       " {u'_id': ObjectId('55dc7f9c42c364177d7dca4a'),\n",
       "  u'iteration': 4,\n",
       "  u'loss': 1.5653352890982746},\n",
       " {u'_id': ObjectId('55dc7f9c42c364177d7dca4b'),\n",
       "  u'iteration': 5,\n",
       "  u'loss': 1.2985009795571358},\n",
       " {u'_id': ObjectId('55dc7f9c42c364177d7dca4c'),\n",
       "  u'iteration': 6,\n",
       "  u'loss': 1.2646140071012004},\n",
       " {u'_id': ObjectId('55dc7f9d42c364177d7dca4d'),\n",
       "  u'iteration': 7,\n",
       "  u'loss': 1.245193783712254},\n",
       " {u'_id': ObjectId('55dc7f9d42c364177d7dca4e'),\n",
       "  u'iteration': 8,\n",
       "  u'loss': 1.167900972993815},\n",
       " {u'_id': ObjectId('55dc7f9d42c364177d7dca4f'),\n",
       "  u'iteration': 9,\n",
       "  u'loss': 1.2287597227552924},\n",
       " {u'_id': ObjectId('55dc7f9d42c364177d7dca50'),\n",
       "  u'iteration': 10,\n",
       "  u'loss': 1.2330514425995778},\n",
       " {u'_id': ObjectId('55dc7f9d42c364177d7dca51'),\n",
       "  u'iteration': 11,\n",
       "  u'loss': 1.142843496387511},\n",
       " {u'_id': ObjectId('55dc7f9d42c364177d7dca52'),\n",
       "  u'iteration': 12,\n",
       "  u'loss': 1.0963996688972903},\n",
       " {u'_id': ObjectId('55dc7f9d42c364177d7dca53'),\n",
       "  u'iteration': 13,\n",
       "  u'loss': 1.1026101564824065},\n",
       " {u'_id': ObjectId('55dc7f9d42c364177d7dca54'),\n",
       "  u'iteration': 14,\n",
       "  u'loss': 1.049409116649597},\n",
       " {u'_id': ObjectId('55dc7f9d42c364177d7dca55'),\n",
       "  u'iteration': 15,\n",
       "  u'loss': 1.1663545080442483},\n",
       " {u'_id': ObjectId('55dc7f9d42c364177d7dca56'),\n",
       "  u'iteration': 16,\n",
       "  u'loss': 1.1212539182885255},\n",
       " {u'_id': ObjectId('55dc7f9d42c364177d7dca57'),\n",
       "  u'iteration': 17,\n",
       "  u'loss': 1.109202389347245},\n",
       " {u'_id': ObjectId('55dc7f9d42c364177d7dca58'),\n",
       "  u'iteration': 18,\n",
       "  u'loss': 1.098252074134472},\n",
       " {u'_id': ObjectId('55dc7f9d42c364177d7dca59'),\n",
       "  u'iteration': 19,\n",
       "  u'loss': 1.1175570767510021},\n",
       " {u'_id': ObjectId('55dc7f9d42c364177d7dca5a'),\n",
       "  u'iteration': 20,\n",
       "  u'loss': 1.013506863659678},\n",
       " {u'_id': ObjectId('55dc7f9d42c364177d7dca5b'),\n",
       "  u'iteration': 21,\n",
       "  u'loss': 1.1060500261543247},\n",
       " {u'_id': ObjectId('55dc7f9d42c364177d7dca5c'),\n",
       "  u'iteration': 22,\n",
       "  u'loss': 1.0681548763022233},\n",
       " {u'_id': ObjectId('55dc7f9d42c364177d7dca5d'),\n",
       "  u'iteration': 23,\n",
       "  u'loss': 1.1007735632442819},\n",
       " {u'_id': ObjectId('55dc7f9d42c364177d7dca5e'),\n",
       "  u'iteration': 24,\n",
       "  u'loss': 1.0302979882432277},\n",
       " {u'_id': ObjectId('55dc7f9d42c364177d7dca5f'),\n",
       "  u'iteration': 25,\n",
       "  u'loss': 1.121964823707091},\n",
       " {u'_id': ObjectId('55dc7f9d42c364177d7dca60'),\n",
       "  u'iteration': 26,\n",
       "  u'loss': 1.0630394779103436},\n",
       " {u'_id': ObjectId('55dc7f9d42c364177d7dca61'),\n",
       "  u'iteration': 27,\n",
       "  u'loss': 1.1280257106220088},\n",
       " {u'_id': ObjectId('55dc7f9d42c364177d7dca62'),\n",
       "  u'iteration': 28,\n",
       "  u'loss': 1.0452111008227987},\n",
       " {u'_id': ObjectId('55dc7f9d42c364177d7dca63'),\n",
       "  u'iteration': 29,\n",
       "  u'loss': 1.0631813127075636},\n",
       " {u'_id': ObjectId('55dc7f9d42c364177d7dca64'),\n",
       "  u'iteration': 30,\n",
       "  u'loss': 1.079971175285993},\n",
       " {u'_id': ObjectId('55dc7f9d42c364177d7dca65'),\n",
       "  u'iteration': 31,\n",
       "  u'loss': 0.9976013911972795},\n",
       " {u'_id': ObjectId('55dc7f9d42c364177d7dca66'),\n",
       "  u'iteration': 32,\n",
       "  u'loss': 1.06780785200116},\n",
       " {u'_id': ObjectId('55dc7f9d42c364177d7dca67'),\n",
       "  u'iteration': 33,\n",
       "  u'loss': 1.158750821269015},\n",
       " {u'_id': ObjectId('55dc7f9d42c364177d7dca68'),\n",
       "  u'iteration': 34,\n",
       "  u'loss': 1.073962187442362},\n",
       " {u'_id': ObjectId('55dc7f9d42c364177d7dca69'),\n",
       "  u'iteration': 35,\n",
       "  u'loss': 1.012230489105748},\n",
       " {u'_id': ObjectId('55dc7f9d42c364177d7dca6a'),\n",
       "  u'iteration': 36,\n",
       "  u'loss': 1.0683469995118042},\n",
       " {u'_id': ObjectId('55dc7f9d42c364177d7dca6b'),\n",
       "  u'iteration': 37,\n",
       "  u'loss': 1.170447123292639},\n",
       " {u'_id': ObjectId('55dc7f9d42c364177d7dca6c'),\n",
       "  u'iteration': 38,\n",
       "  u'loss': 1.042572024591369},\n",
       " {u'_id': ObjectId('55dc7f9d42c364177d7dca6d'),\n",
       "  u'iteration': 39,\n",
       "  u'loss': 1.0838673699721004},\n",
       " {u'_id': ObjectId('55dc7f9d42c364177d7dca6e'),\n",
       "  u'iteration': 40,\n",
       "  u'loss': 1.0285390221479813},\n",
       " {u'_id': ObjectId('55dc7f9d42c364177d7dca6f'),\n",
       "  u'iteration': 41,\n",
       "  u'loss': 1.0594328703886426},\n",
       " {u'_id': ObjectId('55dc7f9d42c364177d7dca70'),\n",
       "  u'iteration': 42,\n",
       "  u'loss': 1.056027001038244},\n",
       " {u'_id': ObjectId('55dc7f9d42c364177d7dca71'),\n",
       "  u'iteration': 43,\n",
       "  u'loss': 1.0216666482597254},\n",
       " {u'_id': ObjectId('55dc7f9d42c364177d7dca72'),\n",
       "  u'iteration': 44,\n",
       "  u'loss': 1.0544301898791046},\n",
       " {u'_id': ObjectId('55dc7f9d42c364177d7dca73'),\n",
       "  u'iteration': 45,\n",
       "  u'loss': 1.0208865224625763},\n",
       " {u'_id': ObjectId('55dc7f9e42c364177d7dca74'),\n",
       "  u'iteration': 46,\n",
       "  u'loss': 0.9862910604642418},\n",
       " {u'_id': ObjectId('55dc7f9e42c364177d7dca75'),\n",
       "  u'iteration': 47,\n",
       "  u'loss': 1.074440169738525},\n",
       " {u'_id': ObjectId('55dc7f9e42c364177d7dca76'),\n",
       "  u'iteration': 48,\n",
       "  u'loss': 1.0190938397149827},\n",
       " {u'_id': ObjectId('55dc7f9e42c364177d7dca77'),\n",
       "  u'iteration': 49,\n",
       "  u'loss': 1.0413415789213325}]"
      ]
     },
     "execution_count": 17,
     "metadata": {},
     "output_type": "execute_result"
    }
   ],
   "source": [
    "import pymongo\n",
    "list(db.train_scores.find(\n",
    "        filter={'experiment_id': 0},\n",
    "        sort=[('iteration', pymongo.ASCENDING)],\n",
    "        projection=['iteration', 'loss']\n",
    "    ).limit(50))"
   ]
  },
  {
   "cell_type": "code",
   "execution_count": 18,
   "metadata": {
    "collapsed": false
   },
   "outputs": [
    {
     "data": {
      "text/plain": [
       "[]"
      ]
     },
     "execution_count": 18,
     "metadata": {},
     "output_type": "execute_result"
    }
   ],
   "source": [
    "list(db.validation_scores.find({'fold': 'train', 'metric_type': 'classification'}).sort('iteration', pymongo.ASCENDING).limit(50))"
   ]
  },
  {
   "cell_type": "code",
   "execution_count": 19,
   "metadata": {
    "collapsed": false
   },
   "outputs": [
    {
     "data": {
      "text/plain": [
       "[{u'_id': 0, u'max_acc': None, u'max_iteration': 400}]"
      ]
     },
     "execution_count": 19,
     "metadata": {},
     "output_type": "execute_result"
    }
   ],
   "source": [
    "agg_pipeline = [\n",
    "    {\"$group\": {\n",
    "            \"_id\": \"$experiment_id\",\n",
    "            \"max_acc\": {\"$max\": \"$SyntheticAggregateSource.unseen_appliances.2_state_classification.accuracy_score\"},\n",
    "            \"max_iteration\": {\"$max\": \"$iteration\"}\n",
    "        }}\n",
    "]\n",
    "list(db.validation_scores.aggregate(agg_pipeline))"
   ]
  },
  {
   "cell_type": "code",
   "execution_count": 20,
   "metadata": {
    "collapsed": false
   },
   "outputs": [],
   "source": [
    "from monary import Monary"
   ]
  },
  {
   "cell_type": "code",
   "execution_count": 21,
   "metadata": {
    "collapsed": true
   },
   "outputs": [],
   "source": [
    "monary = Monary()"
   ]
  },
  {
   "cell_type": "code",
   "execution_count": 22,
   "metadata": {
    "collapsed": false
   },
   "outputs": [],
   "source": [
    "iterations, loss, source_id = monary.query(\n",
    "    db='neuralnilm_experiments',\n",
    "    coll='train_scores',\n",
    "    query={\n",
    "        'experiment_id': 0,\n",
    "        'iteration': {'$gt': 0}\n",
    "    },\n",
    "    fields=['iteration', 'loss', 'source_id'],\n",
    "    types=['int32', 'float32', 'int8']\n",
    ")"
   ]
  },
  {
   "cell_type": "code",
   "execution_count": 23,
   "metadata": {
    "collapsed": false
   },
   "outputs": [],
   "source": [
    "import pandas as pd\n",
    "\n",
    "df = pd.DataFrame({'loss': loss, 'source_id': source_id}, index=iterations)"
   ]
  },
  {
   "cell_type": "code",
   "execution_count": 24,
   "metadata": {
    "collapsed": false
   },
   "outputs": [],
   "source": [
    "import matplotlib.pyplot as plt\n",
    "plt.plot(df.index, df['loss'].values)\n",
    "plt.show()"
   ]
  },
  {
   "cell_type": "code",
   "execution_count": 27,
   "metadata": {
    "collapsed": true
   },
   "outputs": [],
   "source": [
    "from neuralnilm.monitor.monitor import Monitor\n",
    "\n",
    "mon = Monitor(0)"
   ]
  },
  {
   "cell_type": "code",
   "execution_count": 28,
   "metadata": {
    "collapsed": true
   },
   "outputs": [],
   "source": [
    "mon._plot_train_scores()"
   ]
  },
  {
   "cell_type": "code",
   "execution_count": 75,
   "metadata": {
    "collapsed": false
   },
   "outputs": [],
   "source": [
    "mon._plot_validation_scores()"
   ]
  },
  {
   "cell_type": "code",
   "execution_count": 30,
   "metadata": {
    "collapsed": false
   },
   "outputs": [
    {
     "data": {
      "text/plain": [
       "[u'regression.mean_squared_error',\n",
       " u'regression.relative_error_in_total_energy',\n",
       " u'regression.mean_absolute_error',\n",
       " u'classification_2_state.f1_score',\n",
       " u'classification_2_state.recall_score',\n",
       " u'classification_2_state.accuracy_score',\n",
       " u'classification_2_state.precision_score']"
      ]
     },
     "execution_count": 30,
     "metadata": {},
     "output_type": "execute_result"
    }
   ],
   "source": [
    "mon.validation_metric_names"
   ]
  },
  {
   "cell_type": "code",
   "execution_count": 33,
   "metadata": {
    "collapsed": false
   },
   "outputs": [],
   "source": [
    "df.plot?"
   ]
  },
  {
   "cell_type": "code",
   "execution_count": null,
   "metadata": {
    "collapsed": true
   },
   "outputs": [],
   "source": []
  }
 ],
 "metadata": {
  "kernelspec": {
   "display_name": "Python 2",
   "language": "python",
   "name": "python2"
  },
  "language_info": {
   "codemirror_mode": {
    "name": "ipython",
    "version": 2
   },
   "file_extension": ".py",
   "mimetype": "text/x-python",
   "name": "python",
   "nbconvert_exporter": "python",
   "pygments_lexer": "ipython2",
   "version": "2.7.9"
  }
 },
 "nbformat": 4,
 "nbformat_minor": 0
}
