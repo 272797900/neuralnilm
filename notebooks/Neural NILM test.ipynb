{
 "cells": [
  {
   "cell_type": "code",
   "execution_count": 1,
   "metadata": {
    "collapsed": false
   },
   "outputs": [],
   "source": [
    "from __future__ import print_function, division\n",
    "import matplotlib.pyplot as plt\n",
    "import pandas as pd\n",
    "\n",
    "from neuralnilm.data.loadactivations import load_nilmtk_activations\n",
    "from neuralnilm.data.syntheticaggregatesource import SyntheticAggregateSource\n",
    "from neuralnilm.data.datapipeline import DataPipeline\n",
    "from neuralnilm.data.processing import DivideBy\n",
    "from neuralnilm.data.datathread import DataThread"
   ]
  },
  {
   "cell_type": "code",
   "execution_count": 2,
   "metadata": {
    "collapsed": false
   },
   "outputs": [],
   "source": [
    "NILMTK_FILENAME = '/data/mine/vadeec/merged/ukdale.h5'\n",
    "TARGET_APPLIANCE = 'kettle'\n",
    "SEQ_LENGTH = 256\n",
    "SAMPLE_PERIOD = 6\n",
    "STRIDE = 4\n",
    "WINDOWS = {\n",
    "    'train': {\n",
    "        1: (\"2014-01-01\", \"2014-02-01\")\n",
    "    },\n",
    "    'unseen_activations_of_seen_appliances': {\n",
    "        1: (\"2014-02-02\", \"2014-02-08\")                \n",
    "    },\n",
    "    'unseen_appliances': {\n",
    "        2: (\"2013-06-01\", \"2013-06-07\")\n",
    "    }\n",
    "}\n",
    "\n",
    "LOADER_CONFIG = {\n",
    "    'nilmtk_activations': dict(\n",
    "        appliances=['kettle', 'microwave', 'washing machine'],\n",
    "        filename=NILMTK_FILENAME,\n",
    "        sample_period=SAMPLE_PERIOD,\n",
    "        windows=WINDOWS\n",
    "    )\n",
    "}\n",
    "\n"
   ]
  },
  {
   "cell_type": "code",
   "execution_count": 3,
   "metadata": {
    "collapsed": false
   },
   "outputs": [
    {
     "name": "stderr",
     "output_type": "stream",
     "text": [
      "INFO:neuralnilm.data.loadactivations:Loading NILMTK activations...\n",
      "INFO:neuralnilm.data.loadactivations:Loading kettle for UK-DALE_building_1...\n",
      "INFO:neuralnilm.data.loadactivations:Loaded 111 kettle activations from UK-DALE_building_1.\n",
      "INFO:neuralnilm.data.loadactivations:Loading microwave for UK-DALE_building_1...\n",
      "INFO:neuralnilm.data.loadactivations:Loaded 119 microwave activations from UK-DALE_building_1.\n",
      "INFO:neuralnilm.data.loadactivations:Loading washing machine for UK-DALE_building_1...\n",
      "INFO:neuralnilm.data.loadactivations:Loaded 23 washing machine activations from UK-DALE_building_1.\n",
      "INFO:neuralnilm.data.loadactivations:Loading kettle for UK-DALE_building_2...\n",
      "INFO:neuralnilm.data.loadactivations:Loaded 31 kettle activations from UK-DALE_building_2.\n",
      "INFO:neuralnilm.data.loadactivations:Loading microwave for UK-DALE_building_2...\n",
      "INFO:neuralnilm.data.loadactivations:Loaded 30 microwave activations from UK-DALE_building_2.\n",
      "INFO:neuralnilm.data.loadactivations:Loading washing machine for UK-DALE_building_2...\n",
      "INFO:neuralnilm.data.loadactivations:Loaded 2 washing machine activations from UK-DALE_building_2.\n",
      "INFO:neuralnilm.data.loadactivations:Loading kettle for UK-DALE_building_1...\n",
      "INFO:neuralnilm.data.loadactivations:Loaded 28 kettle activations from UK-DALE_building_1.\n",
      "INFO:neuralnilm.data.loadactivations:Loading microwave for UK-DALE_building_1...\n",
      "INFO:neuralnilm.data.loadactivations:Loaded 28 microwave activations from UK-DALE_building_1.\n",
      "INFO:neuralnilm.data.loadactivations:Loading washing machine for UK-DALE_building_1...\n",
      "INFO:neuralnilm.data.loadactivations:Loaded 5 washing machine activations from UK-DALE_building_1.\n",
      "INFO:neuralnilm.data.loadactivations:Done loading NILMTK activations.\n"
     ]
    }
   ],
   "source": [
    "nilmtk_activations = load_nilmtk_activations(**LOADER_CONFIG['nilmtk_activations'])"
   ]
  },
  {
   "cell_type": "code",
   "execution_count": 4,
   "metadata": {
    "collapsed": false
   },
   "outputs": [
    {
     "data": {
      "text/plain": [
       "['train', 'unseen_activations_of_seen_appliances', 'unseen_appliances']"
      ]
     },
     "execution_count": 4,
     "metadata": {},
     "output_type": "execute_result"
    }
   ],
   "source": [
    "nilmtk_activations.keys()"
   ]
  },
  {
   "cell_type": "code",
   "execution_count": 5,
   "metadata": {
    "collapsed": true
   },
   "outputs": [],
   "source": [
    "from neuralnilm.data.realaggregatesource import RealAggregateSource"
   ]
  },
  {
   "cell_type": "code",
   "execution_count": 6,
   "metadata": {
    "collapsed": false
   },
   "outputs": [
    {
     "name": "stderr",
     "output_type": "stream",
     "text": [
      "INFO:neuralnilm.data.realaggregatesource:Loading NILMTK mains...\n",
      "INFO:neuralnilm.data.realaggregatesource:Loading mains for UK-DALE_building_1...\n",
      "INFO:neuralnilm.data.realaggregatesource:Loaded mains data from building UK-DALE_building_1 for fold train from 2014-01-01 00:00:00+00:00 to 2014-01-31 23:59:54+00:00.\n",
      "INFO:neuralnilm.data.realaggregatesource:Loading mains for UK-DALE_building_2...\n",
      "INFO:neuralnilm.data.realaggregatesource:Loaded mains data from building UK-DALE_building_2 for fold unseen_appliances from 2013-06-01 00:00:00+01:00 to 2013-06-06 23:59:54+01:00.\n",
      "INFO:neuralnilm.data.realaggregatesource:Loading mains for UK-DALE_building_1...\n",
      "INFO:neuralnilm.data.realaggregatesource:Loaded mains data from building UK-DALE_building_1 for fold unseen_activations_of_seen_appliances from 2014-02-02 00:00:00+00:00 to 2014-02-07 23:59:54+00:00.\n",
      "INFO:neuralnilm.data.realaggregatesource:Done loading NILMTK mains data.\n",
      "INFO:neuralnilm.data.realaggregatesource:Found 89 sections without target for train UK-DALE_building_1.\n",
      "INFO:neuralnilm.data.realaggregatesource:Found 20 sections without target for unseen_activations_of_seen_appliances UK-DALE_building_1.\n",
      "INFO:neuralnilm.data.realaggregatesource:Found 24 sections without target for unseen_appliances UK-DALE_building_2.\n"
     ]
    }
   ],
   "source": [
    "ras = RealAggregateSource(\n",
    "    activations=nilmtk_activations,\n",
    "    target_appliance=TARGET_APPLIANCE,\n",
    "    seq_length=SEQ_LENGTH,\n",
    "    filename=NILMTK_FILENAME,\n",
    "    windows=WINDOWS,\n",
    "    sample_period=SAMPLE_PERIOD\n",
    ")"
   ]
  },
  {
   "cell_type": "code",
   "execution_count": 7,
   "metadata": {
    "collapsed": false
   },
   "outputs": [],
   "source": [
    "ras.target_inclusion_prob = 0.5\n",
    "for i in range(50):\n",
    "    seq = ras.get_sequence()"
   ]
  },
  {
   "cell_type": "code",
   "execution_count": 8,
   "metadata": {
    "collapsed": false
   },
   "outputs": [],
   "source": [
    "fig, axes = plt.subplots(2)\n",
    "axes[0].plot(seq.input)\n",
    "axes[1].plot(seq.target)\n",
    "plt.show()"
   ]
  },
  {
   "cell_type": "code",
   "execution_count": 9,
   "metadata": {
    "collapsed": false
   },
   "outputs": [
    {
     "data": {
      "text/plain": [
       "['name', 'building', 'appliance', 'fold']"
      ]
     },
     "execution_count": 9,
     "metadata": {},
     "output_type": "execute_result"
    }
   ],
   "source": [
    "nilmtk_activations['train']['kettle']['UK-DALE_building_1'][0]._metadata"
   ]
  },
  {
   "cell_type": "code",
   "execution_count": 10,
   "metadata": {
    "collapsed": false
   },
   "outputs": [],
   "source": [
    "source = SyntheticAggregateSource(\n",
    "    activations=nilmtk_activations,\n",
    "    target_appliance=TARGET_APPLIANCE,\n",
    "    seq_length=SEQ_LENGTH,\n",
    "    allow_incomplete_target=False,\n",
    "    sample_period=SAMPLE_PERIOD\n",
    ")"
   ]
  },
  {
   "cell_type": "code",
   "execution_count": 11,
   "metadata": {
    "collapsed": false
   },
   "outputs": [],
   "source": [
    "FOLD = 'train'\n",
    "#FOLD = 'unseen_activations_of_seen_appliances'\n",
    "#FOLD = 'unseen_appliances'\n",
    "seq = source.get_sequence(enable_all_appliances=True)"
   ]
  },
  {
   "cell_type": "code",
   "execution_count": 12,
   "metadata": {
    "collapsed": false
   },
   "outputs": [],
   "source": [
    "#all(seq.all_appliances.sum(axis=1) == seq.input[:, 0])"
   ]
  },
  {
   "cell_type": "code",
   "execution_count": 13,
   "metadata": {
    "collapsed": false
   },
   "outputs": [],
   "source": [
    "#fig, axes = plt.subplots(2, sharex=True)\n",
    "#seq.all_appliances.plot(ax=axes[0])\n",
    "#axes[1].plot(seq.input)\n",
    "#fig.suptitle(FOLD)\n",
    "#plt.show()"
   ]
  },
  {
   "cell_type": "code",
   "execution_count": 14,
   "metadata": {
    "collapsed": false
   },
   "outputs": [],
   "source": [
    "sample = source.get_batch(num_seq_per_batch=1024)"
   ]
  },
  {
   "cell_type": "code",
   "execution_count": 15,
   "metadata": {
    "collapsed": false
   },
   "outputs": [],
   "source": [
    "pipeline = DataPipeline(\n",
    "    sources=[source, ras],\n",
    "    num_seq_per_batch=64,\n",
    "    input_processing=[DivideBy(sample.before_processing.input.flatten().std())],\n",
    "    target_processing=[DivideBy(sample.before_processing.target.flatten().std())]\n",
    ")"
   ]
  },
  {
   "cell_type": "markdown",
   "metadata": {},
   "source": [
    "# Disaggregation"
   ]
  },
  {
   "cell_type": "markdown",
   "metadata": {
    "collapsed": true
   },
   "source": [
    "nilmtk_disag_source = NILMTKDisagSource(\n",
    "    filename=NILMTK_FILENAME,\n",
    "    target_appliance=TARGET_APPLIANCE,\n",
    "    seq_length=SEQ_LENGTH,\n",
    "    buildings=[5],\n",
    "    window_per_building={},\n",
    "    stride=STRIDE,\n",
    "    sample_period=SAMPLE_PERIOD\n",
    ")"
   ]
  },
  {
   "cell_type": "markdown",
   "metadata": {
    "collapsed": true
   },
   "source": [
    "disag_pipeline = deepcopy(pipeline)\n",
    "disag_pipeline.source = nilmtk_disag_source"
   ]
  },
  {
   "cell_type": "markdown",
   "metadata": {
    "collapsed": true
   },
   "source": [
    "disaggregator = Disaggregator(\n",
    "    pipeline=disag_pipeline,\n",
    "    output_path=PATH  # \n",
    ")"
   ]
  },
  {
   "cell_type": "markdown",
   "metadata": {},
   "source": [
    "Disagregator ideas:\n",
    "\n",
    "* make a copy of pipeline but swap source for a NILMTKDisagSource\n",
    "* NILMTKDisagSource loads all data into memory (?) and iterates over chunks of it (get seq_length from pipeline.source.seq_length)\n",
    "* "
   ]
  },
  {
   "cell_type": "code",
   "execution_count": 16,
   "metadata": {
    "collapsed": false
   },
   "outputs": [
    {
     "data": {
      "text/plain": [
       "{'DataPipeline': {'RealAggregateSource': {'allow_incomplete_target': True,\n",
       "   'allow_multiple_target_activations_in_aggregate': False,\n",
       "   'filename': '/data/mine/vadeec/merged/ukdale.h5',\n",
       "   'include_incomplete_target_in_output': True,\n",
       "   'include_multiple_targets_in_output': False,\n",
       "   'rng_seed': None,\n",
       "   'sample_period': 6,\n",
       "   'seq_length': 256,\n",
       "   'target_appliance': 'kettle',\n",
       "   'target_inclusion_prob': 0.5,\n",
       "   'uniform_prob_of_selecting_each_building': True,\n",
       "   'windows': {'train': {1: ('2014-01-01', '2014-02-01')},\n",
       "    'unseen_activations_of_seen_appliances': {1: ('2014-02-02', '2014-02-08')},\n",
       "    'unseen_appliances': {2: ('2013-06-01', '2013-06-07')}}},\n",
       "  'SyntheticAggregateSource': {'allow_incomplete_distractors': True,\n",
       "   'allow_incomplete_target': False,\n",
       "   'distractor_inclusion_prob': 1.0,\n",
       "   'include_incomplete_target_in_output': True,\n",
       "   'rng_seed': None,\n",
       "   'sample_period': 6,\n",
       "   'seq_length': 256,\n",
       "   'target_appliance': 'kettle',\n",
       "   'target_inclusion_prob': 1.0,\n",
       "   'uniform_prob_of_selecting_each_building': True},\n",
       "  'input_processing': [{'DivideBy': {'divisor': 963.23602}}],\n",
       "  'num_seq_per_batch': 64,\n",
       "  'rng_seed': None,\n",
       "  'source_probabilities': array([ 0.5,  0.5]),\n",
       "  'target_processing': [{'DivideBy': {'divisor': 602.70471}}]},\n",
       " 'activations': {'nilmtk_activations': {'appliances': ['kettle',\n",
       "    'microwave',\n",
       "    'washing machine'],\n",
       "   'filename': '/data/mine/vadeec/merged/ukdale.h5',\n",
       "   'sample_period': 6,\n",
       "   'windows': {'train': {1: ('2014-01-01', '2014-02-01')},\n",
       "    'unseen_activations_of_seen_appliances': {1: ('2014-02-02', '2014-02-08')},\n",
       "    'unseen_appliances': {2: ('2013-06-01', '2013-06-07')}}}}}"
      ]
     },
     "execution_count": 16,
     "metadata": {},
     "output_type": "execute_result"
    }
   ],
   "source": [
    "report = pipeline.report()\n",
    "report['activations'] = LOADER_CONFIG\n",
    "report"
   ]
  },
  {
   "cell_type": "code",
   "execution_count": 17,
   "metadata": {
    "collapsed": true
   },
   "outputs": [],
   "source": [
    "from lasagne.layers import InputLayer, RecurrentLayer, DenseLayer, ReshapeLayer\n",
    "\n",
    "def get_net_0(input_shape, target_shape=None):\n",
    "    NUM_UNITS = {\n",
    "        'dense_layer_0': 100,\n",
    "        'dense_layer_1':  50,\n",
    "        'dense_layer_2': 100\n",
    "    }\n",
    "\n",
    "    if target_shape is None:\n",
    "        target_shape = input_shape\n",
    "    \n",
    "    # Define layers\n",
    "    input_layer = InputLayer(\n",
    "        shape=input_shape\n",
    "    )\n",
    "    \n",
    "    # Dense layers\n",
    "    dense_layer_0 = DenseLayer(\n",
    "        input_layer, \n",
    "        num_units=NUM_UNITS['dense_layer_0']\n",
    "    )\n",
    "    dense_layer_1 = DenseLayer(\n",
    "        dense_layer_0, \n",
    "        num_units=NUM_UNITS['dense_layer_1']\n",
    "    )\n",
    "    dense_layer_2 = DenseLayer(\n",
    "        dense_layer_1, \n",
    "        num_units=NUM_UNITS['dense_layer_2']\n",
    "    )\n",
    "    \n",
    "    # Output\n",
    "    final_dense_layer = DenseLayer(\n",
    "        dense_layer_2,\n",
    "        num_units=target_shape[1] * target_shape[2],\n",
    "        nonlinearity=None\n",
    "    )\n",
    "    output_layer = ReshapeLayer(\n",
    "        final_dense_layer,\n",
    "        shape=target_shape\n",
    "    )\n",
    "    return output_layer"
   ]
  },
  {
   "cell_type": "code",
   "execution_count": 18,
   "metadata": {
    "collapsed": true
   },
   "outputs": [],
   "source": [
    "from neuralnilm.net import Net\n",
    "\n",
    "batch = pipeline.get_batch()\n",
    "output_layer = get_net_0(\n",
    "    batch.after_processing.input.shape, \n",
    "    batch.after_processing.target.shape\n",
    ")\n",
    "net = Net(output_layer)"
   ]
  },
  {
   "cell_type": "code",
   "execution_count": 19,
   "metadata": {
    "collapsed": false
   },
   "outputs": [],
   "source": [
    "from pymongo import MongoClient\n",
    "client = MongoClient()\n",
    "client.drop_database('neuralnilm')\n",
    "db = client.neuralnilm_experiments"
   ]
  },
  {
   "cell_type": "code",
   "execution_count": 20,
   "metadata": {
    "collapsed": false
   },
   "outputs": [
    {
     "name": "stderr",
     "output_type": "stream",
     "text": [
      "INFO:neuralnilm.trainer:[Errno 17] File exists: '~/temp/neural_nilm/output/0'\n"
     ]
    }
   ],
   "source": [
    "from neuralnilm.trainer import Trainer\n",
    "from neuralnilm.metrics import Metrics\n",
    "\n",
    "trainer = Trainer(\n",
    "    net=net,\n",
    "    data_pipeline=pipeline,\n",
    "    experiment_id=[\"0\"],\n",
    "    metrics=Metrics(state_boundaries=[4]),\n",
    "    learning_rates={0: 1E-2},\n",
    "    repeat_callbacks=[\n",
    "        ( 100, Trainer.validate)\n",
    "    ]\n",
    ")"
   ]
  },
  {
   "cell_type": "code",
   "execution_count": 21,
   "metadata": {
    "collapsed": false
   },
   "outputs": [
    {
     "name": "stderr",
     "output_type": "stream",
     "text": [
      "INFO:neuralnilm.trainer:Starting training for 100 iterations.\n",
      "INFO:neuralnilm.trainer:Iteration 0: Change learning rate to 1.0E-02\n",
      "INFO:neuralnilm.trainer:Compiling train cost function...\n",
      "INFO:neuralnilm.trainer:Done compiling cost function.\n"
     ]
    },
    {
     "name": "stdout",
     "output_type": "stream",
     "text": [
      "   Update # |  Train cost  | Secs per update | Source ID\n",
      "------------|--------------|-----------------|-----------\n",
      "          0 | \u001b[94m  0.789326\u001b[0m  |    2.883762     |   1"
     ]
    },
    {
     "name": "stderr",
     "output_type": "stream",
     "text": [
      "INFO:neuralnilm.net:Compiling deterministic output function...\n",
      "INFO:neuralnilm.net:Done compiling deterministic output function.\n"
     ]
    },
    {
     "name": "stdout",
     "output_type": "stream",
     "text": [
      "\n",
      "          1 | \u001b[94m  0.505262\u001b[0m  |    0.002785     |   1\n",
      "          2 | \u001b[94m  0.335411\u001b[0m  |    0.004830     |   1\n",
      "          3 |   0.494606  |    0.008642     |   1\n",
      "          4 |   0.531029  |    0.007511     |   1\n",
      "          5 |   1.121243  |    0.189981     |   0\n",
      "          6 |   0.481029  |    0.128335     |   1\n",
      "          7 |   0.542973  |    0.177978     |   1\n",
      "          8 |   1.102234  |    0.133279     |   0\n",
      "          9 |   0.464178  |    0.177825     |   1\n",
      "         10 |   1.169114  |    0.145810     |   0\n",
      "         11 |   1.181369  |    0.098941     |   0\n",
      "         12 |   0.500052  |    0.248837     |   1\n",
      "         13 |   0.543184  |    0.160620     |   1\n",
      "         14 |   0.516095  |    0.213878     |   1\n",
      "         15 |   0.512686  |    0.187284     |   1\n",
      "         16 |   1.120034  |    0.077231     |   0\n",
      "         17 |   1.138080  |    0.128809     |   0\n",
      "         18 |   1.103928  |    0.134423     |   0\n",
      "         19 |   0.607981  |    0.096383     |   1\n",
      "         20 |   1.123067  |    0.130321     |   0\n",
      "         21 |   1.105977  |    0.082021     |   0\n",
      "         22 |   0.566098  |    0.202295     |   1\n",
      "         23 |   1.071049  |    0.076674     |   0\n",
      "         24 |   1.102988  |    0.152907     |   0\n",
      "         25 |   0.391927  |    0.144898     |   1\n",
      "         26 |   1.116897  |    0.132976     |   0\n",
      "         27 |   0.531688  |    0.189668     |   1\n",
      "         28 |   1.079153  |    0.136596     |   0\n",
      "         29 |   1.109798  |    0.072643     |   0\n",
      "         30 |   0.515600  |    0.207256     |   1\n",
      "         31 |   0.522867  |    0.140468     |   1\n",
      "         32 |   1.066918  |    0.134870     |   0\n",
      "         33 |   0.499066  |    0.249710     |   1\n",
      "         34 |   1.039743  |    0.136159     |   0\n",
      "         35 |   1.033370  |    0.139638     |   0\n",
      "         36 |   1.043935  |    0.131321     |   0\n",
      "         37 |   1.151134  |    0.086720     |   0\n",
      "         38 |   0.517056  |    0.207263     |   1\n",
      "         39 |   0.472516  |    0.207971     |   1\n",
      "         40 |   1.019710  |    0.132662     |   0\n",
      "         41 |   0.439623  |    0.183869     |   1\n",
      "         42 |   0.447875  |    0.253679     |   1\n",
      "         43 |   0.482165  |    0.252728     |   1\n",
      "         44 |   1.145924  |    0.080579     |   0\n",
      "         45 |   0.502148  |    0.216964     |   1\n",
      "         46 |   1.027063  |    0.092719     |   0\n",
      "         47 |   0.621298  |    0.140254     |   1\n",
      "         48 |   0.975652  |    0.087859     |   0\n",
      "         49 |   0.941508  |    0.127147     |   0\n",
      "         50 |   0.405566  |    0.213043     |   1\n",
      "         51 |   0.484158  |    0.146637     |   1\n",
      "         52 |   0.624231  |    0.206118     |   1\n",
      "         53 |   1.160640  |    0.081560     |   0\n",
      "         54 |   0.976622  |    0.130221     |   0\n",
      "         55 |   1.030110  |    0.078645     |   0\n",
      "         56 |   0.513901  |    0.156340     |   1\n",
      "         57 |   1.078656  |    0.125725     |   0\n",
      "         58 |   1.145770  |    0.082361     |   0\n",
      "         59 |   0.498753  |    0.155288     |   1\n",
      "         60 |   0.405525  |    0.201391     |   1\n",
      "         61 |   1.045129  |    0.087972     |   0\n",
      "         62 |   0.432911  |    0.154860     |   1\n",
      "         63 |   1.097030  |    0.082892     |   0\n",
      "         64 |   0.477079  |    0.197898     |   1\n",
      "         65 |   0.502520  |    0.116521     |   1\n",
      "         66 |   0.416096  |    0.213971     |   1\n",
      "         67 |   1.083609  |    0.092660     |   0\n",
      "         68 |   0.692479  |    0.151052     |   1\n",
      "         69 |   1.101276  |    0.126926     |   0\n",
      "         70 |   0.487360  |    0.161814     |   1\n",
      "         71 |   0.573974  |    0.141883     |   1\n",
      "         72 |   1.097240  |    0.128867     |   0\n",
      "         73 |   0.397586  |    0.147596     |   1\n",
      "         74 |   1.084239  |    0.128806     |   0\n",
      "         75 |   0.429381  |    0.163531     |   1\n",
      "         76 |   0.596620  |    0.191400     |   1\n",
      "         77 |   0.414198  |    0.154595     |   1\n",
      "         78 |   0.486103  |    0.192720     |   1\n",
      "         79 |   1.076350  |    0.075657     |   0\n",
      "         80 |   0.580593  |    0.202866     |   1\n",
      "         81 |   0.568917  |    0.139988     |   1\n",
      "         82 |   1.067599  |    0.079913     |   0\n",
      "         83 |   0.572495  |    0.206125     |   1\n",
      "         84 |   1.010726  |    0.122669     |   0\n",
      "         85 |   1.081887  |    0.082008     |   0\n",
      "         86 |   0.553387  |    0.191510     |   1\n",
      "         87 |   0.538975  |    0.140809     |   1\n",
      "         88 |   0.560047  |    0.143243     |   1\n",
      "         89 |   0.496948  |    0.205130     |   1\n",
      "         90 |   1.043590  |    0.133676     |   0\n",
      "         91 |   1.016117  |    0.079424     |   0\n",
      "         92 |   1.195350  |    0.128829     |   0\n",
      "         93 |   1.029096  |    0.093564     |   0\n",
      "         94 |   0.538418  |    0.170330     |   1\n",
      "         95 |   0.537847  |    0.142548     |   1\n",
      "         96 |   0.996022  |    0.135980     |   0\n",
      "         97 |   1.086699  |    0.090163     |   0\n",
      "         98 |   0.389002  |    0.191992     |   1\n",
      "         99 |   1.010978  |    0.078547     |   0\n",
      "        100 |   0.930456  |    0.133670     |   0"
     ]
    },
    {
     "name": "stderr",
     "output_type": "stream",
     "text": [
      "/usr/local/lib/python2.7/dist-packages/sklearn/metrics/classification.py:958: UndefinedMetricWarning: F-score is ill-defined and being set to 0.0 due to no predicted samples.\n",
      "  'precision', 'predicted', average, warn_for)\n",
      "/usr/local/lib/python2.7/dist-packages/sklearn/metrics/classification.py:958: UndefinedMetricWarning: Precision is ill-defined and being set to 0.0 due to no predicted samples.\n",
      "  'precision', 'predicted', average, warn_for)\n",
      "INFO:neuralnilm.trainer:Stopped training. Completed 100 iterations.\n"
     ]
    },
    {
     "name": "stdout",
     "output_type": "stream",
     "text": [
      "\n"
     ]
    }
   ],
   "source": [
    "trainer.fit(100)"
   ]
  },
  {
   "cell_type": "code",
   "execution_count": 22,
   "metadata": {
    "collapsed": false
   },
   "outputs": [
    {
     "data": {
      "text/plain": [
       "100"
      ]
     },
     "execution_count": 22,
     "metadata": {},
     "output_type": "execute_result"
    }
   ],
   "source": [
    "net.train_iterations"
   ]
  },
  {
   "cell_type": "code",
   "execution_count": 23,
   "metadata": {
    "collapsed": true
   },
   "outputs": [],
   "source": [
    "from neuralnilm.monitor.monitor import Monitor\n",
    "\n",
    "mon = Monitor(\"0\")"
   ]
  },
  {
   "cell_type": "code",
   "execution_count": 24,
   "metadata": {
    "collapsed": false
   },
   "outputs": [],
   "source": [
    "mon._plot_train_scores()"
   ]
  },
  {
   "cell_type": "code",
   "execution_count": 36,
   "metadata": {
    "collapsed": false
   },
   "outputs": [],
   "source": [
    "mon._plot_validation_scores()"
   ]
  },
  {
   "cell_type": "code",
   "execution_count": 26,
   "metadata": {
    "collapsed": false
   },
   "outputs": [
    {
     "data": {
      "text/plain": [
       "[u'regression.mean_squared_error',\n",
       " u'regression.relative_error_in_total_energy',\n",
       " u'regression.mean_absolute_error',\n",
       " u'classification_2_state.f1_score',\n",
       " u'classification_2_state.recall_score',\n",
       " u'classification_2_state.accuracy_score',\n",
       " u'classification_2_state.precision_score']"
      ]
     },
     "execution_count": 26,
     "metadata": {},
     "output_type": "execute_result"
    }
   ],
   "source": [
    "mon.validation_metric_names"
   ]
  },
  {
   "cell_type": "code",
   "execution_count": 27,
   "metadata": {
    "collapsed": false
   },
   "outputs": [
    {
     "data": {
      "text/plain": [
       "[0, 1]"
      ]
     },
     "execution_count": 27,
     "metadata": {},
     "output_type": "execute_result"
    }
   ],
   "source": [
    "mon.db.validation_scores.distinct(key='source_id')"
   ]
  },
  {
   "cell_type": "code",
   "execution_count": null,
   "metadata": {
    "collapsed": true
   },
   "outputs": [],
   "source": []
  }
 ],
 "metadata": {
  "kernelspec": {
   "display_name": "Python 2",
   "language": "python",
   "name": "python2"
  },
  "language_info": {
   "codemirror_mode": {
    "name": "ipython",
    "version": 2
   },
   "file_extension": ".py",
   "mimetype": "text/x-python",
   "name": "python",
   "nbconvert_exporter": "python",
   "pygments_lexer": "ipython2",
   "version": "2.7.9"
  }
 },
 "nbformat": 4,
 "nbformat_minor": 0
}
