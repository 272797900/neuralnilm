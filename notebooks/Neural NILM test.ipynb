{
 "cells": [
  {
   "cell_type": "code",
   "execution_count": 1,
   "metadata": {
    "collapsed": false
   },
   "outputs": [],
   "source": [
    "from __future__ import print_function, division\n",
    "import matplotlib.pyplot as plt\n",
    "import pandas as pd\n",
    "\n",
    "from neuralnilm.data.loadactivations import load_nilmtk_activations\n",
    "from neuralnilm.data.syntheticaggregatesource import SyntheticAggregateSource\n",
    "from neuralnilm.data.datapipeline import DataPipeline\n",
    "from neuralnilm.data.processing import DivideBy\n",
    "from neuralnilm.data.datathread import DataThread"
   ]
  },
  {
   "cell_type": "code",
   "execution_count": 2,
   "metadata": {
    "collapsed": false
   },
   "outputs": [
    {
     "name": "stderr",
     "output_type": "stream",
     "text": [
      "INFO:neuralnilm.data.loadactivations:Loading NILMTK activations...\n",
      "INFO:neuralnilm.data.loadactivations:Loading kettle for UK-DALE_building_1...\n",
      "INFO:neuralnilm.data.loadactivations:Loaded 112 kettle activations from UK-DALE_building_1.\n",
      "INFO:neuralnilm.data.loadactivations:Loading microwave for UK-DALE_building_1...\n",
      "INFO:neuralnilm.data.loadactivations:Loaded 114 microwave activations from UK-DALE_building_1.\n",
      "INFO:neuralnilm.data.loadactivations:Loading washing machine for UK-DALE_building_1...\n",
      "INFO:neuralnilm.data.loadactivations:Loaded 23 washing machine activations from UK-DALE_building_1.\n",
      "INFO:neuralnilm.data.loadactivations:Loading kettle for UK-DALE_building_2...\n",
      "INFO:neuralnilm.data.loadactivations:Loaded 31 kettle activations from UK-DALE_building_2.\n",
      "INFO:neuralnilm.data.loadactivations:Loading microwave for UK-DALE_building_2...\n",
      "INFO:neuralnilm.data.loadactivations:Loaded 31 microwave activations from UK-DALE_building_2.\n",
      "INFO:neuralnilm.data.loadactivations:Loading washing machine for UK-DALE_building_2...\n",
      "INFO:neuralnilm.data.loadactivations:Loaded 2 washing machine activations from UK-DALE_building_2.\n",
      "INFO:neuralnilm.data.loadactivations:Loading kettle for UK-DALE_building_1...\n",
      "INFO:neuralnilm.data.loadactivations:Loaded 28 kettle activations from UK-DALE_building_1.\n",
      "INFO:neuralnilm.data.loadactivations:Loading microwave for UK-DALE_building_1...\n",
      "INFO:neuralnilm.data.loadactivations:Loaded 30 microwave activations from UK-DALE_building_1.\n",
      "INFO:neuralnilm.data.loadactivations:Loading washing machine for UK-DALE_building_1...\n",
      "INFO:neuralnilm.data.loadactivations:Loaded 5 washing machine activations from UK-DALE_building_1.\n",
      "INFO:neuralnilm.data.loadactivations:Done loading NILMTK activations.\n"
     ]
    }
   ],
   "source": [
    "NILMTK_FILENAME = '/data/mine/vadeec/merged/ukdale.h5'\n",
    "TARGET_APPLIANCE = 'kettle'\n",
    "SEQ_LENGTH = 256\n",
    "SAMPLE_PERIOD = 6\n",
    "STRIDE = 4\n",
    "\n",
    "LOADER_CONFIG = {\n",
    "    'nilmtk_activations': dict(\n",
    "        appliances=['kettle', 'microwave', 'washing machine'],\n",
    "        filename=NILMTK_FILENAME,\n",
    "        sample_period=SAMPLE_PERIOD,\n",
    "        windows={\n",
    "            'train': {\n",
    "                1: (\"2014-01-01\", \"2014-02-01\")\n",
    "            },\n",
    "            'unseen_activations_of_seen_appliances': {\n",
    "                1: (\"2014-02-02\", \"2014-02-08\")                \n",
    "            },\n",
    "            'unseen_appliances': {\n",
    "                2: (\"2013-06-01\", \"2013-06-07\")\n",
    "            }\n",
    "        }\n",
    "    )\n",
    "}\n",
    "\n",
    "nilmtk_activations = load_nilmtk_activations(**LOADER_CONFIG['nilmtk_activations'])"
   ]
  },
  {
   "cell_type": "code",
   "execution_count": 3,
   "metadata": {
    "collapsed": false
   },
   "outputs": [
    {
     "data": {
      "text/plain": [
       "['train', 'unseen_activations_of_seen_appliances', 'unseen_appliances']"
      ]
     },
     "execution_count": 3,
     "metadata": {},
     "output_type": "execute_result"
    }
   ],
   "source": [
    "nilmtk_activations.keys()"
   ]
  },
  {
   "cell_type": "code",
   "execution_count": 4,
   "metadata": {
    "collapsed": false
   },
   "outputs": [],
   "source": [
    "source = SyntheticAggregateSource(\n",
    "    activations=nilmtk_activations,\n",
    "    target_appliance=TARGET_APPLIANCE,\n",
    "    seq_length=SEQ_LENGTH,\n",
    "    allow_incomplete_target=False\n",
    ")"
   ]
  },
  {
   "cell_type": "code",
   "execution_count": 5,
   "metadata": {
    "collapsed": false
   },
   "outputs": [],
   "source": [
    "FOLD = 'train'\n",
    "#FOLD = 'unseen_activations_of_seen_appliances'\n",
    "#FOLD = 'unseen_appliances'\n",
    "seq = source.get_sequence(enable_all_appliances=True)"
   ]
  },
  {
   "cell_type": "code",
   "execution_count": 6,
   "metadata": {
    "collapsed": false
   },
   "outputs": [],
   "source": [
    "#all(seq.all_appliances.sum(axis=1) == seq.input[:, 0])"
   ]
  },
  {
   "cell_type": "code",
   "execution_count": 7,
   "metadata": {
    "collapsed": false
   },
   "outputs": [],
   "source": [
    "#fig, axes = plt.subplots(2, sharex=True)\n",
    "#seq.all_appliances.plot(ax=axes[0])\n",
    "#axes[1].plot(seq.input)\n",
    "#fig.suptitle(FOLD)\n",
    "#plt.show()"
   ]
  },
  {
   "cell_type": "code",
   "execution_count": 8,
   "metadata": {
    "collapsed": false
   },
   "outputs": [],
   "source": [
    "sample = source.get_batch(num_seq_per_batch=1024)"
   ]
  },
  {
   "cell_type": "code",
   "execution_count": 9,
   "metadata": {
    "collapsed": false
   },
   "outputs": [],
   "source": [
    "pipeline = DataPipeline(\n",
    "    [source],\n",
    "    num_seq_per_batch=64,\n",
    "    input_processing=[DivideBy(sample.before_processing.input.flatten().std())],\n",
    "    target_processing=[DivideBy(sample.before_processing.target.flatten().std())]\n",
    ")"
   ]
  },
  {
   "cell_type": "markdown",
   "metadata": {},
   "source": [
    "# Disaggregation"
   ]
  },
  {
   "cell_type": "markdown",
   "metadata": {
    "collapsed": true
   },
   "source": [
    "nilmtk_disag_source = NILMTKDisagSource(\n",
    "    filename=NILMTK_FILENAME,\n",
    "    target_appliance=TARGET_APPLIANCE,\n",
    "    seq_length=SEQ_LENGTH,\n",
    "    buildings=[5],\n",
    "    window_per_building={},\n",
    "    stride=STRIDE,\n",
    "    sample_period=SAMPLE_PERIOD\n",
    ")"
   ]
  },
  {
   "cell_type": "markdown",
   "metadata": {
    "collapsed": true
   },
   "source": [
    "disag_pipeline = deepcopy(pipeline)\n",
    "disag_pipeline.source = nilmtk_disag_source"
   ]
  },
  {
   "cell_type": "markdown",
   "metadata": {
    "collapsed": true
   },
   "source": [
    "disaggregator = Disaggregator(\n",
    "    pipeline=disag_pipeline,\n",
    "    output_path=PATH  # \n",
    ")"
   ]
  },
  {
   "cell_type": "markdown",
   "metadata": {},
   "source": [
    "Disagregator ideas:\n",
    "\n",
    "* make a copy of pipeline but swap source for a NILMTKDisagSource\n",
    "* NILMTKDisagSource loads all data into memory (?) and iterates over chunks of it (get seq_length from pipeline.source.seq_length)\n",
    "* "
   ]
  },
  {
   "cell_type": "code",
   "execution_count": 10,
   "metadata": {
    "collapsed": false
   },
   "outputs": [
    {
     "data": {
      "text/plain": [
       "{'DataPipeline': {'SyntheticAggregateSource': {'allow_incomplete_distractors': True,\n",
       "   'allow_incomplete_target': False,\n",
       "   'distractor_inclusion_prob': 1.0,\n",
       "   'include_incomplete_target_in_output': True,\n",
       "   'rng_seed': None,\n",
       "   'seq_length': 256,\n",
       "   'target_appliance': 'kettle',\n",
       "   'target_inclusion_prob': 1.0,\n",
       "   'uniform_prob_of_selecting_each_model': True},\n",
       "  'input_processing': [{'DivideBy': {'divisor': 975.57312}}],\n",
       "  'num_seq_per_batch': 64,\n",
       "  'target_processing': [{'DivideBy': {'divisor': 600.12152}}]},\n",
       " 'activations': {'nilmtk_activations': {'appliances': ['kettle',\n",
       "    'microwave',\n",
       "    'washing machine'],\n",
       "   'filename': '/data/mine/vadeec/merged/ukdale.h5',\n",
       "   'sample_period': 6,\n",
       "   'windows': {'train': {1: ('2014-01-01', '2014-02-01')},\n",
       "    'unseen_activations_of_seen_appliances': {1: ('2014-02-02', '2014-02-08')},\n",
       "    'unseen_appliances': {2: ('2013-06-01', '2013-06-07')}}}}}"
      ]
     },
     "execution_count": 10,
     "metadata": {},
     "output_type": "execute_result"
    }
   ],
   "source": [
    "report = pipeline.report()\n",
    "report['activations'] = LOADER_CONFIG\n",
    "report"
   ]
  },
  {
   "cell_type": "code",
   "execution_count": 11,
   "metadata": {
    "collapsed": true
   },
   "outputs": [],
   "source": [
    "from lasagne.layers import InputLayer, RecurrentLayer, DenseLayer, ReshapeLayer\n",
    "\n",
    "def get_net_0(input_shape, target_shape=None):\n",
    "    NUM_UNITS = {\n",
    "        'dense_layer_0': 100,\n",
    "        'dense_layer_1':  50,\n",
    "        'dense_layer_2': 100\n",
    "    }\n",
    "\n",
    "    if target_shape is None:\n",
    "        target_shape = input_shape\n",
    "    \n",
    "    # Define layers\n",
    "    input_layer = InputLayer(\n",
    "        shape=input_shape\n",
    "    )\n",
    "    \n",
    "    # Dense layers\n",
    "    dense_layer_0 = DenseLayer(\n",
    "        input_layer, \n",
    "        num_units=NUM_UNITS['dense_layer_0']\n",
    "    )\n",
    "    dense_layer_1 = DenseLayer(\n",
    "        dense_layer_0, \n",
    "        num_units=NUM_UNITS['dense_layer_1']\n",
    "    )\n",
    "    dense_layer_2 = DenseLayer(\n",
    "        dense_layer_1, \n",
    "        num_units=NUM_UNITS['dense_layer_2']\n",
    "    )\n",
    "    \n",
    "    # Output\n",
    "    final_dense_layer = DenseLayer(\n",
    "        dense_layer_0,\n",
    "        num_units=target_shape[1] * target_shape[2],\n",
    "        nonlinearity=None\n",
    "    )\n",
    "    output_layer = ReshapeLayer(\n",
    "        final_dense_layer,\n",
    "        shape=target_shape\n",
    "    )\n",
    "    return output_layer"
   ]
  },
  {
   "cell_type": "code",
   "execution_count": 12,
   "metadata": {
    "collapsed": true
   },
   "outputs": [],
   "source": [
    "from neuralnilm.net import Net\n",
    "\n",
    "batch = pipeline.get_batch()\n",
    "output_layer = get_net_0(\n",
    "    batch.after_processing.input.shape, \n",
    "    batch.after_processing.target.shape\n",
    ")\n",
    "net = Net(output_layer)"
   ]
  },
  {
   "cell_type": "code",
   "execution_count": 14,
   "metadata": {
    "collapsed": false
   },
   "outputs": [],
   "source": [
    "from pymongo import MongoClient\n",
    "client = MongoClient()\n",
    "client.drop_database('neuralnilm_experiments')\n",
    "db = client.neuralnilm_experiments"
   ]
  },
  {
   "cell_type": "code",
   "execution_count": 15,
   "metadata": {
    "collapsed": false
   },
   "outputs": [
    {
     "name": "stderr",
     "output_type": "stream",
     "text": [
      "INFO:neuralnilm.trainer:Iteration 0: Change learning rate to 1.0E-02\n"
     ]
    }
   ],
   "source": [
    "from neuralnilm.trainer import Trainer\n",
    "from neuralnilm.metrics import Metrics\n",
    "\n",
    "trainer = Trainer(\n",
    "    net=net,\n",
    "    data_pipeline=pipeline,\n",
    "    db=db,\n",
    "    experiment_id=0,\n",
    "    metrics=Metrics([4]),\n",
    "    learning_rate=1E-2,\n",
    "    repeat_callbacks=[\n",
    "        ( 100, Trainer.validate)\n",
    "    ]\n",
    ")"
   ]
  },
  {
   "cell_type": "code",
   "execution_count": 16,
   "metadata": {
    "collapsed": false
   },
   "outputs": [
    {
     "name": "stderr",
     "output_type": "stream",
     "text": [
      "INFO:neuralnilm.trainer:Starting training for 400 iterations.\n",
      "INFO:neuralnilm.trainer:Compiling train cost function...\n",
      "INFO:neuralnilm.trainer:Done compiling cost function.\n",
      "INFO:neuralnilm.net:Compiling deterministic output function...\n",
      "INFO:neuralnilm.net:Done compiling deterministic output function.\n",
      "/usr/local/lib/python2.7/dist-packages/sklearn/metrics/classification.py:958: UndefinedMetricWarning: F-score is ill-defined and being set to 0.0 due to no predicted samples.\n",
      "  'precision', 'predicted', average, warn_for)\n",
      "/usr/local/lib/python2.7/dist-packages/sklearn/metrics/classification.py:958: UndefinedMetricWarning: Precision is ill-defined and being set to 0.0 due to no predicted samples.\n",
      "  'precision', 'predicted', average, warn_for)\n",
      "INFO:neuralnilm.trainer:Stopped training. Completed 400 iterations.\n"
     ]
    }
   ],
   "source": [
    "trainer.fit(400)"
   ]
  },
  {
   "cell_type": "code",
   "execution_count": 17,
   "metadata": {
    "collapsed": false
   },
   "outputs": [
    {
     "data": {
      "text/plain": [
       "400"
      ]
     },
     "execution_count": 17,
     "metadata": {},
     "output_type": "execute_result"
    }
   ],
   "source": [
    "net.train_iterations"
   ]
  },
  {
   "cell_type": "code",
   "execution_count": 18,
   "metadata": {
    "collapsed": false
   },
   "outputs": [
    {
     "data": {
      "text/plain": [
       "[{u'_id': ObjectId('55e002aa42c3645ecf1beb8b'),\n",
       "  u'iteration': 0,\n",
       "  u'loss': 1.8983802190782708},\n",
       " {u'_id': ObjectId('55e002ad42c3645ecf1beb8f'),\n",
       "  u'iteration': 1,\n",
       "  u'loss': 1.6769848460853694},\n",
       " {u'_id': ObjectId('55e002ad42c3645ecf1beb90'),\n",
       "  u'iteration': 2,\n",
       "  u'loss': 1.6601023141916618},\n",
       " {u'_id': ObjectId('55e002ad42c3645ecf1beb91'),\n",
       "  u'iteration': 3,\n",
       "  u'loss': 1.8539366072864485},\n",
       " {u'_id': ObjectId('55e002ad42c3645ecf1beb92'),\n",
       "  u'iteration': 4,\n",
       "  u'loss': 1.5346205329118003},\n",
       " {u'_id': ObjectId('55e002ad42c3645ecf1beb93'),\n",
       "  u'iteration': 5,\n",
       "  u'loss': 1.4149332883122396},\n",
       " {u'_id': ObjectId('55e002ad42c3645ecf1beb94'),\n",
       "  u'iteration': 6,\n",
       "  u'loss': 1.3723522210222021},\n",
       " {u'_id': ObjectId('55e002ad42c3645ecf1beb95'),\n",
       "  u'iteration': 7,\n",
       "  u'loss': 1.340290865240492},\n",
       " {u'_id': ObjectId('55e002ad42c3645ecf1beb96'),\n",
       "  u'iteration': 8,\n",
       "  u'loss': 1.2549216288415586},\n",
       " {u'_id': ObjectId('55e002ad42c3645ecf1beb97'),\n",
       "  u'iteration': 9,\n",
       "  u'loss': 1.1648280851234185},\n",
       " {u'_id': ObjectId('55e002ad42c3645ecf1beb98'),\n",
       "  u'iteration': 10,\n",
       "  u'loss': 1.071735356871714},\n",
       " {u'_id': ObjectId('55e002ad42c3645ecf1beb99'),\n",
       "  u'iteration': 11,\n",
       "  u'loss': 1.27202033842942},\n",
       " {u'_id': ObjectId('55e002ad42c3645ecf1beb9a'),\n",
       "  u'iteration': 12,\n",
       "  u'loss': 1.2189512303590844},\n",
       " {u'_id': ObjectId('55e002ad42c3645ecf1beb9b'),\n",
       "  u'iteration': 13,\n",
       "  u'loss': 1.1958431662398654},\n",
       " {u'_id': ObjectId('55e002ad42c3645ecf1beb9c'),\n",
       "  u'iteration': 14,\n",
       "  u'loss': 1.1388567721912752},\n",
       " {u'_id': ObjectId('55e002ad42c3645ecf1beb9d'),\n",
       "  u'iteration': 15,\n",
       "  u'loss': 1.2506148035913383},\n",
       " {u'_id': ObjectId('55e002ad42c3645ecf1beb9e'),\n",
       "  u'iteration': 16,\n",
       "  u'loss': 1.170993778104276},\n",
       " {u'_id': ObjectId('55e002ad42c3645ecf1beb9f'),\n",
       "  u'iteration': 17,\n",
       "  u'loss': 1.1482756888400063},\n",
       " {u'_id': ObjectId('55e002ad42c3645ecf1beba0'),\n",
       "  u'iteration': 18,\n",
       "  u'loss': 1.0934488622548266},\n",
       " {u'_id': ObjectId('55e002ad42c3645ecf1beba1'),\n",
       "  u'iteration': 19,\n",
       "  u'loss': 1.1812629825423953},\n",
       " {u'_id': ObjectId('55e002ad42c3645ecf1beba2'),\n",
       "  u'iteration': 20,\n",
       "  u'loss': 1.181110492030272},\n",
       " {u'_id': ObjectId('55e002ad42c3645ecf1beba3'),\n",
       "  u'iteration': 21,\n",
       "  u'loss': 1.1930761289584715},\n",
       " {u'_id': ObjectId('55e002ad42c3645ecf1beba4'),\n",
       "  u'iteration': 22,\n",
       "  u'loss': 1.103978393282415},\n",
       " {u'_id': ObjectId('55e002ad42c3645ecf1beba5'),\n",
       "  u'iteration': 23,\n",
       "  u'loss': 1.1190356606333784},\n",
       " {u'_id': ObjectId('55e002ad42c3645ecf1beba6'),\n",
       "  u'iteration': 24,\n",
       "  u'loss': 1.187060467725379},\n",
       " {u'_id': ObjectId('55e002ad42c3645ecf1beba7'),\n",
       "  u'iteration': 25,\n",
       "  u'loss': 1.0244079171270029},\n",
       " {u'_id': ObjectId('55e002ad42c3645ecf1beba8'),\n",
       "  u'iteration': 26,\n",
       "  u'loss': 1.0675079618561314},\n",
       " {u'_id': ObjectId('55e002ad42c3645ecf1beba9'),\n",
       "  u'iteration': 27,\n",
       "  u'loss': 1.1584307490364043},\n",
       " {u'_id': ObjectId('55e002ad42c3645ecf1bebaa'),\n",
       "  u'iteration': 28,\n",
       "  u'loss': 1.0878263808073634},\n",
       " {u'_id': ObjectId('55e002ad42c3645ecf1bebab'),\n",
       "  u'iteration': 29,\n",
       "  u'loss': 1.1311407912291143},\n",
       " {u'_id': ObjectId('55e002ad42c3645ecf1bebac'),\n",
       "  u'iteration': 30,\n",
       "  u'loss': 1.0604703462882863},\n",
       " {u'_id': ObjectId('55e002ad42c3645ecf1bebad'),\n",
       "  u'iteration': 31,\n",
       "  u'loss': 1.018004625222799},\n",
       " {u'_id': ObjectId('55e002ad42c3645ecf1bebae'),\n",
       "  u'iteration': 32,\n",
       "  u'loss': 1.0408365345470743},\n",
       " {u'_id': ObjectId('55e002ad42c3645ecf1bebaf'),\n",
       "  u'iteration': 33,\n",
       "  u'loss': 1.1646746899631504},\n",
       " {u'_id': ObjectId('55e002ae42c3645ecf1bebb0'),\n",
       "  u'iteration': 34,\n",
       "  u'loss': 1.0948389997972459},\n",
       " {u'_id': ObjectId('55e002ae42c3645ecf1bebb1'),\n",
       "  u'iteration': 35,\n",
       "  u'loss': 1.1521258576950102},\n",
       " {u'_id': ObjectId('55e002ae42c3645ecf1bebb2'),\n",
       "  u'iteration': 36,\n",
       "  u'loss': 1.0947640710463418},\n",
       " {u'_id': ObjectId('55e002ae42c3645ecf1bebb3'),\n",
       "  u'iteration': 37,\n",
       "  u'loss': 1.0171740213370313},\n",
       " {u'_id': ObjectId('55e002ae42c3645ecf1bebb4'),\n",
       "  u'iteration': 38,\n",
       "  u'loss': 1.0810505858857002},\n",
       " {u'_id': ObjectId('55e002ae42c3645ecf1bebb5'),\n",
       "  u'iteration': 39,\n",
       "  u'loss': 1.1276065888618123},\n",
       " {u'_id': ObjectId('55e002ae42c3645ecf1bebb6'),\n",
       "  u'iteration': 40,\n",
       "  u'loss': 1.1113864188051117},\n",
       " {u'_id': ObjectId('55e002ae42c3645ecf1bebb7'),\n",
       "  u'iteration': 41,\n",
       "  u'loss': 1.1111029039902425},\n",
       " {u'_id': ObjectId('55e002ae42c3645ecf1bebb8'),\n",
       "  u'iteration': 42,\n",
       "  u'loss': 1.1175091234901309},\n",
       " {u'_id': ObjectId('55e002ae42c3645ecf1bebb9'),\n",
       "  u'iteration': 43,\n",
       "  u'loss': 1.0381426493224657},\n",
       " {u'_id': ObjectId('55e002ae42c3645ecf1bebba'),\n",
       "  u'iteration': 44,\n",
       "  u'loss': 1.1736017711227695},\n",
       " {u'_id': ObjectId('55e002ae42c3645ecf1bebbb'),\n",
       "  u'iteration': 45,\n",
       "  u'loss': 1.168804053256759},\n",
       " {u'_id': ObjectId('55e002ae42c3645ecf1bebbc'),\n",
       "  u'iteration': 46,\n",
       "  u'loss': 1.0952006057934578},\n",
       " {u'_id': ObjectId('55e002ae42c3645ecf1bebbd'),\n",
       "  u'iteration': 47,\n",
       "  u'loss': 1.0628975786448047},\n",
       " {u'_id': ObjectId('55e002ae42c3645ecf1bebbe'),\n",
       "  u'iteration': 48,\n",
       "  u'loss': 0.9695633366956546},\n",
       " {u'_id': ObjectId('55e002ae42c3645ecf1bebbf'),\n",
       "  u'iteration': 49,\n",
       "  u'loss': 1.0078128792276169}]"
      ]
     },
     "execution_count": 18,
     "metadata": {},
     "output_type": "execute_result"
    }
   ],
   "source": [
    "import pymongo\n",
    "list(db.train_scores.find(\n",
    "        filter={'experiment_id': 0},\n",
    "        sort=[('iteration', pymongo.ASCENDING)],\n",
    "        projection=['iteration', 'loss']\n",
    "    ).limit(50))"
   ]
  },
  {
   "cell_type": "code",
   "execution_count": 19,
   "metadata": {
    "collapsed": false
   },
   "outputs": [
    {
     "data": {
      "text/plain": [
       "[]"
      ]
     },
     "execution_count": 19,
     "metadata": {},
     "output_type": "execute_result"
    }
   ],
   "source": [
    "list(db.validation_scores.find({'fold': 'train', 'metric_type': 'classification'}).sort('iteration', pymongo.ASCENDING).limit(50))"
   ]
  },
  {
   "cell_type": "code",
   "execution_count": 20,
   "metadata": {
    "collapsed": false
   },
   "outputs": [
    {
     "data": {
      "text/plain": [
       "[{u'_id': 0, u'max_acc': None, u'max_iteration': 400}]"
      ]
     },
     "execution_count": 20,
     "metadata": {},
     "output_type": "execute_result"
    }
   ],
   "source": [
    "agg_pipeline = [\n",
    "    {\"$group\": {\n",
    "            \"_id\": \"$experiment_id\",\n",
    "            \"max_acc\": {\"$max\": \"$SyntheticAggregateSource.unseen_appliances.2_state_classification.accuracy_score\"},\n",
    "            \"max_iteration\": {\"$max\": \"$iteration\"}\n",
    "        }}\n",
    "]\n",
    "list(db.validation_scores.aggregate(agg_pipeline))"
   ]
  },
  {
   "cell_type": "code",
   "execution_count": 21,
   "metadata": {
    "collapsed": false
   },
   "outputs": [],
   "source": [
    "from monary import Monary"
   ]
  },
  {
   "cell_type": "code",
   "execution_count": 22,
   "metadata": {
    "collapsed": true
   },
   "outputs": [],
   "source": [
    "monary = Monary()"
   ]
  },
  {
   "cell_type": "code",
   "execution_count": 23,
   "metadata": {
    "collapsed": false
   },
   "outputs": [],
   "source": [
    "iterations, loss, source_id = monary.query(\n",
    "    db='neuralnilm_experiments',\n",
    "    coll='train_scores',\n",
    "    query={\n",
    "        'experiment_id': 0,\n",
    "        'iteration': {'$gt': 0}\n",
    "    },\n",
    "    fields=['iteration', 'loss', 'source_id'],\n",
    "    types=['int32', 'float32', 'int8']\n",
    ")"
   ]
  },
  {
   "cell_type": "code",
   "execution_count": 24,
   "metadata": {
    "collapsed": false
   },
   "outputs": [],
   "source": [
    "import pandas as pd\n",
    "\n",
    "df = pd.DataFrame({'loss': loss, 'source_id': source_id}, index=iterations)"
   ]
  },
  {
   "cell_type": "code",
   "execution_count": 25,
   "metadata": {
    "collapsed": false
   },
   "outputs": [],
   "source": [
    "import matplotlib.pyplot as plt\n",
    "plt.plot(df.index, df['loss'].values)\n",
    "plt.show()"
   ]
  },
  {
   "cell_type": "code",
   "execution_count": 26,
   "metadata": {
    "collapsed": true
   },
   "outputs": [],
   "source": [
    "from neuralnilm.monitor.monitor import Monitor\n",
    "\n",
    "mon = Monitor(0)"
   ]
  },
  {
   "cell_type": "code",
   "execution_count": 27,
   "metadata": {
    "collapsed": true
   },
   "outputs": [],
   "source": [
    "mon._plot_train_scores()"
   ]
  },
  {
   "cell_type": "code",
   "execution_count": 28,
   "metadata": {
    "collapsed": false
   },
   "outputs": [],
   "source": [
    "mon._plot_validation_scores()"
   ]
  },
  {
   "cell_type": "code",
   "execution_count": 29,
   "metadata": {
    "collapsed": false
   },
   "outputs": [
    {
     "data": {
      "text/plain": [
       "[u'regression.mean_squared_error',\n",
       " u'regression.relative_error_in_total_energy',\n",
       " u'regression.mean_absolute_error',\n",
       " u'classification_2_state.f1_score',\n",
       " u'classification_2_state.recall_score',\n",
       " u'classification_2_state.accuracy_score',\n",
       " u'classification_2_state.precision_score']"
      ]
     },
     "execution_count": 29,
     "metadata": {},
     "output_type": "execute_result"
    }
   ],
   "source": [
    "mon.validation_metric_names"
   ]
  },
  {
   "cell_type": "code",
   "execution_count": 30,
   "metadata": {
    "collapsed": false
   },
   "outputs": [],
   "source": [
    "df.plot?"
   ]
  },
  {
   "cell_type": "code",
   "execution_count": null,
   "metadata": {
    "collapsed": true
   },
   "outputs": [],
   "source": []
  }
 ],
 "metadata": {
  "kernelspec": {
   "display_name": "Python 2",
   "language": "python",
   "name": "python2"
  },
  "language_info": {
   "codemirror_mode": {
    "name": "ipython",
    "version": 2
   },
   "file_extension": ".py",
   "mimetype": "text/x-python",
   "name": "python",
   "nbconvert_exporter": "python",
   "pygments_lexer": "ipython2",
   "version": "2.7.9"
  }
 },
 "nbformat": 4,
 "nbformat_minor": 0
}
