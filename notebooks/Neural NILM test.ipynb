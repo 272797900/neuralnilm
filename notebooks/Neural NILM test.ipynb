{
 "cells": [
  {
   "cell_type": "code",
   "execution_count": 1,
   "metadata": {
    "collapsed": false
   },
   "outputs": [],
   "source": [
    "from __future__ import print_function, division\n",
    "import matplotlib.pyplot as plt\n",
    "import pandas as pd\n",
    "\n",
    "from neuralnilm.data.loadactivations import load_nilmtk_activations\n",
    "from neuralnilm.data.syntheticaggregatesource import SyntheticAggregateSource\n",
    "from neuralnilm.data.datapipeline import DataPipeline\n",
    "from neuralnilm.data.processing import DivideBy\n",
    "from neuralnilm.data.datathread import DataThread"
   ]
  },
  {
   "cell_type": "code",
   "execution_count": 2,
   "metadata": {
    "collapsed": false
   },
   "outputs": [],
   "source": [
    "NILMTK_FILENAME = '/data/mine/vadeec/merged/ukdale.h5'\n",
    "TARGET_APPLIANCE = 'kettle'\n",
    "SEQ_LENGTH = 256\n",
    "SAMPLE_PERIOD = 6\n",
    "STRIDE = 4\n",
    "WINDOWS = {\n",
    "    'train': {\n",
    "        1: (\"2014-01-01\", \"2014-02-01\")\n",
    "    },\n",
    "    'unseen_activations_of_seen_appliances': {\n",
    "        1: (\"2014-02-02\", \"2014-02-08\")                \n",
    "    },\n",
    "    'unseen_appliances': {\n",
    "        2: (\"2013-06-01\", \"2013-06-07\")\n",
    "    }\n",
    "}\n",
    "\n",
    "LOADER_CONFIG = {\n",
    "    'nilmtk_activations': dict(\n",
    "        appliances=['kettle', 'microwave', 'washing machine'],\n",
    "        filename=NILMTK_FILENAME,\n",
    "        sample_period=SAMPLE_PERIOD,\n",
    "        windows=WINDOWS\n",
    "    )\n",
    "}\n",
    "\n"
   ]
  },
  {
   "cell_type": "code",
   "execution_count": 3,
   "metadata": {
    "collapsed": false
   },
   "outputs": [
    {
     "name": "stderr",
     "output_type": "stream",
     "text": [
      "INFO:neuralnilm.data.loadactivations:Loading NILMTK activations...\n",
      "INFO:neuralnilm.data.loadactivations:Loading kettle for UK-DALE_building_1...\n",
      "INFO:neuralnilm.data.loadactivations:Loaded 111 kettle activations from UK-DALE_building_1.\n",
      "INFO:neuralnilm.data.loadactivations:Loading microwave for UK-DALE_building_1...\n",
      "INFO:neuralnilm.data.loadactivations:Loaded 119 microwave activations from UK-DALE_building_1.\n",
      "INFO:neuralnilm.data.loadactivations:Loading washing machine for UK-DALE_building_1...\n",
      "INFO:neuralnilm.data.loadactivations:Loaded 23 washing machine activations from UK-DALE_building_1.\n",
      "INFO:neuralnilm.data.loadactivations:Loading kettle for UK-DALE_building_2...\n",
      "INFO:neuralnilm.data.loadactivations:Loaded 31 kettle activations from UK-DALE_building_2.\n",
      "INFO:neuralnilm.data.loadactivations:Loading microwave for UK-DALE_building_2...\n",
      "INFO:neuralnilm.data.loadactivations:Loaded 30 microwave activations from UK-DALE_building_2.\n",
      "INFO:neuralnilm.data.loadactivations:Loading washing machine for UK-DALE_building_2...\n",
      "INFO:neuralnilm.data.loadactivations:Loaded 2 washing machine activations from UK-DALE_building_2.\n",
      "INFO:neuralnilm.data.loadactivations:Loading kettle for UK-DALE_building_1...\n",
      "INFO:neuralnilm.data.loadactivations:Loaded 28 kettle activations from UK-DALE_building_1.\n",
      "INFO:neuralnilm.data.loadactivations:Loading microwave for UK-DALE_building_1...\n",
      "INFO:neuralnilm.data.loadactivations:Loaded 28 microwave activations from UK-DALE_building_1.\n",
      "INFO:neuralnilm.data.loadactivations:Loading washing machine for UK-DALE_building_1...\n",
      "INFO:neuralnilm.data.loadactivations:Loaded 5 washing machine activations from UK-DALE_building_1.\n",
      "INFO:neuralnilm.data.loadactivations:Done loading NILMTK activations.\n"
     ]
    }
   ],
   "source": [
    "nilmtk_activations = load_nilmtk_activations(**LOADER_CONFIG['nilmtk_activations'])"
   ]
  },
  {
   "cell_type": "code",
   "execution_count": 4,
   "metadata": {
    "collapsed": false
   },
   "outputs": [
    {
     "data": {
      "text/plain": [
       "['train', 'unseen_activations_of_seen_appliances', 'unseen_appliances']"
      ]
     },
     "execution_count": 4,
     "metadata": {},
     "output_type": "execute_result"
    }
   ],
   "source": [
    "nilmtk_activations.keys()"
   ]
  },
  {
   "cell_type": "code",
   "execution_count": 5,
   "metadata": {
    "collapsed": true
   },
   "outputs": [],
   "source": [
    "from neuralnilm.data.realaggregatesource import RealAggregateSource"
   ]
  },
  {
   "cell_type": "code",
   "execution_count": 6,
   "metadata": {
    "collapsed": false
   },
   "outputs": [
    {
     "name": "stderr",
     "output_type": "stream",
     "text": [
      "INFO:neuralnilm.data.realaggregatesource:Loading NILMTK mains...\n",
      "INFO:neuralnilm.data.realaggregatesource:Loading mains for UK-DALE_building_1...\n",
      "INFO:neuralnilm.data.realaggregatesource:Loaded mains data from building UK-DALE_building_1 for fold train from 2014-01-01 00:00:00+00:00 to 2014-01-31 23:59:54+00:00.\n",
      "INFO:neuralnilm.data.realaggregatesource:Loading mains for UK-DALE_building_2...\n",
      "INFO:neuralnilm.data.realaggregatesource:Loaded mains data from building UK-DALE_building_2 for fold unseen_appliances from 2013-06-01 00:00:00+01:00 to 2013-06-06 23:59:54+01:00.\n",
      "INFO:neuralnilm.data.realaggregatesource:Loading mains for UK-DALE_building_1...\n",
      "INFO:neuralnilm.data.realaggregatesource:Loaded mains data from building UK-DALE_building_1 for fold unseen_activations_of_seen_appliances from 2014-02-02 00:00:00+00:00 to 2014-02-07 23:59:54+00:00.\n",
      "INFO:neuralnilm.data.realaggregatesource:Done loading NILMTK mains data.\n",
      "INFO:neuralnilm.data.realaggregatesource:Found 89 sections without target for train UK-DALE_building_1.\n",
      "INFO:neuralnilm.data.realaggregatesource:Found 20 sections without target for unseen_activations_of_seen_appliances UK-DALE_building_1.\n",
      "INFO:neuralnilm.data.realaggregatesource:Found 24 sections without target for unseen_appliances UK-DALE_building_2.\n"
     ]
    }
   ],
   "source": [
    "ras = RealAggregateSource(\n",
    "    activations=nilmtk_activations,\n",
    "    target_appliance=TARGET_APPLIANCE,\n",
    "    seq_length=SEQ_LENGTH,\n",
    "    filename=NILMTK_FILENAME,\n",
    "    windows=WINDOWS,\n",
    "    sample_period=SAMPLE_PERIOD\n",
    ")"
   ]
  },
  {
   "cell_type": "code",
   "execution_count": 7,
   "metadata": {
    "collapsed": false
   },
   "outputs": [],
   "source": [
    "ras.target_inclusion_prob = 0.5\n",
    "for i in range(50):\n",
    "    seq = ras.get_sequence()"
   ]
  },
  {
   "cell_type": "code",
   "execution_count": 8,
   "metadata": {
    "collapsed": false
   },
   "outputs": [],
   "source": [
    "fig, axes = plt.subplots(2)\n",
    "axes[0].plot(seq.input)\n",
    "axes[1].plot(seq.target)\n",
    "plt.show()"
   ]
  },
  {
   "cell_type": "code",
   "execution_count": 9,
   "metadata": {
    "collapsed": false
   },
   "outputs": [
    {
     "data": {
      "text/plain": [
       "['name', 'building', 'appliance', 'fold']"
      ]
     },
     "execution_count": 9,
     "metadata": {},
     "output_type": "execute_result"
    }
   ],
   "source": [
    "nilmtk_activations['train']['kettle']['UK-DALE_building_1'][0]._metadata"
   ]
  },
  {
   "cell_type": "code",
   "execution_count": 10,
   "metadata": {
    "collapsed": false
   },
   "outputs": [],
   "source": [
    "source = SyntheticAggregateSource(\n",
    "    activations=nilmtk_activations,\n",
    "    target_appliance=TARGET_APPLIANCE,\n",
    "    seq_length=SEQ_LENGTH,\n",
    "    allow_incomplete_target=False,\n",
    "    sample_period=SAMPLE_PERIOD\n",
    ")"
   ]
  },
  {
   "cell_type": "code",
   "execution_count": 11,
   "metadata": {
    "collapsed": false
   },
   "outputs": [],
   "source": [
    "FOLD = 'train'\n",
    "#FOLD = 'unseen_activations_of_seen_appliances'\n",
    "#FOLD = 'unseen_appliances'\n",
    "seq = source.get_sequence(enable_all_appliances=True)"
   ]
  },
  {
   "cell_type": "code",
   "execution_count": 12,
   "metadata": {
    "collapsed": false
   },
   "outputs": [],
   "source": [
    "#all(seq.all_appliances.sum(axis=1) == seq.input[:, 0])"
   ]
  },
  {
   "cell_type": "code",
   "execution_count": 13,
   "metadata": {
    "collapsed": false
   },
   "outputs": [],
   "source": [
    "#fig, axes = plt.subplots(2, sharex=True)\n",
    "#seq.all_appliances.plot(ax=axes[0])\n",
    "#axes[1].plot(seq.input)\n",
    "#fig.suptitle(FOLD)\n",
    "#plt.show()"
   ]
  },
  {
   "cell_type": "code",
   "execution_count": 14,
   "metadata": {
    "collapsed": false
   },
   "outputs": [],
   "source": [
    "sample = source.get_batch(num_seq_per_batch=1024)"
   ]
  },
  {
   "cell_type": "code",
   "execution_count": 15,
   "metadata": {
    "collapsed": false
   },
   "outputs": [],
   "source": [
    "pipeline = DataPipeline(\n",
    "    sources=[source, ras],\n",
    "    num_seq_per_batch=64,\n",
    "    input_processing=[DivideBy(sample.before_processing.input.flatten().std())],\n",
    "    target_processing=[DivideBy(sample.before_processing.target.flatten().std())]\n",
    ")"
   ]
  },
  {
   "cell_type": "markdown",
   "metadata": {},
   "source": [
    "# Disaggregation"
   ]
  },
  {
   "cell_type": "markdown",
   "metadata": {
    "collapsed": true
   },
   "source": [
    "nilmtk_disag_source = NILMTKDisagSource(\n",
    "    filename=NILMTK_FILENAME,\n",
    "    target_appliance=TARGET_APPLIANCE,\n",
    "    seq_length=SEQ_LENGTH,\n",
    "    buildings=[5],\n",
    "    window_per_building={},\n",
    "    stride=STRIDE,\n",
    "    sample_period=SAMPLE_PERIOD\n",
    ")"
   ]
  },
  {
   "cell_type": "markdown",
   "metadata": {
    "collapsed": true
   },
   "source": [
    "disag_pipeline = deepcopy(pipeline)\n",
    "disag_pipeline.source = nilmtk_disag_source"
   ]
  },
  {
   "cell_type": "markdown",
   "metadata": {
    "collapsed": true
   },
   "source": [
    "disaggregator = Disaggregator(\n",
    "    pipeline=disag_pipeline,\n",
    "    output_path=PATH  # \n",
    ")"
   ]
  },
  {
   "cell_type": "markdown",
   "metadata": {},
   "source": [
    "Disagregator ideas:\n",
    "\n",
    "* make a copy of pipeline but swap source for a NILMTKDisagSource\n",
    "* NILMTKDisagSource loads all data into memory (?) and iterates over chunks of it (get seq_length from pipeline.source.seq_length)\n",
    "* "
   ]
  },
  {
   "cell_type": "code",
   "execution_count": 16,
   "metadata": {
    "collapsed": false
   },
   "outputs": [
    {
     "data": {
      "text/plain": [
       "{'pipeline': {'input_processing': [{'divisor': 980.7771, 'name': 'DivideBy'}],\n",
       "  'num_seq_per_batch': 64,\n",
       "  'rng_seed': None,\n",
       "  'source_probabilities': [0.5, 0.5],\n",
       "  'sources': {0: {'allow_incomplete_distractors': True,\n",
       "    'allow_incomplete_target': False,\n",
       "    'distractor_inclusion_prob': 1.0,\n",
       "    'include_incomplete_target_in_output': True,\n",
       "    'name': 'SyntheticAggregateSource',\n",
       "    'rng_seed': None,\n",
       "    'sample_period': 6,\n",
       "    'seq_length': 256,\n",
       "    'target_appliance': 'kettle',\n",
       "    'target_inclusion_prob': 1.0,\n",
       "    'uniform_prob_of_selecting_each_building': True},\n",
       "   1: {'allow_incomplete_target': True,\n",
       "    'allow_multiple_target_activations_in_aggregate': False,\n",
       "    'filename': '/data/mine/vadeec/merged/ukdale.h5',\n",
       "    'include_incomplete_target_in_output': True,\n",
       "    'include_multiple_targets_in_output': False,\n",
       "    'name': 'RealAggregateSource',\n",
       "    'rng_seed': None,\n",
       "    'sample_period': 6,\n",
       "    'seq_length': 256,\n",
       "    'target_appliance': 'kettle',\n",
       "    'target_inclusion_prob': 0.5,\n",
       "    'uniform_prob_of_selecting_each_building': True,\n",
       "    'windows': {'train': {1: ('2014-01-01', '2014-02-01')},\n",
       "     'unseen_activations_of_seen_appliances': {1: ('2014-02-02',\n",
       "       '2014-02-08')},\n",
       "     'unseen_appliances': {2: ('2013-06-01', '2013-06-07')}}}},\n",
       "  'target_processing': [{'divisor': 610.72882, 'name': 'DivideBy'}]}}"
      ]
     },
     "execution_count": 16,
     "metadata": {},
     "output_type": "execute_result"
    }
   ],
   "source": [
    "report = pipeline.report()\n",
    "report"
   ]
  },
  {
   "cell_type": "code",
   "execution_count": 17,
   "metadata": {
    "collapsed": true
   },
   "outputs": [],
   "source": [
    "from lasagne.layers import InputLayer, RecurrentLayer, DenseLayer, ReshapeLayer\n",
    "\n",
    "def get_net_0(input_shape, target_shape=None):\n",
    "    NUM_UNITS = {\n",
    "        'dense_layer_0': 100,\n",
    "        'dense_layer_1':  50,\n",
    "        'dense_layer_2': 100\n",
    "    }\n",
    "\n",
    "    if target_shape is None:\n",
    "        target_shape = input_shape\n",
    "    \n",
    "    # Define layers\n",
    "    input_layer = InputLayer(\n",
    "        shape=input_shape\n",
    "    )\n",
    "    \n",
    "    # Dense layers\n",
    "    dense_layer_0 = DenseLayer(\n",
    "        input_layer, \n",
    "        num_units=NUM_UNITS['dense_layer_0']\n",
    "    )\n",
    "    dense_layer_1 = DenseLayer(\n",
    "        dense_layer_0, \n",
    "        num_units=NUM_UNITS['dense_layer_1']\n",
    "    )\n",
    "    dense_layer_2 = DenseLayer(\n",
    "        dense_layer_1, \n",
    "        num_units=NUM_UNITS['dense_layer_2']\n",
    "    )\n",
    "    \n",
    "    # Output\n",
    "    final_dense_layer = DenseLayer(\n",
    "        dense_layer_2,\n",
    "        num_units=target_shape[1] * target_shape[2],\n",
    "        nonlinearity=None\n",
    "    )\n",
    "    output_layer = ReshapeLayer(\n",
    "        final_dense_layer,\n",
    "        shape=target_shape\n",
    "    )\n",
    "    return output_layer"
   ]
  },
  {
   "cell_type": "code",
   "execution_count": 18,
   "metadata": {
    "collapsed": true
   },
   "outputs": [],
   "source": [
    "from neuralnilm.net import Net\n",
    "\n",
    "batch = pipeline.get_batch()\n",
    "output_layer = get_net_0(\n",
    "    batch.after_processing.input.shape, \n",
    "    batch.after_processing.target.shape\n",
    ")\n",
    "net = Net(output_layer)"
   ]
  },
  {
   "cell_type": "code",
   "execution_count": 19,
   "metadata": {
    "collapsed": false
   },
   "outputs": [],
   "source": [
    "from pymongo import MongoClient\n",
    "client = MongoClient()\n",
    "db = client.neuralnilm"
   ]
  },
  {
   "cell_type": "code",
   "execution_count": 20,
   "metadata": {
    "collapsed": false
   },
   "outputs": [
    {
     "name": "stdout",
     "output_type": "stream",
     "text": [
      "Database already has an experiment with _id == 0. Should the old experiment be deleted (both from the database and from disk)? Or quit? [Q/d] d\n"
     ]
    },
    {
     "name": "stderr",
     "output_type": "stream",
     "text": [
      "INFO:neuralnilm.trainer:Deleting documents for old experiment.\n",
      "INFO:neuralnilm.trainer:Directory exists = '~/temp/neural_nilm/output/0'\n",
      "INFO:neuralnilm.trainer:  Deleting directory.\n"
     ]
    }
   ],
   "source": [
    "from neuralnilm.trainer import Trainer\n",
    "from neuralnilm.metrics import Metrics\n",
    "\n",
    "trainer = Trainer(\n",
    "    net=net,\n",
    "    data_pipeline=pipeline,\n",
    "    experiment_id=[\"0\"],\n",
    "    metrics=Metrics(state_boundaries=[4]),\n",
    "    learning_rates={0: 1E-2},\n",
    "    repeat_callbacks=[\n",
    "        ( 100, Trainer.validate)\n",
    "    ]\n",
    ")"
   ]
  },
  {
   "cell_type": "code",
   "execution_count": 21,
   "metadata": {
    "collapsed": false
   },
   "outputs": [
    {
     "data": {
      "text/plain": [
       "float"
      ]
     },
     "execution_count": 21,
     "metadata": {},
     "output_type": "execute_result"
    }
   ],
   "source": [
    "report = trainer.report()\n",
    "report['data']['activations'] = LOADER_CONFIG\n",
    "from neuralnilm.utils import sanitise_dict_for_mongo\n",
    "type(sanitise_dict_for_mongo(report)['data']['pipeline']['input_processing'][0]['divisor'])"
   ]
  },
  {
   "cell_type": "code",
   "execution_count": null,
   "metadata": {
    "collapsed": false
   },
   "outputs": [
    {
     "data": {
      "text/plain": [
       "{'_id': '0',\n",
       " 'data': {'activations': {'nilmtk_activations': {'appliances': ['kettle',\n",
       "     'microwave',\n",
       "     'washing machine'],\n",
       "    'filename': '/data/mine/vadeec/merged/ukdale.h5',\n",
       "    'sample_period': 6,\n",
       "    'windows': {'train': {'1': ('2014-01-01', '2014-02-01')},\n",
       "     'unseen_activations_of_seen_appliances': {'1': ('2014-02-02',\n",
       "       '2014-02-08')},\n",
       "     'unseen_appliances': {'2': ('2013-06-01', '2013-06-07')}}}},\n",
       "  'pipeline': {'input_processing': [{'divisor': 980.777099609375,\n",
       "     'name': 'DivideBy'}],\n",
       "   'num_seq_per_batch': 64,\n",
       "   'rng_seed': None,\n",
       "   'source_probabilities': [0.5, 0.5],\n",
       "   'sources': {'0': {'allow_incomplete_distractors': True,\n",
       "     'allow_incomplete_target': False,\n",
       "     'distractor_inclusion_prob': 1.0,\n",
       "     'include_incomplete_target_in_output': True,\n",
       "     'name': 'SyntheticAggregateSource',\n",
       "     'rng_seed': None,\n",
       "     'sample_period': 6,\n",
       "     'seq_length': 256,\n",
       "     'target_appliance': 'kettle',\n",
       "     'target_inclusion_prob': 1.0,\n",
       "     'uniform_prob_of_selecting_each_building': True},\n",
       "    '1': {'allow_incomplete_target': True,\n",
       "     'allow_multiple_target_activations_in_aggregate': False,\n",
       "     'filename': '/data/mine/vadeec/merged/ukdale.h5',\n",
       "     'include_incomplete_target_in_output': True,\n",
       "     'include_multiple_targets_in_output': False,\n",
       "     'name': 'RealAggregateSource',\n",
       "     'rng_seed': None,\n",
       "     'sample_period': 6,\n",
       "     'seq_length': 256,\n",
       "     'target_appliance': 'kettle',\n",
       "     'target_inclusion_prob': 0.5,\n",
       "     'uniform_prob_of_selecting_each_building': True,\n",
       "     'windows': {'train': {'1': ('2014-01-01', '2014-02-01')},\n",
       "      'unseen_activations_of_seen_appliances': {'1': ('2014-02-02',\n",
       "        '2014-02-08')},\n",
       "      'unseen_appliances': {'2': ('2013-06-01', '2013-06-07')}}}},\n",
       "   'target_processing': [{'divisor': 610.7288208007812, 'name': 'DivideBy'}]}},\n",
       " 'trainer': {'learning_rates': {'0': 0.01},\n",
       "  'loss_aggregation_mode': 'mean',\n",
       "  'loss_func_name': 'squared_error',\n",
       "  'metrics': {'clip_to_zero': False,\n",
       "   'name': 'Metrics',\n",
       "   'state_boundaries': [4]},\n",
       "  'min_train_cost': inf,\n",
       "  'output_path': '~/temp/neural_nilm/output/0',\n",
       "  'updates_func_kwards': {},\n",
       "  'updates_func_name': 'nesterov_momentum'}}"
      ]
     },
     "execution_count": 22,
     "metadata": {},
     "output_type": "execute_result"
    }
   ],
   "source": [
    "sanitise_dict_for_mongo(report)"
   ]
  },
  {
   "cell_type": "code",
   "execution_count": null,
   "metadata": {
    "collapsed": false
   },
   "outputs": [
    {
     "name": "stderr",
     "output_type": "stream",
     "text": [
      "INFO:neuralnilm.trainer:Starting training for 50000 iterations.\n",
      "INFO:neuralnilm.trainer:Iteration 0: Change learning rate to 1.0E-02\n",
      "INFO:neuralnilm.trainer:Compiling train cost function...\n",
      "INFO:neuralnilm.trainer:Done compiling cost function.\n"
     ]
    },
    {
     "name": "stdout",
     "output_type": "stream",
     "text": [
      "   Update # |  Train cost  | Secs per update | Source ID\n",
      "------------|--------------|-----------------|-----------\n",
      "          0 | \u001b[94m  1.221413\u001b[0m  |    2.462075     |   0"
     ]
    },
    {
     "name": "stderr",
     "output_type": "stream",
     "text": [
      "INFO:neuralnilm.net:Compiling deterministic output function...\n",
      "INFO:neuralnilm.net:Done compiling deterministic output function.\n"
     ]
    },
    {
     "name": "stdout",
     "output_type": "stream",
     "text": [
      "\n",
      "          1 | \u001b[94m  0.626569\u001b[0m  |    0.007162     |   1\n",
      "          2 | \u001b[94m  0.497573\u001b[0m  |    0.008382     |   1\n",
      "          3 | \u001b[94m  0.477277\u001b[0m  |    0.003106     |   1\n",
      "          4 |   0.619296  |    0.004985     |   1\n",
      "          5 |   0.500404  |    0.196349     |   1\n",
      "          6 |   1.096536  |    0.073188     |   0\n",
      "          7 |   1.092271  |    0.133012     |   0\n",
      "          8 |   1.039312  |    0.106207     |   0\n",
      "          9 |   0.490150  |    0.159201     |   1\n",
      "         10 |   0.566782  |    0.199043     |   1\n",
      "         11 |   0.515970  |    0.159629     |   1\n",
      "         12 |   0.530176  |    0.196903     |   1\n",
      "         13 |   1.052467  |    0.137783     |   0\n",
      "         14 |   1.047765  |    0.086376     |   0\n",
      "         15 | \u001b[94m  0.429886\u001b[0m  |    0.194336     |   1\n",
      "         16 |   0.669404  |    0.190181     |   1\n",
      "         17 |   0.560497  |    0.203656     |   1\n",
      "         18 |   1.140693  |    0.093700     |   0\n",
      "         19 |   0.616026  |    0.183304     |   1\n",
      "         20 |   1.007358  |    0.131912     |   0\n",
      "         21 |   0.545205  |    0.150706     |   1\n",
      "         22 |   0.565680  |    0.169099     |   1\n",
      "         23 |   1.045741  |    0.128355     |   0\n",
      "         24 |   1.082541  |    0.129512     |   0\n",
      "         25 | \u001b[94m  0.390402\u001b[0m  |    0.216961     |   1\n",
      "         26 |   1.072096  |    0.080345     |   0\n",
      "         27 | \u001b[94m  0.334528\u001b[0m  |    0.193542     |   1\n",
      "         28 |   1.010648  |    0.119502     |   0\n",
      "         29 |   0.451637  |    0.150717     |   1\n",
      "         30 |   0.587304  |    0.188414     |   1\n",
      "         31 |   1.057329  |    0.071259     |   0\n",
      "         32 |   1.035823  |    0.121132     |   0\n",
      "         33 |   1.068116  |    0.135649     |   0\n",
      "         34 |   0.520180  |    0.141924     |   1\n",
      "         35 |   1.172591  |    0.121860     |   0\n",
      "         36 |   1.041532  |    0.132751     |   0\n",
      "         37 |   1.118030  |    0.090170     |   0\n",
      "         38 |   1.057122  |    0.125762     |   0\n",
      "         39 |   1.131926  |    0.090625     |   0\n",
      "         40 |   0.513566  |    0.198375     |   1\n",
      "         41 |   1.022654  |    0.088601     |   0\n",
      "         42 |   1.092305  |    0.126791     |   0\n",
      "         43 |   0.392365  |    0.154064     |   1\n",
      "         44 |   0.561950  |    0.156872     |   1\n",
      "         45 |   0.468338  |    0.194749     |   1\n",
      "         46 |   1.055598  |    0.076951     |   0\n",
      "         47 |   1.026550  |    0.133131     |   0\n",
      "         48 |   0.406146  |    0.135218     |   1\n",
      "         49 |   1.088043  |    0.150317     |   0\n",
      "         50 |   0.428400  |    0.164809     |   1\n",
      "         51 |   1.175105  |    0.130118     |   0\n",
      "         52 |   0.981855  |    0.122253     |   0\n",
      "         53 |   0.961585  |    0.086100     |   0\n",
      "         54 |   0.427845  |    0.228122     |   1\n",
      "         55 |   0.572241  |    0.097245     |   1\n",
      "         56 |   1.003986  |    0.135547     |   0\n",
      "         57 |   1.009272  |    0.080215     |   0\n",
      "         58 |   0.493314  |    0.137379     |   1\n",
      "         59 |   0.967690  |    0.133060     |   0\n",
      "         60 |   0.484782  |    0.200947     |   1\n",
      "         61 |   0.451030  |    0.180935     |   1\n",
      "         62 |   0.499014  |    0.146589     |   1\n",
      "         63 |   0.540249  |    0.199310     |   1\n",
      "         64 |   0.475971  |    0.150943     |   1\n",
      "         65 |   0.411745  |    0.145592     |   1\n",
      "         66 |   0.423616  |    0.194967     |   1\n",
      "         67 |   0.532983  |    0.182287     |   1\n",
      "         68 |   1.125558  |    0.085744     |   0\n",
      "         69 |   0.539532  |    0.213420     |   1\n",
      "         70 |   0.544897  |    0.150507     |   1\n",
      "         71 |   0.411211  |    0.160545     |   1\n",
      "         72 |   1.107585  |    0.131231     |   0\n",
      "         73 |   0.435613  |    0.205054     |   1\n",
      "         74 |   1.054487  |    0.079987     |   0\n",
      "         75 |   1.040092  |    0.081535     |   0\n",
      "         76 |   1.008369  |    0.122161     |   0\n",
      "         77 |   1.016503  |    0.131372     |   0\n",
      "         78 |   1.049255  |    0.082999     |   0\n",
      "         79 |   0.501485  |    0.191431     |   1\n",
      "         80 |   1.039732  |    0.078766     |   0\n",
      "         81 |   1.002686  |    0.131865     |   0\n",
      "         82 |   0.491330  |    0.196307     |   1\n",
      "         83 |   0.538925  |    0.138376     |   1\n",
      "         84 |   1.043840  |    0.131142     |   0\n",
      "         85 |   0.969091  |    0.128234     |   0\n",
      "         86 |   0.909075  |    0.124278     |   0\n",
      "         87 |   0.548671  |    0.142305     |   1\n",
      "         88 |   1.063464  |    0.080186     |   0\n",
      "         89 |   1.161454  |    0.129972     |   0\n",
      "         90 |   1.015133  |    0.071886     |   0\n",
      "         91 |   0.377430  |    0.194539     |   1\n",
      "         92 |   0.976242  |    0.142261     |   0\n",
      "         93 |   0.525144  |    0.198345     |   1\n",
      "         94 |   1.073431  |    0.078888     |   0\n",
      "         95 |   0.600904  |    0.181023     |   1\n",
      "         96 |   0.989241  |    0.072040     |   0\n",
      "         97 |   1.079571  |    0.132639     |   0\n",
      "         98 |   0.998087  |    0.102439     |   0\n",
      "         99 |   0.335154  |    0.156178     |   1\n",
      "        100 |   0.504908  |    0.188980     |   1\n",
      "        101 |   1.022253  |    0.003095     |   0\n",
      "        102 |   0.481718  |    0.003803     |   1\n",
      "        103 |   0.562131  |    0.003794     |   1\n",
      "        104 |   0.631388  |    0.004342     |   1\n",
      "        105 |   0.902730  |    0.132100     |   0\n",
      "        106 |   0.466003  |    0.144605     |   1\n",
      "        107 |   0.488597  |    0.207417     |   1\n",
      "        108 |   0.390938  |    0.162127     |   1\n",
      "        109 |   0.438903  |    0.145341     |   1\n",
      "        110 |   1.056998  |    0.071600     |   0\n",
      "        111 |   0.932761  |    0.132947     |   0\n",
      "        112 |   0.506996  |    0.220079     |   1\n",
      "        113 |   0.363496  |    0.167991     |   1\n",
      "        114 |   0.408879  |    0.150683     |   1\n",
      "        115 |   0.535202  |    0.150506     |   1\n",
      "        116 |   0.466543  |    0.201896     |   1\n",
      "        117 |   0.934435  |    0.123562     |   0\n",
      "        118 |   1.045280  |    0.131641     |   0\n",
      "        119 |   0.937758  |    0.078937     |   0\n",
      "        120 |   1.010057  |    0.125251     |   0\n",
      "        121 |   0.457083  |    0.187848     |   1\n",
      "        122 |   0.988425  |    0.077519     |   0\n",
      "        123 |   0.430224  |    0.194202     |   1\n",
      "        124 |   0.358181  |    0.150891     |   1\n",
      "        125 |   0.374021  |    0.210375     |   1\n",
      "        126 |   0.998501  |    0.097548     |   0\n",
      "        127 |   0.551503  |    0.187920     |   1\n",
      "        128 |   0.544508  |    0.196542     |   1\n",
      "        129 |   0.560704  |    0.151671     |   1\n",
      "        130 |   0.493125  |    0.139002     |   1\n",
      "        131 |   0.953290  |    0.130623     |   0\n",
      "        132 |   0.456665  |    0.187682     |   1\n",
      "        133 |   0.949207  |    0.142446     |   0\n",
      "        134 |   0.436611  |    0.125908     |   1\n",
      "        135 |   0.977116  |    0.128872     |   0\n",
      "        136 |   0.547329  |    0.163433     |   1\n",
      "        137 |   0.446711  |    0.199036     |   1\n",
      "        138 |   0.459504  |    0.149233     |   1\n",
      "        139 |   0.962046  |    0.142094     |   0\n",
      "        140 |   0.506173  |    0.162920     |   1\n",
      "        141 |   0.572505  |    0.158194     |   1\n",
      "        142 |   0.990309  |    0.060383     |   0\n",
      "        143 |   0.899610  |    0.126858     |   0\n",
      "        144 |   0.437783  |    0.172543     |   1\n",
      "        145 |   1.045509  |    0.130584     |   0\n",
      "        146 |   1.013073  |    0.082465     |   0\n",
      "        147 |   0.393788  |    0.155584     |   1\n",
      "        148 |   1.000552  |    0.126221     |   0\n",
      "        149 |   0.477530  |    0.152858     |   1\n",
      "        150 |   0.413135  |    0.187962     |   1\n",
      "        151 |   0.980241  |    0.134680     |   0\n",
      "        152 |   1.032458  |    0.084459     |   0\n",
      "        153 |   0.532353  |    0.203757     |   1\n",
      "        154 |   0.537279  |    0.134480     |   1\n",
      "        155 |   0.576547  |    0.143802     |   1\n",
      "        156 |   0.470643  |    0.200124     |   1\n",
      "        157 |   1.127933  |    0.078806     |   0\n",
      "        158 |   0.590246  |    0.181296     |   1\n",
      "        159 | \u001b[94m  0.317958\u001b[0m  |    0.200352     |   1\n",
      "        160 |   0.508326  |    0.137896     |   1\n",
      "        161 |   0.562997  |    0.159680     |   1\n",
      "        162 |   0.564401  |    0.209121     |   1\n",
      "        163 |   0.603650  |    0.122373     |   1\n",
      "        164 |   0.986470  |    0.146591     |   0\n",
      "        165 |   1.074401  |    0.083028     |   0\n",
      "        166 |   0.546436  |    0.130423     |   1\n",
      "        167 |   0.960748  |    0.136451     |   0\n",
      "        168 |   1.037967  |    0.126355     |   0\n",
      "        169 |   0.477344  |    0.184914     |   1\n",
      "        170 |   1.014224  |    0.058791     |   0\n",
      "        171 |   0.442996  |    0.227211     |   1\n",
      "        172 |   0.949502  |    0.084567     |   0\n",
      "        173 |   0.941028  |    0.134660     |   0\n",
      "        174 |   0.479352  |    0.127633     |   1\n",
      "        175 |   0.493809  |    0.180688     |   1\n",
      "        176 |   0.970058  |    0.081326     |   0\n",
      "        177 |   0.513669  |    0.195398     |   1\n",
      "        178 |   0.542370  |    0.158515     |   1\n",
      "        179 |   1.012674  |    0.079645     |   0\n",
      "        180 |   0.422421  |    0.218543     |   1\n",
      "        181 |   0.962604  |    0.078023     |   0\n",
      "        182 |   0.916734  |    0.131322     |   0\n",
      "        183 |   0.431255  |    0.172575     |   1\n",
      "        184 |   0.887207  |    0.136552     |   0\n",
      "        185 |   0.493040  |    0.153270     |   1\n",
      "        186 |   0.930234  |    0.086113     |   0\n",
      "        187 |   0.527784  |    0.143804     |   1\n",
      "        188 |   0.987874  |    0.145693     |   0\n",
      "        189 |   0.984238  |    0.080684     |   0\n",
      "        190 |   0.450297  |    0.243468     |   1\n",
      "        191 |   0.467974  |    0.150154     |   1\n",
      "        192 |   0.545149  |    0.150137     |   1\n",
      "        193 |   0.424472  |    0.202081     |   1\n",
      "        194 |   0.414984  |    0.208202     |   1\n",
      "        195 |   0.521852  |    0.150259     |   1\n",
      "        196 |   1.037770  |    0.122469     |   0\n",
      "        197 |   0.925497  |    0.071930     |   0"
     ]
    }
   ],
   "source": [
    "trainer.fit(50000)"
   ]
  },
  {
   "cell_type": "code",
   "execution_count": null,
   "metadata": {
    "collapsed": false
   },
   "outputs": [],
   "source": [
    "net.train_iterations"
   ]
  },
  {
   "cell_type": "code",
   "execution_count": null,
   "metadata": {
    "collapsed": true
   },
   "outputs": [],
   "source": [
    "from neuralnilm.monitor.monitor import Monitor\n",
    "\n",
    "mon = Monitor(\"0\")"
   ]
  },
  {
   "cell_type": "code",
   "execution_count": null,
   "metadata": {
    "collapsed": false
   },
   "outputs": [],
   "source": [
    "mon._plot_train_scores()"
   ]
  },
  {
   "cell_type": "code",
   "execution_count": null,
   "metadata": {
    "collapsed": false
   },
   "outputs": [],
   "source": [
    "mon._plot_validation_scores()"
   ]
  },
  {
   "cell_type": "code",
   "execution_count": null,
   "metadata": {
    "collapsed": false
   },
   "outputs": [],
   "source": [
    "mon.validation_metric_names"
   ]
  },
  {
   "cell_type": "code",
   "execution_count": null,
   "metadata": {
    "collapsed": false
   },
   "outputs": [],
   "source": [
    "mon.db.validation_scores.distinct(key='source_id')"
   ]
  },
  {
   "cell_type": "code",
   "execution_count": null,
   "metadata": {
    "collapsed": false
   },
   "outputs": [],
   "source": [
    "bool(trainer.db.train_scores.find_one({'experiment_id': trainer.experiment_id}))"
   ]
  },
  {
   "cell_type": "code",
   "execution_count": null,
   "metadata": {
    "collapsed": false
   },
   "outputs": [],
   "source": [
    "trainer.db.train_scores.delete_many?"
   ]
  },
  {
   "cell_type": "code",
   "execution_count": null,
   "metadata": {
    "collapsed": true
   },
   "outputs": [],
   "source": []
  }
 ],
 "metadata": {
  "kernelspec": {
   "display_name": "Python 2",
   "language": "python",
   "name": "python2"
  },
  "language_info": {
   "codemirror_mode": {
    "name": "ipython",
    "version": 2
   },
   "file_extension": ".py",
   "mimetype": "text/x-python",
   "name": "python",
   "nbconvert_exporter": "python",
   "pygments_lexer": "ipython2",
   "version": "2.7.9"
  }
 },
 "nbformat": 4,
 "nbformat_minor": 0
}
