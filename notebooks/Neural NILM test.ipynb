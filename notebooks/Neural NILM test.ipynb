{
 "cells": [
  {
   "cell_type": "code",
   "execution_count": 1,
   "metadata": {
    "collapsed": false
   },
   "outputs": [],
   "source": [
    "from __future__ import print_function, division\n",
    "import matplotlib.pyplot as plt\n",
    "import pandas as pd\n",
    "\n",
    "from neuralnilm.data.loadactivations import load_nilmtk_activations\n",
    "from neuralnilm.data.syntheticaggregatesource import SyntheticAggregateSource\n",
    "from neuralnilm.data.datapipeline import DataPipeline\n",
    "from neuralnilm.data.processing import DivideBy\n",
    "from neuralnilm.data.datathread import DataThread"
   ]
  },
  {
   "cell_type": "code",
   "execution_count": 2,
   "metadata": {
    "collapsed": false
   },
   "outputs": [
    {
     "name": "stderr",
     "output_type": "stream",
     "text": [
      "INFO:neuralnilm.data.loadactivations:Loading NILMTK activations...\n",
      "INFO:neuralnilm.data.loadactivations:Loading kettle for UK-DALE_building_1...\n",
      "INFO:neuralnilm.data.loadactivations:Loaded 112 kettle activations from UK-DALE_building_1.\n",
      "INFO:neuralnilm.data.loadactivations:Loading microwave for UK-DALE_building_1...\n",
      "INFO:neuralnilm.data.loadactivations:Loaded 114 microwave activations from UK-DALE_building_1.\n",
      "INFO:neuralnilm.data.loadactivations:Loading washing machine for UK-DALE_building_1...\n",
      "INFO:neuralnilm.data.loadactivations:Loaded 23 washing machine activations from UK-DALE_building_1.\n",
      "INFO:neuralnilm.data.loadactivations:Loading kettle for UK-DALE_building_2...\n",
      "INFO:neuralnilm.data.loadactivations:Loaded 31 kettle activations from UK-DALE_building_2.\n",
      "INFO:neuralnilm.data.loadactivations:Loading microwave for UK-DALE_building_2...\n",
      "INFO:neuralnilm.data.loadactivations:Loaded 31 microwave activations from UK-DALE_building_2.\n",
      "INFO:neuralnilm.data.loadactivations:Loading washing machine for UK-DALE_building_2...\n",
      "INFO:neuralnilm.data.loadactivations:Loaded 2 washing machine activations from UK-DALE_building_2.\n",
      "INFO:neuralnilm.data.loadactivations:Loading kettle for UK-DALE_building_1...\n",
      "INFO:neuralnilm.data.loadactivations:Loaded 28 kettle activations from UK-DALE_building_1.\n",
      "INFO:neuralnilm.data.loadactivations:Loading microwave for UK-DALE_building_1...\n",
      "INFO:neuralnilm.data.loadactivations:Loaded 30 microwave activations from UK-DALE_building_1.\n",
      "INFO:neuralnilm.data.loadactivations:Loading washing machine for UK-DALE_building_1...\n",
      "INFO:neuralnilm.data.loadactivations:Loaded 5 washing machine activations from UK-DALE_building_1.\n",
      "INFO:neuralnilm.data.loadactivations:Done loading NILMTK activations.\n"
     ]
    }
   ],
   "source": [
    "NILMTK_FILENAME = '/data/mine/vadeec/merged/ukdale.h5'\n",
    "TARGET_APPLIANCE = 'kettle'\n",
    "SEQ_LENGTH = 256\n",
    "SAMPLE_PERIOD = 6\n",
    "STRIDE = 4\n",
    "\n",
    "LOADER_CONFIG = {\n",
    "    'nilmtk_activations': dict(\n",
    "        appliances=['kettle', 'microwave', 'washing machine'],\n",
    "        filename=NILMTK_FILENAME,\n",
    "        sample_period=SAMPLE_PERIOD,\n",
    "        windows={\n",
    "            'train': {\n",
    "                1: (\"2014-01-01\", \"2014-02-01\")\n",
    "            },\n",
    "            'unseen_activations_of_seen_appliances': {\n",
    "                1: (\"2014-02-02\", \"2014-02-08\")                \n",
    "            },\n",
    "            'unseen_appliances': {\n",
    "                2: (\"2013-06-01\", \"2013-06-07\")\n",
    "            }\n",
    "        }\n",
    "    )\n",
    "}\n",
    "\n",
    "nilmtk_activations = load_nilmtk_activations(**LOADER_CONFIG['nilmtk_activations'])"
   ]
  },
  {
   "cell_type": "code",
   "execution_count": 3,
   "metadata": {
    "collapsed": false
   },
   "outputs": [
    {
     "data": {
      "text/plain": [
       "['train', 'unseen_activations_of_seen_appliances', 'unseen_appliances']"
      ]
     },
     "execution_count": 3,
     "metadata": {},
     "output_type": "execute_result"
    }
   ],
   "source": [
    "nilmtk_activations.keys()"
   ]
  },
  {
   "cell_type": "code",
   "execution_count": 4,
   "metadata": {
    "collapsed": false
   },
   "outputs": [],
   "source": [
    "source = SyntheticAggregateSource(\n",
    "    activations=nilmtk_activations,\n",
    "    target_appliance=TARGET_APPLIANCE,\n",
    "    seq_length=SEQ_LENGTH,\n",
    "    allow_incomplete_target=False\n",
    ")"
   ]
  },
  {
   "cell_type": "code",
   "execution_count": 5,
   "metadata": {
    "collapsed": false
   },
   "outputs": [],
   "source": [
    "FOLD = 'train'\n",
    "#FOLD = 'unseen_activations_of_seen_appliances'\n",
    "#FOLD = 'unseen_appliances'\n",
    "seq = source.get_sequence(enable_all_appliances=True)"
   ]
  },
  {
   "cell_type": "code",
   "execution_count": 6,
   "metadata": {
    "collapsed": false
   },
   "outputs": [],
   "source": [
    "#all(seq.all_appliances.sum(axis=1) == seq.input[:, 0])"
   ]
  },
  {
   "cell_type": "code",
   "execution_count": 7,
   "metadata": {
    "collapsed": false
   },
   "outputs": [],
   "source": [
    "#fig, axes = plt.subplots(2, sharex=True)\n",
    "#seq.all_appliances.plot(ax=axes[0])\n",
    "#axes[1].plot(seq.input)\n",
    "#fig.suptitle(FOLD)\n",
    "#plt.show()"
   ]
  },
  {
   "cell_type": "code",
   "execution_count": 8,
   "metadata": {
    "collapsed": false
   },
   "outputs": [],
   "source": [
    "sample = source.get_batch(num_seq_per_batch=1024)"
   ]
  },
  {
   "cell_type": "code",
   "execution_count": 9,
   "metadata": {
    "collapsed": false
   },
   "outputs": [],
   "source": [
    "pipeline = DataPipeline(\n",
    "    [source],\n",
    "    num_seq_per_batch=64,\n",
    "    input_processing=[DivideBy(sample.before_processing.input.flatten().std())],\n",
    "    target_processing=[DivideBy(sample.before_processing.target.flatten().std())]\n",
    ")"
   ]
  },
  {
   "cell_type": "markdown",
   "metadata": {},
   "source": [
    "# Disaggregation"
   ]
  },
  {
   "cell_type": "markdown",
   "metadata": {
    "collapsed": true
   },
   "source": [
    "nilmtk_disag_source = NILMTKDisagSource(\n",
    "    filename=NILMTK_FILENAME,\n",
    "    target_appliance=TARGET_APPLIANCE,\n",
    "    seq_length=SEQ_LENGTH,\n",
    "    buildings=[5],\n",
    "    window_per_building={},\n",
    "    stride=STRIDE,\n",
    "    sample_period=SAMPLE_PERIOD\n",
    ")"
   ]
  },
  {
   "cell_type": "markdown",
   "metadata": {
    "collapsed": true
   },
   "source": [
    "disag_pipeline = deepcopy(pipeline)\n",
    "disag_pipeline.source = nilmtk_disag_source"
   ]
  },
  {
   "cell_type": "markdown",
   "metadata": {
    "collapsed": true
   },
   "source": [
    "disaggregator = Disaggregator(\n",
    "    pipeline=disag_pipeline,\n",
    "    output_path=PATH  # \n",
    ")"
   ]
  },
  {
   "cell_type": "markdown",
   "metadata": {},
   "source": [
    "Disagregator ideas:\n",
    "\n",
    "* make a copy of pipeline but swap source for a NILMTKDisagSource\n",
    "* NILMTKDisagSource loads all data into memory (?) and iterates over chunks of it (get seq_length from pipeline.source.seq_length)\n",
    "* "
   ]
  },
  {
   "cell_type": "code",
   "execution_count": 10,
   "metadata": {
    "collapsed": false
   },
   "outputs": [
    {
     "data": {
      "text/plain": [
       "{'DataPipeline': {'SyntheticAggregateSource': {'allow_incomplete_distractors': True,\n",
       "   'allow_incomplete_target': False,\n",
       "   'distractor_inclusion_prob': 1.0,\n",
       "   'include_incomplete_target_in_output': True,\n",
       "   'rng_seed': None,\n",
       "   'seq_length': 256,\n",
       "   'target_appliance': 'kettle',\n",
       "   'target_inclusion_prob': 1.0,\n",
       "   'uniform_prob_of_selecting_each_model': True},\n",
       "  'input_processing': [{'DivideBy': {'divisor': 973.13348}}],\n",
       "  'num_seq_per_batch': 64,\n",
       "  'target_processing': [{'DivideBy': {'divisor': 603.56146}}]},\n",
       " 'activations': {'nilmtk_activations': {'appliances': ['kettle',\n",
       "    'microwave',\n",
       "    'washing machine'],\n",
       "   'filename': '/data/mine/vadeec/merged/ukdale.h5',\n",
       "   'sample_period': 6,\n",
       "   'windows': {'train': {1: ('2014-01-01', '2014-02-01')},\n",
       "    'unseen_activations_of_seen_appliances': {1: ('2014-02-02', '2014-02-08')},\n",
       "    'unseen_appliances': {2: ('2013-06-01', '2013-06-07')}}}}}"
      ]
     },
     "execution_count": 10,
     "metadata": {},
     "output_type": "execute_result"
    }
   ],
   "source": [
    "report = pipeline.report()\n",
    "report['activations'] = LOADER_CONFIG\n",
    "report"
   ]
  },
  {
   "cell_type": "code",
   "execution_count": 11,
   "metadata": {
    "collapsed": true
   },
   "outputs": [],
   "source": [
    "from lasagne.layers import InputLayer, RecurrentLayer, DenseLayer, ReshapeLayer\n",
    "\n",
    "def get_net_0(input_shape, target_shape=None):\n",
    "    NUM_UNITS = {\n",
    "        'dense_layer_0': 100,\n",
    "        'dense_layer_1':  50,\n",
    "        'dense_layer_2': 100\n",
    "    }\n",
    "\n",
    "    if target_shape is None:\n",
    "        target_shape = input_shape\n",
    "    \n",
    "    # Define layers\n",
    "    input_layer = InputLayer(\n",
    "        shape=input_shape\n",
    "    )\n",
    "    \n",
    "    # Dense layers\n",
    "    dense_layer_0 = DenseLayer(\n",
    "        input_layer, \n",
    "        num_units=NUM_UNITS['dense_layer_0']\n",
    "    )\n",
    "    dense_layer_1 = DenseLayer(\n",
    "        dense_layer_0, \n",
    "        num_units=NUM_UNITS['dense_layer_1']\n",
    "    )\n",
    "    dense_layer_2 = DenseLayer(\n",
    "        dense_layer_1, \n",
    "        num_units=NUM_UNITS['dense_layer_2']\n",
    "    )\n",
    "    \n",
    "    # Output\n",
    "    final_dense_layer = DenseLayer(\n",
    "        dense_layer_0,\n",
    "        num_units=target_shape[1] * target_shape[2],\n",
    "        nonlinearity=None\n",
    "    )\n",
    "    output_layer = ReshapeLayer(\n",
    "        final_dense_layer,\n",
    "        shape=target_shape\n",
    "    )\n",
    "    return output_layer"
   ]
  },
  {
   "cell_type": "code",
   "execution_count": 12,
   "metadata": {
    "collapsed": true
   },
   "outputs": [],
   "source": [
    "from neuralnilm.net import Net\n",
    "\n",
    "batch = pipeline.get_batch()\n",
    "output_layer = get_net_0(\n",
    "    batch.after_processing.input.shape, \n",
    "    batch.after_processing.target.shape\n",
    ")\n",
    "net = Net(output_layer)"
   ]
  },
  {
   "cell_type": "code",
   "execution_count": 14,
   "metadata": {
    "collapsed": false
   },
   "outputs": [],
   "source": [
    "from pymongo import MongoClient\n",
    "client = MongoClient()\n",
    "client.drop_database('neuralnilm_experiments')\n",
    "db = client.neuralnilm_experiments"
   ]
  },
  {
   "cell_type": "code",
   "execution_count": 15,
   "metadata": {
    "collapsed": false
   },
   "outputs": [
    {
     "name": "stderr",
     "output_type": "stream",
     "text": [
      "INFO:neuralnilm.trainer:Iteration 0: Change learning rate to 1.0E-02\n"
     ]
    }
   ],
   "source": [
    "from neuralnilm.trainer import Trainer\n",
    "from neuralnilm.metrics import Metrics\n",
    "\n",
    "trainer = Trainer(\n",
    "    net=net,\n",
    "    data_pipeline=pipeline,\n",
    "    db=db,\n",
    "    experiment_id=0,\n",
    "    metrics=Metrics([4]),\n",
    "    learning_rate=1E-2,\n",
    "    repeat_callbacks=[\n",
    "        ( 100, Trainer.validate)\n",
    "    ]\n",
    ")"
   ]
  },
  {
   "cell_type": "code",
   "execution_count": 16,
   "metadata": {
    "collapsed": false
   },
   "outputs": [
    {
     "name": "stderr",
     "output_type": "stream",
     "text": [
      "INFO:neuralnilm.trainer:Starting training for 400 iterations.\n",
      "INFO:neuralnilm.trainer:Compiling train cost function...\n",
      "INFO:neuralnilm.trainer:Done compiling cost function.\n",
      "INFO:neuralnilm.net:Compiling deterministic output function...\n",
      "INFO:neuralnilm.net:Done compiling deterministic output function.\n",
      "/usr/local/lib/python2.7/dist-packages/sklearn/metrics/classification.py:958: UndefinedMetricWarning: F-score is ill-defined and being set to 0.0 due to no predicted samples.\n",
      "  'precision', 'predicted', average, warn_for)\n",
      "/usr/local/lib/python2.7/dist-packages/sklearn/metrics/classification.py:958: UndefinedMetricWarning: Precision is ill-defined and being set to 0.0 due to no predicted samples.\n",
      "  'precision', 'predicted', average, warn_for)\n",
      "INFO:neuralnilm.trainer:Stopped training. Completed 400 iterations.\n"
     ]
    }
   ],
   "source": [
    "trainer.fit(400)"
   ]
  },
  {
   "cell_type": "code",
   "execution_count": 17,
   "metadata": {
    "collapsed": false
   },
   "outputs": [
    {
     "data": {
      "text/plain": [
       "400"
      ]
     },
     "execution_count": 17,
     "metadata": {},
     "output_type": "execute_result"
    }
   ],
   "source": [
    "net.train_iterations"
   ]
  },
  {
   "cell_type": "code",
   "execution_count": 18,
   "metadata": {
    "collapsed": false
   },
   "outputs": [
    {
     "data": {
      "text/plain": [
       "[{u'_id': ObjectId('55dc375c42c36471179ec6fd'),\n",
       "  u'iteration': 0,\n",
       "  u'loss': 1.7165750055169242},\n",
       " {u'_id': ObjectId('55dc375c42c36471179ec704'),\n",
       "  u'iteration': 1,\n",
       "  u'loss': 1.8612893482468897},\n",
       " {u'_id': ObjectId('55dc375c42c36471179ec705'),\n",
       "  u'iteration': 2,\n",
       "  u'loss': 1.819778201536833},\n",
       " {u'_id': ObjectId('55dc375c42c36471179ec706'),\n",
       "  u'iteration': 3,\n",
       "  u'loss': 1.6753792735831867},\n",
       " {u'_id': ObjectId('55dc375c42c36471179ec707'),\n",
       "  u'iteration': 4,\n",
       "  u'loss': 1.61027910481034},\n",
       " {u'_id': ObjectId('55dc375c42c36471179ec708'),\n",
       "  u'iteration': 5,\n",
       "  u'loss': 1.4248851352075222},\n",
       " {u'_id': ObjectId('55dc375c42c36471179ec709'),\n",
       "  u'iteration': 6,\n",
       "  u'loss': 1.3633179873615835},\n",
       " {u'_id': ObjectId('55dc375c42c36471179ec70a'),\n",
       "  u'iteration': 7,\n",
       "  u'loss': 1.4568288230269826},\n",
       " {u'_id': ObjectId('55dc375c42c36471179ec70b'),\n",
       "  u'iteration': 8,\n",
       "  u'loss': 1.373742405577064},\n",
       " {u'_id': ObjectId('55dc375c42c36471179ec70c'),\n",
       "  u'iteration': 9,\n",
       "  u'loss': 1.2719674040153908},\n",
       " {u'_id': ObjectId('55dc375c42c36471179ec70d'),\n",
       "  u'iteration': 10,\n",
       "  u'loss': 1.2425367222334078},\n",
       " {u'_id': ObjectId('55dc375c42c36471179ec70e'),\n",
       "  u'iteration': 11,\n",
       "  u'loss': 1.2547869787990176},\n",
       " {u'_id': ObjectId('55dc375c42c36471179ec70f'),\n",
       "  u'iteration': 12,\n",
       "  u'loss': 1.2429230281026833},\n",
       " {u'_id': ObjectId('55dc375c42c36471179ec710'),\n",
       "  u'iteration': 13,\n",
       "  u'loss': 1.1700702832156251},\n",
       " {u'_id': ObjectId('55dc375c42c36471179ec711'),\n",
       "  u'iteration': 14,\n",
       "  u'loss': 1.1084724695734638},\n",
       " {u'_id': ObjectId('55dc375c42c36471179ec712'),\n",
       "  u'iteration': 15,\n",
       "  u'loss': 1.1267122608453395},\n",
       " {u'_id': ObjectId('55dc375c42c36471179ec713'),\n",
       "  u'iteration': 16,\n",
       "  u'loss': 1.028180436881262},\n",
       " {u'_id': ObjectId('55dc375c42c36471179ec714'),\n",
       "  u'iteration': 17,\n",
       "  u'loss': 1.0820004072895306},\n",
       " {u'_id': ObjectId('55dc375d42c36471179ec715'),\n",
       "  u'iteration': 18,\n",
       "  u'loss': 1.1099037429261973},\n",
       " {u'_id': ObjectId('55dc375d42c36471179ec716'),\n",
       "  u'iteration': 19,\n",
       "  u'loss': 1.2157939722747708},\n",
       " {u'_id': ObjectId('55dc375d42c36471179ec717'),\n",
       "  u'iteration': 20,\n",
       "  u'loss': 1.0630374151176532},\n",
       " {u'_id': ObjectId('55dc375d42c36471179ec718'),\n",
       "  u'iteration': 21,\n",
       "  u'loss': 1.1573505013597023},\n",
       " {u'_id': ObjectId('55dc375d42c36471179ec719'),\n",
       "  u'iteration': 22,\n",
       "  u'loss': 1.0949323014955172},\n",
       " {u'_id': ObjectId('55dc375d42c36471179ec71a'),\n",
       "  u'iteration': 23,\n",
       "  u'loss': 1.0787455666673609},\n",
       " {u'_id': ObjectId('55dc375d42c36471179ec71b'),\n",
       "  u'iteration': 24,\n",
       "  u'loss': 1.067794783345591},\n",
       " {u'_id': ObjectId('55dc375d42c36471179ec71c'),\n",
       "  u'iteration': 25,\n",
       "  u'loss': 1.0587965592154263},\n",
       " {u'_id': ObjectId('55dc375d42c36471179ec71d'),\n",
       "  u'iteration': 26,\n",
       "  u'loss': 1.0756678823046881},\n",
       " {u'_id': ObjectId('55dc375d42c36471179ec71e'),\n",
       "  u'iteration': 27,\n",
       "  u'loss': 1.1131668262032197},\n",
       " {u'_id': ObjectId('55dc375d42c36471179ec71f'),\n",
       "  u'iteration': 28,\n",
       "  u'loss': 1.1077260661537927},\n",
       " {u'_id': ObjectId('55dc375d42c36471179ec720'),\n",
       "  u'iteration': 29,\n",
       "  u'loss': 1.1364684906612839},\n",
       " {u'_id': ObjectId('55dc375d42c36471179ec721'),\n",
       "  u'iteration': 30,\n",
       "  u'loss': 1.1097493714031026},\n",
       " {u'_id': ObjectId('55dc375d42c36471179ec722'),\n",
       "  u'iteration': 31,\n",
       "  u'loss': 1.0429354952664742},\n",
       " {u'_id': ObjectId('55dc375d42c36471179ec723'),\n",
       "  u'iteration': 32,\n",
       "  u'loss': 1.1053588706915483},\n",
       " {u'_id': ObjectId('55dc375d42c36471179ec724'),\n",
       "  u'iteration': 33,\n",
       "  u'loss': 1.1378591861373872},\n",
       " {u'_id': ObjectId('55dc375d42c36471179ec725'),\n",
       "  u'iteration': 34,\n",
       "  u'loss': 1.0976678055312965},\n",
       " {u'_id': ObjectId('55dc375d42c36471179ec726'),\n",
       "  u'iteration': 35,\n",
       "  u'loss': 1.0540284828386088},\n",
       " {u'_id': ObjectId('55dc375d42c36471179ec727'),\n",
       "  u'iteration': 36,\n",
       "  u'loss': 1.0700791329765915},\n",
       " {u'_id': ObjectId('55dc375d42c36471179ec728'),\n",
       "  u'iteration': 37,\n",
       "  u'loss': 1.0565019748180273},\n",
       " {u'_id': ObjectId('55dc375d42c36471179ec729'),\n",
       "  u'iteration': 38,\n",
       "  u'loss': 1.1090753072287451},\n",
       " {u'_id': ObjectId('55dc375d42c36471179ec72a'),\n",
       "  u'iteration': 39,\n",
       "  u'loss': 0.9843653199937041},\n",
       " {u'_id': ObjectId('55dc375d42c36471179ec72b'),\n",
       "  u'iteration': 40,\n",
       "  u'loss': 0.9912526050185385},\n",
       " {u'_id': ObjectId('55dc375d42c36471179ec72c'),\n",
       "  u'iteration': 41,\n",
       "  u'loss': 1.1507039454495076},\n",
       " {u'_id': ObjectId('55dc375d42c36471179ec72d'),\n",
       "  u'iteration': 42,\n",
       "  u'loss': 1.0706933549909352},\n",
       " {u'_id': ObjectId('55dc375d42c36471179ec72e'),\n",
       "  u'iteration': 43,\n",
       "  u'loss': 1.007491030654315},\n",
       " {u'_id': ObjectId('55dc375d42c36471179ec72f'),\n",
       "  u'iteration': 44,\n",
       "  u'loss': 1.0170138220743128},\n",
       " {u'_id': ObjectId('55dc375d42c36471179ec730'),\n",
       "  u'iteration': 45,\n",
       "  u'loss': 0.9935306500288529},\n",
       " {u'_id': ObjectId('55dc375d42c36471179ec731'),\n",
       "  u'iteration': 46,\n",
       "  u'loss': 1.036383557942705},\n",
       " {u'_id': ObjectId('55dc375d42c36471179ec732'),\n",
       "  u'iteration': 47,\n",
       "  u'loss': 1.059685499855705},\n",
       " {u'_id': ObjectId('55dc375d42c36471179ec733'),\n",
       "  u'iteration': 48,\n",
       "  u'loss': 0.999698223277378},\n",
       " {u'_id': ObjectId('55dc375d42c36471179ec734'),\n",
       "  u'iteration': 49,\n",
       "  u'loss': 1.0810384208725619}]"
      ]
     },
     "execution_count": 18,
     "metadata": {},
     "output_type": "execute_result"
    }
   ],
   "source": [
    "import pymongo\n",
    "list(db.train_scores.find(\n",
    "        filter={'experiment_id': 0},\n",
    "        sort=[('iteration', pymongo.ASCENDING)],\n",
    "        projection=['iteration', 'loss']\n",
    "    ).limit(50))"
   ]
  },
  {
   "cell_type": "code",
   "execution_count": 19,
   "metadata": {
    "collapsed": false
   },
   "outputs": [
    {
     "data": {
      "text/plain": [
       "[{u'_id': ObjectId('55dc375c42c36471179ec6fe'),\n",
       "  u'experiment_id': 0,\n",
       "  u'fold': u'train',\n",
       "  u'iteration': 0,\n",
       "  u'metric_type': u'classification',\n",
       "  u'num_states': 2,\n",
       "  u'scores': {u'accuracy_score': 0.99652099609375,\n",
       "   u'f1_score': 0.0,\n",
       "   u'precision_score': 0.0,\n",
       "   u'recall_score': 0.0},\n",
       "  u'source_name': u'SyntheticAggregateSource'},\n",
       " {u'_id': ObjectId('55dc375f42c36471179ec768'),\n",
       "  u'experiment_id': 0,\n",
       "  u'fold': u'train',\n",
       "  u'iteration': 100,\n",
       "  u'metric_type': u'classification',\n",
       "  u'num_states': 2,\n",
       "  u'scores': {u'accuracy_score': 0.997802734375,\n",
       "   u'f1_score': 0.0,\n",
       "   u'precision_score': 0.0,\n",
       "   u'recall_score': 0.0},\n",
       "  u'source_name': u'SyntheticAggregateSource'},\n",
       " {u'_id': ObjectId('55dc376142c36471179ec7d2'),\n",
       "  u'experiment_id': 0,\n",
       "  u'fold': u'train',\n",
       "  u'iteration': 200,\n",
       "  u'metric_type': u'classification',\n",
       "  u'num_states': 2,\n",
       "  u'scores': {u'accuracy_score': 0.99761962890625,\n",
       "   u'f1_score': 0.0,\n",
       "   u'precision_score': 0.0,\n",
       "   u'recall_score': 0.0},\n",
       "  u'source_name': u'SyntheticAggregateSource'},\n",
       " {u'_id': ObjectId('55dc376342c36471179ec83c'),\n",
       "  u'experiment_id': 0,\n",
       "  u'fold': u'train',\n",
       "  u'iteration': 300,\n",
       "  u'metric_type': u'classification',\n",
       "  u'num_states': 2,\n",
       "  u'scores': {u'accuracy_score': 0.99658203125,\n",
       "   u'f1_score': 0.0,\n",
       "   u'precision_score': 0.0,\n",
       "   u'recall_score': 0.0},\n",
       "  u'source_name': u'SyntheticAggregateSource'},\n",
       " {u'_id': ObjectId('55dc376642c36471179ec8a6'),\n",
       "  u'experiment_id': 0,\n",
       "  u'fold': u'train',\n",
       "  u'iteration': 400,\n",
       "  u'metric_type': u'classification',\n",
       "  u'num_states': 2,\n",
       "  u'scores': {u'accuracy_score': 0.9976806640625,\n",
       "   u'f1_score': 0.0,\n",
       "   u'precision_score': 0.0,\n",
       "   u'recall_score': 0.0},\n",
       "  u'source_name': u'SyntheticAggregateSource'}]"
      ]
     },
     "execution_count": 19,
     "metadata": {},
     "output_type": "execute_result"
    }
   ],
   "source": [
    "list(db.validation_scores.find({'fold': 'train', 'metric_type': 'classification'}).sort('iteration', pymongo.ASCENDING).limit(50))"
   ]
  },
  {
   "cell_type": "code",
   "execution_count": 20,
   "metadata": {
    "collapsed": false
   },
   "outputs": [
    {
     "data": {
      "text/plain": [
       "[{u'_id': 0, u'max_acc': None, u'max_iteration': 400}]"
      ]
     },
     "execution_count": 20,
     "metadata": {},
     "output_type": "execute_result"
    }
   ],
   "source": [
    "agg_pipeline = [\n",
    "    {\"$group\": {\n",
    "            \"_id\": \"$experiment_id\",\n",
    "            \"max_acc\": {\"$max\": \"$SyntheticAggregateSource.unseen_appliances.2_state_classification.accuracy_score\"},\n",
    "            \"max_iteration\": {\"$max\": \"$iteration\"}\n",
    "        }}\n",
    "]\n",
    "list(db.validation_scores.aggregate(agg_pipeline))"
   ]
  },
  {
   "cell_type": "code",
   "execution_count": 21,
   "metadata": {
    "collapsed": false
   },
   "outputs": [],
   "source": [
    "from monary import Monary"
   ]
  },
  {
   "cell_type": "code",
   "execution_count": 22,
   "metadata": {
    "collapsed": true
   },
   "outputs": [],
   "source": [
    "monary = Monary()"
   ]
  },
  {
   "cell_type": "code",
   "execution_count": 34,
   "metadata": {
    "collapsed": false
   },
   "outputs": [],
   "source": [
    "iterations, loss = monary.query(\n",
    "    db='neuralnilm_experiments',\n",
    "    coll='train_scores',\n",
    "    query={\n",
    "        'experiment_id': 0,\n",
    "        'iteration': {'$gt': 500}\n",
    "    },\n",
    "    fields=['iteration', 'loss'],\n",
    "    types=['int32', 'float32']\n",
    ")"
   ]
  },
  {
   "cell_type": "code",
   "execution_count": 35,
   "metadata": {
    "collapsed": false
   },
   "outputs": [],
   "source": [
    "import matplotlib.pyplot as plt\n",
    "plt.plot(iterations, loss)\n",
    "plt.show()"
   ]
  },
  {
   "cell_type": "code",
   "execution_count": 25,
   "metadata": {
    "collapsed": false
   },
   "outputs": [],
   "source": [
    "iterations, f1_score = monary.query(\n",
    "    db='neuralnilm_experiments',\n",
    "    coll='validation_scores',\n",
    "    query={\n",
    "        'experiment_id': 0, \n",
    "        'source_name': 'SyntheticAggregateSource',\n",
    "        'fold': 'train',\n",
    "        'metric_type': 'classification'\n",
    "    },\n",
    "    fields=['iteration', 'scores.f1_score'],\n",
    "    types=['int64', 'float32']\n",
    ")"
   ]
  },
  {
   "cell_type": "code",
   "execution_count": 26,
   "metadata": {
    "collapsed": false
   },
   "outputs": [
    {
     "data": {
      "text/plain": [
       "masked_array(data = [0.0 0.0 0.0 0.0 0.0],\n",
       "             mask = [False False False False False],\n",
       "       fill_value = 1e+20)"
      ]
     },
     "execution_count": 26,
     "metadata": {},
     "output_type": "execute_result"
    }
   ],
   "source": [
    "f1_score"
   ]
  },
  {
   "cell_type": "code",
   "execution_count": 27,
   "metadata": {
    "collapsed": false
   },
   "outputs": [
    {
     "data": {
      "text/plain": [
       "[u'f1_score', u'recall_score', u'accuracy_score', u'precision_score']"
      ]
     },
     "execution_count": 27,
     "metadata": {},
     "output_type": "execute_result"
    }
   ],
   "source": [
    "db.validation_scores.find_one(\n",
    "    filter={\n",
    "        'experiment_id': 0,\n",
    "        'metric_type': 'classification'\n",
    "    }\n",
    ")['scores'].keys()"
   ]
  },
  {
   "cell_type": "code",
   "execution_count": 28,
   "metadata": {
    "collapsed": true
   },
   "outputs": [],
   "source": [
    "db.validation_scores.find_one(\n",
    "    filter={\n",
    "        'experiment_id': 1,\n",
    "        'metric_type': 'classification'\n",
    "    }\n",
    ")"
   ]
  },
  {
   "cell_type": "code",
   "execution_count": 38,
   "metadata": {
    "collapsed": false
   },
   "outputs": [],
   "source": [
    "row = db.train_scores.find_one(\n",
    "    filter={'iteration': {'$gt': 1000}}\n",
    ")"
   ]
  },
  {
   "cell_type": "code",
   "execution_count": 40,
   "metadata": {
    "collapsed": false
   },
   "outputs": [
    {
     "data": {
      "text/plain": [
       "True"
      ]
     },
     "execution_count": 40,
     "metadata": {},
     "output_type": "execute_result"
    }
   ],
   "source": [
    "row is None"
   ]
  },
  {
   "cell_type": "code",
   "execution_count": null,
   "metadata": {
    "collapsed": true
   },
   "outputs": [],
   "source": []
  }
 ],
 "metadata": {
  "kernelspec": {
   "display_name": "Python 2",
   "language": "python",
   "name": "python2"
  },
  "language_info": {
   "codemirror_mode": {
    "name": "ipython",
    "version": 2
   },
   "file_extension": ".py",
   "mimetype": "text/x-python",
   "name": "python",
   "nbconvert_exporter": "python",
   "pygments_lexer": "ipython2",
   "version": "2.7.9"
  }
 },
 "nbformat": 4,
 "nbformat_minor": 0
}
