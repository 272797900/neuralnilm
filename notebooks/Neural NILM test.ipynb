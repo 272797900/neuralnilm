{
 "cells": [
  {
   "cell_type": "code",
   "execution_count": 1,
   "metadata": {
    "collapsed": false
   },
   "outputs": [],
   "source": [
    "from __future__ import print_function, division\n",
    "import matplotlib.pyplot as plt\n",
    "import pandas as pd\n",
    "\n",
    "from neuralnilm.data.loadactivations import load_nilmtk_activations\n",
    "from neuralnilm.data.syntheticaggregatesource import SyntheticAggregateSource\n",
    "from neuralnilm.data.datapipeline import DataPipeline\n",
    "from neuralnilm.data.processing import DivideBy\n",
    "from neuralnilm.data.datathread import DataThread"
   ]
  },
  {
   "cell_type": "code",
   "execution_count": 2,
   "metadata": {
    "collapsed": false
   },
   "outputs": [
    {
     "name": "stderr",
     "output_type": "stream",
     "text": [
      "INFO:neuralnilm.data.loadactivations:Loading NILMTK activations...\n",
      "INFO:neuralnilm.data.loadactivations:Loading kettle for UK-DALE_building_1...\n",
      "INFO:neuralnilm.data.loadactivations:Loaded 112 kettle activations from UK-DALE_building_1.\n",
      "INFO:neuralnilm.data.loadactivations:Loading microwave for UK-DALE_building_1...\n",
      "INFO:neuralnilm.data.loadactivations:Loaded 119 microwave activations from UK-DALE_building_1.\n",
      "INFO:neuralnilm.data.loadactivations:Loading washing machine for UK-DALE_building_1...\n",
      "INFO:neuralnilm.data.loadactivations:Loaded 23 washing machine activations from UK-DALE_building_1.\n",
      "INFO:neuralnilm.data.loadactivations:Loading kettle for UK-DALE_building_2...\n",
      "INFO:neuralnilm.data.loadactivations:Loaded 31 kettle activations from UK-DALE_building_2.\n",
      "INFO:neuralnilm.data.loadactivations:Loading microwave for UK-DALE_building_2...\n",
      "INFO:neuralnilm.data.loadactivations:Loaded 30 microwave activations from UK-DALE_building_2.\n",
      "INFO:neuralnilm.data.loadactivations:Loading washing machine for UK-DALE_building_2...\n",
      "INFO:neuralnilm.data.loadactivations:Loaded 2 washing machine activations from UK-DALE_building_2.\n",
      "INFO:neuralnilm.data.loadactivations:Loading kettle for UK-DALE_building_1...\n",
      "INFO:neuralnilm.data.loadactivations:Loaded 28 kettle activations from UK-DALE_building_1.\n",
      "INFO:neuralnilm.data.loadactivations:Loading microwave for UK-DALE_building_1...\n",
      "INFO:neuralnilm.data.loadactivations:Loaded 28 microwave activations from UK-DALE_building_1.\n",
      "INFO:neuralnilm.data.loadactivations:Loading washing machine for UK-DALE_building_1...\n",
      "INFO:neuralnilm.data.loadactivations:Loaded 5 washing machine activations from UK-DALE_building_1.\n",
      "INFO:neuralnilm.data.loadactivations:Done loading NILMTK activations.\n"
     ]
    }
   ],
   "source": [
    "NILMTK_FILENAME = '/data/mine/vadeec/merged/ukdale.h5'\n",
    "TARGET_APPLIANCE = 'kettle'\n",
    "SEQ_LENGTH = 256\n",
    "SAMPLE_PERIOD = 6\n",
    "STRIDE = 4\n",
    "\n",
    "LOADER_CONFIG = {\n",
    "    'nilmtk_activations': dict(\n",
    "        appliances=['kettle', 'microwave', 'washing machine'],\n",
    "        filename=NILMTK_FILENAME,\n",
    "        sample_period=SAMPLE_PERIOD,\n",
    "        windows={\n",
    "            'train': {\n",
    "                1: (\"2014-01-01\", \"2014-02-01\")\n",
    "            },\n",
    "            'unseen_activations_of_seen_appliances': {\n",
    "                1: (\"2014-02-02\", \"2014-02-08\")                \n",
    "            },\n",
    "            'unseen_appliances': {\n",
    "                2: (\"2013-06-01\", \"2013-06-07\")\n",
    "            }\n",
    "        }\n",
    "    )\n",
    "}\n",
    "\n",
    "nilmtk_activations = load_nilmtk_activations(**LOADER_CONFIG['nilmtk_activations'])"
   ]
  },
  {
   "cell_type": "code",
   "execution_count": 3,
   "metadata": {
    "collapsed": false
   },
   "outputs": [
    {
     "data": {
      "text/plain": [
       "['train', 'unseen_activations_of_seen_appliances', 'unseen_appliances']"
      ]
     },
     "execution_count": 3,
     "metadata": {},
     "output_type": "execute_result"
    }
   ],
   "source": [
    "nilmtk_activations.keys()"
   ]
  },
  {
   "cell_type": "code",
   "execution_count": 4,
   "metadata": {
    "collapsed": false
   },
   "outputs": [],
   "source": [
    "source = SyntheticAggregateSource(\n",
    "    activations=nilmtk_activations,\n",
    "    target_appliance=TARGET_APPLIANCE,\n",
    "    seq_length=SEQ_LENGTH,\n",
    "    allow_incomplete_target=False\n",
    ")"
   ]
  },
  {
   "cell_type": "code",
   "execution_count": 5,
   "metadata": {
    "collapsed": false
   },
   "outputs": [],
   "source": [
    "FOLD = 'train'\n",
    "#FOLD = 'unseen_activations_of_seen_appliances'\n",
    "#FOLD = 'unseen_appliances'\n",
    "seq = source.get_sequence(enable_all_appliances=True)"
   ]
  },
  {
   "cell_type": "code",
   "execution_count": 6,
   "metadata": {
    "collapsed": false
   },
   "outputs": [],
   "source": [
    "#all(seq.all_appliances.sum(axis=1) == seq.input[:, 0])"
   ]
  },
  {
   "cell_type": "code",
   "execution_count": 7,
   "metadata": {
    "collapsed": false
   },
   "outputs": [],
   "source": [
    "#fig, axes = plt.subplots(2, sharex=True)\n",
    "#seq.all_appliances.plot(ax=axes[0])\n",
    "#axes[1].plot(seq.input)\n",
    "#fig.suptitle(FOLD)\n",
    "#plt.show()"
   ]
  },
  {
   "cell_type": "code",
   "execution_count": 8,
   "metadata": {
    "collapsed": false
   },
   "outputs": [],
   "source": [
    "sample = source.get_batch(num_seq_per_batch=1024)"
   ]
  },
  {
   "cell_type": "code",
   "execution_count": 9,
   "metadata": {
    "collapsed": false
   },
   "outputs": [],
   "source": [
    "pipeline = DataPipeline(\n",
    "    [source],\n",
    "    num_seq_per_batch=64,\n",
    "    input_processing=[DivideBy(sample.before_processing.input.flatten().std())],\n",
    "    target_processing=[DivideBy(sample.before_processing.target.flatten().std())]\n",
    ")"
   ]
  },
  {
   "cell_type": "markdown",
   "metadata": {},
   "source": [
    "# Disaggregation"
   ]
  },
  {
   "cell_type": "markdown",
   "metadata": {
    "collapsed": true
   },
   "source": [
    "nilmtk_disag_source = NILMTKDisagSource(\n",
    "    filename=NILMTK_FILENAME,\n",
    "    target_appliance=TARGET_APPLIANCE,\n",
    "    seq_length=SEQ_LENGTH,\n",
    "    buildings=[5],\n",
    "    window_per_building={},\n",
    "    stride=STRIDE,\n",
    "    sample_period=SAMPLE_PERIOD\n",
    ")"
   ]
  },
  {
   "cell_type": "markdown",
   "metadata": {
    "collapsed": true
   },
   "source": [
    "disag_pipeline = deepcopy(pipeline)\n",
    "disag_pipeline.source = nilmtk_disag_source"
   ]
  },
  {
   "cell_type": "markdown",
   "metadata": {
    "collapsed": true
   },
   "source": [
    "disaggregator = Disaggregator(\n",
    "    pipeline=disag_pipeline,\n",
    "    output_path=PATH  # \n",
    ")"
   ]
  },
  {
   "cell_type": "markdown",
   "metadata": {},
   "source": [
    "Disagregator ideas:\n",
    "\n",
    "* make a copy of pipeline but swap source for a NILMTKDisagSource\n",
    "* NILMTKDisagSource loads all data into memory (?) and iterates over chunks of it (get seq_length from pipeline.source.seq_length)\n",
    "* "
   ]
  },
  {
   "cell_type": "code",
   "execution_count": 10,
   "metadata": {
    "collapsed": false
   },
   "outputs": [
    {
     "data": {
      "text/plain": [
       "{'DataPipeline': {'SyntheticAggregateSource': {'allow_incomplete_distractors': True,\n",
       "   'allow_incomplete_target': False,\n",
       "   'distractor_inclusion_prob': 1.0,\n",
       "   'include_incomplete_target_in_output': True,\n",
       "   'rng_seed': None,\n",
       "   'seq_length': 256,\n",
       "   'target_appliance': 'kettle',\n",
       "   'target_inclusion_prob': 1.0,\n",
       "   'uniform_prob_of_selecting_each_model': True},\n",
       "  'input_processing': [{'DivideBy': {'divisor': 983.42395}}],\n",
       "  'num_seq_per_batch': 64,\n",
       "  'target_processing': [{'DivideBy': {'divisor': 597.30963}}]},\n",
       " 'activations': {'nilmtk_activations': {'appliances': ['kettle',\n",
       "    'microwave',\n",
       "    'washing machine'],\n",
       "   'filename': '/data/mine/vadeec/merged/ukdale.h5',\n",
       "   'sample_period': 6,\n",
       "   'windows': {'train': {1: ('2014-01-01', '2014-02-01')},\n",
       "    'unseen_activations_of_seen_appliances': {1: ('2014-02-02', '2014-02-08')},\n",
       "    'unseen_appliances': {2: ('2013-06-01', '2013-06-07')}}}}}"
      ]
     },
     "execution_count": 10,
     "metadata": {},
     "output_type": "execute_result"
    }
   ],
   "source": [
    "report = pipeline.report()\n",
    "report['activations'] = LOADER_CONFIG\n",
    "report"
   ]
  },
  {
   "cell_type": "code",
   "execution_count": 11,
   "metadata": {
    "collapsed": true
   },
   "outputs": [],
   "source": [
    "from lasagne.layers import InputLayer, RecurrentLayer, DenseLayer, ReshapeLayer\n",
    "\n",
    "def get_net_0(input_shape, target_shape=None):\n",
    "    NUM_UNITS = {\n",
    "        'dense_layer_0': 100,\n",
    "        'dense_layer_1':  50,\n",
    "        'dense_layer_2': 100\n",
    "    }\n",
    "\n",
    "    if target_shape is None:\n",
    "        target_shape = input_shape\n",
    "    \n",
    "    # Define layers\n",
    "    input_layer = InputLayer(\n",
    "        shape=input_shape\n",
    "    )\n",
    "    \n",
    "    # Dense layers\n",
    "    dense_layer_0 = DenseLayer(\n",
    "        input_layer, \n",
    "        num_units=NUM_UNITS['dense_layer_0']\n",
    "    )\n",
    "    dense_layer_1 = DenseLayer(\n",
    "        dense_layer_0, \n",
    "        num_units=NUM_UNITS['dense_layer_1']\n",
    "    )\n",
    "    dense_layer_2 = DenseLayer(\n",
    "        dense_layer_1, \n",
    "        num_units=NUM_UNITS['dense_layer_2']\n",
    "    )\n",
    "    \n",
    "    # Output\n",
    "    final_dense_layer = DenseLayer(\n",
    "        dense_layer_0,\n",
    "        num_units=target_shape[1] * target_shape[2],\n",
    "        nonlinearity=None\n",
    "    )\n",
    "    output_layer = ReshapeLayer(\n",
    "        final_dense_layer,\n",
    "        shape=target_shape\n",
    "    )\n",
    "    return output_layer"
   ]
  },
  {
   "cell_type": "code",
   "execution_count": 12,
   "metadata": {
    "collapsed": true
   },
   "outputs": [],
   "source": [
    "from neuralnilm.net import Net\n",
    "\n",
    "batch = pipeline.get_batch()\n",
    "output_layer = get_net_0(\n",
    "    batch.after_processing.input.shape, \n",
    "    batch.after_processing.target.shape\n",
    ")\n",
    "net = Net(output_layer)"
   ]
  },
  {
   "cell_type": "code",
   "execution_count": 33,
   "metadata": {
    "collapsed": false
   },
   "outputs": [],
   "source": [
    "from pymongo import MongoClient\n",
    "client = MongoClient()\n",
    "client.drop_database('neuralnilm_experiments')\n",
    "db = client.neuralnilm_experiments"
   ]
  },
  {
   "cell_type": "code",
   "execution_count": 34,
   "metadata": {
    "collapsed": false
   },
   "outputs": [
    {
     "name": "stderr",
     "output_type": "stream",
     "text": [
      "INFO:neuralnilm.trainer:Iteration 300: Change learning rate to 1.0E-02\n"
     ]
    }
   ],
   "source": [
    "from neuralnilm.trainer import Trainer\n",
    "from neuralnilm.metrics import Metrics\n",
    "\n",
    "trainer = Trainer(\n",
    "    net=net,\n",
    "    data_pipeline=pipeline,\n",
    "    db=db,\n",
    "    experiment_id=0,\n",
    "    metrics=Metrics([4]),\n",
    "    learning_rate=1E-2,\n",
    "    repeat_callbacks=[\n",
    "        ( 100, Trainer.validate)\n",
    "    ]\n",
    ")"
   ]
  },
  {
   "cell_type": "code",
   "execution_count": 35,
   "metadata": {
    "collapsed": false
   },
   "outputs": [
    {
     "name": "stderr",
     "output_type": "stream",
     "text": [
      "INFO:neuralnilm.trainer:Starting training for 400 iterations.\n",
      "INFO:neuralnilm.trainer:Compiling train cost function...\n",
      "INFO:neuralnilm.trainer:Done compiling cost function.\n",
      "/usr/local/lib/python2.7/dist-packages/sklearn/metrics/classification.py:958: UndefinedMetricWarning: F-score is ill-defined and being set to 0.0 due to no predicted samples.\n",
      "  'precision', 'predicted', average, warn_for)\n",
      "/usr/local/lib/python2.7/dist-packages/sklearn/metrics/classification.py:958: UndefinedMetricWarning: Precision is ill-defined and being set to 0.0 due to no predicted samples.\n",
      "  'precision', 'predicted', average, warn_for)\n",
      "INFO:neuralnilm.trainer:Stopped training. Completed 400 iterations.\n"
     ]
    }
   ],
   "source": [
    "trainer.fit(400)"
   ]
  },
  {
   "cell_type": "code",
   "execution_count": 36,
   "metadata": {
    "collapsed": false
   },
   "outputs": [
    {
     "data": {
      "text/plain": [
       "400"
      ]
     },
     "execution_count": 36,
     "metadata": {},
     "output_type": "execute_result"
    }
   ],
   "source": [
    "net.train_iterations"
   ]
  },
  {
   "cell_type": "code",
   "execution_count": 37,
   "metadata": {
    "collapsed": false
   },
   "outputs": [
    {
     "data": {
      "text/plain": [
       "[{u'_id': ObjectId('55db3388a0777c31ba614aac'),\n",
       "  u'experiment_id': 0,\n",
       "  u'iteration': 400,\n",
       "  u'loss': 0.7110679745674133,\n",
       "  u'source_name': u'SyntheticAggregateSource'},\n",
       " {u'_id': ObjectId('55db3388a0777c31ba614aab'),\n",
       "  u'experiment_id': 0,\n",
       "  u'iteration': 399,\n",
       "  u'loss': 0.7047500610351562,\n",
       "  u'source_name': u'SyntheticAggregateSource'},\n",
       " {u'_id': ObjectId('55db3388a0777c31ba614aaa'),\n",
       "  u'experiment_id': 0,\n",
       "  u'iteration': 398,\n",
       "  u'loss': 0.7938929200172424,\n",
       "  u'source_name': u'SyntheticAggregateSource'},\n",
       " {u'_id': ObjectId('55db3388a0777c31ba614aa9'),\n",
       "  u'experiment_id': 0,\n",
       "  u'iteration': 397,\n",
       "  u'loss': 0.7388677597045898,\n",
       "  u'source_name': u'SyntheticAggregateSource'},\n",
       " {u'_id': ObjectId('55db3388a0777c31ba614aa8'),\n",
       "  u'experiment_id': 0,\n",
       "  u'iteration': 396,\n",
       "  u'loss': 0.7386386394500732,\n",
       "  u'source_name': u'SyntheticAggregateSource'},\n",
       " {u'_id': ObjectId('55db3388a0777c31ba614aa7'),\n",
       "  u'experiment_id': 0,\n",
       "  u'iteration': 395,\n",
       "  u'loss': 0.7330898642539978,\n",
       "  u'source_name': u'SyntheticAggregateSource'},\n",
       " {u'_id': ObjectId('55db3388a0777c31ba614aa6'),\n",
       "  u'experiment_id': 0,\n",
       "  u'iteration': 394,\n",
       "  u'loss': 0.6975100040435791,\n",
       "  u'source_name': u'SyntheticAggregateSource'},\n",
       " {u'_id': ObjectId('55db3388a0777c31ba614aa5'),\n",
       "  u'experiment_id': 0,\n",
       "  u'iteration': 393,\n",
       "  u'loss': 0.729987382888794,\n",
       "  u'source_name': u'SyntheticAggregateSource'},\n",
       " {u'_id': ObjectId('55db3388a0777c31ba614aa4'),\n",
       "  u'experiment_id': 0,\n",
       "  u'iteration': 392,\n",
       "  u'loss': 0.7187235951423645,\n",
       "  u'source_name': u'SyntheticAggregateSource'},\n",
       " {u'_id': ObjectId('55db3388a0777c31ba614aa3'),\n",
       "  u'experiment_id': 0,\n",
       "  u'iteration': 391,\n",
       "  u'loss': 0.7453180551528931,\n",
       "  u'source_name': u'SyntheticAggregateSource'},\n",
       " {u'_id': ObjectId('55db3387a0777c31ba614aa2'),\n",
       "  u'experiment_id': 0,\n",
       "  u'iteration': 390,\n",
       "  u'loss': 0.7597471475601196,\n",
       "  u'source_name': u'SyntheticAggregateSource'},\n",
       " {u'_id': ObjectId('55db3387a0777c31ba614aa1'),\n",
       "  u'experiment_id': 0,\n",
       "  u'iteration': 389,\n",
       "  u'loss': 0.7051395773887634,\n",
       "  u'source_name': u'SyntheticAggregateSource'},\n",
       " {u'_id': ObjectId('55db3387a0777c31ba614aa0'),\n",
       "  u'experiment_id': 0,\n",
       "  u'iteration': 388,\n",
       "  u'loss': 0.7295527458190918,\n",
       "  u'source_name': u'SyntheticAggregateSource'},\n",
       " {u'_id': ObjectId('55db3387a0777c31ba614a9f'),\n",
       "  u'experiment_id': 0,\n",
       "  u'iteration': 387,\n",
       "  u'loss': 0.7003495097160339,\n",
       "  u'source_name': u'SyntheticAggregateSource'},\n",
       " {u'_id': ObjectId('55db3387a0777c31ba614a9e'),\n",
       "  u'experiment_id': 0,\n",
       "  u'iteration': 386,\n",
       "  u'loss': 0.7359649538993835,\n",
       "  u'source_name': u'SyntheticAggregateSource'},\n",
       " {u'_id': ObjectId('55db3387a0777c31ba614a9d'),\n",
       "  u'experiment_id': 0,\n",
       "  u'iteration': 385,\n",
       "  u'loss': 0.7639301419258118,\n",
       "  u'source_name': u'SyntheticAggregateSource'},\n",
       " {u'_id': ObjectId('55db3387a0777c31ba614a9c'),\n",
       "  u'experiment_id': 0,\n",
       "  u'iteration': 384,\n",
       "  u'loss': 0.7877216339111328,\n",
       "  u'source_name': u'SyntheticAggregateSource'},\n",
       " {u'_id': ObjectId('55db3387a0777c31ba614a9b'),\n",
       "  u'experiment_id': 0,\n",
       "  u'iteration': 383,\n",
       "  u'loss': 0.7554855942726135,\n",
       "  u'source_name': u'SyntheticAggregateSource'},\n",
       " {u'_id': ObjectId('55db3387a0777c31ba614a9a'),\n",
       "  u'experiment_id': 0,\n",
       "  u'iteration': 382,\n",
       "  u'loss': 0.6544078588485718,\n",
       "  u'source_name': u'SyntheticAggregateSource'},\n",
       " {u'_id': ObjectId('55db3387a0777c31ba614a99'),\n",
       "  u'experiment_id': 0,\n",
       "  u'iteration': 381,\n",
       "  u'loss': 0.7932694554328918,\n",
       "  u'source_name': u'SyntheticAggregateSource'},\n",
       " {u'_id': ObjectId('55db3387a0777c31ba614a98'),\n",
       "  u'experiment_id': 0,\n",
       "  u'iteration': 380,\n",
       "  u'loss': 0.7429361343383789,\n",
       "  u'source_name': u'SyntheticAggregateSource'},\n",
       " {u'_id': ObjectId('55db3387a0777c31ba614a97'),\n",
       "  u'experiment_id': 0,\n",
       "  u'iteration': 379,\n",
       "  u'loss': 0.7451010346412659,\n",
       "  u'source_name': u'SyntheticAggregateSource'},\n",
       " {u'_id': ObjectId('55db3387a0777c31ba614a96'),\n",
       "  u'experiment_id': 0,\n",
       "  u'iteration': 378,\n",
       "  u'loss': 0.7345502376556396,\n",
       "  u'source_name': u'SyntheticAggregateSource'},\n",
       " {u'_id': ObjectId('55db3387a0777c31ba614a95'),\n",
       "  u'experiment_id': 0,\n",
       "  u'iteration': 377,\n",
       "  u'loss': 0.7319875359535217,\n",
       "  u'source_name': u'SyntheticAggregateSource'},\n",
       " {u'_id': ObjectId('55db3387a0777c31ba614a94'),\n",
       "  u'experiment_id': 0,\n",
       "  u'iteration': 376,\n",
       "  u'loss': 0.6399021148681641,\n",
       "  u'source_name': u'SyntheticAggregateSource'},\n",
       " {u'_id': ObjectId('55db3387a0777c31ba614a93'),\n",
       "  u'experiment_id': 0,\n",
       "  u'iteration': 375,\n",
       "  u'loss': 0.7272781729698181,\n",
       "  u'source_name': u'SyntheticAggregateSource'},\n",
       " {u'_id': ObjectId('55db3387a0777c31ba614a92'),\n",
       "  u'experiment_id': 0,\n",
       "  u'iteration': 374,\n",
       "  u'loss': 0.7996972799301147,\n",
       "  u'source_name': u'SyntheticAggregateSource'},\n",
       " {u'_id': ObjectId('55db3387a0777c31ba614a91'),\n",
       "  u'experiment_id': 0,\n",
       "  u'iteration': 373,\n",
       "  u'loss': 0.7378843426704407,\n",
       "  u'source_name': u'SyntheticAggregateSource'},\n",
       " {u'_id': ObjectId('55db3387a0777c31ba614a90'),\n",
       "  u'experiment_id': 0,\n",
       "  u'iteration': 372,\n",
       "  u'loss': 0.7519702911376953,\n",
       "  u'source_name': u'SyntheticAggregateSource'},\n",
       " {u'_id': ObjectId('55db3387a0777c31ba614a8f'),\n",
       "  u'experiment_id': 0,\n",
       "  u'iteration': 371,\n",
       "  u'loss': 0.7400332689285278,\n",
       "  u'source_name': u'SyntheticAggregateSource'},\n",
       " {u'_id': ObjectId('55db3387a0777c31ba614a8e'),\n",
       "  u'experiment_id': 0,\n",
       "  u'iteration': 370,\n",
       "  u'loss': 0.7534353137016296,\n",
       "  u'source_name': u'SyntheticAggregateSource'},\n",
       " {u'_id': ObjectId('55db3387a0777c31ba614a8d'),\n",
       "  u'experiment_id': 0,\n",
       "  u'iteration': 369,\n",
       "  u'loss': 0.7697274684906006,\n",
       "  u'source_name': u'SyntheticAggregateSource'},\n",
       " {u'_id': ObjectId('55db3387a0777c31ba614a8c'),\n",
       "  u'experiment_id': 0,\n",
       "  u'iteration': 368,\n",
       "  u'loss': 0.7296767830848694,\n",
       "  u'source_name': u'SyntheticAggregateSource'},\n",
       " {u'_id': ObjectId('55db3387a0777c31ba614a8b'),\n",
       "  u'experiment_id': 0,\n",
       "  u'iteration': 367,\n",
       "  u'loss': 0.7537788152694702,\n",
       "  u'source_name': u'SyntheticAggregateSource'},\n",
       " {u'_id': ObjectId('55db3387a0777c31ba614a8a'),\n",
       "  u'experiment_id': 0,\n",
       "  u'iteration': 366,\n",
       "  u'loss': 0.7561031579971313,\n",
       "  u'source_name': u'SyntheticAggregateSource'},\n",
       " {u'_id': ObjectId('55db3387a0777c31ba614a89'),\n",
       "  u'experiment_id': 0,\n",
       "  u'iteration': 365,\n",
       "  u'loss': 0.7429293990135193,\n",
       "  u'source_name': u'SyntheticAggregateSource'},\n",
       " {u'_id': ObjectId('55db3386a0777c31ba614a88'),\n",
       "  u'experiment_id': 0,\n",
       "  u'iteration': 364,\n",
       "  u'loss': 0.7622207999229431,\n",
       "  u'source_name': u'SyntheticAggregateSource'},\n",
       " {u'_id': ObjectId('55db3386a0777c31ba614a87'),\n",
       "  u'experiment_id': 0,\n",
       "  u'iteration': 363,\n",
       "  u'loss': 0.7271960973739624,\n",
       "  u'source_name': u'SyntheticAggregateSource'},\n",
       " {u'_id': ObjectId('55db3386a0777c31ba614a86'),\n",
       "  u'experiment_id': 0,\n",
       "  u'iteration': 362,\n",
       "  u'loss': 0.8064194917678833,\n",
       "  u'source_name': u'SyntheticAggregateSource'},\n",
       " {u'_id': ObjectId('55db3386a0777c31ba614a85'),\n",
       "  u'experiment_id': 0,\n",
       "  u'iteration': 361,\n",
       "  u'loss': 0.757050633430481,\n",
       "  u'source_name': u'SyntheticAggregateSource'},\n",
       " {u'_id': ObjectId('55db3386a0777c31ba614a84'),\n",
       "  u'experiment_id': 0,\n",
       "  u'iteration': 360,\n",
       "  u'loss': 0.7976409792900085,\n",
       "  u'source_name': u'SyntheticAggregateSource'},\n",
       " {u'_id': ObjectId('55db3386a0777c31ba614a83'),\n",
       "  u'experiment_id': 0,\n",
       "  u'iteration': 359,\n",
       "  u'loss': 0.7822802662849426,\n",
       "  u'source_name': u'SyntheticAggregateSource'},\n",
       " {u'_id': ObjectId('55db3386a0777c31ba614a82'),\n",
       "  u'experiment_id': 0,\n",
       "  u'iteration': 358,\n",
       "  u'loss': 0.7171931266784668,\n",
       "  u'source_name': u'SyntheticAggregateSource'},\n",
       " {u'_id': ObjectId('55db3386a0777c31ba614a81'),\n",
       "  u'experiment_id': 0,\n",
       "  u'iteration': 357,\n",
       "  u'loss': 0.758293092250824,\n",
       "  u'source_name': u'SyntheticAggregateSource'},\n",
       " {u'_id': ObjectId('55db3386a0777c31ba614a80'),\n",
       "  u'experiment_id': 0,\n",
       "  u'iteration': 356,\n",
       "  u'loss': 0.7409725189208984,\n",
       "  u'source_name': u'SyntheticAggregateSource'},\n",
       " {u'_id': ObjectId('55db3386a0777c31ba614a7f'),\n",
       "  u'experiment_id': 0,\n",
       "  u'iteration': 355,\n",
       "  u'loss': 0.8216099739074707,\n",
       "  u'source_name': u'SyntheticAggregateSource'},\n",
       " {u'_id': ObjectId('55db3386a0777c31ba614a7e'),\n",
       "  u'experiment_id': 0,\n",
       "  u'iteration': 354,\n",
       "  u'loss': 0.7436375617980957,\n",
       "  u'source_name': u'SyntheticAggregateSource'},\n",
       " {u'_id': ObjectId('55db3386a0777c31ba614a7d'),\n",
       "  u'experiment_id': 0,\n",
       "  u'iteration': 353,\n",
       "  u'loss': 0.7537260055541992,\n",
       "  u'source_name': u'SyntheticAggregateSource'},\n",
       " {u'_id': ObjectId('55db3386a0777c31ba614a7c'),\n",
       "  u'experiment_id': 0,\n",
       "  u'iteration': 352,\n",
       "  u'loss': 0.7994301915168762,\n",
       "  u'source_name': u'SyntheticAggregateSource'},\n",
       " {u'_id': ObjectId('55db3386a0777c31ba614a7b'),\n",
       "  u'experiment_id': 0,\n",
       "  u'iteration': 351,\n",
       "  u'loss': 0.8154937028884888,\n",
       "  u'source_name': u'SyntheticAggregateSource'}]"
      ]
     },
     "execution_count": 37,
     "metadata": {},
     "output_type": "execute_result"
    }
   ],
   "source": [
    "import pymongo\n",
    "list(db.train_scores.find().sort('iteration', pymongo.DESCENDING).limit(50))"
   ]
  },
  {
   "cell_type": "code",
   "execution_count": 42,
   "metadata": {
    "collapsed": false
   },
   "outputs": [
    {
     "data": {
      "text/plain": [
       "[{u'_id': ObjectId('55db3384a0777c31ba614a43'),\n",
       "  u'experiment_id': 0,\n",
       "  u'fold': u'train',\n",
       "  u'iteration': 300,\n",
       "  u'metric_type': u'classification',\n",
       "  u'num_states': 2,\n",
       "  u'scores': {u'accuracy_score': 0.98773193359375,\n",
       "   u'f1_score': 0.0,\n",
       "   u'precision_score': 0.0,\n",
       "   u'recall_score': 0.0},\n",
       "  u'source_name': u'SyntheticAggregateSource'},\n",
       " {u'_id': ObjectId('55db3388a0777c31ba614aad'),\n",
       "  u'experiment_id': 0,\n",
       "  u'fold': u'train',\n",
       "  u'iteration': 400,\n",
       "  u'metric_type': u'classification',\n",
       "  u'num_states': 2,\n",
       "  u'scores': {u'accuracy_score': 0.99395751953125,\n",
       "   u'f1_score': 0.0,\n",
       "   u'precision_score': 0.0,\n",
       "   u'recall_score': 0.0},\n",
       "  u'source_name': u'SyntheticAggregateSource'}]"
      ]
     },
     "execution_count": 42,
     "metadata": {},
     "output_type": "execute_result"
    }
   ],
   "source": [
    "list(db.validation_scores.find({'fold': 'train', 'metric_type': 'classification'}).sort('iteration', pymongo.ASCENDING).limit(50))"
   ]
  },
  {
   "cell_type": "code",
   "execution_count": null,
   "metadata": {
    "collapsed": false
   },
   "outputs": [],
   "source": [
    "agg_pipeline = [\n",
    "    {\"$group\": {\n",
    "            \"_id\": \"$experiment_id\",\n",
    "            \"max_acc\": {\"$max\": \"$SyntheticAggregateSource.unseen_appliances.2_state_classification.accuracy_score\"},\n",
    "            \"max_iteration\": {\"$max\": \"$iteration\"}\n",
    "        }}\n",
    "]\n",
    "list(db.validation_scores.aggregate(agg_pipeline))"
   ]
  },
  {
   "cell_type": "code",
   "execution_count": null,
   "metadata": {
    "collapsed": true
   },
   "outputs": [],
   "source": []
  }
 ],
 "metadata": {
  "kernelspec": {
   "display_name": "Python 2",
   "language": "python",
   "name": "python2"
  },
  "language_info": {
   "codemirror_mode": {
    "name": "ipython",
    "version": 2
   },
   "file_extension": ".py",
   "mimetype": "text/x-python",
   "name": "python",
   "nbconvert_exporter": "python",
   "pygments_lexer": "ipython2",
   "version": "2.7.9"
  }
 },
 "nbformat": 4,
 "nbformat_minor": 0
}
