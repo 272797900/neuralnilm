{
 "cells": [
  {
   "cell_type": "code",
   "execution_count": 1,
   "metadata": {
    "collapsed": false
   },
   "outputs": [
    {
     "name": "stdout",
     "output_type": "stream",
     "text": [
      "Couldn't import dot_parser, loading of dot files will not be possible.\n"
     ]
    }
   ],
   "source": [
    "from __future__ import print_function, division\n",
    "import matplotlib.pyplot as plt\n",
    "import pandas as pd\n",
    "\n",
    "from neuralnilm.data.loadactivations import load_nilmtk_activations\n",
    "from neuralnilm.data.syntheticaggregatesource import SyntheticAggregateSource\n",
    "from neuralnilm.data.datapipeline import DataPipeline\n",
    "from neuralnilm.data.processing import DivideBy\n",
    "from neuralnilm.data.datathread import DataThread\n"
   ]
  },
  {
   "cell_type": "code",
   "execution_count": 2,
   "metadata": {
    "collapsed": false
   },
   "outputs": [
    {
     "name": "stderr",
     "output_type": "stream",
     "text": [
      "INFO:neuralnilm.data.loadactivations:Loading kettle for UK-DALE_building_1...\n",
      "INFO:neuralnilm.data.loadactivations:Loaded 164 kettle activations from UK-DALE_building_1.\n",
      "INFO:neuralnilm.data.loadactivations:Loading microwave for UK-DALE_building_1...\n",
      "INFO:neuralnilm.data.loadactivations:Loaded 174 microwave activations from UK-DALE_building_1.\n",
      "INFO:neuralnilm.data.loadactivations:Loading washing machine for UK-DALE_building_1...\n",
      "INFO:neuralnilm.data.loadactivations:Loaded 24 washing machine activations from UK-DALE_building_1.\n",
      "INFO:neuralnilm.data.loadactivations:Loading kettle for UK-DALE_building_2...\n",
      "INFO:neuralnilm.data.loadactivations:Loaded 94 kettle activations from UK-DALE_building_2.\n",
      "INFO:neuralnilm.data.loadactivations:Loading microwave for UK-DALE_building_2...\n",
      "INFO:neuralnilm.data.loadactivations:Loaded 0 microwave activations from UK-DALE_building_2.\n",
      "INFO:neuralnilm.data.loadactivations:Loading washing machine for UK-DALE_building_2...\n",
      "INFO:neuralnilm.data.loadactivations:Loaded 0 washing machine activations from UK-DALE_building_2.\n"
     ]
    }
   ],
   "source": [
    "LOADER_CONFIG = {\n",
    "    'nilmtk_activations': dict(\n",
    "        appliances=['kettle', 'microwave', 'washing machine'],\n",
    "        filename='/data/mine/vadeec/merged/ukdale.h5',\n",
    "        buildings=[1, 2],\n",
    "        sample_period=6,\n",
    "        window=(\"2013-04-01\", \"2013-05-01\")\n",
    "    )\n",
    "}\n",
    "\n",
    "nilmtk_activations = load_nilmtk_activations(**LOADER_CONFIG['nilmtk_activations'])"
   ]
  },
  {
   "cell_type": "code",
   "execution_count": 3,
   "metadata": {
    "collapsed": false
   },
   "outputs": [],
   "source": [
    "source = SyntheticAggregateSource(\n",
    "    activations=nilmtk_activations,\n",
    "    target_appliance='kettle',\n",
    "    seq_length=2048\n",
    ")"
   ]
  },
  {
   "cell_type": "code",
   "execution_count": 4,
   "metadata": {
    "collapsed": false
   },
   "outputs": [],
   "source": [
    "seq = source.get_sequence(enable_all_appliances=True)"
   ]
  },
  {
   "cell_type": "code",
   "execution_count": 5,
   "metadata": {
    "collapsed": false
   },
   "outputs": [
    {
     "data": {
      "text/plain": [
       "True"
      ]
     },
     "execution_count": 5,
     "metadata": {},
     "output_type": "execute_result"
    }
   ],
   "source": [
    "all(seq.all_appliances.sum(axis=1) == seq.input[:, 0])"
   ]
  },
  {
   "cell_type": "code",
   "execution_count": 6,
   "metadata": {
    "collapsed": false
   },
   "outputs": [],
   "source": [
    "#fig, axes = plt.subplots(2, sharex=True)\n",
    "#seq.all_appliances.plot(ax=axes[0])\n",
    "#axes[1].plot(seq.input)\n",
    "#plt.show()"
   ]
  },
  {
   "cell_type": "code",
   "execution_count": 7,
   "metadata": {
    "collapsed": false
   },
   "outputs": [],
   "source": [
    "sample = source.get_batch(num_seq_per_batch=1024)"
   ]
  },
  {
   "cell_type": "code",
   "execution_count": 8,
   "metadata": {
    "collapsed": false
   },
   "outputs": [],
   "source": [
    "pipeline = DataPipeline(\n",
    "    source, \n",
    "    num_seq_per_batch=64,\n",
    "    target_processing=[DivideBy(sample.before_processing.target.flatten().std())]\n",
    ")"
   ]
  },
  {
   "cell_type": "code",
   "execution_count": 9,
   "metadata": {
    "collapsed": false
   },
   "outputs": [
    {
     "data": {
      "text/plain": [
       "{'DataPipeline': {'input_processing': [],\n",
       "  'num_seq_per_batch': 64,\n",
       "  'source': {'SyntheticAggregateSource': {'allow_incomplete_distractors': True,\n",
       "    'allow_incomplete_target': True,\n",
       "    'distractor_inclusion_prob': 1.0,\n",
       "    'include_incomplete_target_in_output': True,\n",
       "    'issued_validation_warning': False,\n",
       "    'rng_seed': None,\n",
       "    'seq_length': 2048,\n",
       "    'target_appliance': 'kettle',\n",
       "    'target_inclusion_prob': 1.0,\n",
       "    'uniform_prob_of_selecting_each_model': True}},\n",
       "  'target_processing': [{'DivideBy': {'divisor': 295.34958}}]},\n",
       " 'activations': {'nilmtk_activations': {'appliances': ['kettle',\n",
       "    'microwave',\n",
       "    'washing machine'],\n",
       "   'buildings': [1, 2],\n",
       "   'filename': '/data/mine/vadeec/merged/ukdale.h5',\n",
       "   'sample_period': 6,\n",
       "   'window': ('2013-04-01', '2013-05-01')}}}"
      ]
     },
     "execution_count": 9,
     "metadata": {},
     "output_type": "execute_result"
    }
   ],
   "source": [
    "report = pipeline.report()\n",
    "report['activations'] = LOADER_CONFIG\n",
    "report"
   ]
  },
  {
   "cell_type": "code",
   "execution_count": 10,
   "metadata": {
    "collapsed": true
   },
   "outputs": [],
   "source": [
    "from lasagne.layers import InputLayer, RecurrentLayer, DenseLayer, ReshapeLayer\n",
    "\n",
    "def get_net_0(input_shape, target_shape=None):\n",
    "    NUM_UNITS = {'dense_layer_0': 100}\n",
    "    if target_shape is None:\n",
    "        target_shape = input_shape\n",
    "    \n",
    "    # Define layers\n",
    "    input_layer = InputLayer(\n",
    "        shape=input_shape\n",
    "    )\n",
    "    dense_layer_0 = DenseLayer(\n",
    "        input_layer, \n",
    "        num_units=NUM_UNITS['dense_layer_0']\n",
    "    )\n",
    "    final_dense_layer = DenseLayer(\n",
    "        dense_layer_0,\n",
    "        num_units=target_shape[1] * target_shape[2],\n",
    "        nonlinearity=None\n",
    "    )\n",
    "    output_layer = ReshapeLayer(\n",
    "        final_dense_layer,\n",
    "        shape=target_shape\n",
    "    )\n",
    "    return output_layer"
   ]
  },
  {
   "cell_type": "code",
   "execution_count": 11,
   "metadata": {
    "collapsed": true
   },
   "outputs": [],
   "source": [
    "from neuralnilm.net import Net\n",
    "\n",
    "batch = pipeline.get_batch()\n",
    "output_layer = get_net_0(\n",
    "    batch.after_processing.input.shape, \n",
    "    batch.after_processing.target.shape\n",
    ")\n",
    "net = Net(output_layer)"
   ]
  },
  {
   "cell_type": "code",
   "execution_count": 12,
   "metadata": {
    "collapsed": false
   },
   "outputs": [
    {
     "name": "stderr",
     "output_type": "stream",
     "text": [
      "WARNING:neuralnilm.data.syntheticaggregatesource:validation not implemented for SyntheticAggregateSource!\n"
     ]
    }
   ],
   "source": [
    "from neuralnilm.trainer import Trainer\n",
    "\n",
    "PATH = '/home/dk3810/temp/neuralnilm'\n",
    "\n",
    "trainer = Trainer(\n",
    "    net,\n",
    "    data_pipeline=pipeline,\n",
    "    path=PATH,\n",
    "    learning_rate=1E-4,\n",
    "    repeat_callbacks=[\n",
    "        (  10, Trainer.validate),\n",
    "        (  10, Trainer.plot_costs)\n",
    "    ]\n",
    ")"
   ]
  },
  {
   "cell_type": "code",
   "execution_count": 13,
   "metadata": {
    "collapsed": false
   },
   "outputs": [
    {
     "name": "stderr",
     "output_type": "stream",
     "text": [
      "INFO:neuralnilm.trainer:Starting training for 50 iterations.\n"
     ]
    },
    {
     "name": "stdout",
     "output_type": "stream",
     "text": [
      "\n",
      " Update |  Train cost  |  Valid cost  |  Train / Val  | Secs per update\n",
      "--------|--------------|--------------|---------------|----------------\n"
     ]
    },
    {
     "name": "stderr",
     "output_type": "stream",
     "text": [
      "INFO:neuralnilm.trainer:Compiling train cost function...\n",
      "INFO:neuralnilm.trainer:Done compiling cost function.\n",
      "INFO:neuralnilm.trainer:Compiling validation cost function...\n",
      "INFO:neuralnilm.trainer:Done compiling cost function.\n"
     ]
    },
    {
     "name": "stdout",
     "output_type": "stream",
     "text": [
      "      0 |  \u001b[94m33248.926537\u001b[0m  |  \u001b[32m  7.659136\u001b[0m  |  4341.080591  |  0.718s\n",
      "      1 |  \u001b[94m  9.486720\u001b[0m  |  \u001b[32m  7.659136\u001b[0m  |     1.238615  |  0.023s\n",
      "      2 |  \u001b[94m  4.498129\u001b[0m  |  \u001b[32m  7.659136\u001b[0m  |     0.587289  |  0.018s\n",
      "      3 |  \u001b[94m  1.054216\u001b[0m  |  \u001b[32m  7.659136\u001b[0m  |     0.137642  |  0.022s\n",
      "      4 |    2.642872  |  \u001b[32m  7.659136\u001b[0m  |     0.345061  |  0.021s\n",
      "      5 |    2.678279  |  \u001b[32m  7.659136\u001b[0m  |     0.349684  |  0.051s\n",
      "      6 |    2.575255  |  \u001b[32m  7.659136\u001b[0m  |     0.336233  |  0.036s\n",
      "      7 |  \u001b[94m  1.005692\u001b[0m  |  \u001b[32m  7.659136\u001b[0m  |     0.131306  |  0.051s\n",
      "      8 |  \u001b[94m  0.939625\u001b[0m  |  \u001b[32m  7.659136\u001b[0m  |     0.122680  |  0.036s\n",
      "      9 |    3.076981  |  \u001b[32m  7.659136\u001b[0m  |     0.401740  |  0.034s\n",
      "     10 |  \u001b[94m  0.909405\u001b[0m  |  \u001b[32m  0.999975\u001b[0m  |     0.909428  |  0.059s\n",
      "     11 |    0.956710  |  \u001b[32m  0.999975\u001b[0m  |     0.956734  |  0.036s\n",
      "     12 |    1.560736  |  \u001b[32m  0.999975\u001b[0m  |     1.560774  |  0.051s\n",
      "     13 |    0.953144  |  \u001b[32m  0.999975\u001b[0m  |     0.953167  |  0.040s\n",
      "     14 |    1.079718  |  \u001b[32m  0.999975\u001b[0m  |     1.079744  |  0.082s\n",
      "     15 |    1.038911  |  \u001b[32m  0.999975\u001b[0m  |     1.038936  |  0.024s\n",
      "     16 |    1.037369  |  \u001b[32m  0.999975\u001b[0m  |     1.037395  |  0.052s\n",
      "     17 |    1.080631  |  \u001b[32m  0.999975\u001b[0m  |     1.080657  |  0.051s\n",
      "     18 |    1.032950  |  \u001b[32m  0.999975\u001b[0m  |     1.032975  |  0.050s\n",
      "     19 |    0.992432  |  \u001b[32m  0.999975\u001b[0m  |     0.992457  |  0.034s\n",
      "     20 |    2.195046  |  \u001b[32m  0.999975\u001b[0m  |     2.195100  |  0.063s\n",
      "     21 |    4.165820  |  \u001b[32m  0.999975\u001b[0m  |     4.165923  |  0.030s\n",
      "     22 |    1.051049  |  \u001b[32m  0.999975\u001b[0m  |     1.051075  |  0.051s\n",
      "     23 |    0.974637  |  \u001b[32m  0.999975\u001b[0m  |     0.974661  |  0.031s\n",
      "     24 |    1.094994  |  \u001b[32m  0.999975\u001b[0m  |     1.095021  |  0.052s\n",
      "     25 |    1.550512  |  \u001b[32m  0.999975\u001b[0m  |     1.550550  |  0.040s\n",
      "     26 |    1.168158  |  \u001b[32m  0.999975\u001b[0m  |     1.168187  |  0.056s\n",
      "     27 |    1.084063  |  \u001b[32m  0.999975\u001b[0m  |     1.084090  |  0.052s\n",
      "     28 |  \u001b[94m  0.908740\u001b[0m  |  \u001b[32m  0.999975\u001b[0m  |     0.908763  |  0.029s\n",
      "     29 |    0.988218  |  \u001b[32m  0.999975\u001b[0m  |     0.988243  |  0.050s\n",
      "     30 |    1.011540  |  \u001b[32m  0.999975\u001b[0m  |     1.011565  |  0.034s\n",
      "     31 |    0.978919  |  \u001b[32m  0.999975\u001b[0m  |     0.978943  |  0.054s\n",
      "     32 |  \u001b[94m  0.899284\u001b[0m  |  \u001b[32m  0.999975\u001b[0m  |     0.899306  |  0.055s\n",
      "     33 |    0.967209  |  \u001b[32m  0.999975\u001b[0m  |     0.967233  |  0.036s\n",
      "     34 |    0.976359  |  \u001b[32m  0.999975\u001b[0m  |     0.976383  |  0.050s\n",
      "     35 |    1.744509  |  \u001b[32m  0.999975\u001b[0m  |     1.744552  |  0.035s\n",
      "     36 |    1.025323  |  \u001b[32m  0.999975\u001b[0m  |     1.025349  |  0.033s\n",
      "     37 |    1.014421  |  \u001b[32m  0.999975\u001b[0m  |     1.014446  |  0.051s\n",
      "     38 |    0.963329  |  \u001b[32m  0.999975\u001b[0m  |     0.963353  |  0.035s\n",
      "     39 |  \u001b[94m  0.852694\u001b[0m  |  \u001b[32m  0.999975\u001b[0m  |     0.852715  |  0.033s\n",
      "     40 |    0.982195  |  \u001b[32m  0.999975\u001b[0m  |     0.982219  |  0.064s\n",
      "     41 |    1.018989  |  \u001b[32m  0.999975\u001b[0m  |     1.019014  |  0.053s\n",
      "     42 |    0.883696  |  \u001b[32m  0.999975\u001b[0m  |     0.883718  |  0.052s\n",
      "     43 |    0.937932  |  \u001b[32m  0.999975\u001b[0m  |     0.937956  |  0.028s\n",
      "     44 |    0.902292  |  \u001b[32m  0.999975\u001b[0m  |     0.902314  |  0.051s\n",
      "     45 |    1.193903  |  \u001b[32m  0.999975\u001b[0m  |     1.193933  |  0.037s\n",
      "     46 |    0.883700  |  \u001b[32m  0.999975\u001b[0m  |     0.883722  |  0.034s\n",
      "     47 |    0.932853  |  \u001b[32m  0.999975\u001b[0m  |     0.932876  |  0.053s\n",
      "     48 |    1.095597  |  \u001b[32m  0.999975\u001b[0m  |     1.095624  |  0.036s\n",
      "     49 |    1.003794  |  \u001b[32m  0.999975\u001b[0m  |     1.003819  |  0.050s"
     ]
    },
    {
     "name": "stderr",
     "output_type": "stream",
     "text": [
      "INFO:neuralnilm.trainer:Stopped training. Completed 50 iterations.\n"
     ]
    },
    {
     "name": "stdout",
     "output_type": "stream",
     "text": [
      "\n",
      "     50 |    0.971561  |  \u001b[32m  0.999975\u001b[0m  |     0.971585  |  0.038s\n"
     ]
    }
   ],
   "source": [
    "trainer.fit(50)"
   ]
  },
  {
   "cell_type": "code",
   "execution_count": 14,
   "metadata": {
    "collapsed": false
   },
   "outputs": [
    {
     "data": {
      "text/plain": [
       "50"
      ]
     },
     "execution_count": 14,
     "metadata": {},
     "output_type": "execute_result"
    }
   ],
   "source": [
    "trainer.iteration"
   ]
  },
  {
   "cell_type": "code",
   "execution_count": 15,
   "metadata": {
    "collapsed": false
   },
   "outputs": [
    {
     "data": {
      "text/plain": [
       "[33248.926537290201,\n",
       " 9.4867198892413942,\n",
       " 4.4981287850773626,\n",
       " 1.0542160456991987,\n",
       " 2.6428719354835475,\n",
       " 2.6782789502549864,\n",
       " 2.5752552189153777,\n",
       " 1.0056917521542497,\n",
       " 0.93962538294621534,\n",
       " 3.0769811650714254,\n",
       " 0.90940534678908469,\n",
       " 0.95671046534339388,\n",
       " 1.5607359261325076,\n",
       " 0.95314383303919814,\n",
       " 1.0797177483835885,\n",
       " 1.0389109484307124,\n",
       " 1.0373694858195206,\n",
       " 1.080630667129034,\n",
       " 1.0329496980200941,\n",
       " 0.9924322637046864,\n",
       " 2.1950460222184489,\n",
       " 4.1658200523824469,\n",
       " 1.0510488196001624,\n",
       " 0.97463688052599329,\n",
       " 1.0949937076676246,\n",
       " 1.5505119389536379,\n",
       " 1.1681578165082869,\n",
       " 1.0840633940242084,\n",
       " 0.90874027647281541,\n",
       " 0.9882184769723219,\n",
       " 1.0115398345723947,\n",
       " 0.97891889487903883,\n",
       " 0.89928416276920686,\n",
       " 0.96720935062505742,\n",
       " 0.97635874753531593,\n",
       " 1.7445087519033018,\n",
       " 1.0253234832564708,\n",
       " 1.0144209415573275,\n",
       " 0.96332905804346514,\n",
       " 0.85269410477277152,\n",
       " 0.98219476726054433,\n",
       " 1.0189890553769647,\n",
       " 0.8836960084816069,\n",
       " 0.93793231254207043,\n",
       " 0.90229167221944606,\n",
       " 1.1939027010107779,\n",
       " 0.88369962854369843,\n",
       " 0.9328528179942126,\n",
       " 1.0955969469057052,\n",
       " 1.0037942652721237,\n",
       " 0.97156099879551838]"
      ]
     },
     "execution_count": 15,
     "metadata": {},
     "output_type": "execute_result"
    }
   ],
   "source": [
    "trainer.training_costs"
   ]
  },
  {
   "cell_type": "code",
   "execution_count": null,
   "metadata": {
    "collapsed": true
   },
   "outputs": [],
   "source": []
  }
 ],
 "metadata": {
  "kernelspec": {
   "display_name": "Python 2",
   "language": "python",
   "name": "python2"
  },
  "language_info": {
   "codemirror_mode": {
    "name": "ipython",
    "version": 2
   },
   "file_extension": ".py",
   "mimetype": "text/x-python",
   "name": "python",
   "nbconvert_exporter": "python",
   "pygments_lexer": "ipython2",
   "version": "2.7.9"
  }
 },
 "nbformat": 4,
 "nbformat_minor": 0
}
