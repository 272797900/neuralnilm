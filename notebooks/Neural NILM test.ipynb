{
 "cells": [
  {
   "cell_type": "code",
   "execution_count": 1,
   "metadata": {
    "collapsed": false
   },
   "outputs": [],
   "source": [
    "from __future__ import print_function, division\n",
    "import matplotlib.pyplot as plt\n",
    "import pandas as pd\n",
    "\n",
    "from neuralnilm.data.loadactivations import load_nilmtk_activations\n",
    "from neuralnilm.data.syntheticaggregatesource import SyntheticAggregateSource\n",
    "from neuralnilm.data.datapipeline import DataPipeline\n",
    "from neuralnilm.data.processing import DivideBy\n",
    "from neuralnilm.data.datathread import DataThread"
   ]
  },
  {
   "cell_type": "code",
   "execution_count": 2,
   "metadata": {
    "collapsed": false
   },
   "outputs": [
    {
     "name": "stderr",
     "output_type": "stream",
     "text": [
      "INFO:neuralnilm.data.loadactivations:Loading NILMTK activations...\n",
      "INFO:neuralnilm.data.loadactivations:Loading kettle for UK-DALE_building_1...\n",
      "INFO:neuralnilm.data.loadactivations:Loaded 112 kettle activations from UK-DALE_building_1.\n",
      "INFO:neuralnilm.data.loadactivations:Loading microwave for UK-DALE_building_1...\n",
      "INFO:neuralnilm.data.loadactivations:Loaded 119 microwave activations from UK-DALE_building_1.\n",
      "INFO:neuralnilm.data.loadactivations:Loading washing machine for UK-DALE_building_1...\n",
      "INFO:neuralnilm.data.loadactivations:Loaded 23 washing machine activations from UK-DALE_building_1.\n",
      "INFO:neuralnilm.data.loadactivations:Loading kettle for UK-DALE_building_2...\n",
      "INFO:neuralnilm.data.loadactivations:Loaded 31 kettle activations from UK-DALE_building_2.\n",
      "INFO:neuralnilm.data.loadactivations:Loading microwave for UK-DALE_building_2...\n",
      "INFO:neuralnilm.data.loadactivations:Loaded 30 microwave activations from UK-DALE_building_2.\n",
      "INFO:neuralnilm.data.loadactivations:Loading washing machine for UK-DALE_building_2...\n",
      "INFO:neuralnilm.data.loadactivations:Loaded 2 washing machine activations from UK-DALE_building_2.\n",
      "INFO:neuralnilm.data.loadactivations:Loading kettle for UK-DALE_building_1...\n",
      "INFO:neuralnilm.data.loadactivations:Loaded 28 kettle activations from UK-DALE_building_1.\n",
      "INFO:neuralnilm.data.loadactivations:Loading microwave for UK-DALE_building_1...\n",
      "INFO:neuralnilm.data.loadactivations:Loaded 28 microwave activations from UK-DALE_building_1.\n",
      "INFO:neuralnilm.data.loadactivations:Loading washing machine for UK-DALE_building_1...\n",
      "INFO:neuralnilm.data.loadactivations:Loaded 5 washing machine activations from UK-DALE_building_1.\n",
      "INFO:neuralnilm.data.loadactivations:Done loading NILMTK activations.\n"
     ]
    }
   ],
   "source": [
    "NILMTK_FILENAME = '/data/mine/vadeec/merged/ukdale.h5'\n",
    "TARGET_APPLIANCE = 'kettle'\n",
    "SEQ_LENGTH = 256\n",
    "SAMPLE_PERIOD = 6\n",
    "STRIDE = 4\n",
    "\n",
    "LOADER_CONFIG = {\n",
    "    'nilmtk_activations': dict(\n",
    "        appliances=['kettle', 'microwave', 'washing machine'],\n",
    "        filename=NILMTK_FILENAME,\n",
    "        sample_period=SAMPLE_PERIOD,\n",
    "        windows={\n",
    "            'train': {\n",
    "                1: (\"2014-01-01\", \"2014-02-01\")\n",
    "            },\n",
    "            'unseen_activations_of_seen_appliances': {\n",
    "                1: (\"2014-02-02\", \"2014-02-08\")                \n",
    "            },\n",
    "            'unseen_appliances': {\n",
    "                2: (\"2013-06-01\", \"2013-06-07\")\n",
    "            }\n",
    "        }\n",
    "    )\n",
    "}\n",
    "\n",
    "nilmtk_activations = load_nilmtk_activations(**LOADER_CONFIG['nilmtk_activations'])"
   ]
  },
  {
   "cell_type": "code",
   "execution_count": 3,
   "metadata": {
    "collapsed": false
   },
   "outputs": [
    {
     "data": {
      "text/plain": [
       "['train', 'unseen_activations_of_seen_appliances', 'unseen_appliances']"
      ]
     },
     "execution_count": 3,
     "metadata": {},
     "output_type": "execute_result"
    }
   ],
   "source": [
    "nilmtk_activations.keys()"
   ]
  },
  {
   "cell_type": "code",
   "execution_count": 4,
   "metadata": {
    "collapsed": false
   },
   "outputs": [],
   "source": [
    "source = SyntheticAggregateSource(\n",
    "    activations=nilmtk_activations,\n",
    "    target_appliance=TARGET_APPLIANCE,\n",
    "    seq_length=SEQ_LENGTH,\n",
    "    allow_incomplete_target=False\n",
    ")"
   ]
  },
  {
   "cell_type": "code",
   "execution_count": 5,
   "metadata": {
    "collapsed": false
   },
   "outputs": [],
   "source": [
    "FOLD = 'train'\n",
    "#FOLD = 'unseen_activations_of_seen_appliances'\n",
    "#FOLD = 'unseen_appliances'\n",
    "seq = source.get_sequence(enable_all_appliances=True)"
   ]
  },
  {
   "cell_type": "code",
   "execution_count": 6,
   "metadata": {
    "collapsed": false
   },
   "outputs": [],
   "source": [
    "#all(seq.all_appliances.sum(axis=1) == seq.input[:, 0])"
   ]
  },
  {
   "cell_type": "code",
   "execution_count": 7,
   "metadata": {
    "collapsed": false
   },
   "outputs": [],
   "source": [
    "#fig, axes = plt.subplots(2, sharex=True)\n",
    "#seq.all_appliances.plot(ax=axes[0])\n",
    "#axes[1].plot(seq.input)\n",
    "#fig.suptitle(FOLD)\n",
    "#plt.show()"
   ]
  },
  {
   "cell_type": "code",
   "execution_count": 8,
   "metadata": {
    "collapsed": false
   },
   "outputs": [],
   "source": [
    "sample = source.get_batch(num_seq_per_batch=1024)"
   ]
  },
  {
   "cell_type": "code",
   "execution_count": 9,
   "metadata": {
    "collapsed": false
   },
   "outputs": [],
   "source": [
    "pipeline = DataPipeline(\n",
    "    [source],\n",
    "    num_seq_per_batch=64,\n",
    "    input_processing=[DivideBy(sample.before_processing.input.flatten().std())],\n",
    "    target_processing=[DivideBy(sample.before_processing.target.flatten().std())]\n",
    ")"
   ]
  },
  {
   "cell_type": "markdown",
   "metadata": {},
   "source": [
    "# Disaggregation"
   ]
  },
  {
   "cell_type": "markdown",
   "metadata": {
    "collapsed": true
   },
   "source": [
    "nilmtk_disag_source = NILMTKDisagSource(\n",
    "    filename=NILMTK_FILENAME,\n",
    "    target_appliance=TARGET_APPLIANCE,\n",
    "    seq_length=SEQ_LENGTH,\n",
    "    buildings=[5],\n",
    "    window_per_building={},\n",
    "    stride=STRIDE,\n",
    "    sample_period=SAMPLE_PERIOD\n",
    ")"
   ]
  },
  {
   "cell_type": "markdown",
   "metadata": {
    "collapsed": true
   },
   "source": [
    "disag_pipeline = deepcopy(pipeline)\n",
    "disag_pipeline.source = nilmtk_disag_source"
   ]
  },
  {
   "cell_type": "markdown",
   "metadata": {
    "collapsed": true
   },
   "source": [
    "disaggregator = Disaggregator(\n",
    "    pipeline=disag_pipeline,\n",
    "    output_path=PATH  # \n",
    ")"
   ]
  },
  {
   "cell_type": "markdown",
   "metadata": {},
   "source": [
    "Disagregator ideas:\n",
    "\n",
    "* make a copy of pipeline but swap source for a NILMTKDisagSource\n",
    "* NILMTKDisagSource loads all data into memory (?) and iterates over chunks of it (get seq_length from pipeline.source.seq_length)\n",
    "* "
   ]
  },
  {
   "cell_type": "code",
   "execution_count": 10,
   "metadata": {
    "collapsed": false
   },
   "outputs": [
    {
     "data": {
      "text/plain": [
       "{'DataPipeline': {'SyntheticAggregateSource': {'allow_incomplete_distractors': True,\n",
       "   'allow_incomplete_target': False,\n",
       "   'distractor_inclusion_prob': 1.0,\n",
       "   'include_incomplete_target_in_output': True,\n",
       "   'rng_seed': None,\n",
       "   'seq_length': 256,\n",
       "   'target_appliance': 'kettle',\n",
       "   'target_inclusion_prob': 1.0,\n",
       "   'uniform_prob_of_selecting_each_model': True},\n",
       "  'input_processing': [{'DivideBy': {'divisor': 983.42395}}],\n",
       "  'num_seq_per_batch': 64,\n",
       "  'target_processing': [{'DivideBy': {'divisor': 597.30963}}]},\n",
       " 'activations': {'nilmtk_activations': {'appliances': ['kettle',\n",
       "    'microwave',\n",
       "    'washing machine'],\n",
       "   'filename': '/data/mine/vadeec/merged/ukdale.h5',\n",
       "   'sample_period': 6,\n",
       "   'windows': {'train': {1: ('2014-01-01', '2014-02-01')},\n",
       "    'unseen_activations_of_seen_appliances': {1: ('2014-02-02', '2014-02-08')},\n",
       "    'unseen_appliances': {2: ('2013-06-01', '2013-06-07')}}}}}"
      ]
     },
     "execution_count": 10,
     "metadata": {},
     "output_type": "execute_result"
    }
   ],
   "source": [
    "report = pipeline.report()\n",
    "report['activations'] = LOADER_CONFIG\n",
    "report"
   ]
  },
  {
   "cell_type": "code",
   "execution_count": 11,
   "metadata": {
    "collapsed": true
   },
   "outputs": [],
   "source": [
    "from lasagne.layers import InputLayer, RecurrentLayer, DenseLayer, ReshapeLayer\n",
    "\n",
    "def get_net_0(input_shape, target_shape=None):\n",
    "    NUM_UNITS = {\n",
    "        'dense_layer_0': 100,\n",
    "        'dense_layer_1':  50,\n",
    "        'dense_layer_2': 100\n",
    "    }\n",
    "\n",
    "    if target_shape is None:\n",
    "        target_shape = input_shape\n",
    "    \n",
    "    # Define layers\n",
    "    input_layer = InputLayer(\n",
    "        shape=input_shape\n",
    "    )\n",
    "    \n",
    "    # Dense layers\n",
    "    dense_layer_0 = DenseLayer(\n",
    "        input_layer, \n",
    "        num_units=NUM_UNITS['dense_layer_0']\n",
    "    )\n",
    "    dense_layer_1 = DenseLayer(\n",
    "        dense_layer_0, \n",
    "        num_units=NUM_UNITS['dense_layer_1']\n",
    "    )\n",
    "    dense_layer_2 = DenseLayer(\n",
    "        dense_layer_1, \n",
    "        num_units=NUM_UNITS['dense_layer_2']\n",
    "    )\n",
    "    \n",
    "    # Output\n",
    "    final_dense_layer = DenseLayer(\n",
    "        dense_layer_0,\n",
    "        num_units=target_shape[1] * target_shape[2],\n",
    "        nonlinearity=None\n",
    "    )\n",
    "    output_layer = ReshapeLayer(\n",
    "        final_dense_layer,\n",
    "        shape=target_shape\n",
    "    )\n",
    "    return output_layer"
   ]
  },
  {
   "cell_type": "code",
   "execution_count": 12,
   "metadata": {
    "collapsed": true
   },
   "outputs": [],
   "source": [
    "from neuralnilm.net import Net\n",
    "\n",
    "batch = pipeline.get_batch()\n",
    "output_layer = get_net_0(\n",
    "    batch.after_processing.input.shape, \n",
    "    batch.after_processing.target.shape\n",
    ")\n",
    "net = Net(output_layer)"
   ]
  },
  {
   "cell_type": "code",
   "execution_count": 33,
   "metadata": {
    "collapsed": false
   },
   "outputs": [],
   "source": [
    "from pymongo import MongoClient\n",
    "client = MongoClient()\n",
    "client.drop_database('neuralnilm_experiments')\n",
    "db = client.neuralnilm_experiments"
   ]
  },
  {
   "cell_type": "code",
   "execution_count": 34,
   "metadata": {
    "collapsed": false
   },
   "outputs": [
    {
     "name": "stderr",
     "output_type": "stream",
     "text": [
      "INFO:neuralnilm.trainer:Iteration 300: Change learning rate to 1.0E-02\n"
     ]
    }
   ],
   "source": [
    "from neuralnilm.trainer import Trainer\n",
    "from neuralnilm.metrics import Metrics\n",
    "\n",
    "trainer = Trainer(\n",
    "    net=net,\n",
    "    data_pipeline=pipeline,\n",
    "    db=db,\n",
    "    experiment_id=0,\n",
    "    metrics=Metrics([4]),\n",
    "    learning_rate=1E-2,\n",
    "    repeat_callbacks=[\n",
    "        ( 100, Trainer.validate)\n",
    "    ]\n",
    ")"
   ]
  },
  {
   "cell_type": "code",
   "execution_count": 35,
   "metadata": {
    "collapsed": false
   },
   "outputs": [
    {
     "name": "stderr",
     "output_type": "stream",
     "text": [
      "INFO:neuralnilm.trainer:Starting training for 400 iterations.\n",
      "INFO:neuralnilm.trainer:Compiling train cost function...\n",
      "INFO:neuralnilm.trainer:Done compiling cost function.\n",
      "/usr/local/lib/python2.7/dist-packages/sklearn/metrics/classification.py:958: UndefinedMetricWarning: F-score is ill-defined and being set to 0.0 due to no predicted samples.\n",
      "  'precision', 'predicted', average, warn_for)\n",
      "/usr/local/lib/python2.7/dist-packages/sklearn/metrics/classification.py:958: UndefinedMetricWarning: Precision is ill-defined and being set to 0.0 due to no predicted samples.\n",
      "  'precision', 'predicted', average, warn_for)\n",
      "INFO:neuralnilm.trainer:Stopped training. Completed 400 iterations.\n"
     ]
    }
   ],
   "source": [
    "trainer.fit(400)"
   ]
  },
  {
   "cell_type": "code",
   "execution_count": 36,
   "metadata": {
    "collapsed": false
   },
   "outputs": [
    {
     "data": {
      "text/plain": [
       "400"
      ]
     },
     "execution_count": 36,
     "metadata": {},
     "output_type": "execute_result"
    }
   ],
   "source": [
    "net.train_iterations"
   ]
  },
  {
   "cell_type": "code",
   "execution_count": 44,
   "metadata": {
    "collapsed": false
   },
   "outputs": [
    {
     "data": {
      "text/plain": [
       "[{u'_id': ObjectId('55db3384a0777c31ba614a42'),\n",
       "  u'iteration': 300,\n",
       "  u'loss': 0.8564528226852417},\n",
       " {u'_id': ObjectId('55db3384a0777c31ba614a49'),\n",
       "  u'iteration': 301,\n",
       "  u'loss': 0.8206691741943359},\n",
       " {u'_id': ObjectId('55db3384a0777c31ba614a4a'),\n",
       "  u'iteration': 302,\n",
       "  u'loss': 0.7655431032180786},\n",
       " {u'_id': ObjectId('55db3384a0777c31ba614a4b'),\n",
       "  u'iteration': 303,\n",
       "  u'loss': 0.8099985122680664},\n",
       " {u'_id': ObjectId('55db3384a0777c31ba614a4c'),\n",
       "  u'iteration': 304,\n",
       "  u'loss': 0.836371123790741},\n",
       " {u'_id': ObjectId('55db3384a0777c31ba614a4d'),\n",
       "  u'iteration': 305,\n",
       "  u'loss': 0.8212518095970154},\n",
       " {u'_id': ObjectId('55db3384a0777c31ba614a4e'),\n",
       "  u'iteration': 306,\n",
       "  u'loss': 0.8277326822280884},\n",
       " {u'_id': ObjectId('55db3384a0777c31ba614a4f'),\n",
       "  u'iteration': 307,\n",
       "  u'loss': 0.7938968539237976},\n",
       " {u'_id': ObjectId('55db3384a0777c31ba614a50'),\n",
       "  u'iteration': 308,\n",
       "  u'loss': 0.8240236043930054},\n",
       " {u'_id': ObjectId('55db3384a0777c31ba614a51'),\n",
       "  u'iteration': 309,\n",
       "  u'loss': 0.8345593810081482},\n",
       " {u'_id': ObjectId('55db3384a0777c31ba614a52'),\n",
       "  u'iteration': 310,\n",
       "  u'loss': 0.8475769758224487},\n",
       " {u'_id': ObjectId('55db3385a0777c31ba614a53'),\n",
       "  u'iteration': 311,\n",
       "  u'loss': 0.8424683213233948},\n",
       " {u'_id': ObjectId('55db3385a0777c31ba614a54'),\n",
       "  u'iteration': 312,\n",
       "  u'loss': 0.8190279006958008},\n",
       " {u'_id': ObjectId('55db3385a0777c31ba614a55'),\n",
       "  u'iteration': 313,\n",
       "  u'loss': 0.7576709389686584},\n",
       " {u'_id': ObjectId('55db3385a0777c31ba614a56'),\n",
       "  u'iteration': 314,\n",
       "  u'loss': 0.8292099237442017},\n",
       " {u'_id': ObjectId('55db3385a0777c31ba614a57'),\n",
       "  u'iteration': 315,\n",
       "  u'loss': 0.8168067932128906},\n",
       " {u'_id': ObjectId('55db3385a0777c31ba614a58'),\n",
       "  u'iteration': 316,\n",
       "  u'loss': 0.741969108581543},\n",
       " {u'_id': ObjectId('55db3385a0777c31ba614a59'),\n",
       "  u'iteration': 317,\n",
       "  u'loss': 0.8598811030387878},\n",
       " {u'_id': ObjectId('55db3385a0777c31ba614a5a'),\n",
       "  u'iteration': 318,\n",
       "  u'loss': 0.8567960262298584},\n",
       " {u'_id': ObjectId('55db3385a0777c31ba614a5b'),\n",
       "  u'iteration': 319,\n",
       "  u'loss': 0.7986255288124084},\n",
       " {u'_id': ObjectId('55db3385a0777c31ba614a5c'),\n",
       "  u'iteration': 320,\n",
       "  u'loss': 0.8351203799247742},\n",
       " {u'_id': ObjectId('55db3385a0777c31ba614a5d'),\n",
       "  u'iteration': 321,\n",
       "  u'loss': 0.7897212505340576},\n",
       " {u'_id': ObjectId('55db3385a0777c31ba614a5e'),\n",
       "  u'iteration': 322,\n",
       "  u'loss': 0.8620067834854126},\n",
       " {u'_id': ObjectId('55db3385a0777c31ba614a5f'),\n",
       "  u'iteration': 323,\n",
       "  u'loss': 0.7839093208312988},\n",
       " {u'_id': ObjectId('55db3385a0777c31ba614a60'),\n",
       "  u'iteration': 324,\n",
       "  u'loss': 0.8088278770446777},\n",
       " {u'_id': ObjectId('55db3385a0777c31ba614a61'),\n",
       "  u'iteration': 325,\n",
       "  u'loss': 0.8459151983261108},\n",
       " {u'_id': ObjectId('55db3385a0777c31ba614a62'),\n",
       "  u'iteration': 326,\n",
       "  u'loss': 0.7838118076324463},\n",
       " {u'_id': ObjectId('55db3385a0777c31ba614a63'),\n",
       "  u'iteration': 327,\n",
       "  u'loss': 0.7997822761535645},\n",
       " {u'_id': ObjectId('55db3385a0777c31ba614a64'),\n",
       "  u'iteration': 328,\n",
       "  u'loss': 0.760533332824707},\n",
       " {u'_id': ObjectId('55db3385a0777c31ba614a65'),\n",
       "  u'iteration': 329,\n",
       "  u'loss': 0.7979056239128113},\n",
       " {u'_id': ObjectId('55db3385a0777c31ba614a66'),\n",
       "  u'iteration': 330,\n",
       "  u'loss': 0.8458256125450134},\n",
       " {u'_id': ObjectId('55db3385a0777c31ba614a67'),\n",
       "  u'iteration': 331,\n",
       "  u'loss': 0.7170080542564392},\n",
       " {u'_id': ObjectId('55db3385a0777c31ba614a68'),\n",
       "  u'iteration': 332,\n",
       "  u'loss': 0.8356739282608032},\n",
       " {u'_id': ObjectId('55db3385a0777c31ba614a69'),\n",
       "  u'iteration': 333,\n",
       "  u'loss': 0.8002579212188721},\n",
       " {u'_id': ObjectId('55db3385a0777c31ba614a6a'),\n",
       "  u'iteration': 334,\n",
       "  u'loss': 0.7965958118438721},\n",
       " {u'_id': ObjectId('55db3385a0777c31ba614a6b'),\n",
       "  u'iteration': 335,\n",
       "  u'loss': 0.8253379464149475},\n",
       " {u'_id': ObjectId('55db3385a0777c31ba614a6c'),\n",
       "  u'iteration': 336,\n",
       "  u'loss': 0.8265183568000793},\n",
       " {u'_id': ObjectId('55db3385a0777c31ba614a6d'),\n",
       "  u'iteration': 337,\n",
       "  u'loss': 0.8501386046409607},\n",
       " {u'_id': ObjectId('55db3385a0777c31ba614a6e'),\n",
       "  u'iteration': 338,\n",
       "  u'loss': 0.7656919956207275},\n",
       " {u'_id': ObjectId('55db3386a0777c31ba614a6f'),\n",
       "  u'iteration': 339,\n",
       "  u'loss': 0.7878413200378418},\n",
       " {u'_id': ObjectId('55db3386a0777c31ba614a70'),\n",
       "  u'iteration': 340,\n",
       "  u'loss': 0.7561597228050232},\n",
       " {u'_id': ObjectId('55db3386a0777c31ba614a71'),\n",
       "  u'iteration': 341,\n",
       "  u'loss': 0.8255479335784912},\n",
       " {u'_id': ObjectId('55db3386a0777c31ba614a72'),\n",
       "  u'iteration': 342,\n",
       "  u'loss': 0.7705502510070801},\n",
       " {u'_id': ObjectId('55db3386a0777c31ba614a73'),\n",
       "  u'iteration': 343,\n",
       "  u'loss': 0.8547239899635315},\n",
       " {u'_id': ObjectId('55db3386a0777c31ba614a74'),\n",
       "  u'iteration': 344,\n",
       "  u'loss': 0.8130305409431458},\n",
       " {u'_id': ObjectId('55db3386a0777c31ba614a75'),\n",
       "  u'iteration': 345,\n",
       "  u'loss': 0.7558542490005493},\n",
       " {u'_id': ObjectId('55db3386a0777c31ba614a76'),\n",
       "  u'iteration': 346,\n",
       "  u'loss': 0.7230621576309204},\n",
       " {u'_id': ObjectId('55db3386a0777c31ba614a77'),\n",
       "  u'iteration': 347,\n",
       "  u'loss': 0.8107409477233887},\n",
       " {u'_id': ObjectId('55db3386a0777c31ba614a78'),\n",
       "  u'iteration': 348,\n",
       "  u'loss': 0.7685050964355469},\n",
       " {u'_id': ObjectId('55db3386a0777c31ba614a79'),\n",
       "  u'iteration': 349,\n",
       "  u'loss': 0.7490130662918091}]"
      ]
     },
     "execution_count": 44,
     "metadata": {},
     "output_type": "execute_result"
    }
   ],
   "source": [
    "import pymongo\n",
    "list(db.train_scores.find(\n",
    "        filter={'experiment_id': 0},\n",
    "        sort=[('iteration', pymongo.ASCENDING)],\n",
    "        projection=['iteration', 'loss']\n",
    "    ).limit(50))"
   ]
  },
  {
   "cell_type": "code",
   "execution_count": 42,
   "metadata": {
    "collapsed": false
   },
   "outputs": [
    {
     "data": {
      "text/plain": [
       "[{u'_id': ObjectId('55db3384a0777c31ba614a43'),\n",
       "  u'experiment_id': 0,\n",
       "  u'fold': u'train',\n",
       "  u'iteration': 300,\n",
       "  u'metric_type': u'classification',\n",
       "  u'num_states': 2,\n",
       "  u'scores': {u'accuracy_score': 0.98773193359375,\n",
       "   u'f1_score': 0.0,\n",
       "   u'precision_score': 0.0,\n",
       "   u'recall_score': 0.0},\n",
       "  u'source_name': u'SyntheticAggregateSource'},\n",
       " {u'_id': ObjectId('55db3388a0777c31ba614aad'),\n",
       "  u'experiment_id': 0,\n",
       "  u'fold': u'train',\n",
       "  u'iteration': 400,\n",
       "  u'metric_type': u'classification',\n",
       "  u'num_states': 2,\n",
       "  u'scores': {u'accuracy_score': 0.99395751953125,\n",
       "   u'f1_score': 0.0,\n",
       "   u'precision_score': 0.0,\n",
       "   u'recall_score': 0.0},\n",
       "  u'source_name': u'SyntheticAggregateSource'}]"
      ]
     },
     "execution_count": 42,
     "metadata": {},
     "output_type": "execute_result"
    }
   ],
   "source": [
    "list(db.validation_scores.find({'fold': 'train', 'metric_type': 'classification'}).sort('iteration', pymongo.ASCENDING).limit(50))"
   ]
  },
  {
   "cell_type": "code",
   "execution_count": null,
   "metadata": {
    "collapsed": false
   },
   "outputs": [],
   "source": [
    "agg_pipeline = [\n",
    "    {\"$group\": {\n",
    "            \"_id\": \"$experiment_id\",\n",
    "            \"max_acc\": {\"$max\": \"$SyntheticAggregateSource.unseen_appliances.2_state_classification.accuracy_score\"},\n",
    "            \"max_iteration\": {\"$max\": \"$iteration\"}\n",
    "        }}\n",
    "]\n",
    "list(db.validation_scores.aggregate(agg_pipeline))"
   ]
  },
  {
   "cell_type": "code",
   "execution_count": 1,
   "metadata": {
    "collapsed": false
   },
   "outputs": [],
   "source": [
    "from monary import Monary"
   ]
  },
  {
   "cell_type": "code",
   "execution_count": 2,
   "metadata": {
    "collapsed": true
   },
   "outputs": [],
   "source": [
    "monary = Monary()"
   ]
  },
  {
   "cell_type": "code",
   "execution_count": 10,
   "metadata": {
    "collapsed": true
   },
   "outputs": [],
   "source": [
    "iterations, loss = monary.query(\n",
    "    db='neuralnilm_experiments',\n",
    "    coll='train_scores',\n",
    "    query={'experiment_id': 0},\n",
    "    fields=['iteration', 'loss'],\n",
    "    types=['int32', 'float32']\n",
    ")"
   ]
  },
  {
   "cell_type": "code",
   "execution_count": 13,
   "metadata": {
    "collapsed": false
   },
   "outputs": [],
   "source": [
    "import matplotlib.pyplot as plt\n",
    "plt.plot(iterations, loss)\n",
    "plt.show()"
   ]
  },
  {
   "cell_type": "code",
   "execution_count": 21,
   "metadata": {
    "collapsed": false
   },
   "outputs": [],
   "source": [
    "iterations, f1_score = monary.query(\n",
    "    db='neuralnilm_experiments',\n",
    "    coll='validation_scores',\n",
    "    query={\n",
    "        'experiment_id': 0, \n",
    "        'source_name': 'SyntheticAggregateSource',\n",
    "        'fold': 'train',\n",
    "        'metric_type': 'classification'\n",
    "    },\n",
    "    fields=['iteration', 'scores.f1_score'],\n",
    "    types=['int64', 'float32']\n",
    ")"
   ]
  },
  {
   "cell_type": "code",
   "execution_count": 23,
   "metadata": {
    "collapsed": false
   },
   "outputs": [
    {
     "data": {
      "text/plain": [
       "masked_array(data = [0.0 0.0],\n",
       "             mask = [False False],\n",
       "       fill_value = 1e+20)"
      ]
     },
     "execution_count": 23,
     "metadata": {},
     "output_type": "execute_result"
    }
   ],
   "source": [
    "f1_score"
   ]
  },
  {
   "cell_type": "code",
   "execution_count": null,
   "metadata": {
    "collapsed": true
   },
   "outputs": [],
   "source": []
  }
 ],
 "metadata": {
  "kernelspec": {
   "display_name": "Python 2",
   "language": "python",
   "name": "python2"
  },
  "language_info": {
   "codemirror_mode": {
    "name": "ipython",
    "version": 2
   },
   "file_extension": ".py",
   "mimetype": "text/x-python",
   "name": "python",
   "nbconvert_exporter": "python",
   "pygments_lexer": "ipython2",
   "version": "2.7.9"
  }
 },
 "nbformat": 4,
 "nbformat_minor": 0
}
