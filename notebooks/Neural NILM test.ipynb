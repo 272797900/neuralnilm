{
 "cells": [
  {
   "cell_type": "code",
   "execution_count": 1,
   "metadata": {
    "collapsed": false
   },
   "outputs": [],
   "source": [
    "from __future__ import print_function, division\n",
    "import matplotlib.pyplot as plt\n",
    "import pandas as pd\n",
    "\n",
    "from neuralnilm.data.loadactivations import load_nilmtk_activations\n",
    "from neuralnilm.data.syntheticaggregatesource import SyntheticAggregateSource\n",
    "from neuralnilm.data.datapipeline import DataPipeline\n",
    "from neuralnilm.data.processing import DivideBy\n",
    "from neuralnilm.data.datathread import DataThread"
   ]
  },
  {
   "cell_type": "code",
   "execution_count": 2,
   "metadata": {
    "collapsed": false
   },
   "outputs": [],
   "source": [
    "NILMTK_FILENAME = '/data/mine/vadeec/merged/ukdale.h5'\n",
    "TARGET_APPLIANCE = 'kettle'\n",
    "SEQ_LENGTH = 256\n",
    "SAMPLE_PERIOD = 6\n",
    "STRIDE = 4\n",
    "WINDOWS = {\n",
    "    'train': {\n",
    "        1: (\"2014-01-01\", \"2014-02-01\")\n",
    "    },\n",
    "    'unseen_activations_of_seen_appliances': {\n",
    "        1: (\"2014-02-02\", \"2014-02-08\")                \n",
    "    },\n",
    "    'unseen_appliances': {\n",
    "        2: (\"2013-06-01\", \"2013-06-07\")\n",
    "    }\n",
    "}\n",
    "\n",
    "LOADER_CONFIG = {\n",
    "    'nilmtk_activations': dict(\n",
    "        appliances=['kettle', 'microwave', 'washing machine'],\n",
    "        filename=NILMTK_FILENAME,\n",
    "        sample_period=SAMPLE_PERIOD,\n",
    "        windows=WINDOWS\n",
    "    )\n",
    "}\n",
    "\n"
   ]
  },
  {
   "cell_type": "code",
   "execution_count": 3,
   "metadata": {
    "collapsed": false
   },
   "outputs": [
    {
     "name": "stderr",
     "output_type": "stream",
     "text": [
      "INFO:neuralnilm.data.loadactivations:Loading NILMTK activations...\n",
      "INFO:neuralnilm.data.loadactivations:Loading kettle for UK-DALE_building_1...\n",
      "INFO:neuralnilm.data.loadactivations:Loaded 111 kettle activations from UK-DALE_building_1.\n",
      "INFO:neuralnilm.data.loadactivations:Loading microwave for UK-DALE_building_1...\n",
      "INFO:neuralnilm.data.loadactivations:Loaded 114 microwave activations from UK-DALE_building_1.\n",
      "INFO:neuralnilm.data.loadactivations:Loading washing machine for UK-DALE_building_1...\n",
      "INFO:neuralnilm.data.loadactivations:Loaded 23 washing machine activations from UK-DALE_building_1.\n",
      "INFO:neuralnilm.data.loadactivations:Loading kettle for UK-DALE_building_2...\n",
      "INFO:neuralnilm.data.loadactivations:Loaded 31 kettle activations from UK-DALE_building_2.\n",
      "INFO:neuralnilm.data.loadactivations:Loading microwave for UK-DALE_building_2...\n",
      "INFO:neuralnilm.data.loadactivations:Loaded 31 microwave activations from UK-DALE_building_2.\n",
      "INFO:neuralnilm.data.loadactivations:Loading washing machine for UK-DALE_building_2...\n",
      "INFO:neuralnilm.data.loadactivations:Loaded 2 washing machine activations from UK-DALE_building_2.\n",
      "INFO:neuralnilm.data.loadactivations:Loading kettle for UK-DALE_building_1...\n",
      "INFO:neuralnilm.data.loadactivations:Loaded 28 kettle activations from UK-DALE_building_1.\n",
      "INFO:neuralnilm.data.loadactivations:Loading microwave for UK-DALE_building_1...\n",
      "INFO:neuralnilm.data.loadactivations:Loaded 30 microwave activations from UK-DALE_building_1.\n",
      "INFO:neuralnilm.data.loadactivations:Loading washing machine for UK-DALE_building_1...\n",
      "INFO:neuralnilm.data.loadactivations:Loaded 5 washing machine activations from UK-DALE_building_1.\n",
      "INFO:neuralnilm.data.loadactivations:Done loading NILMTK activations.\n"
     ]
    }
   ],
   "source": [
    "nilmtk_activations = load_nilmtk_activations(**LOADER_CONFIG['nilmtk_activations'])"
   ]
  },
  {
   "cell_type": "code",
   "execution_count": 4,
   "metadata": {
    "collapsed": false
   },
   "outputs": [
    {
     "data": {
      "text/plain": [
       "['train', 'unseen_activations_of_seen_appliances', 'unseen_appliances']"
      ]
     },
     "execution_count": 4,
     "metadata": {},
     "output_type": "execute_result"
    }
   ],
   "source": [
    "nilmtk_activations.keys()"
   ]
  },
  {
   "cell_type": "code",
   "execution_count": 5,
   "metadata": {
    "collapsed": true
   },
   "outputs": [],
   "source": [
    "from neuralnilm.data.realaggregatesource import RealAggregateSource"
   ]
  },
  {
   "cell_type": "code",
   "execution_count": 6,
   "metadata": {
    "collapsed": false
   },
   "outputs": [
    {
     "name": "stderr",
     "output_type": "stream",
     "text": [
      "INFO:neuralnilm.data.realaggregatesource:Loading NILMTK mains...\n",
      "INFO:neuralnilm.data.realaggregatesource:Loading mains for UK-DALE_building_1...\n",
      "INFO:neuralnilm.data.realaggregatesource:Loaded mains data from building UK-DALE_building_1 for fold train from 2014-01-01 00:00:00+00:00 to 2014-01-31 23:59:54+00:00.\n",
      "INFO:neuralnilm.data.realaggregatesource:Loading mains for UK-DALE_building_2...\n",
      "INFO:neuralnilm.data.realaggregatesource:Loaded mains data from building UK-DALE_building_2 for fold unseen_appliances from 2013-06-01 00:00:00+01:00 to 2013-06-06 23:59:54+01:00.\n",
      "INFO:neuralnilm.data.realaggregatesource:Loading mains for UK-DALE_building_1...\n",
      "INFO:neuralnilm.data.realaggregatesource:Loaded mains data from building UK-DALE_building_1 for fold unseen_activations_of_seen_appliances from 2014-02-02 00:00:00+00:00 to 2014-02-07 23:59:54+00:00.\n",
      "INFO:neuralnilm.data.realaggregatesource:Done loading NILMTK mains data.\n",
      "INFO:neuralnilm.data.realaggregatesource:Found 89 sections without target for train UK-DALE_building_1.\n",
      "INFO:neuralnilm.data.realaggregatesource:Found 20 sections without target for unseen_activations_of_seen_appliances UK-DALE_building_1.\n",
      "INFO:neuralnilm.data.realaggregatesource:Found 24 sections without target for unseen_appliances UK-DALE_building_2.\n"
     ]
    }
   ],
   "source": [
    "ras = RealAggregateSource(\n",
    "    activations=nilmtk_activations,\n",
    "    target_appliance=TARGET_APPLIANCE,\n",
    "    seq_length=SEQ_LENGTH,\n",
    "    filename=NILMTK_FILENAME,\n",
    "    windows=WINDOWS,\n",
    "    sample_period=SAMPLE_PERIOD\n",
    ")"
   ]
  },
  {
   "cell_type": "code",
   "execution_count": 65,
   "metadata": {
    "collapsed": false
   },
   "outputs": [],
   "source": [
    "ras.target_inclusion_prob = 0.5\n",
    "for i in range(50):\n",
    "    seq = ras.get_sequence()"
   ]
  },
  {
   "cell_type": "code",
   "execution_count": 66,
   "metadata": {
    "collapsed": false
   },
   "outputs": [],
   "source": [
    "fig, axes = plt.subplots(2)\n",
    "axes[0].plot(seq.input)\n",
    "axes[1].plot(seq.target)\n",
    "plt.show()"
   ]
  },
  {
   "cell_type": "code",
   "execution_count": 42,
   "metadata": {
    "collapsed": false
   },
   "outputs": [
    {
     "data": {
      "text/plain": [
       "array([[ nan],\n",
       "       [ nan],\n",
       "       [ nan],\n",
       "       [ nan],\n",
       "       [ nan],\n",
       "       [ nan],\n",
       "       [ nan],\n",
       "       [ nan],\n",
       "       [ nan],\n",
       "       [ nan],\n",
       "       [ nan],\n",
       "       [ nan],\n",
       "       [ nan],\n",
       "       [ nan],\n",
       "       [ nan],\n",
       "       [ nan],\n",
       "       [ nan],\n",
       "       [ nan],\n",
       "       [ nan],\n",
       "       [ nan],\n",
       "       [ nan],\n",
       "       [ nan],\n",
       "       [ nan],\n",
       "       [ nan],\n",
       "       [ nan],\n",
       "       [ nan],\n",
       "       [ nan],\n",
       "       [ nan],\n",
       "       [ nan],\n",
       "       [ nan],\n",
       "       [ nan],\n",
       "       [ nan],\n",
       "       [ nan],\n",
       "       [ nan],\n",
       "       [ nan],\n",
       "       [ nan],\n",
       "       [ nan],\n",
       "       [ nan],\n",
       "       [ nan],\n",
       "       [ nan],\n",
       "       [ nan],\n",
       "       [ nan],\n",
       "       [ nan],\n",
       "       [ nan],\n",
       "       [ nan],\n",
       "       [ nan],\n",
       "       [ nan],\n",
       "       [ nan],\n",
       "       [ nan],\n",
       "       [ nan],\n",
       "       [ nan],\n",
       "       [ nan],\n",
       "       [ nan],\n",
       "       [ nan],\n",
       "       [ nan],\n",
       "       [ nan],\n",
       "       [ nan],\n",
       "       [ nan],\n",
       "       [ nan],\n",
       "       [ nan],\n",
       "       [ nan],\n",
       "       [ nan],\n",
       "       [ nan],\n",
       "       [ nan],\n",
       "       [ nan],\n",
       "       [ nan],\n",
       "       [ nan],\n",
       "       [ nan],\n",
       "       [ nan],\n",
       "       [ nan],\n",
       "       [ nan],\n",
       "       [ nan],\n",
       "       [ nan],\n",
       "       [ nan],\n",
       "       [ nan],\n",
       "       [ nan],\n",
       "       [ nan],\n",
       "       [ nan],\n",
       "       [ nan],\n",
       "       [ nan],\n",
       "       [ nan],\n",
       "       [ nan],\n",
       "       [ nan],\n",
       "       [ nan],\n",
       "       [ nan],\n",
       "       [ nan],\n",
       "       [ nan],\n",
       "       [ nan],\n",
       "       [ nan],\n",
       "       [ nan],\n",
       "       [ nan],\n",
       "       [ nan],\n",
       "       [ nan],\n",
       "       [ nan],\n",
       "       [ nan],\n",
       "       [ nan],\n",
       "       [ nan],\n",
       "       [ nan],\n",
       "       [ nan],\n",
       "       [ nan],\n",
       "       [ nan],\n",
       "       [ nan],\n",
       "       [ nan],\n",
       "       [ nan],\n",
       "       [ nan],\n",
       "       [ nan],\n",
       "       [ nan],\n",
       "       [ nan],\n",
       "       [ nan],\n",
       "       [ nan],\n",
       "       [ nan],\n",
       "       [ nan],\n",
       "       [ nan],\n",
       "       [ nan],\n",
       "       [ nan],\n",
       "       [ nan],\n",
       "       [ nan],\n",
       "       [ nan],\n",
       "       [ nan],\n",
       "       [ nan],\n",
       "       [ nan],\n",
       "       [ nan],\n",
       "       [ nan],\n",
       "       [ nan],\n",
       "       [ nan],\n",
       "       [ nan],\n",
       "       [ nan],\n",
       "       [ nan],\n",
       "       [ nan],\n",
       "       [ nan],\n",
       "       [ nan],\n",
       "       [ nan],\n",
       "       [ nan],\n",
       "       [ nan],\n",
       "       [ nan],\n",
       "       [ nan],\n",
       "       [ nan],\n",
       "       [ nan],\n",
       "       [ nan],\n",
       "       [ nan],\n",
       "       [ nan],\n",
       "       [ nan],\n",
       "       [ nan],\n",
       "       [ nan],\n",
       "       [ nan],\n",
       "       [ nan],\n",
       "       [ nan],\n",
       "       [ nan],\n",
       "       [ nan],\n",
       "       [ nan],\n",
       "       [ nan],\n",
       "       [ nan],\n",
       "       [ nan],\n",
       "       [ nan],\n",
       "       [ nan],\n",
       "       [ nan],\n",
       "       [ nan],\n",
       "       [ nan],\n",
       "       [ nan],\n",
       "       [ nan],\n",
       "       [ nan],\n",
       "       [ nan],\n",
       "       [ nan],\n",
       "       [ nan],\n",
       "       [ nan],\n",
       "       [ nan],\n",
       "       [ nan],\n",
       "       [ nan],\n",
       "       [ nan],\n",
       "       [ nan],\n",
       "       [ nan],\n",
       "       [ nan],\n",
       "       [ nan],\n",
       "       [ nan],\n",
       "       [ nan],\n",
       "       [ nan],\n",
       "       [ nan],\n",
       "       [ nan],\n",
       "       [ nan],\n",
       "       [ nan],\n",
       "       [ nan],\n",
       "       [ nan],\n",
       "       [ nan],\n",
       "       [ nan],\n",
       "       [ nan],\n",
       "       [ nan],\n",
       "       [ nan],\n",
       "       [ nan],\n",
       "       [ nan],\n",
       "       [ nan],\n",
       "       [ nan],\n",
       "       [ nan],\n",
       "       [ nan],\n",
       "       [ nan],\n",
       "       [ nan],\n",
       "       [ nan],\n",
       "       [ nan],\n",
       "       [ nan],\n",
       "       [ nan],\n",
       "       [ nan],\n",
       "       [ nan],\n",
       "       [ nan],\n",
       "       [ nan],\n",
       "       [ nan],\n",
       "       [ nan],\n",
       "       [ nan],\n",
       "       [ nan],\n",
       "       [ nan],\n",
       "       [ nan],\n",
       "       [ nan],\n",
       "       [ nan],\n",
       "       [ nan],\n",
       "       [ nan],\n",
       "       [ nan],\n",
       "       [ nan],\n",
       "       [ nan],\n",
       "       [ nan],\n",
       "       [ nan],\n",
       "       [ nan],\n",
       "       [ nan],\n",
       "       [ nan],\n",
       "       [ nan],\n",
       "       [ nan],\n",
       "       [ nan],\n",
       "       [ nan],\n",
       "       [ nan],\n",
       "       [ nan],\n",
       "       [ nan],\n",
       "       [ nan],\n",
       "       [ nan],\n",
       "       [ nan],\n",
       "       [ nan],\n",
       "       [ nan],\n",
       "       [ nan],\n",
       "       [ nan],\n",
       "       [ nan],\n",
       "       [ nan],\n",
       "       [ nan],\n",
       "       [ nan],\n",
       "       [ nan],\n",
       "       [ nan],\n",
       "       [ nan],\n",
       "       [ nan],\n",
       "       [ nan],\n",
       "       [ nan],\n",
       "       [ nan],\n",
       "       [ nan],\n",
       "       [ nan],\n",
       "       [ nan],\n",
       "       [ nan],\n",
       "       [ nan],\n",
       "       [ nan],\n",
       "       [ nan],\n",
       "       [ nan],\n",
       "       [ nan],\n",
       "       [ nan]], dtype=float32)"
      ]
     },
     "execution_count": 42,
     "metadata": {},
     "output_type": "execute_result"
    }
   ],
   "source": [
    "seq.input"
   ]
  },
  {
   "cell_type": "code",
   "execution_count": 43,
   "metadata": {
    "collapsed": false
   },
   "outputs": [
    {
     "data": {
      "text/plain": [
       "array([ 468.44500732,  469.13500977,  470.48666382,  471.19500732,\n",
       "        471.59667969,  471.79333496,  471.86999512,  472.91665649,\n",
       "        476.1416626 ,  474.70999146,  474.77001953,  474.82833862,\n",
       "        474.69500732,  474.35501099,  474.56668091,  474.58001709,\n",
       "        475.15667725,  474.66998291,  473.91998291,  473.91833496,\n",
       "        473.84500122,  474.22332764,  475.80166626,  474.04333496,\n",
       "        473.97167969,  475.80999756,  475.34832764,  476.05999756,\n",
       "        475.91833496,  475.6166687 ,  475.30334473,  475.82833862,\n",
       "        475.95999146,  475.51165771,  477.33834839,  478.37167358,\n",
       "        477.7583313 ,  478.06665039,  479.24334717,  477.08428955,\n",
       "        477.29199219,  483.67001343,  476.4750061 ,  477.8999939 ,\n",
       "        487.23666382,  487.46331787,  477.61831665,  486.46331787,\n",
       "        494.03500366,  498.07833862,  500.58831787,  492.77331543,\n",
       "        489.91333008,  492.21499634,  489.69168091,  493.57501221,\n",
       "        493.38833618,  493.60501099,  493.70834351,  482.50500488,\n",
       "        481.37167358,  482.07833862,  485.3999939 ,  487.40499878,\n",
       "        501.12167358,  496.90499878,  510.66168213,  508.10998535,\n",
       "        543.87164307,  546.64831543,  549.93164062,  563.18499756,\n",
       "        552.73999023,  548.85998535,  542.19830322,  529.99664307,\n",
       "        526.19165039,  526.7333374 ,  527.17333984,  526.61169434,\n",
       "        526.65167236,  526.33166504,  524.09667969,  486.60665894,\n",
       "        485.94332886,  483.88500977,  494.77667236,  498.69500732,\n",
       "        500.35333252,  497.11334229,  497.39834595,  497.14334106,\n",
       "        497.22833252,  496.76501465,  496.81665039,  497.28833008,\n",
       "        497.30334473,  496.91500854,  496.01165771,  495.58499146,\n",
       "        493.8666687 ,  494.43832397,  494.04998779,  493.        ,\n",
       "        493.6333313 ,  494.04000854,  494.08999634,  493.95666504,\n",
       "        495.1499939 ,  494.58499146,  479.75332642,  472.77999878,\n",
       "        476.34664917,  474.82666016,  476.78668213,  477.02667236,\n",
       "        473.79833984,  473.375     ,  471.77166748,  471.54666138,\n",
       "        472.26333618,  471.70001221,  474.20831299,  472.30999756,\n",
       "        473.42166138,  469.95666504,  472.1083374 ,  470.7666626 ,\n",
       "        472.9666748 ,  473.80999756,  476.19665527,  478.89666748,\n",
       "        477.84332275,  472.38998413,  471.75500488,  475.10501099,\n",
       "        470.33999634,  470.43331909,  471.4833374 ,  472.8416748 ,\n",
       "        475.27667236,  473.35665894,  471.92999268,  472.77835083,\n",
       "        472.        ,  472.98834229,  473.3916626 ,  473.33666992,\n",
       "        474.35333252,  472.15332031,  472.05999756,  471.80831909,\n",
       "        472.33166504,  473.48999023,  471.48834229,  471.52166748,\n",
       "        470.29501343,  472.85498047,  477.25332642,  475.42666626,\n",
       "        478.39334106,  478.23165894,  482.28668213,  479.61499023,\n",
       "        485.93334961,  488.50164795,  487.90332031,  478.7749939 ,\n",
       "        476.45333862,  474.76165771,  475.34832764,  476.36834717,\n",
       "        480.6333313 ,  476.60665894,  476.2250061 ,  479.2749939 ,\n",
       "        473.6166687 ,  476.92498779,  478.17001343,  475.92834473,\n",
       "        476.3500061 ,  477.13500977,  478.19833374,  478.61999512,\n",
       "        476.60165405,  479.16165161,  477.69000244,  480.30667114,\n",
       "        479.50167847,  477.37832642,  482.63165283,  480.69000244,\n",
       "        477.19833374,  477.72167969,  478.10665894,  476.37167358,\n",
       "        474.21499634,  475.79833984,  475.30499268,  481.2833252 ,\n",
       "        497.23999023,  499.92498779,  458.40167236,  381.22000122,\n",
       "        383.10665894,  377.46832275,  379.29165649,  377.02999878,\n",
       "        354.29998779,  353.20834351,  357.22332764,  353.15167236,\n",
       "        354.69332886,  352.21499634,  350.20166016,  349.47665405,\n",
       "        350.38165283,  425.02667236,  472.37667847,  476.79165649,\n",
       "        472.01501465,  475.85665894,  472.86334229,  474.18499756,\n",
       "        472.95001221,  472.93331909,  470.80999756,  474.22000122,\n",
       "        477.02999878,  473.14498901,  472.76333618,  472.32833862,\n",
       "        473.28833008,  477.17166138,  471.52999878,  471.60333252,\n",
       "        471.44165039,  471.55334473,  472.02667236,  472.83166504,\n",
       "        474.12664795,  474.84667969,  474.95001221,  476.47000122,\n",
       "        481.80834961,  477.22833252,  480.91497803,  476.8666687 ,\n",
       "        479.96832275,  477.97167969,  475.79833984,  475.18499756,\n",
       "        475.52334595,  475.47000122,  474.81668091], dtype=float32)"
      ]
     },
     "execution_count": 43,
     "metadata": {},
     "output_type": "execute_result"
    }
   ],
   "source": [
    "ras.mains['train']['UK-DALE_building_1'][\"2014-01-17 23:30:38+00:00\":\"2014-01-17 23:56:08+00:00\"].values"
   ]
  },
  {
   "cell_type": "code",
   "execution_count": 4,
   "metadata": {
    "collapsed": false
   },
   "outputs": [
    {
     "data": {
      "text/plain": [
       "['name', 'building', 'appliance', 'fold']"
      ]
     },
     "execution_count": 4,
     "metadata": {},
     "output_type": "execute_result"
    }
   ],
   "source": [
    "nilmtk_activations['train']['kettle']['UK-DALE_building_1'][0]._metadata"
   ]
  },
  {
   "cell_type": "code",
   "execution_count": 5,
   "metadata": {
    "collapsed": false
   },
   "outputs": [
    {
     "data": {
      "text/plain": [
       "'UK-DALE_building_1'"
      ]
     },
     "execution_count": 5,
     "metadata": {},
     "output_type": "execute_result"
    }
   ],
   "source": [
    "nilmtk_activations['train']['kettle']['UK-DALE_building_1'][0].building"
   ]
  },
  {
   "cell_type": "code",
   "execution_count": 6,
   "metadata": {
    "collapsed": false
   },
   "outputs": [
    {
     "data": {
      "text/plain": [
       "['name', 'building', 'appliance', 'fold']"
      ]
     },
     "execution_count": 6,
     "metadata": {},
     "output_type": "execute_result"
    }
   ],
   "source": [
    "nilmtk_activations['train']['kettle']['UK-DALE_building_1'][0]._metadata"
   ]
  },
  {
   "cell_type": "code",
   "execution_count": 7,
   "metadata": {
    "collapsed": false
   },
   "outputs": [
    {
     "data": {
      "text/plain": [
       "2014-01-01 10:40:12+00:00       1\n",
       "2014-01-01 10:40:18+00:00       1\n",
       "2014-01-01 10:40:24+00:00    2371\n",
       "2014-01-01 10:40:30+00:00    2371\n",
       "2014-01-01 10:40:36+00:00    2322\n",
       "2014-01-01 10:40:42+00:00    2301\n",
       "2014-01-01 10:40:48+00:00    2300\n",
       "2014-01-01 10:40:54+00:00    2332\n",
       "2014-01-01 10:41:00+00:00    2340\n",
       "2014-01-01 10:41:06+00:00    2328\n",
       "2014-01-01 10:41:12+00:00    2298\n",
       "2014-01-01 10:41:18+00:00    2290\n",
       "2014-01-01 10:41:24+00:00    2299\n",
       "2014-01-01 10:41:30+00:00    2289\n",
       "2014-01-01 10:41:36+00:00    2289\n",
       "2014-01-01 10:41:42+00:00    2289\n",
       "2014-01-01 10:41:48+00:00    2309\n",
       "2014-01-01 10:41:54+00:00    2318\n",
       "2014-01-01 10:42:00+00:00    2307\n",
       "2014-01-01 10:42:06+00:00    2310\n",
       "2014-01-01 10:42:12+00:00    2305\n",
       "2014-01-01 10:42:18+00:00    2308\n",
       "2014-01-01 10:42:24+00:00    2325\n",
       "2014-01-01 10:42:30+00:00       0\n",
       "Freq: 6S, Name: (power, active), dtype: float32"
      ]
     },
     "execution_count": 7,
     "metadata": {},
     "output_type": "execute_result"
    }
   ],
   "source": [
    "nilmtk_activations['train']['kettle']['UK-DALE_building_1'][0]"
   ]
  },
  {
   "cell_type": "code",
   "execution_count": 4,
   "metadata": {
    "collapsed": false
   },
   "outputs": [],
   "source": [
    "source = SyntheticAggregateSource(\n",
    "    activations=nilmtk_activations,\n",
    "    target_appliance=TARGET_APPLIANCE,\n",
    "    seq_length=SEQ_LENGTH,\n",
    "    allow_incomplete_target=False\n",
    ")"
   ]
  },
  {
   "cell_type": "code",
   "execution_count": 5,
   "metadata": {
    "collapsed": false
   },
   "outputs": [],
   "source": [
    "FOLD = 'train'\n",
    "#FOLD = 'unseen_activations_of_seen_appliances'\n",
    "#FOLD = 'unseen_appliances'\n",
    "seq = source.get_sequence(enable_all_appliances=True)"
   ]
  },
  {
   "cell_type": "code",
   "execution_count": 6,
   "metadata": {
    "collapsed": false
   },
   "outputs": [],
   "source": [
    "#all(seq.all_appliances.sum(axis=1) == seq.input[:, 0])"
   ]
  },
  {
   "cell_type": "code",
   "execution_count": 7,
   "metadata": {
    "collapsed": false
   },
   "outputs": [],
   "source": [
    "#fig, axes = plt.subplots(2, sharex=True)\n",
    "#seq.all_appliances.plot(ax=axes[0])\n",
    "#axes[1].plot(seq.input)\n",
    "#fig.suptitle(FOLD)\n",
    "#plt.show()"
   ]
  },
  {
   "cell_type": "code",
   "execution_count": 8,
   "metadata": {
    "collapsed": false
   },
   "outputs": [],
   "source": [
    "sample = source.get_batch(num_seq_per_batch=1024)"
   ]
  },
  {
   "cell_type": "code",
   "execution_count": 9,
   "metadata": {
    "collapsed": false
   },
   "outputs": [],
   "source": [
    "pipeline = DataPipeline(\n",
    "    [source],\n",
    "    num_seq_per_batch=64,\n",
    "    input_processing=[DivideBy(sample.before_processing.input.flatten().std())],\n",
    "    target_processing=[DivideBy(sample.before_processing.target.flatten().std())]\n",
    ")"
   ]
  },
  {
   "cell_type": "markdown",
   "metadata": {},
   "source": [
    "# Disaggregation"
   ]
  },
  {
   "cell_type": "markdown",
   "metadata": {
    "collapsed": true
   },
   "source": [
    "nilmtk_disag_source = NILMTKDisagSource(\n",
    "    filename=NILMTK_FILENAME,\n",
    "    target_appliance=TARGET_APPLIANCE,\n",
    "    seq_length=SEQ_LENGTH,\n",
    "    buildings=[5],\n",
    "    window_per_building={},\n",
    "    stride=STRIDE,\n",
    "    sample_period=SAMPLE_PERIOD\n",
    ")"
   ]
  },
  {
   "cell_type": "markdown",
   "metadata": {
    "collapsed": true
   },
   "source": [
    "disag_pipeline = deepcopy(pipeline)\n",
    "disag_pipeline.source = nilmtk_disag_source"
   ]
  },
  {
   "cell_type": "markdown",
   "metadata": {
    "collapsed": true
   },
   "source": [
    "disaggregator = Disaggregator(\n",
    "    pipeline=disag_pipeline,\n",
    "    output_path=PATH  # \n",
    ")"
   ]
  },
  {
   "cell_type": "markdown",
   "metadata": {},
   "source": [
    "Disagregator ideas:\n",
    "\n",
    "* make a copy of pipeline but swap source for a NILMTKDisagSource\n",
    "* NILMTKDisagSource loads all data into memory (?) and iterates over chunks of it (get seq_length from pipeline.source.seq_length)\n",
    "* "
   ]
  },
  {
   "cell_type": "code",
   "execution_count": 10,
   "metadata": {
    "collapsed": false
   },
   "outputs": [
    {
     "data": {
      "text/plain": [
       "{'DataPipeline': {'SyntheticAggregateSource': {'allow_incomplete_distractors': True,\n",
       "   'allow_incomplete_target': False,\n",
       "   'distractor_inclusion_prob': 1.0,\n",
       "   'include_incomplete_target_in_output': True,\n",
       "   'rng_seed': None,\n",
       "   'seq_length': 256,\n",
       "   'target_appliance': 'kettle',\n",
       "   'target_inclusion_prob': 1.0,\n",
       "   'uniform_prob_of_selecting_each_model': True},\n",
       "  'input_processing': [{'DivideBy': {'divisor': 987.1983}}],\n",
       "  'num_seq_per_batch': 64,\n",
       "  'target_processing': [{'DivideBy': {'divisor': 600.25781}}]},\n",
       " 'activations': {'nilmtk_activations': {'appliances': ['kettle',\n",
       "    'microwave',\n",
       "    'washing machine'],\n",
       "   'filename': '/data/mine/vadeec/merged/ukdale.h5',\n",
       "   'sample_period': 6,\n",
       "   'windows': {'train': {1: ('2014-01-01', '2014-02-01')},\n",
       "    'unseen_activations_of_seen_appliances': {1: ('2014-02-02', '2014-02-08')},\n",
       "    'unseen_appliances': {2: ('2013-06-01', '2013-06-07')}}}}}"
      ]
     },
     "execution_count": 10,
     "metadata": {},
     "output_type": "execute_result"
    }
   ],
   "source": [
    "report = pipeline.report()\n",
    "report['activations'] = LOADER_CONFIG\n",
    "report"
   ]
  },
  {
   "cell_type": "code",
   "execution_count": 11,
   "metadata": {
    "collapsed": true
   },
   "outputs": [],
   "source": [
    "from lasagne.layers import InputLayer, RecurrentLayer, DenseLayer, ReshapeLayer\n",
    "\n",
    "def get_net_0(input_shape, target_shape=None):\n",
    "    NUM_UNITS = {\n",
    "        'dense_layer_0': 100,\n",
    "        'dense_layer_1':  50,\n",
    "        'dense_layer_2': 100\n",
    "    }\n",
    "\n",
    "    if target_shape is None:\n",
    "        target_shape = input_shape\n",
    "    \n",
    "    # Define layers\n",
    "    input_layer = InputLayer(\n",
    "        shape=input_shape\n",
    "    )\n",
    "    \n",
    "    # Dense layers\n",
    "    dense_layer_0 = DenseLayer(\n",
    "        input_layer, \n",
    "        num_units=NUM_UNITS['dense_layer_0']\n",
    "    )\n",
    "    dense_layer_1 = DenseLayer(\n",
    "        dense_layer_0, \n",
    "        num_units=NUM_UNITS['dense_layer_1']\n",
    "    )\n",
    "    dense_layer_2 = DenseLayer(\n",
    "        dense_layer_1, \n",
    "        num_units=NUM_UNITS['dense_layer_2']\n",
    "    )\n",
    "    \n",
    "    # Output\n",
    "    final_dense_layer = DenseLayer(\n",
    "        dense_layer_2,\n",
    "        num_units=target_shape[1] * target_shape[2],\n",
    "        nonlinearity=None\n",
    "    )\n",
    "    output_layer = ReshapeLayer(\n",
    "        final_dense_layer,\n",
    "        shape=target_shape\n",
    "    )\n",
    "    return output_layer"
   ]
  },
  {
   "cell_type": "code",
   "execution_count": 12,
   "metadata": {
    "collapsed": true
   },
   "outputs": [],
   "source": [
    "from neuralnilm.net import Net\n",
    "\n",
    "batch = pipeline.get_batch()\n",
    "output_layer = get_net_0(\n",
    "    batch.after_processing.input.shape, \n",
    "    batch.after_processing.target.shape\n",
    ")\n",
    "net = Net(output_layer)"
   ]
  },
  {
   "cell_type": "code",
   "execution_count": 13,
   "metadata": {
    "collapsed": false
   },
   "outputs": [],
   "source": [
    "from pymongo import MongoClient\n",
    "client = MongoClient()\n",
    "client.drop_database('neuralnilm_experiments')\n",
    "db = client.neuralnilm_experiments"
   ]
  },
  {
   "cell_type": "code",
   "execution_count": 14,
   "metadata": {
    "collapsed": false
   },
   "outputs": [
    {
     "name": "stderr",
     "output_type": "stream",
     "text": [
      "INFO:neuralnilm.trainer:Iteration 0: Change learning rate to 1.0E-02\n"
     ]
    }
   ],
   "source": [
    "from neuralnilm.trainer import Trainer\n",
    "from neuralnilm.metrics import Metrics\n",
    "\n",
    "trainer = Trainer(\n",
    "    net=net,\n",
    "    data_pipeline=pipeline,\n",
    "    experiment_id=0,\n",
    "    metrics=Metrics(state_boundaries=[4]),\n",
    "    learning_rates={0: 1E-2},\n",
    "    repeat_callbacks=[\n",
    "        ( 100, Trainer.validate)\n",
    "    ]\n",
    ")"
   ]
  },
  {
   "cell_type": "code",
   "execution_count": 15,
   "metadata": {
    "collapsed": false
   },
   "outputs": [
    {
     "name": "stderr",
     "output_type": "stream",
     "text": [
      "INFO:neuralnilm.trainer:Starting training for 400 iterations.\n",
      "INFO:neuralnilm.trainer:Compiling train cost function...\n",
      "INFO:neuralnilm.trainer:Done compiling cost function.\n",
      "INFO:neuralnilm.net:Compiling deterministic output function...\n",
      "INFO:neuralnilm.net:Done compiling deterministic output function.\n",
      "/usr/local/lib/python2.7/dist-packages/sklearn/metrics/classification.py:958: UndefinedMetricWarning: F-score is ill-defined and being set to 0.0 due to no predicted samples.\n",
      "  'precision', 'predicted', average, warn_for)\n",
      "/usr/local/lib/python2.7/dist-packages/sklearn/metrics/classification.py:958: UndefinedMetricWarning: Precision is ill-defined and being set to 0.0 due to no predicted samples.\n",
      "  'precision', 'predicted', average, warn_for)\n",
      "INFO:neuralnilm.trainer:Stopped training. Completed 400 iterations.\n"
     ]
    }
   ],
   "source": [
    "trainer.fit(400)"
   ]
  },
  {
   "cell_type": "code",
   "execution_count": 16,
   "metadata": {
    "collapsed": false
   },
   "outputs": [
    {
     "data": {
      "text/plain": [
       "400"
      ]
     },
     "execution_count": 16,
     "metadata": {},
     "output_type": "execute_result"
    }
   ],
   "source": [
    "net.train_iterations"
   ]
  },
  {
   "cell_type": "code",
   "execution_count": 17,
   "metadata": {
    "collapsed": false
   },
   "outputs": [
    {
     "data": {
      "text/plain": [
       "[{u'_id': ObjectId('55e00adb42c36467c1ea54c1'),\n",
       "  u'iteration': 0,\n",
       "  u'loss': 1.4566963030431732},\n",
       " {u'_id': ObjectId('55e00adb42c36467c1ea54c5'),\n",
       "  u'iteration': 1,\n",
       "  u'loss': 1.504454061303818},\n",
       " {u'_id': ObjectId('55e00adb42c36467c1ea54c6'),\n",
       "  u'iteration': 2,\n",
       "  u'loss': 1.634689091431984},\n",
       " {u'_id': ObjectId('55e00adb42c36467c1ea54c7'),\n",
       "  u'iteration': 3,\n",
       "  u'loss': 1.5483386156339893},\n",
       " {u'_id': ObjectId('55e00adb42c36467c1ea54c8'),\n",
       "  u'iteration': 4,\n",
       "  u'loss': 1.4937821382597245},\n",
       " {u'_id': ObjectId('55e00adb42c36467c1ea54c9'),\n",
       "  u'iteration': 5,\n",
       "  u'loss': 1.3925116251212233},\n",
       " {u'_id': ObjectId('55e00adb42c36467c1ea54ca'),\n",
       "  u'iteration': 6,\n",
       "  u'loss': 1.2735618170789764},\n",
       " {u'_id': ObjectId('55e00adb42c36467c1ea54cb'),\n",
       "  u'iteration': 7,\n",
       "  u'loss': 1.3696621122441406},\n",
       " {u'_id': ObjectId('55e00adb42c36467c1ea54cc'),\n",
       "  u'iteration': 8,\n",
       "  u'loss': 1.2664201029716082},\n",
       " {u'_id': ObjectId('55e00adb42c36467c1ea54cd'),\n",
       "  u'iteration': 9,\n",
       "  u'loss': 1.149360545211264},\n",
       " {u'_id': ObjectId('55e00adb42c36467c1ea54ce'),\n",
       "  u'iteration': 10,\n",
       "  u'loss': 1.2680276080673427},\n",
       " {u'_id': ObjectId('55e00adc42c36467c1ea54cf'),\n",
       "  u'iteration': 11,\n",
       "  u'loss': 1.1300811956759043},\n",
       " {u'_id': ObjectId('55e00adc42c36467c1ea54d0'),\n",
       "  u'iteration': 12,\n",
       "  u'loss': 1.309224987924266},\n",
       " {u'_id': ObjectId('55e00adc42c36467c1ea54d1'),\n",
       "  u'iteration': 13,\n",
       "  u'loss': 1.186047009016711},\n",
       " {u'_id': ObjectId('55e00adc42c36467c1ea54d2'),\n",
       "  u'iteration': 14,\n",
       "  u'loss': 1.1365377215595178},\n",
       " {u'_id': ObjectId('55e00adc42c36467c1ea54d3'),\n",
       "  u'iteration': 15,\n",
       "  u'loss': 1.1817475583540908},\n",
       " {u'_id': ObjectId('55e00adc42c36467c1ea54d4'),\n",
       "  u'iteration': 16,\n",
       "  u'loss': 1.2880067460113194},\n",
       " {u'_id': ObjectId('55e00adc42c36467c1ea54d5'),\n",
       "  u'iteration': 17,\n",
       "  u'loss': 1.2380418945417446},\n",
       " {u'_id': ObjectId('55e00adc42c36467c1ea54d6'),\n",
       "  u'iteration': 18,\n",
       "  u'loss': 1.1939456241706319},\n",
       " {u'_id': ObjectId('55e00adc42c36467c1ea54d7'),\n",
       "  u'iteration': 19,\n",
       "  u'loss': 1.1971542534457953},\n",
       " {u'_id': ObjectId('55e00adc42c36467c1ea54d8'),\n",
       "  u'iteration': 20,\n",
       "  u'loss': 1.151985016293282},\n",
       " {u'_id': ObjectId('55e00adc42c36467c1ea54d9'),\n",
       "  u'iteration': 21,\n",
       "  u'loss': 1.052023258050929},\n",
       " {u'_id': ObjectId('55e00adc42c36467c1ea54da'),\n",
       "  u'iteration': 22,\n",
       "  u'loss': 1.0061282365929056},\n",
       " {u'_id': ObjectId('55e00adc42c36467c1ea54db'),\n",
       "  u'iteration': 23,\n",
       "  u'loss': 1.0213429889577175},\n",
       " {u'_id': ObjectId('55e00adc42c36467c1ea54dc'),\n",
       "  u'iteration': 24,\n",
       "  u'loss': 0.9894477395142781},\n",
       " {u'_id': ObjectId('55e00adc42c36467c1ea54dd'),\n",
       "  u'iteration': 25,\n",
       "  u'loss': 1.057598728123836},\n",
       " {u'_id': ObjectId('55e00adc42c36467c1ea54de'),\n",
       "  u'iteration': 26,\n",
       "  u'loss': 1.0845074128375776},\n",
       " {u'_id': ObjectId('55e00adc42c36467c1ea54df'),\n",
       "  u'iteration': 27,\n",
       "  u'loss': 1.2102432746661707},\n",
       " {u'_id': ObjectId('55e00adc42c36467c1ea54e0'),\n",
       "  u'iteration': 28,\n",
       "  u'loss': 1.186320463770367},\n",
       " {u'_id': ObjectId('55e00adc42c36467c1ea54e1'),\n",
       "  u'iteration': 29,\n",
       "  u'loss': 1.1232278182349216},\n",
       " {u'_id': ObjectId('55e00adc42c36467c1ea54e2'),\n",
       "  u'iteration': 30,\n",
       "  u'loss': 1.0391142241722926},\n",
       " {u'_id': ObjectId('55e00adc42c36467c1ea54e3'),\n",
       "  u'iteration': 31,\n",
       "  u'loss': 1.039963708674983},\n",
       " {u'_id': ObjectId('55e00adc42c36467c1ea54e4'),\n",
       "  u'iteration': 32,\n",
       "  u'loss': 1.1185281487926326},\n",
       " {u'_id': ObjectId('55e00adc42c36467c1ea54e5'),\n",
       "  u'iteration': 33,\n",
       "  u'loss': 1.0852026344882852},\n",
       " {u'_id': ObjectId('55e00adc42c36467c1ea54e6'),\n",
       "  u'iteration': 34,\n",
       "  u'loss': 0.9798356122207291},\n",
       " {u'_id': ObjectId('55e00adc42c36467c1ea54e7'),\n",
       "  u'iteration': 35,\n",
       "  u'loss': 1.0920872696981139},\n",
       " {u'_id': ObjectId('55e00adc42c36467c1ea54e8'),\n",
       "  u'iteration': 36,\n",
       "  u'loss': 1.0642085438220055},\n",
       " {u'_id': ObjectId('55e00adc42c36467c1ea54e9'),\n",
       "  u'iteration': 37,\n",
       "  u'loss': 1.076437474463331},\n",
       " {u'_id': ObjectId('55e00adc42c36467c1ea54ea'),\n",
       "  u'iteration': 38,\n",
       "  u'loss': 1.0321225101836107},\n",
       " {u'_id': ObjectId('55e00adc42c36467c1ea54eb'),\n",
       "  u'iteration': 39,\n",
       "  u'loss': 1.072659119407128},\n",
       " {u'_id': ObjectId('55e00adc42c36467c1ea54ec'),\n",
       "  u'iteration': 40,\n",
       "  u'loss': 1.046123011406461},\n",
       " {u'_id': ObjectId('55e00adc42c36467c1ea54ed'),\n",
       "  u'iteration': 41,\n",
       "  u'loss': 1.067093894956097},\n",
       " {u'_id': ObjectId('55e00adc42c36467c1ea54ee'),\n",
       "  u'iteration': 42,\n",
       "  u'loss': 1.112013551970755},\n",
       " {u'_id': ObjectId('55e00adc42c36467c1ea54ef'),\n",
       "  u'iteration': 43,\n",
       "  u'loss': 1.0659938699733373},\n",
       " {u'_id': ObjectId('55e00adc42c36467c1ea54f0'),\n",
       "  u'iteration': 44,\n",
       "  u'loss': 1.0379783124731101},\n",
       " {u'_id': ObjectId('55e00adc42c36467c1ea54f1'),\n",
       "  u'iteration': 45,\n",
       "  u'loss': 1.0832720537800573},\n",
       " {u'_id': ObjectId('55e00adc42c36467c1ea54f2'),\n",
       "  u'iteration': 46,\n",
       "  u'loss': 1.0823957763587446},\n",
       " {u'_id': ObjectId('55e00adc42c36467c1ea54f3'),\n",
       "  u'iteration': 47,\n",
       "  u'loss': 1.0719924644862595},\n",
       " {u'_id': ObjectId('55e00adc42c36467c1ea54f4'),\n",
       "  u'iteration': 48,\n",
       "  u'loss': 1.0261698903710026},\n",
       " {u'_id': ObjectId('55e00adc42c36467c1ea54f5'),\n",
       "  u'iteration': 49,\n",
       "  u'loss': 1.0705891202538649}]"
      ]
     },
     "execution_count": 17,
     "metadata": {},
     "output_type": "execute_result"
    }
   ],
   "source": [
    "import pymongo\n",
    "list(db.train_scores.find(\n",
    "        filter={'experiment_id': 0},\n",
    "        sort=[('iteration', pymongo.ASCENDING)],\n",
    "        projection=['iteration', 'loss']\n",
    "    ).limit(50))"
   ]
  },
  {
   "cell_type": "code",
   "execution_count": 18,
   "metadata": {
    "collapsed": false
   },
   "outputs": [
    {
     "data": {
      "text/plain": [
       "[]"
      ]
     },
     "execution_count": 18,
     "metadata": {},
     "output_type": "execute_result"
    }
   ],
   "source": [
    "list(db.validation_scores.find({'fold': 'train', 'metric_type': 'classification'}).sort('iteration', pymongo.ASCENDING).limit(50))"
   ]
  },
  {
   "cell_type": "code",
   "execution_count": 19,
   "metadata": {
    "collapsed": false
   },
   "outputs": [
    {
     "data": {
      "text/plain": [
       "[{u'_id': 0, u'max_acc': None, u'max_iteration': 400}]"
      ]
     },
     "execution_count": 19,
     "metadata": {},
     "output_type": "execute_result"
    }
   ],
   "source": [
    "agg_pipeline = [\n",
    "    {\"$group\": {\n",
    "            \"_id\": \"$experiment_id\",\n",
    "            \"max_acc\": {\"$max\": \"$SyntheticAggregateSource.unseen_appliances.2_state_classification.accuracy_score\"},\n",
    "            \"max_iteration\": {\"$max\": \"$iteration\"}\n",
    "        }}\n",
    "]\n",
    "list(db.validation_scores.aggregate(agg_pipeline))"
   ]
  },
  {
   "cell_type": "code",
   "execution_count": 20,
   "metadata": {
    "collapsed": false
   },
   "outputs": [],
   "source": [
    "from monary import Monary"
   ]
  },
  {
   "cell_type": "code",
   "execution_count": 21,
   "metadata": {
    "collapsed": true
   },
   "outputs": [],
   "source": [
    "monary = Monary()"
   ]
  },
  {
   "cell_type": "code",
   "execution_count": 22,
   "metadata": {
    "collapsed": false
   },
   "outputs": [],
   "source": [
    "iterations, loss, source_id = monary.query(\n",
    "    db='neuralnilm_experiments',\n",
    "    coll='train_scores',\n",
    "    query={\n",
    "        'experiment_id': 0,\n",
    "        'iteration': {'$gt': 0}\n",
    "    },\n",
    "    fields=['iteration', 'loss', 'source_id'],\n",
    "    types=['int32', 'float32', 'int8']\n",
    ")"
   ]
  },
  {
   "cell_type": "code",
   "execution_count": 23,
   "metadata": {
    "collapsed": false
   },
   "outputs": [],
   "source": [
    "import pandas as pd\n",
    "\n",
    "df = pd.DataFrame({'loss': loss, 'source_id': source_id}, index=iterations)"
   ]
  },
  {
   "cell_type": "code",
   "execution_count": 24,
   "metadata": {
    "collapsed": false
   },
   "outputs": [],
   "source": [
    "import matplotlib.pyplot as plt\n",
    "plt.plot(df.index, df['loss'].values)\n",
    "plt.show()"
   ]
  },
  {
   "cell_type": "code",
   "execution_count": 25,
   "metadata": {
    "collapsed": true
   },
   "outputs": [],
   "source": [
    "from neuralnilm.monitor.monitor import Monitor\n",
    "\n",
    "mon = Monitor(0)"
   ]
  },
  {
   "cell_type": "code",
   "execution_count": 26,
   "metadata": {
    "collapsed": true
   },
   "outputs": [],
   "source": [
    "mon._plot_train_scores()"
   ]
  },
  {
   "cell_type": "code",
   "execution_count": 27,
   "metadata": {
    "collapsed": false
   },
   "outputs": [],
   "source": [
    "mon._plot_validation_scores()"
   ]
  },
  {
   "cell_type": "code",
   "execution_count": 28,
   "metadata": {
    "collapsed": false
   },
   "outputs": [
    {
     "data": {
      "text/plain": [
       "[u'regression.mean_squared_error',\n",
       " u'regression.relative_error_in_total_energy',\n",
       " u'regression.mean_absolute_error',\n",
       " u'classification_2_state.f1_score',\n",
       " u'classification_2_state.recall_score',\n",
       " u'classification_2_state.accuracy_score',\n",
       " u'classification_2_state.precision_score']"
      ]
     },
     "execution_count": 28,
     "metadata": {},
     "output_type": "execute_result"
    }
   ],
   "source": [
    "mon.validation_metric_names"
   ]
  },
  {
   "cell_type": "code",
   "execution_count": null,
   "metadata": {
    "collapsed": true
   },
   "outputs": [],
   "source": []
  }
 ],
 "metadata": {
  "kernelspec": {
   "display_name": "Python 2",
   "language": "python",
   "name": "python2"
  },
  "language_info": {
   "codemirror_mode": {
    "name": "ipython",
    "version": 2
   },
   "file_extension": ".py",
   "mimetype": "text/x-python",
   "name": "python",
   "nbconvert_exporter": "python",
   "pygments_lexer": "ipython2",
   "version": "2.7.9"
  }
 },
 "nbformat": 4,
 "nbformat_minor": 0
}
